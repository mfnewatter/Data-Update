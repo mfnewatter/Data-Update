{
 "cells": [
  {
   "cell_type": "markdown",
   "metadata": {},
   "source": [
    "# PFG Sell-out"
   ]
  },
  {
   "cell_type": "markdown",
   "metadata": {},
   "source": [
    "Goal: \n",
    "1. Process PFG data (source = mealticket.com)\n",
    "2. Analyze data using COVID segmentation\n",
    "3. Compare sell-out (PFG) to sell-in (McCain) data"
   ]
  },
  {
   "cell_type": "markdown",
   "metadata": {},
   "source": [
    "### 1. Load libraries, initiate folder/file paths\n",
    "Run cell below"
   ]
  },
  {
   "cell_type": "code",
   "execution_count": 1,
   "metadata": {},
   "outputs": [],
   "source": [
    "import pandas as pd\n",
    "import datetime\n",
    "from datetime import datetime as dt\n",
    "import numpy as np\n",
    "import pyodbc\n",
    "\n",
    "from distributor_transformation import transform_pfg, transform_pfg2, set_dictionary, set_time\n",
    "from sellout_model import process_list, analyze, add_time\n",
    "from sellout_teradata import teradata_sales\n",
    "from sellout_import import import_pfg, all_df, import_all\n",
    "from sellout_azure import azure_sellin"
   ]
  },
  {
   "cell_type": "markdown",
   "metadata": {},
   "source": [
    "### Convert CSV To Pickle"
   ]
  },
  {
   "cell_type": "code",
   "execution_count": 2,
   "metadata": {},
   "outputs": [],
   "source": [
    "import os\n",
    "import pandas as pd\n",
    "\n",
    "# Define the directory that contains your files\n",
    "dir_path = r'C:\\Users\\newatter\\OneDrive - McCain Foods Limited\\Historical Sell-Out Sales\\PFG Refresh'\n",
    "\n",
    "# Loop through all files in the directory\n",
    "for filename in os.listdir(dir_path):\n",
    "    # Check if the file is a csv\n",
    "    if filename.endswith('.csv'):\n",
    "        # Create the name of the pickle file\n",
    "        pickle_filename = filename.replace('.csv', '.pkl')\n",
    "\n",
    "        # Check if the pickle file already exists\n",
    "        if pickle_filename not in os.listdir(dir_path):\n",
    "            # If it doesn't exist, read the csv and create the pickle file\n",
    "            df = pd.read_csv(os.path.join(dir_path, filename), low_memory=False, thousands=',', dtype={'Qty':'float64','Weight':'float64'})\n",
    "            df.to_pickle(os.path.join(dir_path, pickle_filename))"
   ]
  },
  {
   "cell_type": "markdown",
   "metadata": {},
   "source": [
    "### 3. Import File\n",
    "Run cell below"
   ]
  },
  {
   "cell_type": "code",
   "execution_count": 3,
   "metadata": {},
   "outputs": [
    {
     "name": "stdout",
     "output_type": "stream",
     "text": [
      "6026231\n",
      "2024-04-15 00:00:00\n",
      "CPU times: total: 2min 6s\n",
      "Wall time: 2min 10s\n"
     ]
    }
   ],
   "source": [
    "%%time\n",
    "\n",
    "df = import_pfg()"
   ]
  },
  {
   "cell_type": "code",
   "execution_count": 4,
   "metadata": {},
   "outputs": [
    {
     "name": "stdout",
     "output_type": "stream",
     "text": [
      "Starting dataframe shape: (6026231, 18)\n",
      "These manufacturers were included: ['ANCHOR FROZEN FOODS INC', 'DOT FOODS (FROZEN)', 'ENDICO POTATOES INC.', 'MC CAIN FOODS INC', 'MCCAIN FOODS AFD', 'MCCAIN FOODS USA INC', 'MCCAIN FOODS USA INC-ACH', 'MCCAIN FOODS, INC. ', 'MCCAIN FOODSERVICE INC', 'MCCAIN PRODUCE INC', 'WH MOSELEY CO', 'MCCAIN FOODS', 'McCain Foods USA']\n",
      "These manufacturers were not included:                   Manufacturer   count\n",
      "2              SUPPLIER VARIES  142748\n",
      "4          CAVENDISH FARMS INC   36301\n",
      "5    JR SIMPLOT COMPANY FROZEN   14111\n",
      "8             MCCAIN FOODS USA    3752\n",
      "10         BIG DADDY FOODS INC    2612\n",
      "12       LAMB WESTON SALES INC    1074\n",
      "13        QUAKER BAKERY BRANDS    1045\n",
      "14      MOORE FOOD SYSTEMS INC     981\n",
      "17                 LAMB WESTON     847\n",
      "20    ROSINA FOOD PRODUCTS INC     519\n",
      "21               MOORE COLLINS     502\n",
      "22                      MOORES     369\n",
      "23        ROSINA FOOD PRODUCTS     178\n",
      "24  PFG RESERVED PRODUCTS ONLY     148\n",
      "25      MCCAIN FOODS BETHLEHEM       9\n",
      "26  DOT FOODS INC PAID VIA ACH       7\n",
      "27           PFS IFH (HICKORY)       5\n",
      "28    J. R. SIMPLOT (ROCHELLE)       4\n",
      "Shape before adding dictionary: (5816835, 18)\n",
      "Shape after adding dictionary: (5816835, 30)\n",
      "The following segments are missing:\n",
      "         Customer Class        Segment                    Account Type   \n",
      "0  INDEPENDENT CUSTOMER  ASIAN - OTHER  Independent Customer            \\\n",
      "1  INDEPENDENT CUSTOMER   BURGER JOINT  INDEPENDENT CUSTOMER             \n",
      "2  INDEPENDENT CUSTOMER     COMMISSARY  INDEPENDENT CUSTOMER             \n",
      "3  INDEPENDENT CUSTOMER   FAMILY DINER  INDEPENDENT CUSTOMER             \n",
      "4  INDEPENDENT CUSTOMER  MEDITERRANEAN  INDEPENDENT CUSTOMER             \n",
      "5     NATIONAL CUSTOMER  BAR AND GRILL  NATIONAL CUSTOMER                \n",
      "6     REGIONAL CUSTOMER        THEATER  REGIONAL CUSTOMER                \n",
      "\n",
      "       LBS  \n",
      "0   341.38  \n",
      "1  1473.04  \n",
      "2   103.00  \n",
      "3   178.04  \n",
      "4    13.05  \n",
      "5   509.92  \n",
      "6   327.17  \n",
      "Nothing missing for products\n"
     ]
    }
   ],
   "source": [
    "#add dictionary to new data\n",
    "df_pfg = transform_pfg(df, 'PFG - US.xlsx')"
   ]
  },
  {
   "cell_type": "code",
   "execution_count": 5,
   "metadata": {
    "tags": []
   },
   "outputs": [
    {
     "name": "stdout",
     "output_type": "stream",
     "text": [
      "Imported shape...(5816835, 30)\n",
      "Final shape...(9520332, 13)\n"
     ]
    }
   ],
   "source": [
    "backup_path = r'C:\\Users\\newatter\\OneDrive - McCain Foods Limited\\Historical Sell-Out Sales\\Backups\\\\'\n",
    "\n",
    "_base = all_df(df_pfg, backup_path, 'PFG.csv')\n",
    "\n",
    "if 'Distributor' not in _base.columns:\n",
    "    _base['Distributor'] = 'PFG'"
   ]
  },
  {
   "cell_type": "code",
   "execution_count": 7,
   "metadata": {},
   "outputs": [],
   "source": [
    "_list = []\n",
    "\n",
    "#Output 1: COVID L1 - List 0\n",
    "_list.append(['City', 'State Name','COVID Segmentation - L1','COVID Segmentation - L2','Restaurant Service Type','Consolidated Category'])\n",
    "\n",
    "#Output 2: COVID L1 - List 1\n",
    "_list.append(['State Name','COVID Segmentation - L1','COVID Segmentation - L2','Restaurant Service Type','SKU ID','Consolidated Category','L1 Product Hierarchy','L2 Product Hierarchy'])"
   ]
  },
  {
   "cell_type": "markdown",
   "metadata": {},
   "source": [
    "### 9. Execute Analysis\n",
    "Run cell below"
   ]
  },
  {
   "cell_type": "code",
   "execution_count": 8,
   "metadata": {},
   "outputs": [
    {
     "name": "stdout",
     "output_type": "stream",
     "text": [
      "Processing Region\n"
     ]
    }
   ],
   "source": [
    "print(f'Processing Region', flush = True)\n",
    "\n",
    "_base.loc[:, ['City','State','State Name']] = 'NA'\n",
    "#_base.loc[:, ['City']] = 'NA'\n",
    "\n",
    "#display(_base.head())\n",
    "output1 = process_list(_base, _list[0], 'PFG')"
   ]
  },
  {
   "cell_type": "code",
   "execution_count": 9,
   "metadata": {},
   "outputs": [
    {
     "name": "stdout",
     "output_type": "stream",
     "text": [
      "Processing Sell in vs Sell out\n",
      "Query ran for 6500002801','6500002807 under sales org US01 for sales on or before 2024-04-21\n",
      "All done, took 18.0 seconds...\n",
      "All done\n"
     ]
    }
   ],
   "source": [
    "print(f'Processing Sell in vs Sell out', flush = True)\n",
    "output2 = azure_sellin(_base, 'US01', \"','\".join(['6500002801','6500002807']), 'PFG')\n",
    "\n",
    "print('All done')                            "
   ]
  },
  {
   "cell_type": "code",
   "execution_count": 10,
   "metadata": {},
   "outputs": [],
   "source": [
    "output1.to_csv('files/sellout_region_pfg.zip', compression='zip', index=False)\n",
    "output2.to_csv('files/sellout_sellin_pfg.zip', compression='zip', index=False)"
   ]
  },
  {
   "cell_type": "code",
   "execution_count": 10,
   "metadata": {},
   "outputs": [],
   "source": [
    "_base.to_csv(backup_path + 'PFG.csv')"
   ]
  },
  {
   "cell_type": "code",
   "execution_count": 22,
   "metadata": {
    "tags": []
   },
   "outputs": [
    {
     "data": {
      "text/plain": [
       "Week Ending (Sat)\n",
       "2023-07-15    3898025.97\n",
       "2023-07-22    4236981.29\n",
       "2023-07-29    4159075.41\n",
       "2023-08-05    4241359.96\n",
       "2023-08-12    4221760.84\n",
       "2023-08-19    4256780.73\n",
       "2023-08-26    4204701.10\n",
       "2023-09-02    4188428.81\n",
       "2023-09-09    4130072.12\n",
       "2023-09-16    4069698.41\n",
       "Name: LBS, dtype: float64"
      ]
     },
     "execution_count": 22,
     "metadata": {},
     "output_type": "execute_result"
    }
   ],
   "source": [
    "output1.groupby('Week Ending (Sat)')['LBS'].sum()[-10:]"
   ]
  },
  {
   "cell_type": "code",
   "execution_count": 12,
   "metadata": {},
   "outputs": [
    {
     "data": {
      "image/png": "[encoded data removed]",
      "text/plain": [
       "<Figure size 720x432 with 1 Axes>"
      ]
     },
     "metadata": {
      "needs_background": "light"
     },
     "output_type": "display_data"
    }
   ],
   "source": [
    "import matplotlib.pyplot as plt\n",
    "from matplotlib.ticker import (MultipleLocator,\n",
    "                               FormatStrFormatter,\n",
    "                               AutoMinorLocator,\n",
    "                               PercentFormatter,\n",
    "                               StrMethodFormatter)\n",
    "\n",
    "fig, ax = plt.subplots()\n",
    "\n",
    "graph_data = output1.groupby(['Week Ending (Sat)','COVID Segmentation - L1'])['LBS'].sum().reset_index()\n",
    "#graph_data = _base.groupby(['Week Ending (Sat)','COVID Segmentation - L1'])['LBS'].sum().reset_index()\n",
    "\n",
    "ax.plot('Week Ending (Sat)','LBS', data=graph_data.groupby('Week Ending (Sat)').sum().reset_index())\n",
    "ax.plot('Week Ending (Sat)','LBS', data=graph_data[graph_data['COVID Segmentation - L1']=='Casual Dining'])\n",
    "ax.plot('Week Ending (Sat)','LBS', data=graph_data[graph_data['COVID Segmentation - L1']=='QSR / Fast Casual'])\n",
    "\n",
    "#creates timestamp of latest date\n",
    "max_date = graph_data['Week Ending (Sat)'].max()\n",
    "x = max_date\n",
    "y = 0\n",
    "\n",
    "plt.plot(x,y,'s', markerfacecolor='black', markersize=12, clip_on=False)\n",
    "\n",
    "#matplotlib.pyplot.text(x, y, s, fontdict=None, **kwargs)[source]\n",
    "\n",
    "plt.text(x, 200000, max_date.date())\n",
    "\n",
    "#ax.plot('month_begin','lost_freight_pred', data=data4)\n",
    "#ax.plot('month_begin','shortedquantitycs', data=data4)\n",
    "ax.legend(['Total LBS', 'Casual Dining', 'QSR'])\n",
    "\n",
    "ax.yaxis.set_major_formatter(StrMethodFormatter('{x:,.0f}'))\n",
    "\n",
    "ax.set_ylabel('LBS')\n",
    "ax.set_ylim(0)\n",
    "ax.set_title(f'PFG Volume (LBS Shipped)')\n",
    "\n",
    "fig.set_size_inches((10, 6))\n",
    "\n",
    "# Tight layout to realign things\n",
    "fig.tight_layout()\n",
    "plt.show()"
   ]
  },
  {
   "cell_type": "markdown",
   "metadata": {},
   "source": [
    "## PFG Export"
   ]
  },
  {
   "cell_type": "code",
   "execution_count": 10,
   "metadata": {},
   "outputs": [],
   "source": [
    "import_test = pd.read_csv(r'C:\\Users\\newatter\\OneDrive - McCain Foods Limited\\Data Update\\files\\pfg_us_sellout.csv', parse_dates=['Invoice Week'])"
   ]
  },
  {
   "cell_type": "code",
   "execution_count": 11,
   "metadata": {
    "collapsed": true,
    "jupyter": {
     "outputs_hidden": true
    },
    "tags": []
   },
   "outputs": [
    {
     "name": "stdout",
     "output_type": "stream",
     "text": [
      "<class 'pandas.core.frame.DataFrame'>\n",
      "RangeIndex: 4949678 entries, 0 to 4949677\n",
      "Data columns (total 30 columns):\n",
      " #   Column            Dtype         \n",
      "---  ------            -----         \n",
      " 0   Unnamed: 0        int64         \n",
      " 1   Division          object        \n",
      " 2   Sales Manager     object        \n",
      " 3   Sales Rep Number  object        \n",
      " 4   Sales Rep         object        \n",
      " 5   Account Number    int64         \n",
      " 6   Account Name      object        \n",
      " 7   Address           object        \n",
      " 8   City              object        \n",
      " 9   State             object        \n",
      " 10  Postal Code       object        \n",
      " 11  Customer Class    object        \n",
      " 12  Segment           object        \n",
      " 13  Account Type      object        \n",
      " 14  Vendor            object        \n",
      " 15  Manufacturer      object        \n",
      " 16  Brand             object        \n",
      " 17  Brand Type        object        \n",
      " 18  Product Category  object        \n",
      " 19  Sub-Category      object        \n",
      " 20  GTIN              float64       \n",
      " 21  MFR SKU           object        \n",
      " 22  Dist SKU          object        \n",
      " 23  Item Name         object        \n",
      " 24  Pack              object        \n",
      " 25  Size              object        \n",
      " 26  Unit Type         object        \n",
      " 27  Qty               float64       \n",
      " 28  Weight            float64       \n",
      " 29  Invoice Week      datetime64[ns]\n",
      "dtypes: datetime64[ns](1), float64(3), int64(2), object(24)\n",
      "memory usage: 1.1+ GB\n"
     ]
    }
   ],
   "source": [
    "import_test.info()"
   ]
  },
  {
   "cell_type": "code",
   "execution_count": 12,
   "metadata": {},
   "outputs": [
    {
     "name": "stdout",
     "output_type": "stream",
     "text": [
      "Starting dataframe shape: (4949678, 30)\n",
      "Shape before adding dictionary: (4949678, 30)\n",
      "Shape after adding dictionary: (5204637, 42)\n"
     ]
    }
   ],
   "source": [
    "import_df = transform_pfg2(import_test, 'PFG - US.xlsx')"
   ]
  },
  {
   "cell_type": "code",
   "execution_count": 13,
   "metadata": {},
   "outputs": [
    {
     "data": {
      "text/html": [
       "<div>\n",
       "<style scoped>\n",
       "    .dataframe tbody tr th:only-of-type {\n",
       "        vertical-align: middle;\n",
       "    }\n",
       "\n",
       "    .dataframe tbody tr th {\n",
       "        vertical-align: top;\n",
       "    }\n",
       "\n",
       "    .dataframe thead th {\n",
       "        text-align: right;\n",
       "    }\n",
       "</style>\n",
       "<table border=\"1\" class=\"dataframe\">\n",
       "  <thead>\n",
       "    <tr style=\"text-align: right;\">\n",
       "      <th></th>\n",
       "      <th>Unnamed: 0</th>\n",
       "      <th>Division</th>\n",
       "      <th>Sales Manager</th>\n",
       "      <th>Sales Rep Number</th>\n",
       "      <th>Sales Rep</th>\n",
       "      <th>Account Number</th>\n",
       "      <th>Account Name</th>\n",
       "      <th>Address</th>\n",
       "      <th>City</th>\n",
       "      <th>State</th>\n",
       "      <th>...</th>\n",
       "      <th>COVID Segmentation - (Restaurants)</th>\n",
       "      <th>COVID Segmentation - (Restaurants: Sub-Segment)</th>\n",
       "      <th>Restaurant Service Type</th>\n",
       "      <th>Cuisine Type</th>\n",
       "      <th>Consolidated Category</th>\n",
       "      <th>L1 Product Hierarchy</th>\n",
       "      <th>L2 Product Hierarchy</th>\n",
       "      <th>Case Weight Lbs</th>\n",
       "      <th>Calendar Week Year</th>\n",
       "      <th>State Name</th>\n",
       "    </tr>\n",
       "  </thead>\n",
       "  <tbody>\n",
       "    <tr>\n",
       "      <th>0</th>\n",
       "      <td>0</td>\n",
       "      <td>Maryland</td>\n",
       "      <td>Harbolick, Peter</td>\n",
       "      <td>217</td>\n",
       "      <td>Lutz, Sam</td>\n",
       "      <td>276602</td>\n",
       "      <td>CHAT N CHEW RESTAURANT</td>\n",
       "      <td>RR 220 25001 MCMULLEN HWY</td>\n",
       "      <td>MCCOOLE</td>\n",
       "      <td>MD</td>\n",
       "      <td>...</td>\n",
       "      <td>Restaurants</td>\n",
       "      <td>IO - Full Service</td>\n",
       "      <td>Sit Down</td>\n",
       "      <td>American Casual / Diner / Food Truck</td>\n",
       "      <td>Prepared Foods</td>\n",
       "      <td>Appetizer</td>\n",
       "      <td>Whole Cheese</td>\n",
       "      <td>2.0</td>\n",
       "      <td>202108</td>\n",
       "      <td>Maryland</td>\n",
       "    </tr>\n",
       "    <tr>\n",
       "      <th>1</th>\n",
       "      <td>1</td>\n",
       "      <td>Maryland</td>\n",
       "      <td>Brockmeyer, Joe</td>\n",
       "      <td>352</td>\n",
       "      <td>MCCORMACK, ELLEN</td>\n",
       "      <td>55050524</td>\n",
       "      <td>FUNTASTIC FOODS</td>\n",
       "      <td>2128 WHITEFORD RD</td>\n",
       "      <td>WHITEFORD</td>\n",
       "      <td>MD</td>\n",
       "      <td>...</td>\n",
       "      <td>Restaurants</td>\n",
       "      <td>IO - Full Service</td>\n",
       "      <td>Sit Down</td>\n",
       "      <td>Bar / Nightclubs / Sports Bar</td>\n",
       "      <td>Prepared Foods</td>\n",
       "      <td>Appetizer</td>\n",
       "      <td>Whole Cheese</td>\n",
       "      <td>2.0</td>\n",
       "      <td>202108</td>\n",
       "      <td>Maryland</td>\n",
       "    </tr>\n",
       "    <tr>\n",
       "      <th>2</th>\n",
       "      <td>2</td>\n",
       "      <td>Maryland</td>\n",
       "      <td>Crawford, Dave</td>\n",
       "      <td>185</td>\n",
       "      <td>Fetanis, Van</td>\n",
       "      <td>148432</td>\n",
       "      <td>AMPHORA CATERING</td>\n",
       "      <td>1151 ELDEN STREET</td>\n",
       "      <td>HERNDON</td>\n",
       "      <td>VA</td>\n",
       "      <td>...</td>\n",
       "      <td>Non-Restaurants</td>\n",
       "      <td>Non-Restaurants</td>\n",
       "      <td>Non-Restaurants</td>\n",
       "      <td>Non-Restaurants</td>\n",
       "      <td>Prepared Foods</td>\n",
       "      <td>Appetizer</td>\n",
       "      <td>Whole Cheese</td>\n",
       "      <td>12.0</td>\n",
       "      <td>202108</td>\n",
       "      <td>Virginia</td>\n",
       "    </tr>\n",
       "    <tr>\n",
       "      <th>3</th>\n",
       "      <td>3</td>\n",
       "      <td>Metro NY</td>\n",
       "      <td>Julis, Mike</td>\n",
       "      <td>107</td>\n",
       "      <td>Margolies, Lenny</td>\n",
       "      <td>253640</td>\n",
       "      <td>SEDONA TAPHOUSE</td>\n",
       "      <td>515 WEST AVENUE</td>\n",
       "      <td>NORWALK</td>\n",
       "      <td>CT</td>\n",
       "      <td>...</td>\n",
       "      <td>Restaurants</td>\n",
       "      <td>IO - Full Service</td>\n",
       "      <td>Sit Down</td>\n",
       "      <td>American Casual / Diner / Food Truck</td>\n",
       "      <td>Potato</td>\n",
       "      <td>Differentiated Fries</td>\n",
       "      <td>Clearcoat</td>\n",
       "      <td>30.0</td>\n",
       "      <td>202108</td>\n",
       "      <td>Connecticut</td>\n",
       "    </tr>\n",
       "    <tr>\n",
       "      <th>4</th>\n",
       "      <td>4</td>\n",
       "      <td>Metro NY</td>\n",
       "      <td>Castiglione, Phil</td>\n",
       "      <td>117</td>\n",
       "      <td>Lucchesi, Nicholas</td>\n",
       "      <td>229880</td>\n",
       "      <td>CROXLEY ALES-FRANKLIN SQR</td>\n",
       "      <td>129 NEW HYDE PARK RD</td>\n",
       "      <td>FRANKLIN SQ</td>\n",
       "      <td>NY</td>\n",
       "      <td>...</td>\n",
       "      <td>Restaurants</td>\n",
       "      <td>IO - Full Service</td>\n",
       "      <td>Sit Down</td>\n",
       "      <td>American Casual / Diner / Food Truck</td>\n",
       "      <td>Prepared Foods</td>\n",
       "      <td>Appetizer</td>\n",
       "      <td>Whole Vegetable</td>\n",
       "      <td>14.0</td>\n",
       "      <td>202108</td>\n",
       "      <td>New York</td>\n",
       "    </tr>\n",
       "  </tbody>\n",
       "</table>\n",
       "<p>5 rows × 42 columns</p>\n",
       "</div>"
      ],
      "text/plain": [
       "   Unnamed: 0  Division      Sales Manager Sales Rep Number   \n",
       "0           0  Maryland   Harbolick, Peter              217  \\\n",
       "1           1  Maryland    Brockmeyer, Joe              352   \n",
       "2           2  Maryland     Crawford, Dave              185   \n",
       "3           3  Metro NY        Julis, Mike              107   \n",
       "4           4  Metro NY  Castiglione, Phil              117   \n",
       "\n",
       "            Sales Rep  Account Number               Account Name   \n",
       "0           Lutz, Sam          276602     CHAT N CHEW RESTAURANT  \\\n",
       "1    MCCORMACK, ELLEN        55050524            FUNTASTIC FOODS   \n",
       "2        Fetanis, Van          148432           AMPHORA CATERING   \n",
       "3    Margolies, Lenny          253640            SEDONA TAPHOUSE   \n",
       "4  Lucchesi, Nicholas          229880  CROXLEY ALES-FRANKLIN SQR   \n",
       "\n",
       "                     Address         City State  ...   \n",
       "0  RR 220 25001 MCMULLEN HWY      MCCOOLE    MD  ...  \\\n",
       "1          2128 WHITEFORD RD    WHITEFORD    MD  ...   \n",
       "2          1151 ELDEN STREET      HERNDON    VA  ...   \n",
       "3            515 WEST AVENUE      NORWALK    CT  ...   \n",
       "4       129 NEW HYDE PARK RD  FRANKLIN SQ    NY  ...   \n",
       "\n",
       "  COVID Segmentation - (Restaurants)   \n",
       "0                        Restaurants  \\\n",
       "1                        Restaurants   \n",
       "2                    Non-Restaurants   \n",
       "3                        Restaurants   \n",
       "4                        Restaurants   \n",
       "\n",
       "  COVID Segmentation - (Restaurants: Sub-Segment) Restaurant Service Type   \n",
       "0                               IO - Full Service                Sit Down  \\\n",
       "1                               IO - Full Service                Sit Down   \n",
       "2                                 Non-Restaurants         Non-Restaurants   \n",
       "3                               IO - Full Service                Sit Down   \n",
       "4                               IO - Full Service                Sit Down   \n",
       "\n",
       "                           Cuisine Type Consolidated Category   \n",
       "0  American Casual / Diner / Food Truck        Prepared Foods  \\\n",
       "1         Bar / Nightclubs / Sports Bar        Prepared Foods   \n",
       "2                       Non-Restaurants        Prepared Foods   \n",
       "3  American Casual / Diner / Food Truck                Potato   \n",
       "4  American Casual / Diner / Food Truck        Prepared Foods   \n",
       "\n",
       "   L1 Product Hierarchy L2 Product Hierarchy Case Weight Lbs   \n",
       "0             Appetizer         Whole Cheese             2.0  \\\n",
       "1             Appetizer         Whole Cheese             2.0   \n",
       "2             Appetizer         Whole Cheese            12.0   \n",
       "3  Differentiated Fries            Clearcoat            30.0   \n",
       "4             Appetizer      Whole Vegetable            14.0   \n",
       "\n",
       "  Calendar Week Year   State Name  \n",
       "0             202108     Maryland  \n",
       "1             202108     Maryland  \n",
       "2             202108     Virginia  \n",
       "3             202108  Connecticut  \n",
       "4             202108     New York  \n",
       "\n",
       "[5 rows x 42 columns]"
      ]
     },
     "execution_count": 13,
     "metadata": {},
     "output_type": "execute_result"
    }
   ],
   "source": [
    "import_df.head()"
   ]
  },
  {
   "cell_type": "code",
   "execution_count": 20,
   "metadata": {},
   "outputs": [
    {
     "name": "stdout",
     "output_type": "stream",
     "text": [
      "CPU times: total: 2min 23s\n",
      "Wall time: 2min 24s\n"
     ]
    }
   ],
   "source": [
    "%%time\n",
    "import_df.to_csv(r'files\\pfg_sellout.zip', index=False, compression='zip')"
   ]
  },
  {
   "cell_type": "code",
   "execution_count": 16,
   "metadata": {},
   "outputs": [
    {
     "data": {
      "text/plain": [
       "Index(['Unnamed: 0', 'Division', 'Sales Manager', 'Sales Rep Number',\n",
       "       'Sales Rep', 'Account Number', 'Account Name', 'Address', 'City',\n",
       "       'State', 'Postal Code', 'Customer Class', 'Segment', 'Account Type',\n",
       "       'Vendor', 'Manufacturer', 'Brand', 'Brand Type', 'Product Category',\n",
       "       'Sub-Category', 'GTIN', 'SKU ID', 'Dist SKU', 'Item Name', 'Pack',\n",
       "       'Size', 'Unit Type', 'Qty', 'LBS', 'Invoice Week',\n",
       "       'COVID Segmentation - L1', 'COVID Segmentation - L2',\n",
       "       'COVID Segmentation - (Restaurants)',\n",
       "       'COVID Segmentation - (Restaurants: Sub-Segment)',\n",
       "       'Restaurant Service Type', 'Cuisine Type', 'Consolidated Category',\n",
       "       'L1 Product Hierarchy', 'L2 Product Hierarchy', 'Case Weight Lbs',\n",
       "       'Calendar Week Year', 'State Name'],\n",
       "      dtype='object')"
      ]
     },
     "execution_count": 16,
     "metadata": {},
     "output_type": "execute_result"
    }
   ],
   "source": [
    "import_df.columns"
   ]
  },
  {
   "cell_type": "code",
   "execution_count": 26,
   "metadata": {},
   "outputs": [
    {
     "data": {
      "text/plain": [
       "<AxesSubplot:xlabel='COVID Segmentation - L1'>"
      ]
     },
     "execution_count": 26,
     "metadata": {},
     "output_type": "execute_result"
    },
    {
     "data": {
      "image/png": "[encoded data removed]",
      "text/plain": [
       "<Figure size 432x288 with 1 Axes>"
      ]
     },
     "metadata": {
      "needs_background": "light"
     },
     "output_type": "display_data"
    }
   ],
   "source": [
    "import_df.groupby('COVID Segmentation - L1', dropna=False)['Case Weight Lbs'].sum().sort_values(ascending=False).plot(kind='bar')"
   ]
  },
  {
   "cell_type": "code",
   "execution_count": 27,
   "metadata": {},
   "outputs": [
    {
     "data": {
      "text/plain": [
       "<AxesSubplot:xlabel='COVID Segmentation - L2'>"
      ]
     },
     "execution_count": 27,
     "metadata": {},
     "output_type": "execute_result"
    },
    {
     "data": {
      "image/png": "[encoded data removed]",
      "text/plain": [
       "<Figure size 432x288 with 1 Axes>"
      ]
     },
     "metadata": {
      "needs_background": "light"
     },
     "output_type": "display_data"
    }
   ],
   "source": [
    "import_df.groupby('COVID Segmentation - L2', dropna=False)['Case Weight Lbs'].sum().sort_values(ascending=False).plot(kind='bar')"
   ]
  },
  {
   "cell_type": "code",
   "execution_count": 64,
   "metadata": {},
   "outputs": [
    {
     "data": {
      "text/plain": [
       "<AxesSubplot:xlabel='Cuisine Type'>"
      ]
     },
     "execution_count": 64,
     "metadata": {},
     "output_type": "execute_result"
    },
    {
     "data": {
      "image/png": "[encoded data removed]",
      "text/plain": [
       "<Figure size 432x288 with 1 Axes>"
      ]
     },
     "metadata": {
      "needs_background": "light"
     },
     "output_type": "display_data"
    }
   ],
   "source": [
    "import_df.groupby('Cuisine Type', dropna=False)['Case Weight Lbs'].sum().sort_values(ascending=False).plot(kind='bar')"
   ]
  },
  {
   "cell_type": "code",
   "execution_count": 32,
   "metadata": {},
   "outputs": [
    {
     "data": {
      "text/plain": [
       "COVID Segmentation - L2\n",
       "Independents (IOs) / Local Eateries / Takeaway    2754828\n",
       "National Accounts                                 1389277\n",
       "Region Chains                                      311961\n",
       "Schools (under 16)                                 169094\n",
       "Retail / Gas & C-Store Accounts                    104818\n",
       "Hospitals & Healthcare Facilities                   83390\n",
       "Travel/Transport                                    60968\n",
       "Large Events & Venues                               48841\n",
       "Other / Unknown                                     47241\n",
       "Retail / Grocery Deli Accounts                      38757\n",
       "Country Clubs                                       37995\n",
       "Workplace Canteens                                  37446\n",
       "Hotels, Casinos & Resorts                           34803\n",
       "Universities/Higher Education                       25698\n",
       "Elderly Care Homes                                  15694\n",
       "Amusement Parks & Recreation                        11181\n",
       "Employee Sales / Samples                             9777\n",
       "Redistributor / Cash & Carry                         9390\n",
       "Government & Military                                6334\n",
       "Prisons / Corrections                                3494\n",
       "Casinos/Gaming (Non-Hotel)                           1898\n",
       "Bowling Alley & Movie Theatres                       1752\n",
       "Name: count, dtype: int64"
      ]
     },
     "execution_count": 32,
     "metadata": {},
     "output_type": "execute_result"
    }
   ],
   "source": [
    "import_df['COVID Segmentation - L2'].value_counts()"
   ]
  },
  {
   "cell_type": "code",
   "execution_count": 50,
   "metadata": {},
   "outputs": [],
   "source": [
    "groupby_columns = ['COVID Segmentation - L1','COVID Segmentation - L2','Restaurant Service Type','Cuisine Type']\n",
    "\n",
    "group1 = import_df.groupby(groupby_columns)['Case Weight Lbs'].sum().reset_index()"
   ]
  },
  {
   "cell_type": "code",
   "execution_count": 52,
   "metadata": {},
   "outputs": [],
   "source": [
    "group1.to_csv(r'C:\\Users\\newatter\\OneDrive - McCain Foods Limited\\Junk\\pfg_segmentation_test.csv', index=False)"
   ]
  },
  {
   "cell_type": "code",
   "execution_count": 46,
   "metadata": {},
   "outputs": [],
   "source": [
    "mask = (import_df['COVID Segmentation - L1'] == 'Casual Dining') & \\\n",
    "    (import_df['COVID Segmentation - L2'] == 'Independents (IOs) / Local Eateries / Takeaway') & \\\n",
    "    (import_df['Restaurant Service Type'] == 'Sit Down')\n",
    "\n",
    "group1 = import_df[mask].groupby(['Account Name','Cuisine Type'], dropna=False)['Case Weight Lbs'].sum().reset_index()"
   ]
  },
  {
   "cell_type": "code",
   "execution_count": 49,
   "metadata": {},
   "outputs": [
    {
     "data": {
      "text/plain": [
       "Cuisine Type\n",
       "Unknown                                 1.662281e+07\n",
       "American Casual / Diner / Food Truck    7.762075e+06\n",
       "Pizza                                   3.551750e+06\n",
       "Italian                                 1.369021e+06\n",
       "Seafood / Oyster Bar / Catfish          1.238934e+06\n",
       "Mexican                                 1.027074e+06\n",
       "BBQ / Cafeteria / Buffet                8.564551e+05\n",
       "Mediterranean / Middle Eastern          4.750880e+05\n",
       "Steak                                   4.319249e+05\n",
       "Fine Dining / Specialty                 2.252001e+05\n",
       "Other European / Ethnic                 1.869325e+05\n",
       "Asian                                   1.316895e+05\n",
       "Name: Case Weight Lbs, dtype: float64"
      ]
     },
     "execution_count": 49,
     "metadata": {},
     "output_type": "execute_result"
    }
   ],
   "source": [
    "group1.groupby('Cuisine Type')['Case Weight Lbs'].sum().sort_values(ascending=False)"
   ]
  },
  {
   "cell_type": "code",
   "execution_count": 61,
   "metadata": {},
   "outputs": [
    {
     "data": {
      "text/html": [
       "<div>\n",
       "<style scoped>\n",
       "    .dataframe tbody tr th:only-of-type {\n",
       "        vertical-align: middle;\n",
       "    }\n",
       "\n",
       "    .dataframe tbody tr th {\n",
       "        vertical-align: top;\n",
       "    }\n",
       "\n",
       "    .dataframe thead th {\n",
       "        text-align: right;\n",
       "    }\n",
       "</style>\n",
       "<table border=\"1\" class=\"dataframe\">\n",
       "  <thead>\n",
       "    <tr style=\"text-align: right;\">\n",
       "      <th></th>\n",
       "      <th>Customer Class</th>\n",
       "      <th>Segment</th>\n",
       "      <th>Account Type</th>\n",
       "    </tr>\n",
       "  </thead>\n",
       "  <tbody>\n",
       "    <tr>\n",
       "      <th>58</th>\n",
       "      <td>INDEPENDENT CUSTOMER</td>\n",
       "      <td>QSR</td>\n",
       "      <td>PURE STREET</td>\n",
       "    </tr>\n",
       "    <tr>\n",
       "      <th>72</th>\n",
       "      <td>INDEPENDENT CUSTOMER</td>\n",
       "      <td>Restaurants</td>\n",
       "      <td>INDEPENDENT CUSTOMER</td>\n",
       "    </tr>\n",
       "    <tr>\n",
       "      <th>88</th>\n",
       "      <td>INDEPENDENT CUSTOMER</td>\n",
       "      <td>Restaurants</td>\n",
       "      <td>INDEPENDENT CUSTOMER</td>\n",
       "    </tr>\n",
       "    <tr>\n",
       "      <th>89</th>\n",
       "      <td>INDEPENDENT CUSTOMER</td>\n",
       "      <td>MSD-Other</td>\n",
       "      <td>INDEPENDENT CUSTOMER</td>\n",
       "    </tr>\n",
       "    <tr>\n",
       "      <th>90</th>\n",
       "      <td>NATIONAL CUSTOMER</td>\n",
       "      <td>FAST FOODS</td>\n",
       "      <td>NATIONAL CUSTOMER</td>\n",
       "    </tr>\n",
       "    <tr>\n",
       "      <th>91</th>\n",
       "      <td>NATIONAL CUSTOMER</td>\n",
       "      <td>FAST FOODS</td>\n",
       "      <td>NATIONAL CUSTOMER</td>\n",
       "    </tr>\n",
       "    <tr>\n",
       "      <th>172</th>\n",
       "      <td>REGIONAL CUSTOMER</td>\n",
       "      <td>Casual</td>\n",
       "      <td>PROGRAM STREET</td>\n",
       "    </tr>\n",
       "    <tr>\n",
       "      <th>177</th>\n",
       "      <td>NATIONAL CUSTOMER</td>\n",
       "      <td>FAST FOODS</td>\n",
       "      <td>NATIONAL CUSTOMER</td>\n",
       "    </tr>\n",
       "    <tr>\n",
       "      <th>197</th>\n",
       "      <td>NATIONAL CUSTOMER</td>\n",
       "      <td>FAST FOODS</td>\n",
       "      <td>NATIONAL CUSTOMER</td>\n",
       "    </tr>\n",
       "    <tr>\n",
       "      <th>198</th>\n",
       "      <td>NATIONAL CUSTOMER</td>\n",
       "      <td>FAST FOODS</td>\n",
       "      <td>NATIONAL CUSTOMER</td>\n",
       "    </tr>\n",
       "    <tr>\n",
       "      <th>233</th>\n",
       "      <td>INDEPENDENT CUSTOMER</td>\n",
       "      <td>Restaurants</td>\n",
       "      <td>INDEPENDENT CUSTOMER</td>\n",
       "    </tr>\n",
       "    <tr>\n",
       "      <th>288</th>\n",
       "      <td>REGIONAL CUSTOMER</td>\n",
       "      <td>Family Casual</td>\n",
       "      <td>MULTI UNIT - LOCAL</td>\n",
       "    </tr>\n",
       "    <tr>\n",
       "      <th>296</th>\n",
       "      <td>REGIONAL CUSTOMER</td>\n",
       "      <td>Casual</td>\n",
       "      <td>PROGRAM STREET</td>\n",
       "    </tr>\n",
       "    <tr>\n",
       "      <th>299</th>\n",
       "      <td>NATIONAL CUSTOMER</td>\n",
       "      <td>FAST FOODS</td>\n",
       "      <td>NATIONAL CUSTOMER</td>\n",
       "    </tr>\n",
       "    <tr>\n",
       "      <th>300</th>\n",
       "      <td>NATIONAL CUSTOMER</td>\n",
       "      <td>FAST FOODS</td>\n",
       "      <td>NATIONAL CUSTOMER</td>\n",
       "    </tr>\n",
       "  </tbody>\n",
       "</table>\n",
       "</div>"
      ],
      "text/plain": [
       "           Customer Class        Segment                    Account Type\n",
       "58   INDEPENDENT CUSTOMER            QSR                     PURE STREET\n",
       "72   INDEPENDENT CUSTOMER    Restaurants  INDEPENDENT CUSTOMER          \n",
       "88   INDEPENDENT CUSTOMER    Restaurants  INDEPENDENT CUSTOMER          \n",
       "89   INDEPENDENT CUSTOMER      MSD-Other  INDEPENDENT CUSTOMER          \n",
       "90      NATIONAL CUSTOMER     FAST FOODS  NATIONAL CUSTOMER             \n",
       "91      NATIONAL CUSTOMER     FAST FOODS  NATIONAL CUSTOMER             \n",
       "172     REGIONAL CUSTOMER         Casual                  PROGRAM STREET\n",
       "177     NATIONAL CUSTOMER     FAST FOODS  NATIONAL CUSTOMER             \n",
       "197     NATIONAL CUSTOMER     FAST FOODS  NATIONAL CUSTOMER             \n",
       "198     NATIONAL CUSTOMER     FAST FOODS  NATIONAL CUSTOMER             \n",
       "233  INDEPENDENT CUSTOMER    Restaurants  INDEPENDENT CUSTOMER          \n",
       "288     REGIONAL CUSTOMER  Family Casual              MULTI UNIT - LOCAL\n",
       "296     REGIONAL CUSTOMER         Casual                  PROGRAM STREET\n",
       "299     NATIONAL CUSTOMER     FAST FOODS  NATIONAL CUSTOMER             \n",
       "300     NATIONAL CUSTOMER     FAST FOODS  NATIONAL CUSTOMER             "
      ]
     },
     "execution_count": 61,
     "metadata": {},
     "output_type": "execute_result"
    }
   ],
   "source": [
    "import_df[import_df['Cuisine Type'] == 'Unknown'][['Customer Class','Segment','Account Type']].head(15)"
   ]
  },
  {
   "cell_type": "code",
   "execution_count": 59,
   "metadata": {},
   "outputs": [
    {
     "data": {
      "text/plain": [
       "count     5204637\n",
       "unique      86163\n",
       "top       ZAXBY'S\n",
       "freq         3036\n",
       "Name: Account Name, dtype: object"
      ]
     },
     "execution_count": 59,
     "metadata": {},
     "output_type": "execute_result"
    }
   ],
   "source": [
    "import_df['Account Name'].describe()"
   ]
  },
  {
   "cell_type": "code",
   "execution_count": 63,
   "metadata": {},
   "outputs": [
    {
     "data": {
      "text/plain": [
       "Account Name               Customer Class        Segment                  Account Type\n",
       "#01 EL TORO OF LIMESTONE   Independent Customer  Unassigned               Street            2\n",
       "#02 EL TORO BELLBROOK      Independent Customer  Unassigned               Street            1\n",
       "#04 EL TORO Vandalia       Independent Customer  Unassigned               Street            1\n",
       "#05 EL TOROOLD Huber Hts.  Independent Customer  Unassigned               Street            2\n",
       "#06 EL TORO BECHTLE        Independent Customer  Unassigned               Street            3\n",
       "                                                                                         ... \n",
       "ssm-azalea estates slidel  Regional Customer     HOSPITAL/NURSING HOMES   Healthcare       48\n",
       "tROUBLE'S II               Independent Customer  RESTAURANT-FULL SERVICE  Street          178\n",
       "tavern on the green        Independent Customer  RESTAURANT-FULL SERVICE  Street           27\n",
       "teds                       Independent Customer  Unassigned               Street            2\n",
       "youth Challenge Academy    Independent Customer  Unassigned               Street            3\n",
       "Length: 37823, dtype: int64"
      ]
     },
     "execution_count": 63,
     "metadata": {},
     "output_type": "execute_result"
    }
   ],
   "source": [
    "import_df[import_df['Cuisine Type'] == 'Unknown'].groupby(['Account Name','Customer Class','Segment','Account Type']).size().reset_index()"
   ]
  },
  {
   "cell_type": "code",
   "execution_count": null,
   "metadata": {},
   "outputs": [],
   "source": []
  },
  {
   "cell_type": "markdown",
   "metadata": {},
   "source": [
    "# PFG - SQL Server"
   ]
  },
  {
   "cell_type": "code",
   "execution_count": 1,
   "metadata": {},
   "outputs": [],
   "source": [
    "import pyodbc\n",
    "import sqlalchemy\n",
    "from sqlalchemy import create_engine, MetaData, Table\n",
    "from sqlalchemy.engine import URL\n",
    "from datetime import datetime, timedelta\n",
    "import pandas as pd\n",
    "import os\n",
    "import regex as re\n",
    "\n",
    "class pfg_sellout:\n",
    "    def __init__(self, file_path) -> None:\n",
    "        self.filepath = file_path\n",
    "        self.dates = self.extract_dates_from_filename()\n",
    "        self.data = self.process_file()\n",
    "        self.data_import = self.filter_rows()\n",
    "        #self.delete_rows()\n",
    "        self.insert_rows()\n",
    "\n",
    "    def extract_dates_from_filename(self):\n",
    "        # Extracting the filename from the path\n",
    "        file_name = os.path.basename(self.filepath)\n",
    "\n",
    "        # Define the regular expression pattern for dates\n",
    "        date_pattern = r'\\d{4}-\\d{2}-\\d{2}'\n",
    "\n",
    "        # Find all occurrences of the pattern\n",
    "        dates = re.findall(date_pattern, file_name)\n",
    "\n",
    "        # Convert strings to datetime objects\n",
    "        dates = [datetime.strptime(date, '%Y-%m-%d') for date in dates]\n",
    "\n",
    "        return dates\n",
    "\n",
    "    def process_file(self):\n",
    "        df = pd.read_csv(self.filepath, low_memory = False, thousands = ',')\n",
    "\n",
    "        rename_columns = {\n",
    "            'MFR SKU':'McCain SKU ID',\n",
    "            'GTIN':'Manufacturer GTIN',\n",
    "            'MFG Number':'McCain SKU ID'\n",
    "        }\n",
    "\n",
    "        # Rename columns\n",
    "        df.rename(columns=rename_columns, inplace=True)\n",
    "\n",
    "        df['Manufacturer GTIN'] = df['Manufacturer GTIN'].astype(str)\n",
    "        df['Account Number'] = df['Account Number'].astype(int).astype(str)\n",
    "\n",
    "        # Add week beginning column\n",
    "        # Assuming beginning date is on Monday\n",
    "        df['Week Beginning Date'] = pd.to_datetime(self.dates[0] - timedelta(days=1))\n",
    "\n",
    "        # Upper case everything in columns\n",
    "        columns_to_edit = [\n",
    "            'Account Name','Address','City','State'\n",
    "        ]\n",
    "\n",
    "        for col in columns_to_edit:\n",
    "            df[col] = df[col].str.upper()\n",
    "        \n",
    "        columns_to_edit = [\n",
    "            'Division','Account Number','Account Name','Address','City','State','Postal Code',\n",
    "            'Customer Class','Segment','Account Type','Vendor','Manufacturer'\n",
    "        ]\n",
    "\n",
    "        for col in columns_to_edit:\n",
    "            df[col] = df[col].str.strip()\n",
    "\n",
    "        columns_to_keep = [\n",
    "            'Division','Account Number','Account Name','Address','City','State','Postal Code',\n",
    "            'Customer Class','Segment','Account Type','Vendor','Manufacturer',\n",
    "            'Manufacturer GTIN','McCain SKU ID','Dist SKU','Item Name','Pack','Size','Unit Type',\n",
    "            'Qty','Weight','Week Beginning Date'\n",
    "        ]\n",
    "        \n",
    "        if df['Pack'].dtypes == 'object':\n",
    "            # Use the str.split method on the entire 'Pack' column to split by '/'\n",
    "            # The expand=True parameter will split the 'Pack' column into two new columns\n",
    "            split_df = df['Pack'].str.split('/', n=1, expand=True)\n",
    "\n",
    "            # Assign the first part of the split to 'Pack' only if there was a split (i.e., a '/')\n",
    "            df['Pack'] = split_df[0].where(split_df[1].notna(), df['Pack'])\n",
    "\n",
    "            # The second part of the split, along with the unit if it exists, to 'Size'\n",
    "            # but only if there was something after the '/' (notna())\n",
    "            df['Size'] = split_df[1].where(split_df[1].notna(), df['Size'])\n",
    "\n",
    "        return df[columns_to_keep]\n",
    "    \n",
    "    def setup_connection():\n",
    "        server = 'mf-enterprise-dev-sql.46ac3df1733c.database.windows.net'\n",
    "        database = 'PWRAPPDB'\n",
    "        driver = '{ODBC Driver 17 for SQL Server}'\n",
    "\n",
    "        # Establish the database connection using AAD Integrated Authentication\n",
    "        conn_str = (\n",
    "            f'DRIVER={driver};'\n",
    "            f'SERVER=tcp:{server};'\n",
    "            f'DATABASE={database};'\n",
    "            'Authentication=ActiveDirectoryIntegrated'\n",
    "        )\n",
    "\n",
    "        cnxn = pyodbc.connect(conn_str)\n",
    "        cursor = cnxn.cursor()\n",
    "\n",
    "        return cnxn, cursor\n",
    "\n",
    "\n",
    "    def filter_rows(self):\n",
    "        sql_select = \"\"\"\n",
    "        SELECT [Week Beginning Date] \n",
    "        FROM [na_dist].[US_PFG_Sellout]\n",
    "        GROUP BY [Week Beginning Date] \"\"\"\n",
    "\n",
    "        cnxn, cursor = pfg_sellout.setup_connection()\n",
    "\n",
    "        cursor.execute(sql_select)\n",
    "\n",
    "        # Fetch the results\n",
    "        results = cursor.fetchall()\n",
    "\n",
    "        # Convert the results into a list of dates\n",
    "        dates_in_db = [result[0] if result[0] is not None else None for result in results]\n",
    "        dates_in_db = pd.to_datetime([date for date in dates_in_db if date is not None])\n",
    "\n",
    "        # Commit the transactions\n",
    "        cnxn.commit()\n",
    "\n",
    "        # Close the connection\n",
    "        cursor.close()\n",
    "        cnxn.close()\n",
    "\n",
    "        return self.data[~self.data['Week Beginning Date'].isin(dates_in_db)]\n",
    "\n",
    "    def setup_miengine():\n",
    "        server = 'mf-enterprise-dev-sql.46ac3df1733c.database.windows.net'\n",
    "        database = 'PWRAPPDB'\n",
    "        driver = '{ODBC Driver 17 for SQL Server}'\n",
    "\n",
    "        # Establish the database connection using AAD Integrated Authentication\n",
    "        conn_str = URL.create(\n",
    "            'mssql+pyodbc',\n",
    "            query={\n",
    "                'odbc_connect':(\n",
    "                    f'DRIVER={driver};'\n",
    "                    f'SERVER=tcp:{server};'\n",
    "                    f'DATABASE={database};'\n",
    "                    'Authentication=ActiveDirectoryIntegrated;'\n",
    "            )\n",
    "            }\n",
    "        )\n",
    "\n",
    "        engine = create_engine(conn_str, connect_args={\"autocommit\": True}, fast_executemany=True, use_insertmanyvalues=False)\n",
    "\n",
    "        return engine\n",
    "\n",
    "        \n",
    "    def insert_rows(self):\n",
    "        engine = pfg_sellout.setup_miengine()\n",
    "\n",
    "        table_name = 'US_PFG_Sellout'\n",
    "        schema_name = 'na_dist'\n",
    "\n",
    "        # If the table doesn't exist, it will be created automatically\n",
    "        self.data_import.to_sql(table_name, con=engine, schema=schema_name, if_exists='append', index=False)"
   ]
  },
  {
   "cell_type": "code",
   "execution_count": 2,
   "metadata": {},
   "outputs": [
    {
     "data": {
      "text/plain": [
       "<__main__.pfg_sellout at 0x190efaeff10>"
      ]
     },
     "execution_count": 2,
     "metadata": {},
     "output_type": "execute_result"
    }
   ],
   "source": [
    "file_path = r'C:\\Users\\newatter\\OneDrive - McCain Foods Limited\\Distributor Sell-Out\\Weekly Update Files\\2024-05-10\\Sales_Report_Builder_(2024-04-29 - 2024-05-05).csv'\n",
    "\n",
    "pfg_sellout(file_path)\n"
   ]
  },
  {
   "cell_type": "code",
   "execution_count": 43,
   "metadata": {},
   "outputs": [
    {
     "name": "stdout",
     "output_type": "stream",
     "text": [
      "C:\\Users\\newatter\\OneDrive - McCain Foods Limited\\Distributor Sell-Out\\Weekly Update Files\\2021-04-09\\Data Sources\\Meal Ticket - Sales Report - (2021-03-29 - 2021-04-04).csv\n",
      "C:\\Users\\newatter\\OneDrive - McCain Foods Limited\\Distributor Sell-Out\\Weekly Update Files\\2021-04-16\\Data Sources\\Meal Ticket - Sales Report - (2021-04-05 - 2021-04-11).csv\n",
      "C:\\Users\\newatter\\OneDrive - McCain Foods Limited\\Distributor Sell-Out\\Weekly Update Files\\2021-04-23\\Data Sources\\Meal Ticket - Sales Report - (2021-04-12 - 2021-04-18).csv\n",
      "C:\\Users\\newatter\\OneDrive - McCain Foods Limited\\Distributor Sell-Out\\Weekly Update Files\\2021-04-30\\Data Sources\\Meal Ticket - Sales Report - (2021-04-19 - 2021-04-25).csv\n",
      "C:\\Users\\newatter\\OneDrive - McCain Foods Limited\\Distributor Sell-Out\\Weekly Update Files\\2021-05-05\\Data Sources\\Meal Ticket - Sales Report - (2021-04-26 - 2021-05-02).csv\n",
      "C:\\Users\\newatter\\OneDrive - McCain Foods Limited\\Distributor Sell-Out\\Weekly Update Files\\2021-05-14\\Data Sources\\Meal Ticket - Sales Report - (2021-05-03 - 2021-05-09).csv\n",
      "C:\\Users\\newatter\\OneDrive - McCain Foods Limited\\Distributor Sell-Out\\Weekly Update Files\\2021-05-28\\Data Sources\\Meal Ticket - Sales Report - (2021-05-17 - 2021-05-23).csv\n",
      "C:\\Users\\newatter\\OneDrive - McCain Foods Limited\\Distributor Sell-Out\\Weekly Update Files\\2021-06-04\\Data Sources\\Meal Ticket - Sales Report - (2021-05-24 - 2021-05-30).csv\n",
      "C:\\Users\\newatter\\OneDrive - McCain Foods Limited\\Distributor Sell-Out\\Weekly Update Files\\2021-06-11\\Data Sources\\Meal Ticket - Sales Report - (2021-05-31 - 2021-06-06).csv\n",
      "C:\\Users\\newatter\\OneDrive - McCain Foods Limited\\Distributor Sell-Out\\Weekly Update Files\\2021-06-18\\Data Sources\\Meal Ticket - Sales Report - (2021-06-07 - 2021-06-13).csv\n",
      "C:\\Users\\newatter\\OneDrive - McCain Foods Limited\\Distributor Sell-Out\\Weekly Update Files\\2021-06-25\\Data Sources\\Meal Ticket - Sales Report - (2021-06-14 - 2021-06-20).csv\n",
      "C:\\Users\\newatter\\OneDrive - McCain Foods Limited\\Distributor Sell-Out\\Weekly Update Files\\2021-07-09\\Data Sources\\Meal Ticket - Sales Report - (2021-06-21 - 2021-06-27).csv\n",
      "C:\\Users\\newatter\\OneDrive - McCain Foods Limited\\Distributor Sell-Out\\Weekly Update Files\\2021-07-09\\Data Sources\\Meal Ticket - Sales Report - (2021-06-28 - 2021-07-04).csv\n",
      "C:\\Users\\newatter\\OneDrive - McCain Foods Limited\\Distributor Sell-Out\\Weekly Update Files\\2021-07-16\\Meal Ticket - Sales Report - (2021-07-05 - 2021-07-11).csv\n",
      "C:\\Users\\newatter\\OneDrive - McCain Foods Limited\\Distributor Sell-Out\\Weekly Update Files\\2021-07-23\\Data Sources\\Meal Ticket - Sales Report - (2021-07-12 - 2021-07-18).csv\n",
      "C:\\Users\\newatter\\OneDrive - McCain Foods Limited\\Distributor Sell-Out\\Weekly Update Files\\2021-07-30\\Data Sources\\Meal Ticket - Sales Report - (2021-07-19 - 2021-07-25).csv\n",
      "C:\\Users\\newatter\\OneDrive - McCain Foods Limited\\Distributor Sell-Out\\Weekly Update Files\\2021-08-06\\Data Sources\\Meal Ticket - Sales Report - (2021-07-26 - 2021-08-01).csv\n",
      "C:\\Users\\newatter\\OneDrive - McCain Foods Limited\\Distributor Sell-Out\\Weekly Update Files\\2021-08-13\\Data Sources\\Meal Ticket - Sales Report - (2021-08-02 - 2021-08-08).csv\n",
      "C:\\Users\\newatter\\OneDrive - McCain Foods Limited\\Distributor Sell-Out\\Weekly Update Files\\2022-02-11\\Data Sources\\PFG Refresh\\Meal Ticket - Sales Report - (2021-02-22 - 2021-02-28).csv\n",
      "C:\\Users\\newatter\\OneDrive - McCain Foods Limited\\Distributor Sell-Out\\Weekly Update Files\\2022-02-11\\Data Sources\\PFG Refresh\\Meal Ticket - Sales Report - (2021-03-01 - 2021-03-07).csv\n",
      "C:\\Users\\newatter\\OneDrive - McCain Foods Limited\\Distributor Sell-Out\\Weekly Update Files\\2022-02-11\\Data Sources\\PFG Refresh\\Meal Ticket - Sales Report - (2021-03-08 - 2021-03-14).csv\n",
      "C:\\Users\\newatter\\OneDrive - McCain Foods Limited\\Distributor Sell-Out\\Weekly Update Files\\2022-02-11\\Data Sources\\PFG Refresh\\Meal Ticket - Sales Report - (2021-03-15 - 2021-03-21).csv\n",
      "C:\\Users\\newatter\\OneDrive - McCain Foods Limited\\Distributor Sell-Out\\Weekly Update Files\\2022-02-11\\Data Sources\\PFG Refresh\\Meal Ticket - Sales Report - (2021-03-22 - 2021-03-28).csv\n",
      "C:\\Users\\newatter\\OneDrive - McCain Foods Limited\\Distributor Sell-Out\\Weekly Update Files\\2022-02-11\\Data Sources\\PFG Refresh\\Meal Ticket - Sales Report - (2021-03-29 - 2021-04-04).csv\n",
      "C:\\Users\\newatter\\OneDrive - McCain Foods Limited\\Distributor Sell-Out\\Weekly Update Files\\2022-02-11\\Data Sources\\PFG Refresh\\Meal Ticket - Sales Report - (2021-04-05 - 2021-04-11).csv\n",
      "C:\\Users\\newatter\\OneDrive - McCain Foods Limited\\Distributor Sell-Out\\Weekly Update Files\\2022-02-11\\Data Sources\\PFG Refresh\\Meal Ticket - Sales Report - (2021-04-12 - 2021-04-18).csv\n",
      "C:\\Users\\newatter\\OneDrive - McCain Foods Limited\\Distributor Sell-Out\\Weekly Update Files\\2022-02-11\\Data Sources\\PFG Refresh\\Meal Ticket - Sales Report - (2021-04-19 - 2021-04-25).csv\n",
      "C:\\Users\\newatter\\OneDrive - McCain Foods Limited\\Distributor Sell-Out\\Weekly Update Files\\2022-02-11\\Data Sources\\PFG Refresh\\Meal Ticket - Sales Report - (2021-04-26 - 2021-05-02).csv\n",
      "C:\\Users\\newatter\\OneDrive - McCain Foods Limited\\Distributor Sell-Out\\Weekly Update Files\\2022-02-11\\Data Sources\\PFG Refresh\\Meal Ticket - Sales Report - (2021-05-03 - 2021-05-09).csv\n",
      "C:\\Users\\newatter\\OneDrive - McCain Foods Limited\\Distributor Sell-Out\\Weekly Update Files\\2022-02-11\\Data Sources\\PFG Refresh\\Meal Ticket - Sales Report - (2021-05-10 - 2021-05-16).csv\n",
      "C:\\Users\\newatter\\OneDrive - McCain Foods Limited\\Distributor Sell-Out\\Weekly Update Files\\2022-02-11\\Data Sources\\PFG Refresh\\Meal Ticket - Sales Report - (2021-05-17 - 2021-05-23).csv\n",
      "C:\\Users\\newatter\\OneDrive - McCain Foods Limited\\Distributor Sell-Out\\Weekly Update Files\\2022-02-11\\Data Sources\\PFG Refresh\\Meal Ticket - Sales Report - (2021-05-24 - 2021-05-30).csv\n",
      "C:\\Users\\newatter\\OneDrive - McCain Foods Limited\\Distributor Sell-Out\\Weekly Update Files\\2022-02-11\\Data Sources\\PFG Refresh\\Meal Ticket - Sales Report - (2021-05-31 - 2021-06-06).csv\n",
      "C:\\Users\\newatter\\OneDrive - McCain Foods Limited\\Distributor Sell-Out\\Weekly Update Files\\2022-02-11\\Data Sources\\PFG Refresh\\Meal Ticket - Sales Report - (2021-06-07 - 2021-06-13).csv\n",
      "C:\\Users\\newatter\\OneDrive - McCain Foods Limited\\Distributor Sell-Out\\Weekly Update Files\\2022-02-11\\Data Sources\\PFG Refresh\\Meal Ticket - Sales Report - (2021-06-14 - 2021-06-20).csv\n",
      "C:\\Users\\newatter\\OneDrive - McCain Foods Limited\\Distributor Sell-Out\\Weekly Update Files\\2022-02-11\\Data Sources\\PFG Refresh\\Meal Ticket - Sales Report - (2021-06-21 - 2021-06-27).csv\n",
      "C:\\Users\\newatter\\OneDrive - McCain Foods Limited\\Distributor Sell-Out\\Weekly Update Files\\2022-02-11\\Data Sources\\PFG Refresh\\Meal Ticket - Sales Report - (2021-06-28 - 2021-07-04).csv\n",
      "C:\\Users\\newatter\\OneDrive - McCain Foods Limited\\Distributor Sell-Out\\Weekly Update Files\\2022-02-11\\Data Sources\\PFG Refresh\\Meal Ticket - Sales Report - (2021-07-05 - 2021-07-11).csv\n",
      "C:\\Users\\newatter\\OneDrive - McCain Foods Limited\\Distributor Sell-Out\\Weekly Update Files\\2022-02-11\\Data Sources\\PFG Refresh\\Meal Ticket - Sales Report - (2021-07-12 - 2021-07-18).csv\n",
      "C:\\Users\\newatter\\OneDrive - McCain Foods Limited\\Distributor Sell-Out\\Weekly Update Files\\2022-02-11\\Data Sources\\PFG Refresh\\Meal Ticket - Sales Report - (2021-07-19 - 2021-07-25).csv\n",
      "C:\\Users\\newatter\\OneDrive - McCain Foods Limited\\Distributor Sell-Out\\Weekly Update Files\\2022-02-11\\Data Sources\\PFG Refresh\\Meal Ticket - Sales Report - (2021-07-26 - 2021-08-01).csv\n",
      "C:\\Users\\newatter\\OneDrive - McCain Foods Limited\\Distributor Sell-Out\\Weekly Update Files\\2022-02-11\\Data Sources\\PFG Refresh\\Meal Ticket - Sales Report - (2021-08-02 - 2021-08-08).csv\n",
      "C:\\Users\\newatter\\OneDrive - McCain Foods Limited\\Distributor Sell-Out\\Weekly Update Files\\2024-04-19\\Sales_Report_Builder_(2024-04-08 - 2024-04-14).csv\n",
      "C:\\Users\\newatter\\OneDrive - McCain Foods Limited\\Distributor Sell-Out\\Weekly Update Files\\2024-04-26\\Sales_Report_Builder_(2024-04-15 - 2024-04-21).csv\n"
     ]
    }
   ],
   "source": [
    "import os\n",
    "\n",
    "# The path to the directory containing the folders\n",
    "directory_path = r'C:\\Users\\newatter\\OneDrive - McCain Foods Limited\\Distributor Sell-Out\\Weekly Update Files'\n",
    "\n",
    "cnt = 0\n",
    "\n",
    "# Loop through each folder and file in the directory\n",
    "for root, dirs, files in os.walk(directory_path):\n",
    "    for file in files:\n",
    "        # Check if \"SharedTable_weekly_cases\" is in the filename\n",
    "        if (\"Meal Ticket\" in file and file.endswith('.csv') and \"2021\" in file) or (\"Sales_Report_Builder\" in file and file.endswith('.csv') and \"2024\" in file):\n",
    "            #cnt += 1\n",
    "            # Construct the full file path\n",
    "            file_path = os.path.join(root, file)\n",
    "            \n",
    "            print(file_path)\n",
    "\n",
    "            pfg_sellout(file_path)\n",
    "\n",
    "            #if cnt >= 30:\n",
    "            #   break"
   ]
  },
  {
   "cell_type": "code",
   "execution_count": 5,
   "metadata": {},
   "outputs": [
    {
     "data": {
      "text/plain": [
       "datetime.datetime(2024, 3, 24, 0, 0)"
      ]
     },
     "execution_count": 5,
     "metadata": {},
     "output_type": "execute_result"
    }
   ],
   "source": [
    "def extract_dates_from_filename(filename):\n",
    "    # Define the regular expression pattern for dates\n",
    "    date_pattern = r'\\d{4}-\\d{2}-\\d{2}'\n",
    "\n",
    "    # Find all occurrences of the pattern\n",
    "    dates = re.findall(date_pattern, filename)\n",
    "\n",
    "    # Convert strings to datetime objects\n",
    "    dates = [datetime.strptime(date, '%Y-%m-%d') for date in dates]\n",
    "\n",
    "    return dates\n",
    "\n",
    "# Example usage\n",
    "filename = \"Meal Ticket - Sales Report - (2024-03-18 - 2024-03-24).csv\"\n",
    "dates = extract_dates_from_filename(filename)\n",
    "\n",
    "dates[1]"
   ]
  },
  {
   "cell_type": "code",
   "execution_count": null,
   "metadata": {},
   "outputs": [],
   "source": []
  }
 ],
 "metadata": {
  "kernelspec": {
   "display_name": "Python 3 (ipykernel)",
   "language": "python",
   "name": "python3"
  },
  "language_info": {
   "codemirror_mode": {
    "name": "ipython",
    "version": 3
   },
   "file_extension": ".py",
   "mimetype": "text/x-python",
   "name": "python",
   "nbconvert_exporter": "python",
   "pygments_lexer": "ipython3",
   "version": "3.9.12"
  }
 },
 "nbformat": 4,
 "nbformat_minor": 4
}
