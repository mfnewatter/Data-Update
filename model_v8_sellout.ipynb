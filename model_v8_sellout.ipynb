{
 "cells": [
  {
   "cell_type": "markdown",
   "metadata": {},
   "source": [
    "# All Sell-out"
   ]
  },
  {
   "cell_type": "markdown",
   "metadata": {},
   "source": [
    "Goal: \n",
    "1. Process PFG data (source = mealticket.com)\n",
    "2. Analyze data using COVID segmentation\n",
    "3. Compare sell-out (PFG) to sell-in (McCain) data"
   ]
  },
  {
   "cell_type": "markdown",
   "metadata": {},
   "source": [
    "### 1. Load libraries, initiate folder/file paths\n",
    "Run cell below"
   ]
  },
  {
   "cell_type": "code",
   "execution_count": 1,
   "metadata": {},
   "outputs": [],
   "source": [
    "import pandas as pd\n",
    "import datetime\n",
    "from datetime import datetime as dt\n",
    "import numpy as np\n",
    "import pyodbc\n",
    "\n",
    "from distributor_transformation import transform_pfg, set_dictionary, set_time\n",
    "from sellout_model import process_list, analyze, add_time\n",
    "from sellout_teradata import teradata_sales\n",
    "from sellout_import import import_pfg, all_df, import_all\n",
    "from sellout_azure import azure_sellin"
   ]
  },
  {
   "cell_type": "markdown",
   "metadata": {},
   "source": [
    "# Import All"
   ]
  },
  {
   "cell_type": "code",
   "execution_count": 2,
   "metadata": {},
   "outputs": [
    {
     "name": "stdout",
     "output_type": "stream",
     "text": [
      "C:\\Users\\newatter\\OneDrive - McCain Foods Limited\\Data Update\\files\\sellout_region_bek.zip\n",
      "C:\\Users\\newatter\\OneDrive - McCain Foods Limited\\Data Update\\files\\sellout_region_pfg.zip\n",
      "C:\\Users\\newatter\\OneDrive - McCain Foods Limited\\Data Update\\files\\sellout_region_sysco_ca.zip\n",
      "C:\\Users\\newatter\\OneDrive - McCain Foods Limited\\Data Update\\files\\sellout_region_us_foods.zip\n"
     ]
    }
   ],
   "source": [
    "df = import_all('region')"
   ]
  },
  {
   "cell_type": "code",
   "execution_count": 4,
   "metadata": {},
   "outputs": [],
   "source": [
    "df.to_csv(r'C:\\Users\\newatter\\OneDrive - McCain Foods Limited\\North America\\SELLOUT_REGION.csv', index=False)"
   ]
  },
  {
   "cell_type": "code",
   "execution_count": 5,
   "metadata": {},
   "outputs": [
    {
     "name": "stdout",
     "output_type": "stream",
     "text": [
      "C:\\Users\\newatter\\OneDrive - McCain Foods Limited\\Data Update\\files\\sellout_sellin_bek.zip\n",
      "C:\\Users\\newatter\\OneDrive - McCain Foods Limited\\Data Update\\files\\sellout_sellin_pfg.zip\n",
      "C:\\Users\\newatter\\OneDrive - McCain Foods Limited\\Data Update\\files\\sellout_sellin_sysco_ca.zip\n",
      "C:\\Users\\newatter\\OneDrive - McCain Foods Limited\\Data Update\\files\\sellout_sellin_us_foods.zip\n"
     ]
    }
   ],
   "source": [
    "df = import_all('sellout_sellin')"
   ]
  },
  {
   "cell_type": "code",
   "execution_count": 6,
   "metadata": {},
   "outputs": [],
   "source": [
    "df.to_csv(r'C:\\Users\\newatter\\OneDrive - McCain Foods Limited\\North America\\SELLOUT_AND_SELLIN.csv', index=False)"
   ]
  },
  {
   "cell_type": "code",
   "execution_count": 15,
   "metadata": {
    "tags": []
   },
   "outputs": [
    {
     "data": {
      "text/plain": [
       "Index(['city', 'state name', 'covid segmentation - l1',\n",
       "       'covid segmentation - l2', 'restaurant service type',\n",
       "       'consolidated category', 'calendar week year', 'distributor', 'lbs',\n",
       "       'sma_4', 'sma_8', 'sma_12', 'yoy week', 'lbs_ly', 'sma_4_ly',\n",
       "       'sma_8_ly', 'sma_12_ly', 'baseline week', 'lbs_baseline',\n",
       "       'sma_4_baseline', 'sma_8_baseline', 'sma_12_baseline', 'lbs_lag_1',\n",
       "       'lbs_lag_2', 'lbs_lag_3', 'lbs_lag_4', 'lbs_baseline_lag_1',\n",
       "       'lbs_ly_lag_1', 'sma_4_lag_1', 'sma_4_ly_lag_1', 'sma_4_baseline_lag_1',\n",
       "       'lbs_precovid', 'week starting (sun)', 'week ending (sat)',\n",
       "       'covid week', 'region'],\n",
       "      dtype='object')"
      ]
     },
     "execution_count": 15,
     "metadata": {},
     "output_type": "execute_result"
    }
   ],
   "source": [
    "df.columns"
   ]
  },
  {
   "cell_type": "code",
   "execution_count": 3,
   "metadata": {
    "tags": []
   },
   "outputs": [
    {
     "data": {
      "text/html": [
       "<div>\n",
       "<style scoped>\n",
       "    .dataframe tbody tr th:only-of-type {\n",
       "        vertical-align: middle;\n",
       "    }\n",
       "\n",
       "    .dataframe tbody tr th {\n",
       "        vertical-align: top;\n",
       "    }\n",
       "\n",
       "    .dataframe thead th {\n",
       "        text-align: right;\n",
       "    }\n",
       "</style>\n",
       "<table border=\"1\" class=\"dataframe\">\n",
       "  <thead>\n",
       "    <tr style=\"text-align: right;\">\n",
       "      <th></th>\n",
       "      <th>min</th>\n",
       "      <th>max</th>\n",
       "    </tr>\n",
       "    <tr>\n",
       "      <th>distributor</th>\n",
       "      <th></th>\n",
       "      <th></th>\n",
       "    </tr>\n",
       "  </thead>\n",
       "  <tbody>\n",
       "    <tr>\n",
       "      <th>Ben E Keith</th>\n",
       "      <td>2019-01-12</td>\n",
       "      <td>2024-04-20</td>\n",
       "    </tr>\n",
       "    <tr>\n",
       "      <th>PFG</th>\n",
       "      <td>2019-01-05</td>\n",
       "      <td>2024-04-20</td>\n",
       "    </tr>\n",
       "    <tr>\n",
       "      <th>Sysco CA</th>\n",
       "      <td>2019-01-05</td>\n",
       "      <td>2024-04-20</td>\n",
       "    </tr>\n",
       "    <tr>\n",
       "      <th>US Foods</th>\n",
       "      <td>2019-01-05</td>\n",
       "      <td>2024-01-20</td>\n",
       "    </tr>\n",
       "  </tbody>\n",
       "</table>\n",
       "</div>"
      ],
      "text/plain": [
       "                    min         max\n",
       "distributor                        \n",
       "Ben E Keith  2019-01-12  2024-04-20\n",
       "PFG          2019-01-05  2024-04-20\n",
       "Sysco CA     2019-01-05  2024-04-20\n",
       "US Foods     2019-01-05  2024-01-20"
      ]
     },
     "execution_count": 3,
     "metadata": {},
     "output_type": "execute_result"
    }
   ],
   "source": [
    "df.groupby(['distributor'])['week ending (sat)'].agg(['min','max'])"
   ]
  },
  {
   "cell_type": "code",
   "execution_count": 5,
   "metadata": {},
   "outputs": [
    {
     "data": {
      "image/png": "[encoded data removed]",
      "text/plain": [
       "<Figure size 720x432 with 1 Axes>"
      ]
     },
     "metadata": {
      "needs_background": "light"
     },
     "output_type": "display_data"
    }
   ],
   "source": [
    "import matplotlib.pyplot as plt\n",
    "from matplotlib.ticker import (MultipleLocator,\n",
    "                               FormatStrFormatter,\n",
    "                               AutoMinorLocator,\n",
    "                               PercentFormatter,\n",
    "                               StrMethodFormatter)\n",
    "\n",
    "from matplotlib.dates import DateFormatter\n",
    "\n",
    "fig, ax = plt.subplots()\n",
    "\n",
    "graph_data = df[~df['distributor'].isin(['Sysco CA'])].groupby(['week ending (sat)','distributor'])['lbs'].sum().reset_index()\n",
    "graph_data.loc[:, 'week ending (sat)'] = pd.to_datetime(graph_data['week ending (sat)'])\n",
    "\n",
    "ax.plot('week ending (sat)','lbs', data=graph_data.groupby(['week ending (sat)']).sum().reset_index())\n",
    "ax.plot('week ending (sat)','lbs', data=graph_data[graph_data['distributor']=='Ben E Keith'])\n",
    "ax.plot('week ending (sat)','lbs', data=graph_data[graph_data['distributor']=='US Foods'])\n",
    "ax.plot('week ending (sat)','lbs', data=graph_data[graph_data['distributor']=='PFG'])\n",
    "\n",
    "#ax.plot('month_begin','lost_freight_pred', data=data4)\n",
    "#ax.plot('month_begin','shortedquantitycs', data=data4)\n",
    "ax.legend(['Total','Ben E Keith', 'US Foods', 'PFG'])\n",
    "\n",
    "ax.yaxis.set_major_formatter(StrMethodFormatter('{x:,.0f}'))\n",
    "ax.xaxis.set_major_formatter(DateFormatter('%b-%y'))\n",
    "\n",
    "ax.set_ylabel('LBS')\n",
    "\n",
    "ax.set_title(f'LBS Shipped')\n",
    "\n",
    "fig.set_size_inches((10, 6))\n",
    "\n",
    "# Tight layout to realign things\n",
    "fig.tight_layout()\n",
    "plt.show()"
   ]
  },
  {
   "cell_type": "code",
   "execution_count": 15,
   "metadata": {},
   "outputs": [
    {
     "data": {
      "image/png": "[encoded data removed]",
      "text/plain": [
       "<Figure size 720x432 with 1 Axes>"
      ]
     },
     "metadata": {
      "needs_background": "light"
     },
     "output_type": "display_data"
    }
   ],
   "source": [
    "import matplotlib.pyplot as plt\n",
    "from matplotlib.ticker import (MultipleLocator,\n",
    "                               FormatStrFormatter,\n",
    "                               AutoMinorLocator,\n",
    "                               PercentFormatter,\n",
    "                               StrMethodFormatter)\n",
    "\n",
    "from matplotlib.dates import DateFormatter\n",
    "\n",
    "fig, ax = plt.subplots()\n",
    "\n",
    "graph_data = df[df['distributor'].isin(['Sysco CA'])].groupby(['week ending (sat)','distributor'])['lbs'].sum().reset_index()\n",
    "graph_data.loc[:, 'week ending (sat)'] = pd.to_datetime(graph_data['week ending (sat)'])\n",
    "\n",
    "ax.plot('week ending (sat)','lbs', data=graph_data.groupby(['week ending (sat)']).sum().reset_index())\n",
    "ax.plot('week ending (sat)','lbs', data=graph_data[graph_data['distributor']=='Sysco CA'])\n",
    "\n",
    "#ax.plot('month_begin','lost_freight_pred', data=data4)\n",
    "#ax.plot('month_begin','shortedquantitycs', data=data4)\n",
    "ax.legend(['Sysco CA'])\n",
    "\n",
    "ax.yaxis.set_major_formatter(StrMethodFormatter('{x:,.0f}'))\n",
    "ax.xaxis.set_major_formatter(DateFormatter('%b-%y'))\n",
    "\n",
    "ax.set_ylabel('LBS')\n",
    "\n",
    "ax.set_title(f'LBS Shipped')\n",
    "\n",
    "fig.set_size_inches((10, 6))\n",
    "\n",
    "# Tight layout to realign things\n",
    "fig.tight_layout()\n",
    "plt.show()"
   ]
  },
  {
   "cell_type": "code",
   "execution_count": 60,
   "metadata": {},
   "outputs": [
    {
     "data": {
      "image/png": "[encoded data removed]",
      "text/plain": [
       "<Figure size 720x432 with 1 Axes>"
      ]
     },
     "metadata": {
      "needs_background": "light"
     },
     "output_type": "display_data"
    }
   ],
   "source": [
    "import matplotlib.pyplot as plt\n",
    "from matplotlib.ticker import (MultipleLocator,\n",
    "                               FormatStrFormatter,\n",
    "                               AutoMinorLocator,\n",
    "                               PercentFormatter,\n",
    "                               StrMethodFormatter)\n",
    "\n",
    "from matplotlib.dates import DateFormatter\n",
    "import matplotlib.dates as mdates\n",
    "\n",
    "fig, ax = plt.subplots()\n",
    "\n",
    "distributors = ['PFG']\n",
    "\n",
    "graph_data = df[df['distributor'].isin(distributors)].groupby(['week ending (sat)','distributor'])[['lbs','mccain lbs']].sum().reset_index()\n",
    "graph_data.loc[:, 'week ending (sat)'] = pd.to_datetime(graph_data['week ending (sat)'])\n",
    "\n",
    "#ax.plot('week ending (sat)','lbs', data=graph_data.groupby(['week ending (sat)']).sum().reset_index())\n",
    "ax.plot('week ending (sat)','lbs', data=graph_data)\n",
    "ax.plot('week ending (sat)','mccain lbs', data=graph_data)\n",
    "\n",
    "#ax.plot('month_begin','lost_freight_pred', data=data4)\n",
    "#ax.plot('month_begin','shortedquantitycs', data=data4)\n",
    "ax.legend(['Sell Out','Sell In'])\n",
    "\n",
    "ax.yaxis.set_major_formatter(StrMethodFormatter('{x:,.0f}'))\n",
    "#ax.xaxis.set_major_formatter(DateFormatter('%b-%y'))\n",
    "ax.xaxis.set_major_formatter(DateFormatter('%b-%y'))\n",
    "#ax.xaxis.set_major_locator(mdates.DayLocator(interval=5))\n",
    "\n",
    "ax.set_ylabel('LBS')\n",
    "\n",
    "ax.set_title(f'LBS Shipped')\n",
    "\n",
    "fig.set_size_inches((10, 6))\n",
    "\n",
    "# Tight layout to realign things\n",
    "fig.tight_layout()\n",
    "plt.show()"
   ]
  },
  {
   "cell_type": "markdown",
   "metadata": {},
   "source": [
    "### Thanksgiving 2022 vs 2021"
   ]
  },
  {
   "cell_type": "code",
   "execution_count": 71,
   "metadata": {},
   "outputs": [
    {
     "name": "stdout",
     "output_type": "stream",
     "text": [
      "  Week Ending F23  F23 Percent Change  F22 Percent Change\n",
      "0      2022-10-29            0.003905           -0.015314\n",
      "1      2022-11-05            0.043706           -0.004058\n",
      "2      2022-11-12           -0.007822            0.050449\n",
      "3      2022-11-19           -0.046639            0.025480\n",
      "4      2022-11-26           -0.168677           -0.152293\n"
     ]
    },
    {
     "data": {
      "image/png": "[encoded data removed]",
      "text/plain": [
       "<Figure size 720x432 with 1 Axes>"
      ]
     },
     "metadata": {
      "needs_background": "light"
     },
     "output_type": "display_data"
    }
   ],
   "source": [
    "fig, ax = plt.subplots()\n",
    "\n",
    "graph_data = df[~df['distributor'].isin(['Sysco CA'])].groupby(['week ending (sat)','distributor'])['lbs'].sum().reset_index()\n",
    "\n",
    "df1 = graph_data[(graph_data['week ending (sat)']>'2021-07-01') & (graph_data['week ending (sat)']<='2021-11-27')]\n",
    "df2 = graph_data[(graph_data['week ending (sat)']>'2022-07-01') & (graph_data['week ending (sat)']<='2022-11-27')]\n",
    "\n",
    "df1_change = df1.groupby('week ending (sat)')['lbs'].sum().pct_change(periods=1)[-5:].reset_index()\n",
    "df2_change = df2.groupby('week ending (sat)')['lbs'].sum().pct_change(periods=1)[-5:].reset_index()\n",
    "\n",
    "\n",
    "df_change = pd.concat([df2_change, df1_change['lbs']], axis=1)\n",
    "\n",
    "df_change.columns = ['Week Ending F23', 'F23 Percent Change', 'F22 Percent Change']\n",
    "\n",
    "print(df_change)\n",
    "\n",
    "#output1.groupby('Week Ending (Sat)')['LBS'].sum().pct_change(periods=1)[-20:].plot(kind='bar', ax=ax)\n",
    "\n",
    "df_change.plot(kind='bar', ax=ax)\n",
    "\n",
    "x_ticks = df_change['Week Ending F23'].tolist()\n",
    "x_range = np.arange(len(x_ticks))\n",
    "\n",
    "plt.xticks(x_range, x_ticks)\n",
    "\n",
    "ax.yaxis.set_major_formatter(StrMethodFormatter('{x:,.0%}'))\n",
    "\n",
    "#ax.xaxis.set_major_formatter(DateFormatter('%m-%d'))\n",
    "\n",
    "ax.legend(['F23', 'F22'])\n",
    "\n",
    "fig.set_size_inches((10, 6))\n",
    "\n",
    "# Tight layout to realign things\n",
    "fig.tight_layout()\n",
    "plt.show()"
   ]
  },
  {
   "cell_type": "markdown",
   "metadata": {},
   "source": [
    "### Covert State names to abbreviations"
   ]
  },
  {
   "cell_type": "code",
   "execution_count": 3,
   "metadata": {
    "tags": []
   },
   "outputs": [
    {
     "data": {
      "text/plain": [
       "13946"
      ]
     },
     "execution_count": 3,
     "metadata": {},
     "output_type": "execute_result"
    }
   ],
   "source": [
    "us_state_to_abbrev = {\n",
    "    \"Alabama\": \"AL\",\n",
    "    \"Alaska\": \"AK\",\n",
    "    \"Arizona\": \"AZ\",\n",
    "    \"Arkansas\": \"AR\",\n",
    "    \"California\": \"CA\",\n",
    "    \"Colorado\": \"CO\",\n",
    "    \"Connecticut\": \"CT\",\n",
    "    \"Delaware\": \"DE\",\n",
    "    \"Florida\": \"FL\",\n",
    "    \"Georgia\": \"GA\",\n",
    "    \"Hawaii\": \"HI\",\n",
    "    \"Idaho\": \"ID\",\n",
    "    \"Illinois\": \"IL\",\n",
    "    \"Indiana\": \"IN\",\n",
    "    \"Iowa\": \"IA\",\n",
    "    \"Kansas\": \"KS\",\n",
    "    \"Kentucky\": \"KY\",\n",
    "    \"Louisiana\": \"LA\",\n",
    "    \"Maine\": \"ME\",\n",
    "    \"Maryland\": \"MD\",\n",
    "    \"Massachusetts\": \"MA\",\n",
    "    \"Michigan\": \"MI\",\n",
    "    \"Minnesota\": \"MN\",\n",
    "    \"Mississippi\": \"MS\",\n",
    "    \"Missouri\": \"MO\",\n",
    "    \"Montana\": \"MT\",\n",
    "    \"Nebraska\": \"NE\",\n",
    "    \"Nevada\": \"NV\",\n",
    "    \"New Hampshire\": \"NH\",\n",
    "    \"New Jersey\": \"NJ\",\n",
    "    \"New Mexico\": \"NM\",\n",
    "    \"New York\": \"NY\",\n",
    "    \"North Carolina\": \"NC\",\n",
    "    \"North Dakota\": \"ND\",\n",
    "    \"Ohio\": \"OH\",\n",
    "    \"Oklahoma\": \"OK\",\n",
    "    \"Oregon\": \"OR\",\n",
    "    \"Pennsylvania\": \"PA\",\n",
    "    \"Rhode Island\": \"RI\",\n",
    "    \"South Carolina\": \"SC\",\n",
    "    \"South Dakota\": \"SD\",\n",
    "    \"Tennessee\": \"TN\",\n",
    "    \"Texas\": \"TX\",\n",
    "    \"Utah\": \"UT\",\n",
    "    \"Vermont\": \"VT\",\n",
    "    \"Virginia\": \"VA\",\n",
    "    \"Washington\": \"WA\",\n",
    "    \"West Virginia\": \"WV\",\n",
    "    \"Wisconsin\": \"WI\",\n",
    "    \"Wyoming\": \"WY\",\n",
    "    \"District of Columbia\": \"DC\",\n",
    "    \"American Samoa\": \"AS\",\n",
    "    \"Guam\": \"GU\",\n",
    "    \"Northern Mariana Islands\": \"MP\",\n",
    "    \"Puerto Rico\": \"PR\",\n",
    "    \"United States Minor Outlying Islands\": \"UM\",\n",
    "    \"U.S. Virgin Islands\": \"VI\",\n",
    "}\n",
    "    \n",
    "# invert the dictionary\n",
    "abbrev_to_us_state = dict(map(reversed, us_state_to_abbrev.items()))\n",
    "\n",
    "df['state_code'] = df['state name'].map(us_state_to_abbrev)\n",
    "\n",
    "df['state_code'].isna().sum()\n",
    "#abbrev_to_us_state"
   ]
  },
  {
   "cell_type": "code",
   "execution_count": 7,
   "metadata": {},
   "outputs": [
    {
     "name": "stdout",
     "output_type": "stream",
     "text": [
      "202223.0\n"
     ]
    },
    {
     "data": {
      "application/vnd.plotly.v1+json": {
       "config": {
        "plotlyServerURL": "https://plot.ly"
       },
       "data": [
        {
         "coloraxis": "coloraxis",
         "geo": "geo",
         "hovertemplate": "state_code=%{location}<br>lbs=%{z}<extra></extra>",
         "locationmode": "USA-states",
         "locations": [
          "AL",
          "AR",
          "AZ",
          "CA",
          "CO",
          "CT",
          "DC",
          "DE",
          "FL",
          "GA",
          "IA",
          "ID",
          "IL",
          "IN",
          "KS",
          "KY",
          "LA",
          "MA",
          "MD",
          "ME",
          "MI",
          "MN",
          "MO",
          "MS",
          "MT",
          "NC",
          "ND",
          "NE",
          "NH",
          "NJ",
          "NM",
          "NV",
          "NY",
          "OH",
          "OK",
          "OR",
          "PA",
          "RI",
          "SC",
          "SD",
          "TN",
          "TX",
          "UT",
          "VA",
          "VT",
          "WA",
          "WI",
          "WV",
          "WY"
         ],
         "name": "",
         "type": "choropleth",
         "z": [
          8296971.62,
          3096133.09,
          1375170.54,
          5866053.9,
          1889244.87,
          1826494.8,
          301018.97000000003,
          199799.61,
          8365036.2299999995,
          24572954.12,
          1193787.38,
          36224.46,
          3008620.77,
          2066990.5,
          3417767.38,
          3013343.2,
          4510581.58,
          3372729.21,
          834332.75,
          833316.31,
          1703779.44,
          1556336.98,
          4455351.75,
          3847880.06,
          2445.12,
          16982606.63,
          187399.27,
          950010.4,
          500714.93,
          5182515.36,
          4215124.08,
          1502831.3,
          2952171.92,
          2351985.17,
          5256269.23,
          472589.7,
          13095560.459999999,
          153122.79,
          12198725.81,
          290309.32,
          10731387.65,
          35217160.68,
          847049.7,
          6320095.25,
          482519.62,
          997724.37,
          3177140.36,
          400161.28,
          16535.31
         ]
        }
       ],
       "layout": {
        "coloraxis": {
         "colorbar": {
          "title": {
           "text": "lbs"
          }
         },
         "colorscale": [
          [
           0,
           "#fde725"
          ],
          [
           0.1111111111111111,
           "#b5de2b"
          ],
          [
           0.2222222222222222,
           "#6ece58"
          ],
          [
           0.3333333333333333,
           "#35b779"
          ],
          [
           0.4444444444444444,
           "#1f9e89"
          ],
          [
           0.5555555555555556,
           "#26828e"
          ],
          [
           0.6666666666666666,
           "#31688e"
          ],
          [
           0.7777777777777778,
           "#3e4989"
          ],
          [
           0.8888888888888888,
           "#482878"
          ],
          [
           1,
           "#440154"
          ]
         ]
        },
        "geo": {
         "center": {
          "lat": 38.379114965565165,
          "lon": -102.71036595887502
         },
         "domain": {
          "x": [
           0,
           1
          ],
          "y": [
           0,
           1
          ]
         },
         "projection": {
          "scale": 0.7578582832551994
         },
         "scope": "usa"
        },
        "height": 500,
        "legend": {
         "tracegroupgap": 0
        },
        "template": {
         "data": {
          "bar": [
           {
            "error_x": {
             "color": "#2a3f5f"
            },
            "error_y": {
             "color": "#2a3f5f"
            },
            "marker": {
             "line": {
              "color": "#E5ECF6",
              "width": 0.5
             },
             "pattern": {
              "fillmode": "overlay",
              "size": 10,
              "solidity": 0.2
             }
            },
            "type": "bar"
           }
          ],
          "barpolar": [
           {
            "marker": {
             "line": {
              "color": "#E5ECF6",
              "width": 0.5
             },
             "pattern": {
              "fillmode": "overlay",
              "size": 10,
              "solidity": 0.2
             }
            },
            "type": "barpolar"
           }
          ],
          "carpet": [
           {
            "aaxis": {
             "endlinecolor": "#2a3f5f",
             "gridcolor": "white",
             "linecolor": "white",
             "minorgridcolor": "white",
             "startlinecolor": "#2a3f5f"
            },
            "baxis": {
             "endlinecolor": "#2a3f5f",
             "gridcolor": "white",
             "linecolor": "white",
             "minorgridcolor": "white",
             "startlinecolor": "#2a3f5f"
            },
            "type": "carpet"
           }
          ],
          "choropleth": [
           {
            "colorbar": {
             "outlinewidth": 0,
             "ticks": ""
            },
            "type": "choropleth"
           }
          ],
          "contour": [
           {
            "colorbar": {
             "outlinewidth": 0,
             "ticks": ""
            },
            "colorscale": [
             [
              0,
              "#0d0887"
             ],
             [
              0.1111111111111111,
              "#46039f"
             ],
             [
              0.2222222222222222,
              "#7201a8"
             ],
             [
              0.3333333333333333,
              "#9c179e"
             ],
             [
              0.4444444444444444,
              "#bd3786"
             ],
             [
              0.5555555555555556,
              "#d8576b"
             ],
             [
              0.6666666666666666,
              "#ed7953"
             ],
             [
              0.7777777777777778,
              "#fb9f3a"
             ],
             [
              0.8888888888888888,
              "#fdca26"
             ],
             [
              1,
              "#f0f921"
             ]
            ],
            "type": "contour"
           }
          ],
          "contourcarpet": [
           {
            "colorbar": {
             "outlinewidth": 0,
             "ticks": ""
            },
            "type": "contourcarpet"
           }
          ],
          "heatmap": [
           {
            "colorbar": {
             "outlinewidth": 0,
             "ticks": ""
            },
            "colorscale": [
             [
              0,
              "#0d0887"
             ],
             [
              0.1111111111111111,
              "#46039f"
             ],
             [
              0.2222222222222222,
              "#7201a8"
             ],
             [
              0.3333333333333333,
              "#9c179e"
             ],
             [
              0.4444444444444444,
              "#bd3786"
             ],
             [
              0.5555555555555556,
              "#d8576b"
             ],
             [
              0.6666666666666666,
              "#ed7953"
             ],
             [
              0.7777777777777778,
              "#fb9f3a"
             ],
             [
              0.8888888888888888,
              "#fdca26"
             ],
             [
              1,
              "#f0f921"
             ]
            ],
            "type": "heatmap"
           }
          ],
          "heatmapgl": [
           {
            "colorbar": {
             "outlinewidth": 0,
             "ticks": ""
            },
            "colorscale": [
             [
              0,
              "#0d0887"
             ],
             [
              0.1111111111111111,
              "#46039f"
             ],
             [
              0.2222222222222222,
              "#7201a8"
             ],
             [
              0.3333333333333333,
              "#9c179e"
             ],
             [
              0.4444444444444444,
              "#bd3786"
             ],
             [
              0.5555555555555556,
              "#d8576b"
             ],
             [
              0.6666666666666666,
              "#ed7953"
             ],
             [
              0.7777777777777778,
              "#fb9f3a"
             ],
             [
              0.8888888888888888,
              "#fdca26"
             ],
             [
              1,
              "#f0f921"
             ]
            ],
            "type": "heatmapgl"
           }
          ],
          "histogram": [
           {
            "marker": {
             "pattern": {
              "fillmode": "overlay",
              "size": 10,
              "solidity": 0.2
             }
            },
            "type": "histogram"
           }
          ],
          "histogram2d": [
           {
            "colorbar": {
             "outlinewidth": 0,
             "ticks": ""
            },
            "colorscale": [
             [
              0,
              "#0d0887"
             ],
             [
              0.1111111111111111,
              "#46039f"
             ],
             [
              0.2222222222222222,
              "#7201a8"
             ],
             [
              0.3333333333333333,
              "#9c179e"
             ],
             [
              0.4444444444444444,
              "#bd3786"
             ],
             [
              0.5555555555555556,
              "#d8576b"
             ],
             [
              0.6666666666666666,
              "#ed7953"
             ],
             [
              0.7777777777777778,
              "#fb9f3a"
             ],
             [
              0.8888888888888888,
              "#fdca26"
             ],
             [
              1,
              "#f0f921"
             ]
            ],
            "type": "histogram2d"
           }
          ],
          "histogram2dcontour": [
           {
            "colorbar": {
             "outlinewidth": 0,
             "ticks": ""
            },
            "colorscale": [
             [
              0,
              "#0d0887"
             ],
             [
              0.1111111111111111,
              "#46039f"
             ],
             [
              0.2222222222222222,
              "#7201a8"
             ],
             [
              0.3333333333333333,
              "#9c179e"
             ],
             [
              0.4444444444444444,
              "#bd3786"
             ],
             [
              0.5555555555555556,
              "#d8576b"
             ],
             [
              0.6666666666666666,
              "#ed7953"
             ],
             [
              0.7777777777777778,
              "#fb9f3a"
             ],
             [
              0.8888888888888888,
              "#fdca26"
             ],
             [
              1,
              "#f0f921"
             ]
            ],
            "type": "histogram2dcontour"
           }
          ],
          "mesh3d": [
           {
            "colorbar": {
             "outlinewidth": 0,
             "ticks": ""
            },
            "type": "mesh3d"
           }
          ],
          "parcoords": [
           {
            "line": {
             "colorbar": {
              "outlinewidth": 0,
              "ticks": ""
             }
            },
            "type": "parcoords"
           }
          ],
          "pie": [
           {
            "automargin": true,
            "type": "pie"
           }
          ],
          "scatter": [
           {
            "marker": {
             "colorbar": {
              "outlinewidth": 0,
              "ticks": ""
             }
            },
            "type": "scatter"
           }
          ],
          "scatter3d": [
           {
            "line": {
             "colorbar": {
              "outlinewidth": 0,
              "ticks": ""
             }
            },
            "marker": {
             "colorbar": {
              "outlinewidth": 0,
              "ticks": ""
             }
            },
            "type": "scatter3d"
           }
          ],
          "scattercarpet": [
           {
            "marker": {
             "colorbar": {
              "outlinewidth": 0,
              "ticks": ""
             }
            },
            "type": "scattercarpet"
           }
          ],
          "scattergeo": [
           {
            "marker": {
             "colorbar": {
              "outlinewidth": 0,
              "ticks": ""
             }
            },
            "type": "scattergeo"
           }
          ],
          "scattergl": [
           {
            "marker": {
             "colorbar": {
              "outlinewidth": 0,
              "ticks": ""
             }
            },
            "type": "scattergl"
           }
          ],
          "scattermapbox": [
           {
            "marker": {
             "colorbar": {
              "outlinewidth": 0,
              "ticks": ""
             }
            },
            "type": "scattermapbox"
           }
          ],
          "scatterpolar": [
           {
            "marker": {
             "colorbar": {
              "outlinewidth": 0,
              "ticks": ""
             }
            },
            "type": "scatterpolar"
           }
          ],
          "scatterpolargl": [
           {
            "marker": {
             "colorbar": {
              "outlinewidth": 0,
              "ticks": ""
             }
            },
            "type": "scatterpolargl"
           }
          ],
          "scatterternary": [
           {
            "marker": {
             "colorbar": {
              "outlinewidth": 0,
              "ticks": ""
             }
            },
            "type": "scatterternary"
           }
          ],
          "surface": [
           {
            "colorbar": {
             "outlinewidth": 0,
             "ticks": ""
            },
            "colorscale": [
             [
              0,
              "#0d0887"
             ],
             [
              0.1111111111111111,
              "#46039f"
             ],
             [
              0.2222222222222222,
              "#7201a8"
             ],
             [
              0.3333333333333333,
              "#9c179e"
             ],
             [
              0.4444444444444444,
              "#bd3786"
             ],
             [
              0.5555555555555556,
              "#d8576b"
             ],
             [
              0.6666666666666666,
              "#ed7953"
             ],
             [
              0.7777777777777778,
              "#fb9f3a"
             ],
             [
              0.8888888888888888,
              "#fdca26"
             ],
             [
              1,
              "#f0f921"
             ]
            ],
            "type": "surface"
           }
          ],
          "table": [
           {
            "cells": {
             "fill": {
              "color": "#EBF0F8"
             },
             "line": {
              "color": "white"
             }
            },
            "header": {
             "fill": {
              "color": "#C8D4E3"
             },
             "line": {
              "color": "white"
             }
            },
            "type": "table"
           }
          ]
         },
         "layout": {
          "annotationdefaults": {
           "arrowcolor": "#2a3f5f",
           "arrowhead": 0,
           "arrowwidth": 1
          },
          "autotypenumbers": "strict",
          "coloraxis": {
           "colorbar": {
            "outlinewidth": 0,
            "ticks": ""
           }
          },
          "colorscale": {
           "diverging": [
            [
             0,
             "#8e0152"
            ],
            [
             0.1,
             "#c51b7d"
            ],
            [
             0.2,
             "#de77ae"
            ],
            [
             0.3,
             "#f1b6da"
            ],
            [
             0.4,
             "#fde0ef"
            ],
            [
             0.5,
             "#f7f7f7"
            ],
            [
             0.6,
             "#e6f5d0"
            ],
            [
             0.7,
             "#b8e186"
            ],
            [
             0.8,
             "#7fbc41"
            ],
            [
             0.9,
             "#4d9221"
            ],
            [
             1,
             "#276419"
            ]
           ],
           "sequential": [
            [
             0,
             "#0d0887"
            ],
            [
             0.1111111111111111,
             "#46039f"
            ],
            [
             0.2222222222222222,
             "#7201a8"
            ],
            [
             0.3333333333333333,
             "#9c179e"
            ],
            [
             0.4444444444444444,
             "#bd3786"
            ],
            [
             0.5555555555555556,
             "#d8576b"
            ],
            [
             0.6666666666666666,
             "#ed7953"
            ],
            [
             0.7777777777777778,
             "#fb9f3a"
            ],
            [
             0.8888888888888888,
             "#fdca26"
            ],
            [
             1,
             "#f0f921"
            ]
           ],
           "sequentialminus": [
            [
             0,
             "#0d0887"
            ],
            [
             0.1111111111111111,
             "#46039f"
            ],
            [
             0.2222222222222222,
             "#7201a8"
            ],
            [
             0.3333333333333333,
             "#9c179e"
            ],
            [
             0.4444444444444444,
             "#bd3786"
            ],
            [
             0.5555555555555556,
             "#d8576b"
            ],
            [
             0.6666666666666666,
             "#ed7953"
            ],
            [
             0.7777777777777778,
             "#fb9f3a"
            ],
            [
             0.8888888888888888,
             "#fdca26"
            ],
            [
             1,
             "#f0f921"
            ]
           ]
          },
          "colorway": [
           "#636efa",
           "#EF553B",
           "#00cc96",
           "#ab63fa",
           "#FFA15A",
           "#19d3f3",
           "#FF6692",
           "#B6E880",
           "#FF97FF",
           "#FECB52"
          ],
          "font": {
           "color": "#2a3f5f"
          },
          "geo": {
           "bgcolor": "white",
           "lakecolor": "white",
           "landcolor": "#E5ECF6",
           "showlakes": true,
           "showland": true,
           "subunitcolor": "white"
          },
          "hoverlabel": {
           "align": "left"
          },
          "hovermode": "closest",
          "mapbox": {
           "style": "light"
          },
          "paper_bgcolor": "white",
          "plot_bgcolor": "#E5ECF6",
          "polar": {
           "angularaxis": {
            "gridcolor": "white",
            "linecolor": "white",
            "ticks": ""
           },
           "bgcolor": "#E5ECF6",
           "radialaxis": {
            "gridcolor": "white",
            "linecolor": "white",
            "ticks": ""
           }
          },
          "scene": {
           "xaxis": {
            "backgroundcolor": "#E5ECF6",
            "gridcolor": "white",
            "gridwidth": 2,
            "linecolor": "white",
            "showbackground": true,
            "ticks": "",
            "zerolinecolor": "white"
           },
           "yaxis": {
            "backgroundcolor": "#E5ECF6",
            "gridcolor": "white",
            "gridwidth": 2,
            "linecolor": "white",
            "showbackground": true,
            "ticks": "",
            "zerolinecolor": "white"
           },
           "zaxis": {
            "backgroundcolor": "#E5ECF6",
            "gridcolor": "white",
            "gridwidth": 2,
            "linecolor": "white",
            "showbackground": true,
            "ticks": "",
            "zerolinecolor": "white"
           }
          },
          "shapedefaults": {
           "line": {
            "color": "#2a3f5f"
           }
          },
          "ternary": {
           "aaxis": {
            "gridcolor": "white",
            "linecolor": "white",
            "ticks": ""
           },
           "baxis": {
            "gridcolor": "white",
            "linecolor": "white",
            "ticks": ""
           },
           "bgcolor": "#E5ECF6",
           "caxis": {
            "gridcolor": "white",
            "linecolor": "white",
            "ticks": ""
           }
          },
          "title": {
           "x": 0.05
          },
          "xaxis": {
           "automargin": true,
           "gridcolor": "white",
           "linecolor": "white",
           "ticks": "",
           "title": {
            "standoff": 15
           },
           "zerolinecolor": "white",
           "zerolinewidth": 2
          },
          "yaxis": {
           "automargin": true,
           "gridcolor": "white",
           "linecolor": "white",
           "ticks": "",
           "title": {
            "standoff": 15
           },
           "zerolinecolor": "white",
           "zerolinewidth": 2
          }
         }
        },
        "title": {
         "text": "US - State Distribution (Last 26 Weeks)"
        },
        "width": 1000
       }
      },
      "image/png": "[encoded data removed]",
      "text/html": [
       "<div>                            <div id=\"c7b9fe0d-0d46-4bf8-bb16-93b36424e510\" class=\"plotly-graph-div\" style=\"height:500px; width:1000px;\"></div>            <script type=\"text/javascript\">                require([\"plotly\"], function(Plotly) {                    window.PLOTLYENV=window.PLOTLYENV || {};                                    if (document.getElementById(\"c7b9fe0d-0d46-4bf8-bb16-93b36424e510\")) {                    Plotly.newPlot(                        \"c7b9fe0d-0d46-4bf8-bb16-93b36424e510\",                        [{\"coloraxis\":\"coloraxis\",\"geo\":\"geo\",\"hovertemplate\":\"state_code=%{location}<br>lbs=%{z}<extra></extra>\",\"locationmode\":\"USA-states\",\"locations\":[\"AL\",\"AR\",\"AZ\",\"CA\",\"CO\",\"CT\",\"DC\",\"DE\",\"FL\",\"GA\",\"IA\",\"ID\",\"IL\",\"IN\",\"KS\",\"KY\",\"LA\",\"MA\",\"MD\",\"ME\",\"MI\",\"MN\",\"MO\",\"MS\",\"MT\",\"NC\",\"ND\",\"NE\",\"NH\",\"NJ\",\"NM\",\"NV\",\"NY\",\"OH\",\"OK\",\"OR\",\"PA\",\"RI\",\"SC\",\"SD\",\"TN\",\"TX\",\"UT\",\"VA\",\"VT\",\"WA\",\"WI\",\"WV\",\"WY\"],\"name\":\"\",\"z\":[8296971.62,3096133.09,1375170.54,5866053.9,1889244.87,1826494.8,301018.97000000003,199799.61,8365036.2299999995,24572954.12,1193787.38,36224.46,3008620.77,2066990.5,3417767.38,3013343.2,4510581.58,3372729.21,834332.75,833316.31,1703779.44,1556336.98,4455351.75,3847880.06,2445.12,16982606.63,187399.27,950010.4,500714.93,5182515.36,4215124.08,1502831.3,2952171.92,2351985.17,5256269.23,472589.7,13095560.459999999,153122.79,12198725.81,290309.32,10731387.65,35217160.68,847049.7,6320095.25,482519.62,997724.37,3177140.36,400161.28,16535.31],\"type\":\"choropleth\"}],                        {\"template\":{\"data\":{\"bar\":[{\"error_x\":{\"color\":\"#2a3f5f\"},\"error_y\":{\"color\":\"#2a3f5f\"},\"marker\":{\"line\":{\"color\":\"#E5ECF6\",\"width\":0.5},\"pattern\":{\"fillmode\":\"overlay\",\"size\":10,\"solidity\":0.2}},\"type\":\"bar\"}],\"barpolar\":[{\"marker\":{\"line\":{\"color\":\"#E5ECF6\",\"width\":0.5},\"pattern\":{\"fillmode\":\"overlay\",\"size\":10,\"solidity\":0.2}},\"type\":\"barpolar\"}],\"carpet\":[{\"aaxis\":{\"endlinecolor\":\"#2a3f5f\",\"gridcolor\":\"white\",\"linecolor\":\"white\",\"minorgridcolor\":\"white\",\"startlinecolor\":\"#2a3f5f\"},\"baxis\":{\"endlinecolor\":\"#2a3f5f\",\"gridcolor\":\"white\",\"linecolor\":\"white\",\"minorgridcolor\":\"white\",\"startlinecolor\":\"#2a3f5f\"},\"type\":\"carpet\"}],\"choropleth\":[{\"colorbar\":{\"outlinewidth\":0,\"ticks\":\"\"},\"type\":\"choropleth\"}],\"contour\":[{\"colorbar\":{\"outlinewidth\":0,\"ticks\":\"\"},\"colorscale\":[[0.0,\"#0d0887\"],[0.1111111111111111,\"#46039f\"],[0.2222222222222222,\"#7201a8\"],[0.3333333333333333,\"#9c179e\"],[0.4444444444444444,\"#bd3786\"],[0.5555555555555556,\"#d8576b\"],[0.6666666666666666,\"#ed7953\"],[0.7777777777777778,\"#fb9f3a\"],[0.8888888888888888,\"#fdca26\"],[1.0,\"#f0f921\"]],\"type\":\"contour\"}],\"contourcarpet\":[{\"colorbar\":{\"outlinewidth\":0,\"ticks\":\"\"},\"type\":\"contourcarpet\"}],\"heatmap\":[{\"colorbar\":{\"outlinewidth\":0,\"ticks\":\"\"},\"colorscale\":[[0.0,\"#0d0887\"],[0.1111111111111111,\"#46039f\"],[0.2222222222222222,\"#7201a8\"],[0.3333333333333333,\"#9c179e\"],[0.4444444444444444,\"#bd3786\"],[0.5555555555555556,\"#d8576b\"],[0.6666666666666666,\"#ed7953\"],[0.7777777777777778,\"#fb9f3a\"],[0.8888888888888888,\"#fdca26\"],[1.0,\"#f0f921\"]],\"type\":\"heatmap\"}],\"heatmapgl\":[{\"colorbar\":{\"outlinewidth\":0,\"ticks\":\"\"},\"colorscale\":[[0.0,\"#0d0887\"],[0.1111111111111111,\"#46039f\"],[0.2222222222222222,\"#7201a8\"],[0.3333333333333333,\"#9c179e\"],[0.4444444444444444,\"#bd3786\"],[0.5555555555555556,\"#d8576b\"],[0.6666666666666666,\"#ed7953\"],[0.7777777777777778,\"#fb9f3a\"],[0.8888888888888888,\"#fdca26\"],[1.0,\"#f0f921\"]],\"type\":\"heatmapgl\"}],\"histogram\":[{\"marker\":{\"pattern\":{\"fillmode\":\"overlay\",\"size\":10,\"solidity\":0.2}},\"type\":\"histogram\"}],\"histogram2d\":[{\"colorbar\":{\"outlinewidth\":0,\"ticks\":\"\"},\"colorscale\":[[0.0,\"#0d0887\"],[0.1111111111111111,\"#46039f\"],[0.2222222222222222,\"#7201a8\"],[0.3333333333333333,\"#9c179e\"],[0.4444444444444444,\"#bd3786\"],[0.5555555555555556,\"#d8576b\"],[0.6666666666666666,\"#ed7953\"],[0.7777777777777778,\"#fb9f3a\"],[0.8888888888888888,\"#fdca26\"],[1.0,\"#f0f921\"]],\"type\":\"histogram2d\"}],\"histogram2dcontour\":[{\"colorbar\":{\"outlinewidth\":0,\"ticks\":\"\"},\"colorscale\":[[0.0,\"#0d0887\"],[0.1111111111111111,\"#46039f\"],[0.2222222222222222,\"#7201a8\"],[0.3333333333333333,\"#9c179e\"],[0.4444444444444444,\"#bd3786\"],[0.5555555555555556,\"#d8576b\"],[0.6666666666666666,\"#ed7953\"],[0.7777777777777778,\"#fb9f3a\"],[0.8888888888888888,\"#fdca26\"],[1.0,\"#f0f921\"]],\"type\":\"histogram2dcontour\"}],\"mesh3d\":[{\"colorbar\":{\"outlinewidth\":0,\"ticks\":\"\"},\"type\":\"mesh3d\"}],\"parcoords\":[{\"line\":{\"colorbar\":{\"outlinewidth\":0,\"ticks\":\"\"}},\"type\":\"parcoords\"}],\"pie\":[{\"automargin\":true,\"type\":\"pie\"}],\"scatter\":[{\"marker\":{\"colorbar\":{\"outlinewidth\":0,\"ticks\":\"\"}},\"type\":\"scatter\"}],\"scatter3d\":[{\"line\":{\"colorbar\":{\"outlinewidth\":0,\"ticks\":\"\"}},\"marker\":{\"colorbar\":{\"outlinewidth\":0,\"ticks\":\"\"}},\"type\":\"scatter3d\"}],\"scattercarpet\":[{\"marker\":{\"colorbar\":{\"outlinewidth\":0,\"ticks\":\"\"}},\"type\":\"scattercarpet\"}],\"scattergeo\":[{\"marker\":{\"colorbar\":{\"outlinewidth\":0,\"ticks\":\"\"}},\"type\":\"scattergeo\"}],\"scattergl\":[{\"marker\":{\"colorbar\":{\"outlinewidth\":0,\"ticks\":\"\"}},\"type\":\"scattergl\"}],\"scattermapbox\":[{\"marker\":{\"colorbar\":{\"outlinewidth\":0,\"ticks\":\"\"}},\"type\":\"scattermapbox\"}],\"scatterpolar\":[{\"marker\":{\"colorbar\":{\"outlinewidth\":0,\"ticks\":\"\"}},\"type\":\"scatterpolar\"}],\"scatterpolargl\":[{\"marker\":{\"colorbar\":{\"outlinewidth\":0,\"ticks\":\"\"}},\"type\":\"scatterpolargl\"}],\"scatterternary\":[{\"marker\":{\"colorbar\":{\"outlinewidth\":0,\"ticks\":\"\"}},\"type\":\"scatterternary\"}],\"surface\":[{\"colorbar\":{\"outlinewidth\":0,\"ticks\":\"\"},\"colorscale\":[[0.0,\"#0d0887\"],[0.1111111111111111,\"#46039f\"],[0.2222222222222222,\"#7201a8\"],[0.3333333333333333,\"#9c179e\"],[0.4444444444444444,\"#bd3786\"],[0.5555555555555556,\"#d8576b\"],[0.6666666666666666,\"#ed7953\"],[0.7777777777777778,\"#fb9f3a\"],[0.8888888888888888,\"#fdca26\"],[1.0,\"#f0f921\"]],\"type\":\"surface\"}],\"table\":[{\"cells\":{\"fill\":{\"color\":\"#EBF0F8\"},\"line\":{\"color\":\"white\"}},\"header\":{\"fill\":{\"color\":\"#C8D4E3\"},\"line\":{\"color\":\"white\"}},\"type\":\"table\"}]},\"layout\":{\"annotationdefaults\":{\"arrowcolor\":\"#2a3f5f\",\"arrowhead\":0,\"arrowwidth\":1},\"autotypenumbers\":\"strict\",\"coloraxis\":{\"colorbar\":{\"outlinewidth\":0,\"ticks\":\"\"}},\"colorscale\":{\"diverging\":[[0,\"#8e0152\"],[0.1,\"#c51b7d\"],[0.2,\"#de77ae\"],[0.3,\"#f1b6da\"],[0.4,\"#fde0ef\"],[0.5,\"#f7f7f7\"],[0.6,\"#e6f5d0\"],[0.7,\"#b8e186\"],[0.8,\"#7fbc41\"],[0.9,\"#4d9221\"],[1,\"#276419\"]],\"sequential\":[[0.0,\"#0d0887\"],[0.1111111111111111,\"#46039f\"],[0.2222222222222222,\"#7201a8\"],[0.3333333333333333,\"#9c179e\"],[0.4444444444444444,\"#bd3786\"],[0.5555555555555556,\"#d8576b\"],[0.6666666666666666,\"#ed7953\"],[0.7777777777777778,\"#fb9f3a\"],[0.8888888888888888,\"#fdca26\"],[1.0,\"#f0f921\"]],\"sequentialminus\":[[0.0,\"#0d0887\"],[0.1111111111111111,\"#46039f\"],[0.2222222222222222,\"#7201a8\"],[0.3333333333333333,\"#9c179e\"],[0.4444444444444444,\"#bd3786\"],[0.5555555555555556,\"#d8576b\"],[0.6666666666666666,\"#ed7953\"],[0.7777777777777778,\"#fb9f3a\"],[0.8888888888888888,\"#fdca26\"],[1.0,\"#f0f921\"]]},\"colorway\":[\"#636efa\",\"#EF553B\",\"#00cc96\",\"#ab63fa\",\"#FFA15A\",\"#19d3f3\",\"#FF6692\",\"#B6E880\",\"#FF97FF\",\"#FECB52\"],\"font\":{\"color\":\"#2a3f5f\"},\"geo\":{\"bgcolor\":\"white\",\"lakecolor\":\"white\",\"landcolor\":\"#E5ECF6\",\"showlakes\":true,\"showland\":true,\"subunitcolor\":\"white\"},\"hoverlabel\":{\"align\":\"left\"},\"hovermode\":\"closest\",\"mapbox\":{\"style\":\"light\"},\"paper_bgcolor\":\"white\",\"plot_bgcolor\":\"#E5ECF6\",\"polar\":{\"angularaxis\":{\"gridcolor\":\"white\",\"linecolor\":\"white\",\"ticks\":\"\"},\"bgcolor\":\"#E5ECF6\",\"radialaxis\":{\"gridcolor\":\"white\",\"linecolor\":\"white\",\"ticks\":\"\"}},\"scene\":{\"xaxis\":{\"backgroundcolor\":\"#E5ECF6\",\"gridcolor\":\"white\",\"gridwidth\":2,\"linecolor\":\"white\",\"showbackground\":true,\"ticks\":\"\",\"zerolinecolor\":\"white\"},\"yaxis\":{\"backgroundcolor\":\"#E5ECF6\",\"gridcolor\":\"white\",\"gridwidth\":2,\"linecolor\":\"white\",\"showbackground\":true,\"ticks\":\"\",\"zerolinecolor\":\"white\"},\"zaxis\":{\"backgroundcolor\":\"#E5ECF6\",\"gridcolor\":\"white\",\"gridwidth\":2,\"linecolor\":\"white\",\"showbackground\":true,\"ticks\":\"\",\"zerolinecolor\":\"white\"}},\"shapedefaults\":{\"line\":{\"color\":\"#2a3f5f\"}},\"ternary\":{\"aaxis\":{\"gridcolor\":\"white\",\"linecolor\":\"white\",\"ticks\":\"\"},\"baxis\":{\"gridcolor\":\"white\",\"linecolor\":\"white\",\"ticks\":\"\"},\"bgcolor\":\"#E5ECF6\",\"caxis\":{\"gridcolor\":\"white\",\"linecolor\":\"white\",\"ticks\":\"\"}},\"title\":{\"x\":0.05},\"xaxis\":{\"automargin\":true,\"gridcolor\":\"white\",\"linecolor\":\"white\",\"ticks\":\"\",\"title\":{\"standoff\":15},\"zerolinecolor\":\"white\",\"zerolinewidth\":2},\"yaxis\":{\"automargin\":true,\"gridcolor\":\"white\",\"linecolor\":\"white\",\"ticks\":\"\",\"title\":{\"standoff\":15},\"zerolinecolor\":\"white\",\"zerolinewidth\":2}}},\"geo\":{\"domain\":{\"x\":[0.0,1.0],\"y\":[0.0,1.0]},\"center\":{},\"scope\":\"usa\"},\"coloraxis\":{\"colorbar\":{\"title\":{\"text\":\"lbs\"}},\"colorscale\":[[0.0,\"#fde725\"],[0.1111111111111111,\"#b5de2b\"],[0.2222222222222222,\"#6ece58\"],[0.3333333333333333,\"#35b779\"],[0.4444444444444444,\"#1f9e89\"],[0.5555555555555556,\"#26828e\"],[0.6666666666666666,\"#31688e\"],[0.7777777777777778,\"#3e4989\"],[0.8888888888888888,\"#482878\"],[1.0,\"#440154\"]]},\"legend\":{\"tracegroupgap\":0},\"title\":{\"text\":\"US - State Distribution (Last 26 Weeks)\"},\"height\":500,\"width\":1000},                        {\"responsive\": true}                    ).then(function(){\n",
       "                            \n",
       "var gd = document.getElementById('c7b9fe0d-0d46-4bf8-bb16-93b36424e510');\n",
       "var x = new MutationObserver(function (mutations, observer) {{\n",
       "        var display = window.getComputedStyle(gd).display;\n",
       "        if (!display || display === 'none') {{\n",
       "            console.log([gd, 'removed!']);\n",
       "            Plotly.purge(gd);\n",
       "            observer.disconnect();\n",
       "        }}\n",
       "}});\n",
       "\n",
       "// Listen for the removal of the full notebook cells\n",
       "var notebookContainer = gd.closest('#notebook-container');\n",
       "if (notebookContainer) {{\n",
       "    x.observe(notebookContainer, {childList: true});\n",
       "}}\n",
       "\n",
       "// Listen for the clearing of the current output cell\n",
       "var outputEl = gd.closest('.output');\n",
       "if (outputEl) {{\n",
       "    x.observe(outputEl, {childList: true});\n",
       "}}\n",
       "\n",
       "                        })                };                });            </script>        </div>"
      ]
     },
     "metadata": {},
     "output_type": "display_data"
    }
   ],
   "source": [
    "import plotly.express as px\n",
    "\n",
    "#202223\n",
    "#202248\n",
    "\n",
    "cal = df['calendar week year'].iloc[-26:].min()\n",
    "\n",
    "print(cal)\n",
    "\n",
    "#graph_data = df[(df['distributor']=='PFG') & (df['calendar week year']>cal)].groupby('state_code')['lbs'].sum().reset_index()\n",
    "graph_data = df[(df['calendar week year']>cal)].groupby('state_code')['lbs'].sum().reset_index()\n",
    "\n",
    "fig = px.choropleth(graph_data,\n",
    "                    locations='state_code', \n",
    "                    locationmode=\"USA-states\", \n",
    "                    scope=\"usa\",\n",
    "                    color='lbs',\n",
    "                    color_continuous_scale=\"Viridis_r\", \n",
    "                    width=1000, height=500,\n",
    "                    title=\"US - State Distribution (Last 26 Weeks)\")\n",
    "\n",
    "#fig.set_size_inches((10, 6))\n",
    "\n",
    "fig.show()"
   ]
  },
  {
   "cell_type": "code",
   "execution_count": null,
   "metadata": {},
   "outputs": [],
   "source": [
    "import pandas as pd \n",
    "import plotly.express as px\n",
    "\n",
    "df = pd.read_csv(r'C:\\Users\\13525\\Desktop\\Insights Bees\\plotly_express_choropleth\\Data\\state_market_tracker.tsv000.gz', sep='\\t')\n",
    "df=df[['period_begin','state','state_code','property_type','median_sale_price']]\n",
    "df=df[ (df['property_type']=='Single Family Residential')] \n",
    "df.rename({'median_sale_price':'Median Sales Price ($)'},axis=1, inplace=True)\n",
    "df['period_begin'] = pd.to_datetime(df['period_begin']).dt.date.astype(str)\n",
    "df=df.sort_values(\"period_begin\") # Make sure you sort the time horizon column in ascending order because this column is in random order in the raw dataset\n",
    "\n",
    "fig = px.choropleth(df,\n",
    "                    locations='state_code', \n",
    "                    locationmode=\"USA-states\", \n",
    "                    color='Median Sales Price ($)',\n",
    "                    color_continuous_scale=\"Viridis_r\", \n",
    "                    scope=\"usa\",\n",
    "                    animation_frame='period_begin') #make sure 'period_begin' is string type and sorted in ascending order\n",
    "\n",
    "fig.show()"
   ]
  },
  {
   "cell_type": "code",
   "execution_count": 11,
   "metadata": {},
   "outputs": [
    {
     "data": {
      "text/plain": [
       "Accommodation                                     1\n",
       "Non-Defined Segment                               1\n",
       "Travel/Transport                                  1\n",
       "Schools & Education                               1\n",
       "Region Chains                                     1\n",
       "Recreation                                        1\n",
       "QSR / Fast Casual                                 1\n",
       "Public Sector (On site)                           1\n",
       "Prisons / Corrections                             1\n",
       "Other / Unknown                                   1\n",
       "Independents (IOs) / Local Eateries / Takeaway    1\n",
       "All Other Non-Commercial                          1\n",
       "Hospitals & Healthcare Facilities                 1\n",
       "Healthcare                                        1\n",
       "Grocery - Convenience                             1\n",
       "Elderly Care Homes                                1\n",
       "Distributor / Other Accounts                      1\n",
       "Casual Dining                                     1\n",
       "Bars & Pubs                                       1\n",
       "All Other Restaurants                             1\n",
       "Workplace Canteens                                1\n",
       "Name: covid segmentation - l1, dtype: int64"
      ]
     },
     "execution_count": 11,
     "metadata": {},
     "output_type": "execute_result"
    }
   ],
   "source": [
    "graph_data['covid segmentation - l1'].value_counts()"
   ]
  },
  {
   "cell_type": "code",
   "execution_count": 15,
   "metadata": {},
   "outputs": [
    {
     "data": {
      "application/vnd.plotly.v1+json": {
       "config": {
        "plotlyServerURL": "https://plot.ly"
       },
       "data": [
        {
         "domain": {
          "x": [
           0,
           1
          ],
          "y": [
           0,
           1
          ]
         },
         "hovertemplate": "covid segmentation - l1=%{label}<br>lbs=%{value}<extra></extra>",
         "labels": [
          "Non-Commercial",
          "Non-Commercial",
          "All Other Restaurants",
          "Bars & Pubs",
          "Casual Dining",
          "Non-Commercial",
          "Non-Commercial",
          "Non-Commercial",
          "Non-Commercial",
          "Non-Commercial",
          "Non-Commercial",
          "Non-Commercial",
          "Non-Commercial",
          "Non-Commercial",
          "Non-Commercial",
          "QSR / Fast Casual",
          "Non-Commercial",
          "Non-Commercial",
          "Non-Commercial",
          "Non-Commercial",
          "Non-Commercial"
         ],
         "legendgroup": "",
         "name": "",
         "showlegend": true,
         "type": "pie",
         "values": [
          3278939.03,
          12603174.94,
          61345719.69,
          4323976.97,
          49853882.3,
          683971.05,
          1813278.23,
          2360537.55,
          6539143.14,
          774636.94,
          62082.92,
          11060085.53,
          90,
          9375,
          1477066.91,
          121643402.56,
          2527670.31,
          1581,
          13020423.61,
          3467425.05,
          2840574.58
         ]
        }
       ],
       "layout": {
        "height": 500,
        "legend": {
         "tracegroupgap": 0
        },
        "template": {
         "data": {
          "bar": [
           {
            "error_x": {
             "color": "#2a3f5f"
            },
            "error_y": {
             "color": "#2a3f5f"
            },
            "marker": {
             "line": {
              "color": "#E5ECF6",
              "width": 0.5
             },
             "pattern": {
              "fillmode": "overlay",
              "size": 10,
              "solidity": 0.2
             }
            },
            "type": "bar"
           }
          ],
          "barpolar": [
           {
            "marker": {
             "line": {
              "color": "#E5ECF6",
              "width": 0.5
             },
             "pattern": {
              "fillmode": "overlay",
              "size": 10,
              "solidity": 0.2
             }
            },
            "type": "barpolar"
           }
          ],
          "carpet": [
           {
            "aaxis": {
             "endlinecolor": "#2a3f5f",
             "gridcolor": "white",
             "linecolor": "white",
             "minorgridcolor": "white",
             "startlinecolor": "#2a3f5f"
            },
            "baxis": {
             "endlinecolor": "#2a3f5f",
             "gridcolor": "white",
             "linecolor": "white",
             "minorgridcolor": "white",
             "startlinecolor": "#2a3f5f"
            },
            "type": "carpet"
           }
          ],
          "choropleth": [
           {
            "colorbar": {
             "outlinewidth": 0,
             "ticks": ""
            },
            "type": "choropleth"
           }
          ],
          "contour": [
           {
            "colorbar": {
             "outlinewidth": 0,
             "ticks": ""
            },
            "colorscale": [
             [
              0,
              "#0d0887"
             ],
             [
              0.1111111111111111,
              "#46039f"
             ],
             [
              0.2222222222222222,
              "#7201a8"
             ],
             [
              0.3333333333333333,
              "#9c179e"
             ],
             [
              0.4444444444444444,
              "#bd3786"
             ],
             [
              0.5555555555555556,
              "#d8576b"
             ],
             [
              0.6666666666666666,
              "#ed7953"
             ],
             [
              0.7777777777777778,
              "#fb9f3a"
             ],
             [
              0.8888888888888888,
              "#fdca26"
             ],
             [
              1,
              "#f0f921"
             ]
            ],
            "type": "contour"
           }
          ],
          "contourcarpet": [
           {
            "colorbar": {
             "outlinewidth": 0,
             "ticks": ""
            },
            "type": "contourcarpet"
           }
          ],
          "heatmap": [
           {
            "colorbar": {
             "outlinewidth": 0,
             "ticks": ""
            },
            "colorscale": [
             [
              0,
              "#0d0887"
             ],
             [
              0.1111111111111111,
              "#46039f"
             ],
             [
              0.2222222222222222,
              "#7201a8"
             ],
             [
              0.3333333333333333,
              "#9c179e"
             ],
             [
              0.4444444444444444,
              "#bd3786"
             ],
             [
              0.5555555555555556,
              "#d8576b"
             ],
             [
              0.6666666666666666,
              "#ed7953"
             ],
             [
              0.7777777777777778,
              "#fb9f3a"
             ],
             [
              0.8888888888888888,
              "#fdca26"
             ],
             [
              1,
              "#f0f921"
             ]
            ],
            "type": "heatmap"
           }
          ],
          "heatmapgl": [
           {
            "colorbar": {
             "outlinewidth": 0,
             "ticks": ""
            },
            "colorscale": [
             [
              0,
              "#0d0887"
             ],
             [
              0.1111111111111111,
              "#46039f"
             ],
             [
              0.2222222222222222,
              "#7201a8"
             ],
             [
              0.3333333333333333,
              "#9c179e"
             ],
             [
              0.4444444444444444,
              "#bd3786"
             ],
             [
              0.5555555555555556,
              "#d8576b"
             ],
             [
              0.6666666666666666,
              "#ed7953"
             ],
             [
              0.7777777777777778,
              "#fb9f3a"
             ],
             [
              0.8888888888888888,
              "#fdca26"
             ],
             [
              1,
              "#f0f921"
             ]
            ],
            "type": "heatmapgl"
           }
          ],
          "histogram": [
           {
            "marker": {
             "pattern": {
              "fillmode": "overlay",
              "size": 10,
              "solidity": 0.2
             }
            },
            "type": "histogram"
           }
          ],
          "histogram2d": [
           {
            "colorbar": {
             "outlinewidth": 0,
             "ticks": ""
            },
            "colorscale": [
             [
              0,
              "#0d0887"
             ],
             [
              0.1111111111111111,
              "#46039f"
             ],
             [
              0.2222222222222222,
              "#7201a8"
             ],
             [
              0.3333333333333333,
              "#9c179e"
             ],
             [
              0.4444444444444444,
              "#bd3786"
             ],
             [
              0.5555555555555556,
              "#d8576b"
             ],
             [
              0.6666666666666666,
              "#ed7953"
             ],
             [
              0.7777777777777778,
              "#fb9f3a"
             ],
             [
              0.8888888888888888,
              "#fdca26"
             ],
             [
              1,
              "#f0f921"
             ]
            ],
            "type": "histogram2d"
           }
          ],
          "histogram2dcontour": [
           {
            "colorbar": {
             "outlinewidth": 0,
             "ticks": ""
            },
            "colorscale": [
             [
              0,
              "#0d0887"
             ],
             [
              0.1111111111111111,
              "#46039f"
             ],
             [
              0.2222222222222222,
              "#7201a8"
             ],
             [
              0.3333333333333333,
              "#9c179e"
             ],
             [
              0.4444444444444444,
              "#bd3786"
             ],
             [
              0.5555555555555556,
              "#d8576b"
             ],
             [
              0.6666666666666666,
              "#ed7953"
             ],
             [
              0.7777777777777778,
              "#fb9f3a"
             ],
             [
              0.8888888888888888,
              "#fdca26"
             ],
             [
              1,
              "#f0f921"
             ]
            ],
            "type": "histogram2dcontour"
           }
          ],
          "mesh3d": [
           {
            "colorbar": {
             "outlinewidth": 0,
             "ticks": ""
            },
            "type": "mesh3d"
           }
          ],
          "parcoords": [
           {
            "line": {
             "colorbar": {
              "outlinewidth": 0,
              "ticks": ""
             }
            },
            "type": "parcoords"
           }
          ],
          "pie": [
           {
            "automargin": true,
            "type": "pie"
           }
          ],
          "scatter": [
           {
            "marker": {
             "colorbar": {
              "outlinewidth": 0,
              "ticks": ""
             }
            },
            "type": "scatter"
           }
          ],
          "scatter3d": [
           {
            "line": {
             "colorbar": {
              "outlinewidth": 0,
              "ticks": ""
             }
            },
            "marker": {
             "colorbar": {
              "outlinewidth": 0,
              "ticks": ""
             }
            },
            "type": "scatter3d"
           }
          ],
          "scattercarpet": [
           {
            "marker": {
             "colorbar": {
              "outlinewidth": 0,
              "ticks": ""
             }
            },
            "type": "scattercarpet"
           }
          ],
          "scattergeo": [
           {
            "marker": {
             "colorbar": {
              "outlinewidth": 0,
              "ticks": ""
             }
            },
            "type": "scattergeo"
           }
          ],
          "scattergl": [
           {
            "marker": {
             "colorbar": {
              "outlinewidth": 0,
              "ticks": ""
             }
            },
            "type": "scattergl"
           }
          ],
          "scattermapbox": [
           {
            "marker": {
             "colorbar": {
              "outlinewidth": 0,
              "ticks": ""
             }
            },
            "type": "scattermapbox"
           }
          ],
          "scatterpolar": [
           {
            "marker": {
             "colorbar": {
              "outlinewidth": 0,
              "ticks": ""
             }
            },
            "type": "scatterpolar"
           }
          ],
          "scatterpolargl": [
           {
            "marker": {
             "colorbar": {
              "outlinewidth": 0,
              "ticks": ""
             }
            },
            "type": "scatterpolargl"
           }
          ],
          "scatterternary": [
           {
            "marker": {
             "colorbar": {
              "outlinewidth": 0,
              "ticks": ""
             }
            },
            "type": "scatterternary"
           }
          ],
          "surface": [
           {
            "colorbar": {
             "outlinewidth": 0,
             "ticks": ""
            },
            "colorscale": [
             [
              0,
              "#0d0887"
             ],
             [
              0.1111111111111111,
              "#46039f"
             ],
             [
              0.2222222222222222,
              "#7201a8"
             ],
             [
              0.3333333333333333,
              "#9c179e"
             ],
             [
              0.4444444444444444,
              "#bd3786"
             ],
             [
              0.5555555555555556,
              "#d8576b"
             ],
             [
              0.6666666666666666,
              "#ed7953"
             ],
             [
              0.7777777777777778,
              "#fb9f3a"
             ],
             [
              0.8888888888888888,
              "#fdca26"
             ],
             [
              1,
              "#f0f921"
             ]
            ],
            "type": "surface"
           }
          ],
          "table": [
           {
            "cells": {
             "fill": {
              "color": "#EBF0F8"
             },
             "line": {
              "color": "white"
             }
            },
            "header": {
             "fill": {
              "color": "#C8D4E3"
             },
             "line": {
              "color": "white"
             }
            },
            "type": "table"
           }
          ]
         },
         "layout": {
          "annotationdefaults": {
           "arrowcolor": "#2a3f5f",
           "arrowhead": 0,
           "arrowwidth": 1
          },
          "autotypenumbers": "strict",
          "coloraxis": {
           "colorbar": {
            "outlinewidth": 0,
            "ticks": ""
           }
          },
          "colorscale": {
           "diverging": [
            [
             0,
             "#8e0152"
            ],
            [
             0.1,
             "#c51b7d"
            ],
            [
             0.2,
             "#de77ae"
            ],
            [
             0.3,
             "#f1b6da"
            ],
            [
             0.4,
             "#fde0ef"
            ],
            [
             0.5,
             "#f7f7f7"
            ],
            [
             0.6,
             "#e6f5d0"
            ],
            [
             0.7,
             "#b8e186"
            ],
            [
             0.8,
             "#7fbc41"
            ],
            [
             0.9,
             "#4d9221"
            ],
            [
             1,
             "#276419"
            ]
           ],
           "sequential": [
            [
             0,
             "#0d0887"
            ],
            [
             0.1111111111111111,
             "#46039f"
            ],
            [
             0.2222222222222222,
             "#7201a8"
            ],
            [
             0.3333333333333333,
             "#9c179e"
            ],
            [
             0.4444444444444444,
             "#bd3786"
            ],
            [
             0.5555555555555556,
             "#d8576b"
            ],
            [
             0.6666666666666666,
             "#ed7953"
            ],
            [
             0.7777777777777778,
             "#fb9f3a"
            ],
            [
             0.8888888888888888,
             "#fdca26"
            ],
            [
             1,
             "#f0f921"
            ]
           ],
           "sequentialminus": [
            [
             0,
             "#0d0887"
            ],
            [
             0.1111111111111111,
             "#46039f"
            ],
            [
             0.2222222222222222,
             "#7201a8"
            ],
            [
             0.3333333333333333,
             "#9c179e"
            ],
            [
             0.4444444444444444,
             "#bd3786"
            ],
            [
             0.5555555555555556,
             "#d8576b"
            ],
            [
             0.6666666666666666,
             "#ed7953"
            ],
            [
             0.7777777777777778,
             "#fb9f3a"
            ],
            [
             0.8888888888888888,
             "#fdca26"
            ],
            [
             1,
             "#f0f921"
            ]
           ]
          },
          "colorway": [
           "#636efa",
           "#EF553B",
           "#00cc96",
           "#ab63fa",
           "#FFA15A",
           "#19d3f3",
           "#FF6692",
           "#B6E880",
           "#FF97FF",
           "#FECB52"
          ],
          "font": {
           "color": "#2a3f5f"
          },
          "geo": {
           "bgcolor": "white",
           "lakecolor": "white",
           "landcolor": "#E5ECF6",
           "showlakes": true,
           "showland": true,
           "subunitcolor": "white"
          },
          "hoverlabel": {
           "align": "left"
          },
          "hovermode": "closest",
          "mapbox": {
           "style": "light"
          },
          "paper_bgcolor": "white",
          "plot_bgcolor": "#E5ECF6",
          "polar": {
           "angularaxis": {
            "gridcolor": "white",
            "linecolor": "white",
            "ticks": ""
           },
           "bgcolor": "#E5ECF6",
           "radialaxis": {
            "gridcolor": "white",
            "linecolor": "white",
            "ticks": ""
           }
          },
          "scene": {
           "xaxis": {
            "backgroundcolor": "#E5ECF6",
            "gridcolor": "white",
            "gridwidth": 2,
            "linecolor": "white",
            "showbackground": true,
            "ticks": "",
            "zerolinecolor": "white"
           },
           "yaxis": {
            "backgroundcolor": "#E5ECF6",
            "gridcolor": "white",
            "gridwidth": 2,
            "linecolor": "white",
            "showbackground": true,
            "ticks": "",
            "zerolinecolor": "white"
           },
           "zaxis": {
            "backgroundcolor": "#E5ECF6",
            "gridcolor": "white",
            "gridwidth": 2,
            "linecolor": "white",
            "showbackground": true,
            "ticks": "",
            "zerolinecolor": "white"
           }
          },
          "shapedefaults": {
           "line": {
            "color": "#2a3f5f"
           }
          },
          "ternary": {
           "aaxis": {
            "gridcolor": "white",
            "linecolor": "white",
            "ticks": ""
           },
           "baxis": {
            "gridcolor": "white",
            "linecolor": "white",
            "ticks": ""
           },
           "bgcolor": "#E5ECF6",
           "caxis": {
            "gridcolor": "white",
            "linecolor": "white",
            "ticks": ""
           }
          },
          "title": {
           "x": 0.05
          },
          "xaxis": {
           "automargin": true,
           "gridcolor": "white",
           "linecolor": "white",
           "ticks": "",
           "title": {
            "standoff": 15
           },
           "zerolinecolor": "white",
           "zerolinewidth": 2
          },
          "yaxis": {
           "automargin": true,
           "gridcolor": "white",
           "linecolor": "white",
           "ticks": "",
           "title": {
            "standoff": 15
           },
           "zerolinecolor": "white",
           "zerolinewidth": 2
          }
         }
        },
        "title": {
         "text": "Pie Chart by Operator Segmentation"
        },
        "width": 1000
       }
      },
      "image/png": "[encoded data removed]",
      "text/html": [
       "<div>                            <div id=\"6779244c-4c17-47c5-9976-8456af1798c7\" class=\"plotly-graph-div\" style=\"height:500px; width:1000px;\"></div>            <script type=\"text/javascript\">                require([\"plotly\"], function(Plotly) {                    window.PLOTLYENV=window.PLOTLYENV || {};                                    if (document.getElementById(\"6779244c-4c17-47c5-9976-8456af1798c7\")) {                    Plotly.newPlot(                        \"6779244c-4c17-47c5-9976-8456af1798c7\",                        [{\"domain\":{\"x\":[0.0,1.0],\"y\":[0.0,1.0]},\"hovertemplate\":\"covid segmentation - l1=%{label}<br>lbs=%{value}<extra></extra>\",\"labels\":[\"Non-Commercial\",\"Non-Commercial\",\"All Other Restaurants\",\"Bars & Pubs\",\"Casual Dining\",\"Non-Commercial\",\"Non-Commercial\",\"Non-Commercial\",\"Non-Commercial\",\"Non-Commercial\",\"Non-Commercial\",\"Non-Commercial\",\"Non-Commercial\",\"Non-Commercial\",\"Non-Commercial\",\"QSR / Fast Casual\",\"Non-Commercial\",\"Non-Commercial\",\"Non-Commercial\",\"Non-Commercial\",\"Non-Commercial\"],\"legendgroup\":\"\",\"name\":\"\",\"showlegend\":true,\"values\":[3278939.03,12603174.94,61345719.69,4323976.97,49853882.3,683971.05,1813278.23,2360537.55,6539143.14,774636.94,62082.92,11060085.53,90.0,9375.0,1477066.91,121643402.56,2527670.31,1581.0,13020423.61,3467425.05,2840574.58],\"type\":\"pie\"}],                        {\"template\":{\"data\":{\"bar\":[{\"error_x\":{\"color\":\"#2a3f5f\"},\"error_y\":{\"color\":\"#2a3f5f\"},\"marker\":{\"line\":{\"color\":\"#E5ECF6\",\"width\":0.5},\"pattern\":{\"fillmode\":\"overlay\",\"size\":10,\"solidity\":0.2}},\"type\":\"bar\"}],\"barpolar\":[{\"marker\":{\"line\":{\"color\":\"#E5ECF6\",\"width\":0.5},\"pattern\":{\"fillmode\":\"overlay\",\"size\":10,\"solidity\":0.2}},\"type\":\"barpolar\"}],\"carpet\":[{\"aaxis\":{\"endlinecolor\":\"#2a3f5f\",\"gridcolor\":\"white\",\"linecolor\":\"white\",\"minorgridcolor\":\"white\",\"startlinecolor\":\"#2a3f5f\"},\"baxis\":{\"endlinecolor\":\"#2a3f5f\",\"gridcolor\":\"white\",\"linecolor\":\"white\",\"minorgridcolor\":\"white\",\"startlinecolor\":\"#2a3f5f\"},\"type\":\"carpet\"}],\"choropleth\":[{\"colorbar\":{\"outlinewidth\":0,\"ticks\":\"\"},\"type\":\"choropleth\"}],\"contour\":[{\"colorbar\":{\"outlinewidth\":0,\"ticks\":\"\"},\"colorscale\":[[0.0,\"#0d0887\"],[0.1111111111111111,\"#46039f\"],[0.2222222222222222,\"#7201a8\"],[0.3333333333333333,\"#9c179e\"],[0.4444444444444444,\"#bd3786\"],[0.5555555555555556,\"#d8576b\"],[0.6666666666666666,\"#ed7953\"],[0.7777777777777778,\"#fb9f3a\"],[0.8888888888888888,\"#fdca26\"],[1.0,\"#f0f921\"]],\"type\":\"contour\"}],\"contourcarpet\":[{\"colorbar\":{\"outlinewidth\":0,\"ticks\":\"\"},\"type\":\"contourcarpet\"}],\"heatmap\":[{\"colorbar\":{\"outlinewidth\":0,\"ticks\":\"\"},\"colorscale\":[[0.0,\"#0d0887\"],[0.1111111111111111,\"#46039f\"],[0.2222222222222222,\"#7201a8\"],[0.3333333333333333,\"#9c179e\"],[0.4444444444444444,\"#bd3786\"],[0.5555555555555556,\"#d8576b\"],[0.6666666666666666,\"#ed7953\"],[0.7777777777777778,\"#fb9f3a\"],[0.8888888888888888,\"#fdca26\"],[1.0,\"#f0f921\"]],\"type\":\"heatmap\"}],\"heatmapgl\":[{\"colorbar\":{\"outlinewidth\":0,\"ticks\":\"\"},\"colorscale\":[[0.0,\"#0d0887\"],[0.1111111111111111,\"#46039f\"],[0.2222222222222222,\"#7201a8\"],[0.3333333333333333,\"#9c179e\"],[0.4444444444444444,\"#bd3786\"],[0.5555555555555556,\"#d8576b\"],[0.6666666666666666,\"#ed7953\"],[0.7777777777777778,\"#fb9f3a\"],[0.8888888888888888,\"#fdca26\"],[1.0,\"#f0f921\"]],\"type\":\"heatmapgl\"}],\"histogram\":[{\"marker\":{\"pattern\":{\"fillmode\":\"overlay\",\"size\":10,\"solidity\":0.2}},\"type\":\"histogram\"}],\"histogram2d\":[{\"colorbar\":{\"outlinewidth\":0,\"ticks\":\"\"},\"colorscale\":[[0.0,\"#0d0887\"],[0.1111111111111111,\"#46039f\"],[0.2222222222222222,\"#7201a8\"],[0.3333333333333333,\"#9c179e\"],[0.4444444444444444,\"#bd3786\"],[0.5555555555555556,\"#d8576b\"],[0.6666666666666666,\"#ed7953\"],[0.7777777777777778,\"#fb9f3a\"],[0.8888888888888888,\"#fdca26\"],[1.0,\"#f0f921\"]],\"type\":\"histogram2d\"}],\"histogram2dcontour\":[{\"colorbar\":{\"outlinewidth\":0,\"ticks\":\"\"},\"colorscale\":[[0.0,\"#0d0887\"],[0.1111111111111111,\"#46039f\"],[0.2222222222222222,\"#7201a8\"],[0.3333333333333333,\"#9c179e\"],[0.4444444444444444,\"#bd3786\"],[0.5555555555555556,\"#d8576b\"],[0.6666666666666666,\"#ed7953\"],[0.7777777777777778,\"#fb9f3a\"],[0.8888888888888888,\"#fdca26\"],[1.0,\"#f0f921\"]],\"type\":\"histogram2dcontour\"}],\"mesh3d\":[{\"colorbar\":{\"outlinewidth\":0,\"ticks\":\"\"},\"type\":\"mesh3d\"}],\"parcoords\":[{\"line\":{\"colorbar\":{\"outlinewidth\":0,\"ticks\":\"\"}},\"type\":\"parcoords\"}],\"pie\":[{\"automargin\":true,\"type\":\"pie\"}],\"scatter\":[{\"marker\":{\"colorbar\":{\"outlinewidth\":0,\"ticks\":\"\"}},\"type\":\"scatter\"}],\"scatter3d\":[{\"line\":{\"colorbar\":{\"outlinewidth\":0,\"ticks\":\"\"}},\"marker\":{\"colorbar\":{\"outlinewidth\":0,\"ticks\":\"\"}},\"type\":\"scatter3d\"}],\"scattercarpet\":[{\"marker\":{\"colorbar\":{\"outlinewidth\":0,\"ticks\":\"\"}},\"type\":\"scattercarpet\"}],\"scattergeo\":[{\"marker\":{\"colorbar\":{\"outlinewidth\":0,\"ticks\":\"\"}},\"type\":\"scattergeo\"}],\"scattergl\":[{\"marker\":{\"colorbar\":{\"outlinewidth\":0,\"ticks\":\"\"}},\"type\":\"scattergl\"}],\"scattermapbox\":[{\"marker\":{\"colorbar\":{\"outlinewidth\":0,\"ticks\":\"\"}},\"type\":\"scattermapbox\"}],\"scatterpolar\":[{\"marker\":{\"colorbar\":{\"outlinewidth\":0,\"ticks\":\"\"}},\"type\":\"scatterpolar\"}],\"scatterpolargl\":[{\"marker\":{\"colorbar\":{\"outlinewidth\":0,\"ticks\":\"\"}},\"type\":\"scatterpolargl\"}],\"scatterternary\":[{\"marker\":{\"colorbar\":{\"outlinewidth\":0,\"ticks\":\"\"}},\"type\":\"scatterternary\"}],\"surface\":[{\"colorbar\":{\"outlinewidth\":0,\"ticks\":\"\"},\"colorscale\":[[0.0,\"#0d0887\"],[0.1111111111111111,\"#46039f\"],[0.2222222222222222,\"#7201a8\"],[0.3333333333333333,\"#9c179e\"],[0.4444444444444444,\"#bd3786\"],[0.5555555555555556,\"#d8576b\"],[0.6666666666666666,\"#ed7953\"],[0.7777777777777778,\"#fb9f3a\"],[0.8888888888888888,\"#fdca26\"],[1.0,\"#f0f921\"]],\"type\":\"surface\"}],\"table\":[{\"cells\":{\"fill\":{\"color\":\"#EBF0F8\"},\"line\":{\"color\":\"white\"}},\"header\":{\"fill\":{\"color\":\"#C8D4E3\"},\"line\":{\"color\":\"white\"}},\"type\":\"table\"}]},\"layout\":{\"annotationdefaults\":{\"arrowcolor\":\"#2a3f5f\",\"arrowhead\":0,\"arrowwidth\":1},\"autotypenumbers\":\"strict\",\"coloraxis\":{\"colorbar\":{\"outlinewidth\":0,\"ticks\":\"\"}},\"colorscale\":{\"diverging\":[[0,\"#8e0152\"],[0.1,\"#c51b7d\"],[0.2,\"#de77ae\"],[0.3,\"#f1b6da\"],[0.4,\"#fde0ef\"],[0.5,\"#f7f7f7\"],[0.6,\"#e6f5d0\"],[0.7,\"#b8e186\"],[0.8,\"#7fbc41\"],[0.9,\"#4d9221\"],[1,\"#276419\"]],\"sequential\":[[0.0,\"#0d0887\"],[0.1111111111111111,\"#46039f\"],[0.2222222222222222,\"#7201a8\"],[0.3333333333333333,\"#9c179e\"],[0.4444444444444444,\"#bd3786\"],[0.5555555555555556,\"#d8576b\"],[0.6666666666666666,\"#ed7953\"],[0.7777777777777778,\"#fb9f3a\"],[0.8888888888888888,\"#fdca26\"],[1.0,\"#f0f921\"]],\"sequentialminus\":[[0.0,\"#0d0887\"],[0.1111111111111111,\"#46039f\"],[0.2222222222222222,\"#7201a8\"],[0.3333333333333333,\"#9c179e\"],[0.4444444444444444,\"#bd3786\"],[0.5555555555555556,\"#d8576b\"],[0.6666666666666666,\"#ed7953\"],[0.7777777777777778,\"#fb9f3a\"],[0.8888888888888888,\"#fdca26\"],[1.0,\"#f0f921\"]]},\"colorway\":[\"#636efa\",\"#EF553B\",\"#00cc96\",\"#ab63fa\",\"#FFA15A\",\"#19d3f3\",\"#FF6692\",\"#B6E880\",\"#FF97FF\",\"#FECB52\"],\"font\":{\"color\":\"#2a3f5f\"},\"geo\":{\"bgcolor\":\"white\",\"lakecolor\":\"white\",\"landcolor\":\"#E5ECF6\",\"showlakes\":true,\"showland\":true,\"subunitcolor\":\"white\"},\"hoverlabel\":{\"align\":\"left\"},\"hovermode\":\"closest\",\"mapbox\":{\"style\":\"light\"},\"paper_bgcolor\":\"white\",\"plot_bgcolor\":\"#E5ECF6\",\"polar\":{\"angularaxis\":{\"gridcolor\":\"white\",\"linecolor\":\"white\",\"ticks\":\"\"},\"bgcolor\":\"#E5ECF6\",\"radialaxis\":{\"gridcolor\":\"white\",\"linecolor\":\"white\",\"ticks\":\"\"}},\"scene\":{\"xaxis\":{\"backgroundcolor\":\"#E5ECF6\",\"gridcolor\":\"white\",\"gridwidth\":2,\"linecolor\":\"white\",\"showbackground\":true,\"ticks\":\"\",\"zerolinecolor\":\"white\"},\"yaxis\":{\"backgroundcolor\":\"#E5ECF6\",\"gridcolor\":\"white\",\"gridwidth\":2,\"linecolor\":\"white\",\"showbackground\":true,\"ticks\":\"\",\"zerolinecolor\":\"white\"},\"zaxis\":{\"backgroundcolor\":\"#E5ECF6\",\"gridcolor\":\"white\",\"gridwidth\":2,\"linecolor\":\"white\",\"showbackground\":true,\"ticks\":\"\",\"zerolinecolor\":\"white\"}},\"shapedefaults\":{\"line\":{\"color\":\"#2a3f5f\"}},\"ternary\":{\"aaxis\":{\"gridcolor\":\"white\",\"linecolor\":\"white\",\"ticks\":\"\"},\"baxis\":{\"gridcolor\":\"white\",\"linecolor\":\"white\",\"ticks\":\"\"},\"bgcolor\":\"#E5ECF6\",\"caxis\":{\"gridcolor\":\"white\",\"linecolor\":\"white\",\"ticks\":\"\"}},\"title\":{\"x\":0.05},\"xaxis\":{\"automargin\":true,\"gridcolor\":\"white\",\"linecolor\":\"white\",\"ticks\":\"\",\"title\":{\"standoff\":15},\"zerolinecolor\":\"white\",\"zerolinewidth\":2},\"yaxis\":{\"automargin\":true,\"gridcolor\":\"white\",\"linecolor\":\"white\",\"ticks\":\"\",\"title\":{\"standoff\":15},\"zerolinecolor\":\"white\",\"zerolinewidth\":2}}},\"legend\":{\"tracegroupgap\":0},\"title\":{\"text\":\"Pie Chart by Operator Segmentation\"},\"height\":500,\"width\":1000},                        {\"responsive\": true}                    ).then(function(){\n",
       "                            \n",
       "var gd = document.getElementById('6779244c-4c17-47c5-9976-8456af1798c7');\n",
       "var x = new MutationObserver(function (mutations, observer) {{\n",
       "        var display = window.getComputedStyle(gd).display;\n",
       "        if (!display || display === 'none') {{\n",
       "            console.log([gd, 'removed!']);\n",
       "            Plotly.purge(gd);\n",
       "            observer.disconnect();\n",
       "        }}\n",
       "}});\n",
       "\n",
       "// Listen for the removal of the full notebook cells\n",
       "var notebookContainer = gd.closest('#notebook-container');\n",
       "if (notebookContainer) {{\n",
       "    x.observe(notebookContainer, {childList: true});\n",
       "}}\n",
       "\n",
       "// Listen for the clearing of the current output cell\n",
       "var outputEl = gd.closest('.output');\n",
       "if (outputEl) {{\n",
       "    x.observe(outputEl, {childList: true});\n",
       "}}\n",
       "\n",
       "                        })                };                });            </script>        </div>"
      ]
     },
     "metadata": {},
     "output_type": "display_data"
    }
   ],
   "source": [
    "import plotly.express as px\n",
    "\n",
    "graph_data = df[(df['calendar week year']>cal)].groupby('covid segmentation - l1')['lbs'].sum().reset_index()\n",
    "\n",
    "graph_data.loc[~graph_data['covid segmentation - l1'].isin(['Casual Dining','Bars & Pubs','All Other Restaurants','QSR / Fast Casual']),'covid segmentation - l1'] = 'Non-Commercial'\n",
    "\n",
    "fig = px.pie(graph_data, values='lbs', names='covid segmentation - l1',\n",
    "             width=1000, height=500,\n",
    "             title=\"Pie Chart by Operator Segmentation\"\n",
    "            )\n",
    "fig.show()"
   ]
  },
  {
   "cell_type": "markdown",
   "metadata": {
    "tags": []
   },
   "source": [
    "### Sell-in vs. Sell-out\n"
   ]
  },
  {
   "cell_type": "code",
   "execution_count": 1,
   "metadata": {},
   "outputs": [],
   "source": [
    "from sellout_import import import_pfg, all_df, import_all, import_bek, import_usfoods\n",
    "from distributor_transformation import transform_bek, transform_usfoods, transform_pfg\n",
    "import os\n",
    "import pandas as pd"
   ]
  },
  {
   "cell_type": "code",
   "execution_count": 2,
   "metadata": {},
   "outputs": [],
   "source": [
    "dimprod = pd.read_csv(r'C:\\Users\\newatter\\OneDrive - McCain Foods Limited\\Junk\\dimproduct.csv')"
   ]
  },
  {
   "cell_type": "markdown",
   "metadata": {},
   "source": [
    "## BEK"
   ]
  },
  {
   "cell_type": "code",
   "execution_count": 3,
   "metadata": {},
   "outputs": [
    {
     "name": "stdout",
     "output_type": "stream",
     "text": [
      "Shape before adding dictionary: (167847, 22)\n",
      "Shape after adding segmentation: (167847, 28)\n",
      "Shape after adding product segmentation: (167847, 31)\n",
      "Shape before adding time: (167847, 32)\n",
      "Shape after adding time: (167847, 33)\n",
      "Shape after adding dictionary: (167843, 34)\n",
      "Nothing missing for COVID Segmentation - L1\n",
      "Nothing missing for products\n"
     ]
    }
   ],
   "source": [
    "#file_path = r'C:\\Users\\newatter\\OneDrive - McCain Foods Limited\\Historical Sell-Out Sales\\\\'\n",
    "#file_name = 'BEK Update.xls'\n",
    "\n",
    "file_path = r'C:\\Users\\newatter\\OneDrive - McCain Foods Limited\\Weekly Update Files\\2021-12-17\\Data Sources\\\\'\n",
    "file_name = 'BEK Update.xls'\n",
    "\n",
    "df = import_bek(file_path + file_name)\n",
    "\n",
    "df_bek = transform_bek(df, 'BEK - US.xlsx')"
   ]
  },
  {
   "cell_type": "code",
   "execution_count": 93,
   "metadata": {},
   "outputs": [
    {
     "data": {
      "text/plain": [
       "Index(['Branch', 'Business Unit', 'SIC Code', 'SIC Sub', 'Customer Nbr.',\n",
       "       'Customer Name', 'Customer Address1', 'Customer Address2', 'City',\n",
       "       'State', 'Customer Zip', 'Family', 'Brand', 'Group', 'SKU ID',\n",
       "       'Prod Nbr', 'Product', 'Prod Nbr.1', 'Pack / Size',\n",
       "       'Product Ext.Description', 'Week of', 'Month', 'LBS',\n",
       "       'COVID Segmentation - L1', 'COVID Segmentation - L2',\n",
       "       'COVID Segmentation - (Restaurants)',\n",
       "       'COVID Segmentation - (Restaurants: Sub-Segment)',\n",
       "       'Restaurant Service Type', 'Cuisine Type', 'Consolidated Category',\n",
       "       'L1 Product Hierarchy', 'L2 Product Hierarchy', 'Week Starting',\n",
       "       'Calendar Week Year', 'State Name'],\n",
       "      dtype='object')"
      ]
     },
     "execution_count": 93,
     "metadata": {},
     "output_type": "execute_result"
    }
   ],
   "source": [
    "df_bek.columns"
   ]
  },
  {
   "cell_type": "code",
   "execution_count": 94,
   "metadata": {},
   "outputs": [
    {
     "data": {
      "text/plain": [
       "82910195      21639\n",
       "82905631      21291\n",
       "1000007275    14591\n",
       "1000006416    10368\n",
       "SON00543       8636\n",
       "              ...  \n",
       "MCS90             3\n",
       "96110844          3\n",
       "1000008676        3\n",
       "1000007470        2\n",
       "1000008470        2\n",
       "Name: SKU ID, Length: 185, dtype: int64"
      ]
     },
     "execution_count": 94,
     "metadata": {},
     "output_type": "execute_result"
    }
   ],
   "source": [
    "df_bek['SKU ID'].value_counts()"
   ]
  },
  {
   "cell_type": "code",
   "execution_count": 4,
   "metadata": {},
   "outputs": [],
   "source": [
    "df_bek_g = df_bek.groupby(['Calendar Week Year','Week Starting','SKU ID'])['LBS'].sum().reset_index()"
   ]
  },
  {
   "cell_type": "code",
   "execution_count": 5,
   "metadata": {},
   "outputs": [
    {
     "data": {
      "text/html": [
       "<div>\n",
       "<style scoped>\n",
       "    .dataframe tbody tr th:only-of-type {\n",
       "        vertical-align: middle;\n",
       "    }\n",
       "\n",
       "    .dataframe tbody tr th {\n",
       "        vertical-align: top;\n",
       "    }\n",
       "\n",
       "    .dataframe thead th {\n",
       "        text-align: right;\n",
       "    }\n",
       "</style>\n",
       "<table border=\"1\" class=\"dataframe\">\n",
       "  <thead>\n",
       "    <tr style=\"text-align: right;\">\n",
       "      <th></th>\n",
       "      <th>Calendar Week Year</th>\n",
       "      <th>Week Starting</th>\n",
       "      <th>SKU ID</th>\n",
       "      <th>LBS</th>\n",
       "      <th>Product Short Code</th>\n",
       "      <th>Product Group Format</th>\n",
       "      <th>Product Sub Group Format</th>\n",
       "      <th>Distributor</th>\n",
       "    </tr>\n",
       "  </thead>\n",
       "  <tbody>\n",
       "    <tr>\n",
       "      <th>0</th>\n",
       "      <td>202135</td>\n",
       "      <td>2021-08-29</td>\n",
       "      <td>1000000496</td>\n",
       "      <td>1830.0</td>\n",
       "      <td>1000000496</td>\n",
       "      <td>SPECIALTY</td>\n",
       "      <td>CUT</td>\n",
       "      <td>Ben E Keith</td>\n",
       "    </tr>\n",
       "    <tr>\n",
       "      <th>1</th>\n",
       "      <td>202135</td>\n",
       "      <td>2021-08-29</td>\n",
       "      <td>1000000516</td>\n",
       "      <td>48.0</td>\n",
       "      <td>1000000516</td>\n",
       "      <td>APPETIZERS</td>\n",
       "      <td>FORMED CHEESE</td>\n",
       "      <td>Ben E Keith</td>\n",
       "    </tr>\n",
       "    <tr>\n",
       "      <th>2</th>\n",
       "      <td>202135</td>\n",
       "      <td>2021-08-29</td>\n",
       "      <td>1000000904</td>\n",
       "      <td>157644.0</td>\n",
       "      <td>1000000904</td>\n",
       "      <td>DIFFERENTIATED FRIES</td>\n",
       "      <td>CLEAR COAT</td>\n",
       "      <td>Ben E Keith</td>\n",
       "    </tr>\n",
       "    <tr>\n",
       "      <th>3</th>\n",
       "      <td>202135</td>\n",
       "      <td>2021-08-29</td>\n",
       "      <td>1000001223</td>\n",
       "      <td>28860.0</td>\n",
       "      <td>1000001223</td>\n",
       "      <td>DIFFERENTIATED FRIES</td>\n",
       "      <td>BATTERED</td>\n",
       "      <td>Ben E Keith</td>\n",
       "    </tr>\n",
       "    <tr>\n",
       "      <th>4</th>\n",
       "      <td>202135</td>\n",
       "      <td>2021-08-29</td>\n",
       "      <td>1000001261</td>\n",
       "      <td>150.0</td>\n",
       "      <td>1000001261</td>\n",
       "      <td>LOCAL PORTFOLIO</td>\n",
       "      <td>BAKERY</td>\n",
       "      <td>Ben E Keith</td>\n",
       "    </tr>\n",
       "  </tbody>\n",
       "</table>\n",
       "</div>"
      ],
      "text/plain": [
       "   Calendar Week Year Week Starting      SKU ID       LBS Product Short Code  \\\n",
       "0              202135    2021-08-29  1000000496    1830.0         1000000496   \n",
       "1              202135    2021-08-29  1000000516      48.0         1000000516   \n",
       "2              202135    2021-08-29  1000000904  157644.0         1000000904   \n",
       "3              202135    2021-08-29  1000001223   28860.0         1000001223   \n",
       "4              202135    2021-08-29  1000001261     150.0         1000001261   \n",
       "\n",
       "   Product Group Format Product Sub Group Format  Distributor  \n",
       "0             SPECIALTY                      CUT  Ben E Keith  \n",
       "1            APPETIZERS            FORMED CHEESE  Ben E Keith  \n",
       "2  DIFFERENTIATED FRIES               CLEAR COAT  Ben E Keith  \n",
       "3  DIFFERENTIATED FRIES                 BATTERED  Ben E Keith  \n",
       "4       LOCAL PORTFOLIO                   BAKERY  Ben E Keith  "
      ]
     },
     "execution_count": 5,
     "metadata": {},
     "output_type": "execute_result"
    }
   ],
   "source": [
    "df_bek_g.loc[:, 'Product Short Code'] = df_bek_g['SKU ID'].apply(lambda x: str(x).replace('.0',''))\n",
    "\n",
    "df_bek_g2 = df_bek_g.merge(dimprod[['Product Short Code','Product Group Format','Product Sub Group Format']], how='left', on=['Product Short Code'])\n",
    "\n",
    "df_bek_g2['Distributor'] = 'Ben E Keith'\n",
    "\n",
    "df_bek_g2.head()"
   ]
  },
  {
   "cell_type": "markdown",
   "metadata": {},
   "source": [
    "## US Foods"
   ]
  },
  {
   "cell_type": "code",
   "execution_count": 6,
   "metadata": {},
   "outputs": [
    {
     "name": "stdout",
     "output_type": "stream",
     "text": [
      "Importing csv file 2022-12-16 13:04:49.264755\n",
      "Import file shape: (50265, 23)\n"
     ]
    }
   ],
   "source": [
    "#file_path = r'C:\\Users\\newatter\\OneDrive - McCain Foods Limited\\Historical Sell-Out Sales\\\\'\n",
    "file_path = r'C:\\Users\\newatter\\OneDrive - McCain Foods Limited\\Weekly Update Files\\2021-12-17\\Data Sources\\\\'\n",
    "file_name = 'US Foods Update.csv'\n",
    "\n",
    "\n",
    "\n",
    "df = import_usfoods(file_path + file_name)"
   ]
  },
  {
   "cell_type": "code",
   "execution_count": 7,
   "metadata": {},
   "outputs": [
    {
     "name": "stdout",
     "output_type": "stream",
     "text": [
      "Shape before adding dictionary: (50265, 23)\n",
      "Total before dictionary: 39415614.73\n",
      "Total after dictionary: 39415614.73\n",
      "Shape after adding dictionary: (50265, 37)\n",
      "Nothing missing for COVID Segmentation - L1\n",
      "Nothing missing for products\n"
     ]
    },
    {
     "data": {
      "text/plain": [
       "Index(['Region', 'Area', 'Market', 'Pyramid Segment', 'Business Unit',\n",
       "       'Merch Category', 'PIM Group', 'Manufacturer Item Number', 'PIM #',\n",
       "       'ASYS #', 'Product Description', 'Pack Size', 'Vendor #', 'Vendor',\n",
       "       'Brand', 'Brand Type', 'Attribute 1', 'Attribute 2', 'Attribute 3',\n",
       "       'Attribute 4', 'Attribute 5', 'Calendar Week', 'LBS', 'PIM Group-lower',\n",
       "       'COVID Segmentation - L1', 'COVID Segmentation - L2',\n",
       "       'COVID Segmentation - (Restaurants)',\n",
       "       'COVID Segmentation - (Restaurants: Sub-Segment)',\n",
       "       'Restaurant Service Type', 'SKU ID', 'Consolidated Category',\n",
       "       'L1 Product Hierarchy', 'L2 Product Hierarchy', 'Calendar Week Year',\n",
       "       'State', 'State Name', 'City'],\n",
       "      dtype='object')"
      ]
     },
     "execution_count": 7,
     "metadata": {},
     "output_type": "execute_result"
    }
   ],
   "source": [
    "df_usfoods = transform_usfoods(df, 'US Foods - US.xlsx')\n",
    "df_usfoods.columns"
   ]
  },
  {
   "cell_type": "code",
   "execution_count": 8,
   "metadata": {},
   "outputs": [],
   "source": [
    "df_usfoods_g = df_usfoods.groupby(['Calendar Week Year','Calendar Week','Manufacturer Item Number'])['LBS'].sum().reset_index()"
   ]
  },
  {
   "cell_type": "code",
   "execution_count": 9,
   "metadata": {},
   "outputs": [
    {
     "name": "stdout",
     "output_type": "stream",
     "text": [
      "<class 'pandas.core.frame.DataFrame'>\n",
      "RangeIndex: 384 entries, 0 to 383\n",
      "Data columns (total 14 columns):\n",
      " #   Column                    Non-Null Count  Dtype  \n",
      "---  ------                    --------------  -----  \n",
      " 0   Merch Cat#                341 non-null    float64\n",
      " 1   Merch Category            382 non-null    object \n",
      " 2   PIM Grp#                  341 non-null    float64\n",
      " 3   PIM Group                 384 non-null    object \n",
      " 4   Manufacturer Item Number  384 non-null    int64  \n",
      " 5   Product                   384 non-null    object \n",
      " 6   Pack Size                 384 non-null    object \n",
      " 7   Vend#                     375 non-null    float64\n",
      " 8   Vendor                    375 non-null    object \n",
      " 9   Brand                     343 non-null    object \n",
      " 10  Consolidated Category     384 non-null    object \n",
      " 11  L1 Product Hierarchy      384 non-null    object \n",
      " 12  L2 Product Hierarchy      384 non-null    object \n",
      " 13  McCain SKU ID             369 non-null    object \n",
      "dtypes: float64(3), int64(1), object(10)\n",
      "memory usage: 42.1+ KB\n"
     ]
    }
   ],
   "source": [
    "sku_map = pd.read_excel(r'C:\\Users\\newatter\\OneDrive - McCain Foods Limited\\Distributor Sell-Out Dictionaries\\US Foods - US.xlsx', sheet_name='SKU Mapping')\n",
    "\n",
    "sku_map.info()"
   ]
  },
  {
   "cell_type": "code",
   "execution_count": 10,
   "metadata": {},
   "outputs": [
    {
     "name": "stdout",
     "output_type": "stream",
     "text": [
      "4.211528886130859e-06\n"
     ]
    }
   ],
   "source": [
    "df_usfoods_g = df_usfoods_g.astype({'Manufacturer Item Number':'str'}).merge(sku_map.astype({'Manufacturer Item Number':'str'})[['Manufacturer Item Number','McCain SKU ID']])\n",
    "\n",
    "total_lbs = df_usfoods_g['LBS'].sum()\n",
    "missing = df_usfoods_g[df_usfoods_g['McCain SKU ID'].isna()]['LBS'].sum()\n",
    "\n",
    "print(missing/total_lbs)"
   ]
  },
  {
   "cell_type": "code",
   "execution_count": 11,
   "metadata": {},
   "outputs": [
    {
     "data": {
      "text/html": [
       "<div>\n",
       "<style scoped>\n",
       "    .dataframe tbody tr th:only-of-type {\n",
       "        vertical-align: middle;\n",
       "    }\n",
       "\n",
       "    .dataframe tbody tr th {\n",
       "        vertical-align: top;\n",
       "    }\n",
       "\n",
       "    .dataframe thead th {\n",
       "        text-align: right;\n",
       "    }\n",
       "</style>\n",
       "<table border=\"1\" class=\"dataframe\">\n",
       "  <thead>\n",
       "    <tr style=\"text-align: right;\">\n",
       "      <th></th>\n",
       "      <th>Calendar Week Year</th>\n",
       "      <th>Calendar Week</th>\n",
       "      <th>Manufacturer Item Number</th>\n",
       "      <th>LBS</th>\n",
       "      <th>McCain SKU ID</th>\n",
       "      <th>Product Short Code</th>\n",
       "      <th>Product Group Format</th>\n",
       "      <th>Product Sub Group Format</th>\n",
       "      <th>Distributor</th>\n",
       "    </tr>\n",
       "  </thead>\n",
       "  <tbody>\n",
       "    <tr>\n",
       "      <th>0</th>\n",
       "      <td>202137</td>\n",
       "      <td>202137</td>\n",
       "      <td>10072714000154</td>\n",
       "      <td>40.0</td>\n",
       "      <td>1000000516</td>\n",
       "      <td>1000000516</td>\n",
       "      <td>APPETIZERS</td>\n",
       "      <td>FORMED CHEESE</td>\n",
       "      <td>US Foods</td>\n",
       "    </tr>\n",
       "    <tr>\n",
       "      <th>1</th>\n",
       "      <td>202138</td>\n",
       "      <td>202138</td>\n",
       "      <td>10072714000154</td>\n",
       "      <td>24.0</td>\n",
       "      <td>1000000516</td>\n",
       "      <td>1000000516</td>\n",
       "      <td>APPETIZERS</td>\n",
       "      <td>FORMED CHEESE</td>\n",
       "      <td>US Foods</td>\n",
       "    </tr>\n",
       "    <tr>\n",
       "      <th>2</th>\n",
       "      <td>202139</td>\n",
       "      <td>202139</td>\n",
       "      <td>10072714000154</td>\n",
       "      <td>24.0</td>\n",
       "      <td>1000000516</td>\n",
       "      <td>1000000516</td>\n",
       "      <td>APPETIZERS</td>\n",
       "      <td>FORMED CHEESE</td>\n",
       "      <td>US Foods</td>\n",
       "    </tr>\n",
       "    <tr>\n",
       "      <th>3</th>\n",
       "      <td>202140</td>\n",
       "      <td>202140</td>\n",
       "      <td>10072714000154</td>\n",
       "      <td>56.0</td>\n",
       "      <td>1000000516</td>\n",
       "      <td>1000000516</td>\n",
       "      <td>APPETIZERS</td>\n",
       "      <td>FORMED CHEESE</td>\n",
       "      <td>US Foods</td>\n",
       "    </tr>\n",
       "    <tr>\n",
       "      <th>4</th>\n",
       "      <td>202141</td>\n",
       "      <td>202141</td>\n",
       "      <td>10072714000154</td>\n",
       "      <td>48.0</td>\n",
       "      <td>1000000516</td>\n",
       "      <td>1000000516</td>\n",
       "      <td>APPETIZERS</td>\n",
       "      <td>FORMED CHEESE</td>\n",
       "      <td>US Foods</td>\n",
       "    </tr>\n",
       "  </tbody>\n",
       "</table>\n",
       "</div>"
      ],
      "text/plain": [
       "   Calendar Week Year  Calendar Week Manufacturer Item Number   LBS  \\\n",
       "0              202137         202137           10072714000154  40.0   \n",
       "1              202138         202138           10072714000154  24.0   \n",
       "2              202139         202139           10072714000154  24.0   \n",
       "3              202140         202140           10072714000154  56.0   \n",
       "4              202141         202141           10072714000154  48.0   \n",
       "\n",
       "  McCain SKU ID Product Short Code Product Group Format  \\\n",
       "0    1000000516         1000000516           APPETIZERS   \n",
       "1    1000000516         1000000516           APPETIZERS   \n",
       "2    1000000516         1000000516           APPETIZERS   \n",
       "3    1000000516         1000000516           APPETIZERS   \n",
       "4    1000000516         1000000516           APPETIZERS   \n",
       "\n",
       "  Product Sub Group Format Distributor  \n",
       "0            FORMED CHEESE    US Foods  \n",
       "1            FORMED CHEESE    US Foods  \n",
       "2            FORMED CHEESE    US Foods  \n",
       "3            FORMED CHEESE    US Foods  \n",
       "4            FORMED CHEESE    US Foods  "
      ]
     },
     "execution_count": 11,
     "metadata": {},
     "output_type": "execute_result"
    }
   ],
   "source": [
    "df_usfoods_g.loc[:, 'Product Short Code'] = df_usfoods_g['McCain SKU ID'].apply(lambda x: str(x).replace('.0',''))\n",
    "\n",
    "df_usfoods_g2 = df_usfoods_g.merge(dimprod[['Product Short Code','Product Group Format','Product Sub Group Format']], how='left', on=['Product Short Code'])\n",
    "\n",
    "df_usfoods_g2['Distributor'] = 'US Foods'\n",
    "\n",
    "df_usfoods_g2.head()"
   ]
  },
  {
   "cell_type": "markdown",
   "metadata": {},
   "source": [
    "## PFG/Reinhart"
   ]
  },
  {
   "cell_type": "code",
   "execution_count": 12,
   "metadata": {},
   "outputs": [
    {
     "name": "stdout",
     "output_type": "stream",
     "text": [
      "3332218\n",
      "2022-12-05 00:00:00\n",
      "Starting dataframe shape: (3332218, 29)\n",
      "These manufacturers were included: ['ANCHOR FROZEN FOODS INC', 'DOT FOODS (FROZEN)', 'ENDICO POTATOES INC.', 'MC CAIN FOODS INC', 'MCCAIN FOODS AFD', 'MCCAIN FOODS USA INC', 'MCCAIN FOODS USA INC-ACH', 'MCCAIN FOODS, INC. ', 'MCCAIN FOODSERVICE INC', 'MCCAIN PRODUCE INC', 'WH MOSELEY CO', 'MCCAIN FOODS', 'McCain Foods USA']\n",
      "These manufacturers were not included:                   Manufacturer\n",
      "2              SUPPLIER VARIES\n",
      "4          CAVENDISH FARMS INC\n",
      "5    JR SIMPLOT COMPANY FROZEN\n",
      "9          BIG DADDY FOODS INC\n",
      "10       LAMB WESTON SALES INC\n",
      "13                 LAMB WESTON\n",
      "16    ROSINA FOOD PRODUCTS INC\n",
      "17        ROSINA FOOD PRODUCTS\n",
      "19           PFS IFH (HICKORY)\n",
      "20    J. R. SIMPLOT (ROCHELLE)\n",
      "21  DOT FOODS INC PAID VIA ACH\n",
      "Shape before adding dictionary: (3233613, 29)\n"
     ]
    },
    {
     "name": "stderr",
     "output_type": "stream",
     "text": [
      "C:\\Users\\newatter\\OneDrive - McCain Foods Limited\\Data Update\\distributor_transformation.py:221: SettingWithCopyWarning: \n",
      "A value is trying to be set on a copy of a slice from a DataFrame.\n",
      "Try using .loc[row_indexer,col_indexer] = value instead\n",
      "\n",
      "See the caveats in the documentation: https://pandas.pydata.org/pandas-docs/stable/user_guide/indexing.html#returning-a-view-versus-a-copy\n",
      "  df.loc[:, 'Segment'] = df['Segment'].str.strip()\n",
      "C:\\Users\\newatter\\OneDrive - McCain Foods Limited\\Data Update\\distributor_transformation.py:224: SettingWithCopyWarning: \n",
      "A value is trying to be set on a copy of a slice from a DataFrame.\n",
      "Try using .loc[row_indexer,col_indexer] = value instead\n",
      "\n",
      "See the caveats in the documentation: https://pandas.pydata.org/pandas-docs/stable/user_guide/indexing.html#returning-a-view-versus-a-copy\n",
      "  df.loc[:, 'Invoice Week'] = pd.to_datetime(df['Invoice Week'])\n",
      "C:\\Users\\newatter\\OneDrive - McCain Foods Limited\\Data Update\\distributor_transformation.py:243: SettingWithCopyWarning: \n",
      "A value is trying to be set on a copy of a slice from a DataFrame.\n",
      "Try using .loc[row_indexer,col_indexer] = value instead\n",
      "\n",
      "See the caveats in the documentation: https://pandas.pydata.org/pandas-docs/stable/user_guide/indexing.html#returning-a-view-versus-a-copy\n",
      "  df.loc[:, 'customer_class_lower'] = df['Customer Class'].str.lower()\n",
      "C:\\Users\\newatter\\OneDrive - McCain Foods Limited\\Data Update\\distributor_transformation.py:244: SettingWithCopyWarning: \n",
      "A value is trying to be set on a copy of a slice from a DataFrame.\n",
      "Try using .loc[row_indexer,col_indexer] = value instead\n",
      "\n",
      "See the caveats in the documentation: https://pandas.pydata.org/pandas-docs/stable/user_guide/indexing.html#returning-a-view-versus-a-copy\n",
      "  df.loc[:, 'segment_lower'] = df['Segment'].str.strip().str.lower()\n",
      "C:\\Users\\newatter\\OneDrive - McCain Foods Limited\\Data Update\\distributor_transformation.py:245: SettingWithCopyWarning: \n",
      "A value is trying to be set on a copy of a slice from a DataFrame.\n",
      "Try using .loc[row_indexer,col_indexer] = value instead\n",
      "\n",
      "See the caveats in the documentation: https://pandas.pydata.org/pandas-docs/stable/user_guide/indexing.html#returning-a-view-versus-a-copy\n",
      "  df.loc[:, 'account_type_lower'] = df['Account Type'].str.strip().str.lower()\n"
     ]
    },
    {
     "name": "stdout",
     "output_type": "stream",
     "text": [
      "Shape after adding dictionary: (3233613, 41)\n",
      "Nothing missing for COVID Segmentation - L1\n",
      "Nothing missing for products\n"
     ]
    }
   ],
   "source": [
    "df = import_pfg()\n",
    "\n",
    "df_pfg = transform_pfg(df, 'PFG - US.xlsx')"
   ]
  },
  {
   "cell_type": "code",
   "execution_count": 13,
   "metadata": {},
   "outputs": [],
   "source": [
    "df_pfg = df_pfg.groupby(['Calendar Week Year','SKU ID'])['Case Weight Lbs'].sum().reset_index()"
   ]
  },
  {
   "cell_type": "code",
   "execution_count": 14,
   "metadata": {},
   "outputs": [
    {
     "data": {
      "text/html": [
       "<div>\n",
       "<style scoped>\n",
       "    .dataframe tbody tr th:only-of-type {\n",
       "        vertical-align: middle;\n",
       "    }\n",
       "\n",
       "    .dataframe tbody tr th {\n",
       "        vertical-align: top;\n",
       "    }\n",
       "\n",
       "    .dataframe thead th {\n",
       "        text-align: right;\n",
       "    }\n",
       "</style>\n",
       "<table border=\"1\" class=\"dataframe\">\n",
       "  <thead>\n",
       "    <tr style=\"text-align: right;\">\n",
       "      <th></th>\n",
       "      <th>Calendar Week Year</th>\n",
       "      <th>SKU ID</th>\n",
       "      <th>Case Weight Lbs</th>\n",
       "      <th>Product Short Code</th>\n",
       "      <th>Product Group Format</th>\n",
       "      <th>Product Sub Group Format</th>\n",
       "      <th>Distributor</th>\n",
       "    </tr>\n",
       "  </thead>\n",
       "  <tbody>\n",
       "    <tr>\n",
       "      <th>0</th>\n",
       "      <td>202108</td>\n",
       "      <td>1000000496</td>\n",
       "      <td>2340.0</td>\n",
       "      <td>1000000496</td>\n",
       "      <td>SPECIALTY</td>\n",
       "      <td>CUT</td>\n",
       "      <td>PFG</td>\n",
       "    </tr>\n",
       "    <tr>\n",
       "      <th>1</th>\n",
       "      <td>202108</td>\n",
       "      <td>1000000516</td>\n",
       "      <td>352.0</td>\n",
       "      <td>1000000516</td>\n",
       "      <td>APPETIZERS</td>\n",
       "      <td>FORMED CHEESE</td>\n",
       "      <td>PFG</td>\n",
       "    </tr>\n",
       "    <tr>\n",
       "      <th>2</th>\n",
       "      <td>202108</td>\n",
       "      <td>1000000723</td>\n",
       "      <td>30.0</td>\n",
       "      <td>1000000723</td>\n",
       "      <td>DIFFERENTIATED FRIES</td>\n",
       "      <td>BATTERED</td>\n",
       "      <td>PFG</td>\n",
       "    </tr>\n",
       "    <tr>\n",
       "      <th>3</th>\n",
       "      <td>202108</td>\n",
       "      <td>1000000724</td>\n",
       "      <td>120.0</td>\n",
       "      <td>1000000724</td>\n",
       "      <td>CONVENTIONAL FRIES</td>\n",
       "      <td>FROZEN FRIES</td>\n",
       "      <td>PFG</td>\n",
       "    </tr>\n",
       "    <tr>\n",
       "      <th>4</th>\n",
       "      <td>202108</td>\n",
       "      <td>1000000868</td>\n",
       "      <td>1260.0</td>\n",
       "      <td>1000000868</td>\n",
       "      <td>DIFFERENTIATED FRIES</td>\n",
       "      <td>CLEAR COAT</td>\n",
       "      <td>PFG</td>\n",
       "    </tr>\n",
       "  </tbody>\n",
       "</table>\n",
       "</div>"
      ],
      "text/plain": [
       "   Calendar Week Year      SKU ID  Case Weight Lbs Product Short Code  \\\n",
       "0              202108  1000000496           2340.0         1000000496   \n",
       "1              202108  1000000516            352.0         1000000516   \n",
       "2              202108  1000000723             30.0         1000000723   \n",
       "3              202108  1000000724            120.0         1000000724   \n",
       "4              202108  1000000868           1260.0         1000000868   \n",
       "\n",
       "   Product Group Format Product Sub Group Format Distributor  \n",
       "0             SPECIALTY                      CUT         PFG  \n",
       "1            APPETIZERS            FORMED CHEESE         PFG  \n",
       "2  DIFFERENTIATED FRIES                 BATTERED         PFG  \n",
       "3    CONVENTIONAL FRIES             FROZEN FRIES         PFG  \n",
       "4  DIFFERENTIATED FRIES               CLEAR COAT         PFG  "
      ]
     },
     "execution_count": 14,
     "metadata": {},
     "output_type": "execute_result"
    }
   ],
   "source": [
    "df_pfg.loc[:, 'Product Short Code'] = df_pfg['SKU ID'].apply(lambda x: str(x).replace('.0',''))\n",
    "\n",
    "df_pfg2 = df_pfg.merge(dimprod[['Product Short Code','Product Group Format','Product Sub Group Format']], how='left', on=['Product Short Code'])\n",
    "\n",
    "df_pfg2['Distributor'] = 'PFG'\n",
    "\n",
    "df_pfg2.head()"
   ]
  },
  {
   "cell_type": "code",
   "execution_count": 15,
   "metadata": {},
   "outputs": [
    {
     "data": {
      "text/html": [
       "<div>\n",
       "<style scoped>\n",
       "    .dataframe tbody tr th:only-of-type {\n",
       "        vertical-align: middle;\n",
       "    }\n",
       "\n",
       "    .dataframe tbody tr th {\n",
       "        vertical-align: top;\n",
       "    }\n",
       "\n",
       "    .dataframe thead th {\n",
       "        text-align: right;\n",
       "    }\n",
       "</style>\n",
       "<table border=\"1\" class=\"dataframe\">\n",
       "  <thead>\n",
       "    <tr style=\"text-align: right;\">\n",
       "      <th></th>\n",
       "      <th>Calendar Week Year</th>\n",
       "      <th>Product Group Format</th>\n",
       "      <th>Product Sub Group Format</th>\n",
       "      <th>Distributor</th>\n",
       "      <th>LBS</th>\n",
       "    </tr>\n",
       "  </thead>\n",
       "  <tbody>\n",
       "    <tr>\n",
       "      <th>0</th>\n",
       "      <td>202135</td>\n",
       "      <td>APPETIZERS</td>\n",
       "      <td>FORMED CHEESE</td>\n",
       "      <td>Ben E Keith</td>\n",
       "      <td>6043.0</td>\n",
       "    </tr>\n",
       "    <tr>\n",
       "      <th>1</th>\n",
       "      <td>202135</td>\n",
       "      <td>APPETIZERS</td>\n",
       "      <td>FORMED VEGETABLE</td>\n",
       "      <td>Ben E Keith</td>\n",
       "      <td>25260.0</td>\n",
       "    </tr>\n",
       "    <tr>\n",
       "      <th>2</th>\n",
       "      <td>202135</td>\n",
       "      <td>APPETIZERS</td>\n",
       "      <td>ONION RINGS</td>\n",
       "      <td>Ben E Keith</td>\n",
       "      <td>24284.0</td>\n",
       "    </tr>\n",
       "    <tr>\n",
       "      <th>3</th>\n",
       "      <td>202135</td>\n",
       "      <td>APPETIZERS</td>\n",
       "      <td>ONION SHAPES</td>\n",
       "      <td>Ben E Keith</td>\n",
       "      <td>4713.0</td>\n",
       "    </tr>\n",
       "    <tr>\n",
       "      <th>4</th>\n",
       "      <td>202135</td>\n",
       "      <td>APPETIZERS</td>\n",
       "      <td>POPPERS</td>\n",
       "      <td>Ben E Keith</td>\n",
       "      <td>46601.0</td>\n",
       "    </tr>\n",
       "  </tbody>\n",
       "</table>\n",
       "</div>"
      ],
      "text/plain": [
       "   Calendar Week Year Product Group Format Product Sub Group Format  \\\n",
       "0              202135           APPETIZERS            FORMED CHEESE   \n",
       "1              202135           APPETIZERS         FORMED VEGETABLE   \n",
       "2              202135           APPETIZERS              ONION RINGS   \n",
       "3              202135           APPETIZERS             ONION SHAPES   \n",
       "4              202135           APPETIZERS                  POPPERS   \n",
       "\n",
       "   Distributor      LBS  \n",
       "0  Ben E Keith   6043.0  \n",
       "1  Ben E Keith  25260.0  \n",
       "2  Ben E Keith  24284.0  \n",
       "3  Ben E Keith   4713.0  \n",
       "4  Ben E Keith  46601.0  "
      ]
     },
     "execution_count": 15,
     "metadata": {},
     "output_type": "execute_result"
    }
   ],
   "source": [
    "b = df_bek_g2.groupby(['Calendar Week Year','Product Group Format','Product Sub Group Format','Distributor'])['LBS'].sum().reset_index()\n",
    "\n",
    "p = df_pfg2.groupby(['Calendar Week Year','Product Group Format','Product Sub Group Format','Distributor'])['Case Weight Lbs'].sum().reset_index().rename(columns={'Case Weight Lbs':'LBS'})\n",
    "\n",
    "u = df_usfoods_g2.groupby(['Calendar Week Year','Product Group Format','Product Sub Group Format','Distributor'])['LBS'].sum().reset_index()\n",
    "\n",
    "all_df = pd.concat([b, p, u])\n",
    "\n",
    "all_df.head()"
   ]
  },
  {
   "cell_type": "code",
   "execution_count": 16,
   "metadata": {},
   "outputs": [],
   "source": [
    "all_df.to_csv('files/all_df_f22.csv', index=False)"
   ]
  },
  {
   "cell_type": "code",
   "execution_count": null,
   "metadata": {},
   "outputs": [
    {
     "name": "stdout",
     "output_type": "stream",
     "text": [
      "C:\\Users\\newatter\\OneDrive - McCain Foods Limited\\Weekly Update Files\\\\2021-06-18\\Data Sources\\BEK Update.xls\n",
      "(3067, 3)\n",
      "C:\\Users\\newatter\\OneDrive - McCain Foods Limited\\Weekly Update Files\\\\2021-06-25\\Data Sources\\BEK Update.xls\n"
     ]
    }
   ],
   "source": [
    "directory = r'C:\\Users\\newatter\\OneDrive - McCain Foods Limited\\Weekly Update Files\\\\'\n",
    "\n",
    "all_bk = pd.DataFrame()\n",
    "\n",
    "# iterate over files in\n",
    "# that directory\n",
    "for root, dirs, files in os.walk(directory):\n",
    "    for filename in files:\n",
    "        #if last 10 characters = \"_model.csv\" then proceed\n",
    "        if 'BEK Update' in filename:\n",
    "            print(os.path.join(root, filename))\n",
    "            df = import_bek(os.path.join(root, filename))\n",
    "            \n",
    "            df['Week of'].dropna(inplace=True)\n",
    "            \n",
    "            df.loc[:, 'Week of'] = pd.to_datetime(df['Week of'])\n",
    "            \n",
    "            date_min = df['Week of'].min()\n",
    "            date_max = df['Week of'].max()\n",
    "            \n",
    "            #print(df.columns)\n",
    "            #print(df.info())\n",
    "            #display(df.head())\n",
    "            \n",
    "            all_bk = pd.concat([all_bk, df.groupby(['Manufacture Prod.Nbr.','Week of'])['LBS'].sum().reset_index()])\n",
    "            \n",
    "            print(all_bk.shape)\n",
    "            '''\n",
    "            df = pd.concat([df, pd.read_csv(os.path.join(root, filename), dtype={\n",
    "                'sold_to_id':'str', \n",
    "                'sales_order_id':'str', \n",
    "                'dispute_id':'str', \n",
    "                'material_id':'str',\n",
    "                'customer_material_id':'str'})])\n",
    "            '''\n"
   ]
  },
  {
   "cell_type": "code",
   "execution_count": 1,
   "metadata": {},
   "outputs": [],
   "source": [
    "import pyodbc\n",
    "import sqlalchemy\n",
    "from sqlalchemy import create_engine, MetaData, Table\n",
    "from sqlalchemy.engine import URL\n",
    "from datetime import datetime\n",
    "import pandas as pd"
   ]
  },
  {
   "cell_type": "code",
   "execution_count": 2,
   "metadata": {},
   "outputs": [],
   "source": [
    "import pyodbc\n",
    "\n",
    "class sql_conn:\n",
    "    def __init__(self) -> None:\n",
    "        pass\n",
    "\n",
    "    def setup_connection():\n",
    "        server = 'mf-enterprise-dev-sql.46ac3df1733c.database.windows.net'\n",
    "        database = 'PWRAPPDB'\n",
    "        driver = '{ODBC Driver 17 for SQL Server}'\n",
    "\n",
    "        # Establish the database connection using AAD Integrated Authentication\n",
    "        conn_str = (\n",
    "            f'DRIVER={driver};'\n",
    "            f'SERVER=tcp:{server};'\n",
    "            f'DATABASE={database};'\n",
    "            'Authentication=ActiveDirectoryIntegrated'\n",
    "        )\n",
    "\n",
    "        cnxn = pyodbc.connect(conn_str)\n",
    "        cursor = cnxn.cursor()\n",
    "\n",
    "        return cnxn, cursor"
   ]
  },
  {
   "cell_type": "code",
   "execution_count": 3,
   "metadata": {},
   "outputs": [],
   "source": [
    "class us_sellout_compile:\n",
    "    def __init__(self) -> None:\n",
    "        self.data = self.pull_sql()\n",
    "        #self.data_import = self.filter_rows()\n",
    "        #self.delete_rows()\n",
    "        #self.insert_rows()\n",
    "\n",
    "\n",
    "    def pull_sql(self):\n",
    "        sql_string = \"\"\"\n",
    "        WITH sellout_data as (\n",
    "            SELECT\n",
    "            [City], \n",
    "            [State], \n",
    "            [Segmentation L1], \n",
    "            [Segmentation L2], \n",
    "            [Restaurants],\n",
    "            [Consolidated Category], \n",
    "            [Distributor], \n",
    "            [Week Beginning Date],\n",
    "            SUM(LBS) as LBS\n",
    "            FROM [PWRAPPDB].[na_dist].[NA_Distributor_Sellout] as a1\n",
    "            GROUP BY\n",
    "            [City], \n",
    "            [State], \n",
    "            [Segmentation L1], \n",
    "            [Segmentation L2], \n",
    "            [Restaurants],\n",
    "            [Consolidated Category], \n",
    "            [Distributor], \n",
    "            [Week Beginning Date]\n",
    "        )\n",
    "\n",
    "        SELECT * FROM sellout_data\n",
    "\n",
    "        \"\"\"\n",
    "\n",
    "        cnxn, cursor = sql_conn.setup_connection()\n",
    "\n",
    "        df = pd.read_sql(sql_string, cnxn)\n",
    "\n",
    "        # Commit the transactions\n",
    "        cnxn.commit()\n",
    "\n",
    "        # Close the connection\n",
    "        cursor.close()\n",
    "        cnxn.close()\n",
    "\n",
    "        return df\n",
    "    \n",
    "\n",
    "    def setup_miengine():\n",
    "        server = 'mf-enterprise-dev-sql.46ac3df1733c.database.windows.net'\n",
    "        database = 'PWRAPPDB'\n",
    "        driver = '{ODBC Driver 17 for SQL Server}'\n",
    "\n",
    "        # Establish the database connection using AAD Integrated Authentication\n",
    "        conn_str = URL.create(\n",
    "            'mssql+pyodbc',\n",
    "            query={\n",
    "                'odbc_connect':(\n",
    "                    f'DRIVER={driver};'\n",
    "                    f'SERVER=tcp:{server};'\n",
    "                    f'DATABASE={database};'\n",
    "                    'Authentication=ActiveDirectoryIntegrated;'\n",
    "            )\n",
    "            }\n",
    "        )\n",
    "\n",
    "        engine = create_engine(conn_str, connect_args={\"autocommit\": True}, fast_executemany=True, use_insertmanyvalues=False)\n",
    "\n",
    "        return engine\n",
    "\n",
    "    "
   ]
  },
  {
   "cell_type": "code",
   "execution_count": 4,
   "metadata": {},
   "outputs": [
    {
     "name": "stderr",
     "output_type": "stream",
     "text": [
      "C:\\Users\\newatter\\AppData\\Local\\Temp\\1\\ipykernel_15376\\3711492355.py:40: UserWarning: pandas only supports SQLAlchemy connectable (engine/connection) or database string URI or sqlite3 DBAPI2 connection. Other DBAPI2 objects are not tested. Please consider using SQLAlchemy.\n",
      "  df = pd.read_sql(sql_string, cnxn)\n"
     ]
    }
   ],
   "source": [
    "us_sellout = us_sellout_compile().data"
   ]
  },
  {
   "cell_type": "code",
   "execution_count": 10,
   "metadata": {},
   "outputs": [
    {
     "name": "stdout",
     "output_type": "stream",
     "text": [
      "(361065, 9)\n",
      "Index(['City', 'State', 'Segmentation L1', 'Segmentation L2', 'Restaurants',\n",
      "       'Consolidated Category', 'Distributor', 'Week Beginning Date', 'LBS'],\n",
      "      dtype='object')\n",
      "<class 'pandas.core.frame.DataFrame'>\n",
      "RangeIndex: 361065 entries, 0 to 361064\n",
      "Data columns (total 9 columns):\n",
      " #   Column                 Non-Null Count   Dtype  \n",
      "---  ------                 --------------   -----  \n",
      " 0   City                   361065 non-null  object \n",
      " 1   State                  361065 non-null  object \n",
      " 2   Segmentation L1        361059 non-null  object \n",
      " 3   Segmentation L2        361059 non-null  object \n",
      " 4   Restaurants            361059 non-null  object \n",
      " 5   Consolidated Category  361065 non-null  object \n",
      " 6   Distributor            361065 non-null  object \n",
      " 7   Week Beginning Date    361065 non-null  object \n",
      " 8   LBS                    361065 non-null  float64\n",
      "dtypes: float64(1), object(8)\n",
      "memory usage: 24.8+ MB\n",
      "None\n"
     ]
    }
   ],
   "source": [
    "print(us_sellout.shape)\n",
    "print(us_sellout.columns)\n",
    "print(us_sellout.info())"
   ]
  },
  {
   "cell_type": "code",
   "execution_count": 5,
   "metadata": {},
   "outputs": [
    {
     "data": {
      "text/html": [
       "<div>\n",
       "<style scoped>\n",
       "    .dataframe tbody tr th:only-of-type {\n",
       "        vertical-align: middle;\n",
       "    }\n",
       "\n",
       "    .dataframe tbody tr th {\n",
       "        vertical-align: top;\n",
       "    }\n",
       "\n",
       "    .dataframe thead th {\n",
       "        text-align: right;\n",
       "    }\n",
       "</style>\n",
       "<table border=\"1\" class=\"dataframe\">\n",
       "  <thead>\n",
       "    <tr style=\"text-align: right;\">\n",
       "      <th></th>\n",
       "      <th>city</th>\n",
       "      <th>region</th>\n",
       "      <th>covid segmentation - l1</th>\n",
       "      <th>covid segmentation - l2</th>\n",
       "      <th>restaurant service type</th>\n",
       "      <th>consolidated category</th>\n",
       "      <th>distributor</th>\n",
       "      <th>lbs</th>\n",
       "      <th>week ending (sat)</th>\n",
       "    </tr>\n",
       "  </thead>\n",
       "  <tbody>\n",
       "    <tr>\n",
       "      <th>0</th>\n",
       "      <td>Not Available</td>\n",
       "      <td>WA</td>\n",
       "      <td>All Other Restaurants</td>\n",
       "      <td>National Accounts</td>\n",
       "      <td>Restaurants</td>\n",
       "      <td>Potato</td>\n",
       "      <td>US Foods</td>\n",
       "      <td>237.76</td>\n",
       "      <td>2021-09-25</td>\n",
       "    </tr>\n",
       "    <tr>\n",
       "      <th>1</th>\n",
       "      <td>Not Available</td>\n",
       "      <td>CO</td>\n",
       "      <td>Healthcare</td>\n",
       "      <td>Not Applicable</td>\n",
       "      <td>Non-Restaurants</td>\n",
       "      <td>Prepared Foods</td>\n",
       "      <td>US Foods</td>\n",
       "      <td>687.00</td>\n",
       "      <td>2021-06-12</td>\n",
       "    </tr>\n",
       "    <tr>\n",
       "      <th>2</th>\n",
       "      <td>Not Available</td>\n",
       "      <td>AK</td>\n",
       "      <td>All Other Non-Commercial</td>\n",
       "      <td>Not Applicable</td>\n",
       "      <td>Non-Restaurants</td>\n",
       "      <td>Prepared Foods</td>\n",
       "      <td>US Foods</td>\n",
       "      <td>183.00</td>\n",
       "      <td>2022-09-24</td>\n",
       "    </tr>\n",
       "  </tbody>\n",
       "</table>\n",
       "</div>"
      ],
      "text/plain": [
       "            city region   covid segmentation - l1 covid segmentation - l2  \\\n",
       "0  Not Available     WA     All Other Restaurants       National Accounts   \n",
       "1  Not Available     CO                Healthcare          Not Applicable   \n",
       "2  Not Available     AK  All Other Non-Commercial          Not Applicable   \n",
       "\n",
       "  restaurant service type consolidated category distributor     lbs  \\\n",
       "0             Restaurants                Potato    US Foods  237.76   \n",
       "1         Non-Restaurants        Prepared Foods    US Foods  687.00   \n",
       "2         Non-Restaurants        Prepared Foods    US Foods  183.00   \n",
       "\n",
       "  week ending (sat)  \n",
       "0        2021-09-25  \n",
       "1        2021-06-12  \n",
       "2        2022-09-24  "
      ]
     },
     "execution_count": 5,
     "metadata": {},
     "output_type": "execute_result"
    }
   ],
   "source": [
    "from datetime import datetime, timedelta\n",
    "\n",
    "us_sellout['Week Beginning Date'] = pd.to_datetime(us_sellout['Week Beginning Date'])\n",
    "us_sellout['week ending (sat)'] = us_sellout['Week Beginning Date'].apply(lambda x: x + pd.DateOffset(days=6))\n",
    "\n",
    "us_sellout.drop(columns=['Week Beginning Date'], inplace=True)\n",
    "\n",
    "rename_columns = {\n",
    "    'City':'city', \n",
    "    'State':'region',\n",
    "    'Segmentation L1':'covid segmentation - l1',\n",
    "    'Segmentation L2':'covid segmentation - l2', \n",
    "    'Restaurants':'restaurant service type',\n",
    "    'Consolidated Category':'consolidated category',\n",
    "    'Distributor':'distributor',  \n",
    "    'LBS':'lbs'\n",
    "}\n",
    "\n",
    "us_sellout.rename(columns=rename_columns, inplace=True)\n",
    "\n",
    "us_sellout.head(3)"
   ]
  },
  {
   "cell_type": "code",
   "execution_count": 6,
   "metadata": {},
   "outputs": [
    {
     "name": "stdout",
     "output_type": "stream",
     "text": [
      "<class 'pandas.core.frame.DataFrame'>\n",
      "RangeIndex: 14787 entries, 0 to 14786\n",
      "Data columns (total 35 columns):\n",
      " #   Column                   Non-Null Count  Dtype  \n",
      "---  ------                   --------------  -----  \n",
      " 0   City                     0 non-null      float64\n",
      " 1   Region                   0 non-null      float64\n",
      " 2   COVID Segmentation - L1  14787 non-null  object \n",
      " 3   COVID Segmentation - L2  14787 non-null  object \n",
      " 4   Restaurant Service Type  14787 non-null  object \n",
      " 5   Consolidated Category    14787 non-null  object \n",
      " 6   Calendar Week Year       14787 non-null  float64\n",
      " 7   Distributor              14787 non-null  object \n",
      " 8   LBS                      14787 non-null  float64\n",
      " 9   SMA_4                    14787 non-null  float64\n",
      " 10  SMA_8                    14787 non-null  float64\n",
      " 11  SMA_12                   14787 non-null  float64\n",
      " 12  YOY Week                 14787 non-null  int64  \n",
      " 13  LBS_LY                   14787 non-null  float64\n",
      " 14  SMA_4_LY                 14787 non-null  float64\n",
      " 15  SMA_8_LY                 14787 non-null  float64\n",
      " 16  SMA_12_LY                14787 non-null  float64\n",
      " 17  Baseline Week            14787 non-null  int64  \n",
      " 18  LBS_Baseline             14787 non-null  float64\n",
      " 19  SMA_4_Baseline           14787 non-null  float64\n",
      " 20  SMA_8_Baseline           14787 non-null  float64\n",
      " 21  SMA_12_Baseline          14787 non-null  float64\n",
      " 22  LBS_Lag_1                14787 non-null  float64\n",
      " 23  LBS_Lag_2                14787 non-null  float64\n",
      " 24  LBS_Lag_3                14787 non-null  float64\n",
      " 25  LBS_Lag_4                14787 non-null  float64\n",
      " 26  LBS_Baseline_Lag_1       14787 non-null  float64\n",
      " 27  LBS_LY_Lag_1             14787 non-null  float64\n",
      " 28  SMA_4_Lag_1              14787 non-null  float64\n",
      " 29  SMA_4_LY_Lag_1           14787 non-null  float64\n",
      " 30  SMA_4_Baseline_Lag_1     14787 non-null  float64\n",
      " 31  LBS_PRECOVID             14787 non-null  float64\n",
      " 32  Week Starting (Sun)      14787 non-null  object \n",
      " 33  Week Ending (Sat)        14787 non-null  object \n",
      " 34  COVID Week               13833 non-null  float64\n",
      "dtypes: float64(26), int64(2), object(7)\n",
      "memory usage: 3.9+ MB\n"
     ]
    }
   ],
   "source": [
    "ca_sellout = pd.read_csv(r'C:\\Users\\newatter\\OneDrive - McCain Foods Limited\\Data Update\\files\\sellout_region_sysco_ca.zip')\n",
    "\n",
    "ca_sellout.info()"
   ]
  },
  {
   "cell_type": "code",
   "execution_count": 7,
   "metadata": {},
   "outputs": [],
   "source": [
    "columns_to_keep = [\n",
    "    'City', 'Region', 'COVID Segmentation - L1', 'COVID Segmentation - L2',\n",
    "    'Restaurant Service Type', 'Consolidated Category',\n",
    "    'Distributor', 'LBS', 'Week Ending (Sat)'\n",
    "]\n",
    "\n",
    "rename_columns = {\n",
    "    'City':'city', \n",
    "    'Region':'region',\n",
    "    'COVID Segmentation - L1':'covid segmentation - l1',\n",
    "    'COVID Segmentation - L2':'covid segmentation - l2', \n",
    "    'Restaurant Service Type':'restaurant service type',\n",
    "    'Restaurants Sub ':'restuarants sub', \n",
    "    'Consolidated Category':'consolidated category',\n",
    "    'Distributor':'distributor', \n",
    "    'LBS':'lbs',\n",
    "    'Week Ending (Sat)':'week ending (sat)'\n",
    "}"
   ]
  },
  {
   "cell_type": "code",
   "execution_count": 8,
   "metadata": {},
   "outputs": [
    {
     "data": {
      "text/html": [
       "<div>\n",
       "<style scoped>\n",
       "    .dataframe tbody tr th:only-of-type {\n",
       "        vertical-align: middle;\n",
       "    }\n",
       "\n",
       "    .dataframe tbody tr th {\n",
       "        vertical-align: top;\n",
       "    }\n",
       "\n",
       "    .dataframe thead th {\n",
       "        text-align: right;\n",
       "    }\n",
       "</style>\n",
       "<table border=\"1\" class=\"dataframe\">\n",
       "  <thead>\n",
       "    <tr style=\"text-align: right;\">\n",
       "      <th></th>\n",
       "      <th>city</th>\n",
       "      <th>region</th>\n",
       "      <th>covid segmentation - l1</th>\n",
       "      <th>covid segmentation - l2</th>\n",
       "      <th>restaurant service type</th>\n",
       "      <th>consolidated category</th>\n",
       "      <th>distributor</th>\n",
       "      <th>lbs</th>\n",
       "      <th>week ending (sat)</th>\n",
       "    </tr>\n",
       "  </thead>\n",
       "  <tbody>\n",
       "    <tr>\n",
       "      <th>0</th>\n",
       "      <td>NaN</td>\n",
       "      <td>NaN</td>\n",
       "      <td>Accommodation</td>\n",
       "      <td>Hotels, Casinos &amp; Resorts</td>\n",
       "      <td>Not Applicable</td>\n",
       "      <td>Potato</td>\n",
       "      <td>Sysco CA</td>\n",
       "      <td>85247.28</td>\n",
       "      <td>2019-01-05</td>\n",
       "    </tr>\n",
       "    <tr>\n",
       "      <th>1</th>\n",
       "      <td>NaN</td>\n",
       "      <td>NaN</td>\n",
       "      <td>Accommodation</td>\n",
       "      <td>Hotels, Casinos &amp; Resorts</td>\n",
       "      <td>Not Applicable</td>\n",
       "      <td>Potato</td>\n",
       "      <td>Sysco CA</td>\n",
       "      <td>75832.94</td>\n",
       "      <td>2019-01-12</td>\n",
       "    </tr>\n",
       "    <tr>\n",
       "      <th>2</th>\n",
       "      <td>NaN</td>\n",
       "      <td>NaN</td>\n",
       "      <td>Accommodation</td>\n",
       "      <td>Hotels, Casinos &amp; Resorts</td>\n",
       "      <td>Not Applicable</td>\n",
       "      <td>Potato</td>\n",
       "      <td>Sysco CA</td>\n",
       "      <td>87998.29</td>\n",
       "      <td>2019-01-19</td>\n",
       "    </tr>\n",
       "  </tbody>\n",
       "</table>\n",
       "</div>"
      ],
      "text/plain": [
       "   city  region covid segmentation - l1    covid segmentation - l2  \\\n",
       "0   NaN     NaN           Accommodation  Hotels, Casinos & Resorts   \n",
       "1   NaN     NaN           Accommodation  Hotels, Casinos & Resorts   \n",
       "2   NaN     NaN           Accommodation  Hotels, Casinos & Resorts   \n",
       "\n",
       "  restaurant service type consolidated category distributor       lbs  \\\n",
       "0          Not Applicable                Potato    Sysco CA  85247.28   \n",
       "1          Not Applicable                Potato    Sysco CA  75832.94   \n",
       "2          Not Applicable                Potato    Sysco CA  87998.29   \n",
       "\n",
       "  week ending (sat)  \n",
       "0        2019-01-05  \n",
       "1        2019-01-12  \n",
       "2        2019-01-19  "
      ]
     },
     "execution_count": 8,
     "metadata": {},
     "output_type": "execute_result"
    }
   ],
   "source": [
    "ca_sellout_clean = ca_sellout[columns_to_keep].rename(columns=rename_columns)\n",
    "\n",
    "ca_sellout_clean.head(3)"
   ]
  },
  {
   "cell_type": "code",
   "execution_count": 9,
   "metadata": {},
   "outputs": [
    {
     "data": {
      "text/html": [
       "<div>\n",
       "<style scoped>\n",
       "    .dataframe tbody tr th:only-of-type {\n",
       "        vertical-align: middle;\n",
       "    }\n",
       "\n",
       "    .dataframe tbody tr th {\n",
       "        vertical-align: top;\n",
       "    }\n",
       "\n",
       "    .dataframe thead th {\n",
       "        text-align: right;\n",
       "    }\n",
       "</style>\n",
       "<table border=\"1\" class=\"dataframe\">\n",
       "  <thead>\n",
       "    <tr style=\"text-align: right;\">\n",
       "      <th></th>\n",
       "      <th>city</th>\n",
       "      <th>region</th>\n",
       "      <th>covid segmentation - l1</th>\n",
       "      <th>covid segmentation - l2</th>\n",
       "      <th>restaurant service type</th>\n",
       "      <th>consolidated category</th>\n",
       "      <th>distributor</th>\n",
       "      <th>lbs</th>\n",
       "      <th>week ending (sat)</th>\n",
       "    </tr>\n",
       "  </thead>\n",
       "  <tbody>\n",
       "    <tr>\n",
       "      <th>0</th>\n",
       "      <td>Not Available</td>\n",
       "      <td>WA</td>\n",
       "      <td>All Other Restaurants</td>\n",
       "      <td>National Accounts</td>\n",
       "      <td>Restaurants</td>\n",
       "      <td>Potato</td>\n",
       "      <td>US Foods</td>\n",
       "      <td>237.76</td>\n",
       "      <td>2021-09-25</td>\n",
       "    </tr>\n",
       "    <tr>\n",
       "      <th>1</th>\n",
       "      <td>Not Available</td>\n",
       "      <td>CO</td>\n",
       "      <td>Healthcare</td>\n",
       "      <td>Not Applicable</td>\n",
       "      <td>Non-Restaurants</td>\n",
       "      <td>Prepared Foods</td>\n",
       "      <td>US Foods</td>\n",
       "      <td>687.00</td>\n",
       "      <td>2021-06-12</td>\n",
       "    </tr>\n",
       "    <tr>\n",
       "      <th>2</th>\n",
       "      <td>Not Available</td>\n",
       "      <td>AK</td>\n",
       "      <td>All Other Non-Commercial</td>\n",
       "      <td>Not Applicable</td>\n",
       "      <td>Non-Restaurants</td>\n",
       "      <td>Prepared Foods</td>\n",
       "      <td>US Foods</td>\n",
       "      <td>183.00</td>\n",
       "      <td>2022-09-24</td>\n",
       "    </tr>\n",
       "  </tbody>\n",
       "</table>\n",
       "</div>"
      ],
      "text/plain": [
       "            city region   covid segmentation - l1 covid segmentation - l2  \\\n",
       "0  Not Available     WA     All Other Restaurants       National Accounts   \n",
       "1  Not Available     CO                Healthcare          Not Applicable   \n",
       "2  Not Available     AK  All Other Non-Commercial          Not Applicable   \n",
       "\n",
       "  restaurant service type consolidated category distributor     lbs  \\\n",
       "0             Restaurants                Potato    US Foods  237.76   \n",
       "1         Non-Restaurants        Prepared Foods    US Foods  687.00   \n",
       "2         Non-Restaurants        Prepared Foods    US Foods  183.00   \n",
       "\n",
       "  week ending (sat)  \n",
       "0        2021-09-25  \n",
       "1        2021-06-12  \n",
       "2        2022-09-24  "
      ]
     },
     "execution_count": 9,
     "metadata": {},
     "output_type": "execute_result"
    }
   ],
   "source": [
    "sellout = pd.concat([us_sellout, ca_sellout_clean])\n",
    "\n",
    "sellout['week ending (sat)'] = pd.to_datetime(sellout['week ending (sat)'])\n",
    "\n",
    "sellout.head(3)"
   ]
  },
  {
   "cell_type": "code",
   "execution_count": 10,
   "metadata": {},
   "outputs": [],
   "source": [
    "sellout.to_csv(r'C:\\Users\\newatter\\OneDrive - McCain Foods Limited\\North America\\SELLOUT_REGION.csv', index=False)"
   ]
  }
 ],
 "metadata": {
  "kernelspec": {
   "display_name": "Python 3 (ipykernel)",
   "language": "python",
   "name": "python3"
  },
  "language_info": {
   "codemirror_mode": {
    "name": "ipython",
    "version": 3
   },
   "file_extension": ".py",
   "mimetype": "text/x-python",
   "name": "python",
   "nbconvert_exporter": "python",
   "pygments_lexer": "ipython3",
   "version": "3.9.7"
  }
 },
 "nbformat": 4,
 "nbformat_minor": 4
}
