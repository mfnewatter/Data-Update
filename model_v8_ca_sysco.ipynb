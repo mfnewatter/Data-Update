{
 "cells": [
  {
   "cell_type": "markdown",
   "metadata": {},
   "source": [
    "# Sysco CA Sell-out"
   ]
  },
  {
   "cell_type": "markdown",
   "metadata": {},
   "source": [
    "Goal: \n",
    "1. Process Sysco CA data\n",
    "2. Analyze data using COVID segmentation\n",
    "3. Compare sell-out (Sysco CA) to sell-in (McCain) data"
   ]
  },
  {
   "cell_type": "markdown",
   "metadata": {},
   "source": [
    "### 1. Load libraries, initiate folder/file paths\n",
    "Run cell below"
   ]
  },
  {
   "cell_type": "code",
   "execution_count": 1,
   "metadata": {},
   "outputs": [],
   "source": [
    "import pandas as pd\n",
    "import datetime\n",
    "from datetime import datetime as dt\n",
    "import numpy as np\n",
    "import pyodbc\n",
    "\n",
    "from distributor_transformation import transform_sysco_ca, set_dictionary, set_time\n",
    "from sellout_model import process_list, analyze, add_time\n",
    "#from sellout_teradata import teradata_sales\n",
    "from sellout_import import import_sysco_ca, all_df, import_gfs_ca\n",
    "from sellout_azure import azure_sellin"
   ]
  },
  {
   "cell_type": "code",
   "execution_count": 2,
   "metadata": {},
   "outputs": [],
   "source": [
    "DICTIONARY = set_dictionary()\n",
    "TIME = set_time(DICTIONARY)"
   ]
  },
  {
   "cell_type": "code",
   "execution_count": 3,
   "metadata": {},
   "outputs": [
    {
     "name": "stdout",
     "output_type": "stream",
     "text": [
      "Query ran for Sysco CA under sales org CA01 for sales on or before 2025-01-19\n",
      "Query took 24.0 seconds\n",
      "min   2018-07-07\n",
      "max   2025-01-11\n",
      "Name: PeriodEnd, dtype: datetime64[ns]\n"
     ]
    }
   ],
   "source": [
    "data = import_sysco_ca()\n",
    "\n",
    "data['PeriodStart'] = pd.to_datetime(data['PeriodStart'])\n",
    "data['PeriodEnd'] = pd.to_datetime(data['PeriodEnd'])\n",
    "\n",
    "print(data['PeriodEnd'].agg(['min','max']))"
   ]
  },
  {
   "cell_type": "code",
   "execution_count": 12,
   "metadata": {
    "collapsed": true,
    "jupyter": {
     "outputs_hidden": true
    },
    "tags": []
   },
   "outputs": [
    {
     "data": {
      "text/plain": [
       "PeriodEnd\n",
       "2023-12-30     85889.0\n",
       "2024-01-06     86724.0\n",
       "2024-01-13     96381.0\n",
       "2024-01-20     97700.0\n",
       "2024-01-27    104108.0\n",
       "2024-02-03    104856.0\n",
       "2024-02-10    107358.0\n",
       "2024-02-17    107927.0\n",
       "2024-02-24    103584.0\n",
       "2024-03-02    105961.0\n",
       "Name: Cases, dtype: float64"
      ]
     },
     "execution_count": 12,
     "metadata": {},
     "output_type": "execute_result"
    }
   ],
   "source": [
    "data[(data['PeriodEnd'] > '2023-12-29') & (data['PeriodEnd'] < '2024-03-03')].groupby(['PeriodEnd'])['Cases'].sum()[-10:]"
   ]
  },
  {
   "cell_type": "code",
   "execution_count": 4,
   "metadata": {
    "collapsed": true,
    "jupyter": {
     "outputs_hidden": true
    },
    "tags": []
   },
   "outputs": [
    {
     "data": {
      "text/plain": [
       "PeriodEnd\n",
       "2024-09-07    117139.0\n",
       "2024-09-14    107086.0\n",
       "2024-09-21    112427.0\n",
       "2024-09-28    114529.0\n",
       "2024-10-05    151013.0\n",
       "2024-10-12    115906.0\n",
       "2024-10-19    138945.0\n",
       "2024-10-26    112890.0\n",
       "2024-11-02    112615.0\n",
       "2024-11-09    114156.0\n",
       "Name: Cases, dtype: float64"
      ]
     },
     "execution_count": 4,
     "metadata": {},
     "output_type": "execute_result"
    }
   ],
   "source": [
    "data.groupby(['PeriodEnd'])['Cases'].sum()[-10:]"
   ]
  },
  {
   "cell_type": "markdown",
   "metadata": {},
   "source": [
    "### Copy last 5 reporting periods to clipboard\n",
    "- Used to report anomolies back to Graham/data engineers"
   ]
  },
  {
   "cell_type": "code",
   "execution_count": 4,
   "metadata": {},
   "outputs": [
    {
     "name": "stdout",
     "output_type": "stream",
     "text": [
      "Shape before adding dictionary: (179613, 9)\n",
      "Total before dictionary: 806842238.7039424\n",
      "Total after dictionary: 806842238.7039424\n",
      "Shape after adding dictionary: (179613, 16)\n",
      "The following segments are missing:\n",
      "     sector                                            segment   subsegment  \\\n",
      "0    Broker                                              Other          NaN   \n",
      "1       MEU                             Fast Food/ Fast Casual  Bakery Café   \n",
      "2       MEU                                Schools & Education          NaN   \n",
      "3  MEU - IO  Grocery - Convenience & Forecourts/Fuel (Gas) ...          NaN   \n",
      "4       NaN                             Fast Food/ Fast Casual       Others   \n",
      "\n",
      "     LBS  \n",
      "0   58.4  \n",
      "1   13.5  \n",
      "2   30.0  \n",
      "3  156.0  \n",
      "4  418.0  \n"
     ]
    }
   ],
   "source": [
    "_base = transform_sysco_ca(data, 'Sysco - CA.xlsx')"
   ]
  },
  {
   "cell_type": "code",
   "execution_count": 5,
   "metadata": {},
   "outputs": [
    {
     "name": "stdout",
     "output_type": "stream",
     "text": [
      "Processing Region\n"
     ]
    }
   ],
   "source": [
    "_list = []\n",
    "\n",
    "#Output 1: COVID L1 - List 0\n",
    "_list.append(['City', 'Region','COVID Segmentation - L1','COVID Segmentation - L2','Restaurant Service Type','Consolidated Category'])\n",
    "\n",
    "print(f'Processing Region', flush = True)\n",
    "\n",
    "output1 = process_list(_base, _list[0], 'Sysco CA')"
   ]
  },
  {
   "cell_type": "code",
   "execution_count": 10,
   "metadata": {},
   "outputs": [
    {
     "name": "stdout",
     "output_type": "stream",
     "text": [
      "Processing Sell in vs Sell out\n",
      "Query ran for 6500002815','6500002893 under sales org CA01 for sales on or before 2024-05-12\n",
      "All done, took 50.0 seconds...\n"
     ]
    }
   ],
   "source": [
    "print(f'Processing Sell in vs Sell out', flush = True)\n",
    "output2 = azure_sellin(_base, 'CA01', \"','\".join(['6500002815', '6500002893']), 'Sysco CA')\n"
   ]
  },
  {
   "cell_type": "code",
   "execution_count": 6,
   "metadata": {},
   "outputs": [],
   "source": [
    "output1.to_csv('files/sellout_region_sysco_ca.zip', compression='zip', index=False)\n",
    "#output2.to_csv('files/sellout_sellin_sysco_ca.zip', compression='zip', index=False)"
   ]
  },
  {
   "cell_type": "code",
   "execution_count": 8,
   "metadata": {},
   "outputs": [
    {
     "data": {
      "text/html": [
       "<div>\n",
       "<style scoped>\n",
       "    .dataframe tbody tr th:only-of-type {\n",
       "        vertical-align: middle;\n",
       "    }\n",
       "\n",
       "    .dataframe tbody tr th {\n",
       "        vertical-align: top;\n",
       "    }\n",
       "\n",
       "    .dataframe thead th {\n",
       "        text-align: right;\n",
       "    }\n",
       "</style>\n",
       "<table border=\"1\" class=\"dataframe\">\n",
       "  <thead>\n",
       "    <tr style=\"text-align: right;\">\n",
       "      <th></th>\n",
       "      <th>City</th>\n",
       "      <th>Region</th>\n",
       "      <th>COVID Segmentation - L1</th>\n",
       "      <th>COVID Segmentation - L2</th>\n",
       "      <th>Restaurant Service Type</th>\n",
       "      <th>Consolidated Category</th>\n",
       "      <th>Calendar Week Year</th>\n",
       "      <th>Distributor</th>\n",
       "      <th>LBS</th>\n",
       "      <th>SMA_4</th>\n",
       "      <th>...</th>\n",
       "      <th>LBS_Lag_4</th>\n",
       "      <th>LBS_Baseline_Lag_1</th>\n",
       "      <th>LBS_LY_Lag_1</th>\n",
       "      <th>SMA_4_Lag_1</th>\n",
       "      <th>SMA_4_LY_Lag_1</th>\n",
       "      <th>SMA_4_Baseline_Lag_1</th>\n",
       "      <th>LBS_PRECOVID</th>\n",
       "      <th>Week Starting (Sun)</th>\n",
       "      <th>Week Ending (Sat)</th>\n",
       "      <th>COVID Week</th>\n",
       "    </tr>\n",
       "  </thead>\n",
       "  <tbody>\n",
       "    <tr>\n",
       "      <th>0</th>\n",
       "      <td>NaN</td>\n",
       "      <td>NaN</td>\n",
       "      <td>Accommodation</td>\n",
       "      <td>Hotels, Casinos &amp; Resorts</td>\n",
       "      <td>Not Applicable</td>\n",
       "      <td>Potato</td>\n",
       "      <td>201901.0</td>\n",
       "      <td>Sysco CA</td>\n",
       "      <td>83768.28</td>\n",
       "      <td>83768.28</td>\n",
       "      <td>...</td>\n",
       "      <td>0.00</td>\n",
       "      <td>2.00</td>\n",
       "      <td>2.00</td>\n",
       "      <td>0.00</td>\n",
       "      <td>0.0</td>\n",
       "      <td>0.00</td>\n",
       "      <td>53329.81</td>\n",
       "      <td>2018-12-30</td>\n",
       "      <td>2019-01-05</td>\n",
       "      <td>0.0</td>\n",
       "    </tr>\n",
       "    <tr>\n",
       "      <th>1</th>\n",
       "      <td>NaN</td>\n",
       "      <td>NaN</td>\n",
       "      <td>Accommodation</td>\n",
       "      <td>Hotels, Casinos &amp; Resorts</td>\n",
       "      <td>Not Applicable</td>\n",
       "      <td>Potato</td>\n",
       "      <td>201902.0</td>\n",
       "      <td>Sysco CA</td>\n",
       "      <td>75071.63</td>\n",
       "      <td>79419.95</td>\n",
       "      <td>...</td>\n",
       "      <td>0.00</td>\n",
       "      <td>83768.28</td>\n",
       "      <td>83768.28</td>\n",
       "      <td>83768.28</td>\n",
       "      <td>0.0</td>\n",
       "      <td>83768.28</td>\n",
       "      <td>53329.81</td>\n",
       "      <td>2019-01-06</td>\n",
       "      <td>2019-01-12</td>\n",
       "      <td>0.0</td>\n",
       "    </tr>\n",
       "    <tr>\n",
       "      <th>2</th>\n",
       "      <td>NaN</td>\n",
       "      <td>NaN</td>\n",
       "      <td>Accommodation</td>\n",
       "      <td>Hotels, Casinos &amp; Resorts</td>\n",
       "      <td>Not Applicable</td>\n",
       "      <td>Potato</td>\n",
       "      <td>201903.0</td>\n",
       "      <td>Sysco CA</td>\n",
       "      <td>87217.60</td>\n",
       "      <td>82019.17</td>\n",
       "      <td>...</td>\n",
       "      <td>0.00</td>\n",
       "      <td>75071.63</td>\n",
       "      <td>75071.63</td>\n",
       "      <td>79419.95</td>\n",
       "      <td>0.0</td>\n",
       "      <td>79419.95</td>\n",
       "      <td>53329.81</td>\n",
       "      <td>2019-01-13</td>\n",
       "      <td>2019-01-19</td>\n",
       "      <td>0.0</td>\n",
       "    </tr>\n",
       "    <tr>\n",
       "      <th>3</th>\n",
       "      <td>NaN</td>\n",
       "      <td>NaN</td>\n",
       "      <td>Accommodation</td>\n",
       "      <td>Hotels, Casinos &amp; Resorts</td>\n",
       "      <td>Not Applicable</td>\n",
       "      <td>Potato</td>\n",
       "      <td>201904.0</td>\n",
       "      <td>Sysco CA</td>\n",
       "      <td>86529.45</td>\n",
       "      <td>83146.74</td>\n",
       "      <td>...</td>\n",
       "      <td>0.00</td>\n",
       "      <td>87217.60</td>\n",
       "      <td>87217.60</td>\n",
       "      <td>82019.17</td>\n",
       "      <td>0.0</td>\n",
       "      <td>82019.17</td>\n",
       "      <td>53329.81</td>\n",
       "      <td>2019-01-20</td>\n",
       "      <td>2019-01-26</td>\n",
       "      <td>0.0</td>\n",
       "    </tr>\n",
       "    <tr>\n",
       "      <th>4</th>\n",
       "      <td>NaN</td>\n",
       "      <td>NaN</td>\n",
       "      <td>Accommodation</td>\n",
       "      <td>Hotels, Casinos &amp; Resorts</td>\n",
       "      <td>Not Applicable</td>\n",
       "      <td>Potato</td>\n",
       "      <td>201905.0</td>\n",
       "      <td>Sysco CA</td>\n",
       "      <td>92675.02</td>\n",
       "      <td>85373.42</td>\n",
       "      <td>...</td>\n",
       "      <td>83768.28</td>\n",
       "      <td>86529.45</td>\n",
       "      <td>86529.45</td>\n",
       "      <td>83146.74</td>\n",
       "      <td>0.0</td>\n",
       "      <td>83146.74</td>\n",
       "      <td>53329.81</td>\n",
       "      <td>2019-01-27</td>\n",
       "      <td>2019-02-02</td>\n",
       "      <td>0.0</td>\n",
       "    </tr>\n",
       "  </tbody>\n",
       "</table>\n",
       "<p>5 rows × 35 columns</p>\n",
       "</div>"
      ],
      "text/plain": [
       "   City  Region COVID Segmentation - L1    COVID Segmentation - L2  \\\n",
       "0   NaN     NaN           Accommodation  Hotels, Casinos & Resorts   \n",
       "1   NaN     NaN           Accommodation  Hotels, Casinos & Resorts   \n",
       "2   NaN     NaN           Accommodation  Hotels, Casinos & Resorts   \n",
       "3   NaN     NaN           Accommodation  Hotels, Casinos & Resorts   \n",
       "4   NaN     NaN           Accommodation  Hotels, Casinos & Resorts   \n",
       "\n",
       "  Restaurant Service Type Consolidated Category  Calendar Week Year  \\\n",
       "0          Not Applicable                Potato            201901.0   \n",
       "1          Not Applicable                Potato            201902.0   \n",
       "2          Not Applicable                Potato            201903.0   \n",
       "3          Not Applicable                Potato            201904.0   \n",
       "4          Not Applicable                Potato            201905.0   \n",
       "\n",
       "  Distributor       LBS     SMA_4  ...  LBS_Lag_4  LBS_Baseline_Lag_1  \\\n",
       "0    Sysco CA  83768.28  83768.28  ...       0.00                2.00   \n",
       "1    Sysco CA  75071.63  79419.95  ...       0.00            83768.28   \n",
       "2    Sysco CA  87217.60  82019.17  ...       0.00            75071.63   \n",
       "3    Sysco CA  86529.45  83146.74  ...       0.00            87217.60   \n",
       "4    Sysco CA  92675.02  85373.42  ...   83768.28            86529.45   \n",
       "\n",
       "   LBS_LY_Lag_1  SMA_4_Lag_1  SMA_4_LY_Lag_1  SMA_4_Baseline_Lag_1  \\\n",
       "0          2.00         0.00             0.0                  0.00   \n",
       "1      83768.28     83768.28             0.0              83768.28   \n",
       "2      75071.63     79419.95             0.0              79419.95   \n",
       "3      87217.60     82019.17             0.0              82019.17   \n",
       "4      86529.45     83146.74             0.0              83146.74   \n",
       "\n",
       "   LBS_PRECOVID  Week Starting (Sun)  Week Ending (Sat)  COVID Week  \n",
       "0      53329.81           2018-12-30         2019-01-05         0.0  \n",
       "1      53329.81           2019-01-06         2019-01-12         0.0  \n",
       "2      53329.81           2019-01-13         2019-01-19         0.0  \n",
       "3      53329.81           2019-01-20         2019-01-26         0.0  \n",
       "4      53329.81           2019-01-27         2019-02-02         0.0  \n",
       "\n",
       "[5 rows x 35 columns]"
      ]
     },
     "execution_count": 8,
     "metadata": {},
     "output_type": "execute_result"
    }
   ],
   "source": [
    "test = pd.read_csv('files/sellout_region_sysco_ca.zip', compression='zip')\n",
    "\n",
    "test.head()"
   ]
  },
  {
   "cell_type": "code",
   "execution_count": 9,
   "metadata": {},
   "outputs": [
    {
     "data": {
      "text/plain": [
       "'2024-11-09'"
      ]
     },
     "execution_count": 9,
     "metadata": {},
     "output_type": "execute_result"
    }
   ],
   "source": [
    "mask = (test['Distributor'] == 'Sysco CA')\n",
    "\n",
    "test[mask]['Week Ending (Sat)'].max()"
   ]
  },
  {
   "cell_type": "markdown",
   "metadata": {},
   "source": [
    "## GFS"
   ]
  },
  {
   "cell_type": "code",
   "execution_count": 9,
   "metadata": {
    "tags": []
   },
   "outputs": [
    {
     "name": "stdout",
     "output_type": "stream",
     "text": [
      "Query ran for GFS CA under sales org CA01 for sales on or before 2024-02-25\n",
      "Query took 17.0 seconds\n"
     ]
    }
   ],
   "source": [
    "data_gfs = import_gfs_ca()"
   ]
  },
  {
   "cell_type": "code",
   "execution_count": 10,
   "metadata": {},
   "outputs": [
    {
     "data": {
      "text/html": [
       "<div>\n",
       "<style scoped>\n",
       "    .dataframe tbody tr th:only-of-type {\n",
       "        vertical-align: middle;\n",
       "    }\n",
       "\n",
       "    .dataframe tbody tr th {\n",
       "        vertical-align: top;\n",
       "    }\n",
       "\n",
       "    .dataframe thead th {\n",
       "        text-align: right;\n",
       "    }\n",
       "</style>\n",
       "<table border=\"1\" class=\"dataframe\">\n",
       "  <thead>\n",
       "    <tr style=\"text-align: right;\">\n",
       "      <th></th>\n",
       "      <th>PeriodStart</th>\n",
       "      <th>PeriodEnd</th>\n",
       "      <th>sector</th>\n",
       "      <th>segment</th>\n",
       "      <th>subsegment</th>\n",
       "      <th>category</th>\n",
       "      <th>LBS</th>\n",
       "      <th>Cases</th>\n",
       "    </tr>\n",
       "  </thead>\n",
       "  <tbody>\n",
       "  </tbody>\n",
       "</table>\n",
       "</div>"
      ],
      "text/plain": [
       "Empty DataFrame\n",
       "Columns: [PeriodStart, PeriodEnd, sector, segment, subsegment, category, LBS, Cases]\n",
       "Index: []"
      ]
     },
     "execution_count": 10,
     "metadata": {},
     "output_type": "execute_result"
    }
   ],
   "source": [
    "data_gfs.head()"
   ]
  },
  {
   "cell_type": "code",
   "execution_count": 16,
   "metadata": {
    "collapsed": true,
    "jupyter": {
     "outputs_hidden": true,
     "source_hidden": true
    },
    "tags": []
   },
   "outputs": [
    {
     "name": "stdout",
     "output_type": "stream",
     "text": [
      "Query ran for Sysco CA under sales org CA01 for sales on or before 2022-07-24\n"
     ]
    },
    {
     "name": "stderr",
     "output_type": "stream",
     "text": [
      "C:\\Users\\newatter\\Miniconda3\\lib\\site-packages\\pandas\\io\\sql.py:761: UserWarning: pandas only support SQLAlchemy connectable(engine/connection) ordatabase string URI or sqlite3 DBAPI2 connectionother DBAPI2 objects are not tested, please consider using SQLAlchemy\n",
      "  warnings.warn(\n"
     ]
    },
    {
     "name": "stdout",
     "output_type": "stream",
     "text": [
      "Query took 10.0 seconds\n"
     ]
    }
   ],
   "source": [
    "import pyodbc\n",
    "\n",
    "_start = dt.now()\n",
    "\n",
    "server = 'azure-synapse-workspace-01-prod.sql.azuresynapse.net'\n",
    "database = 'GDASQLPool01PROD'\n",
    "driver= '{ODBC Driver 17 for SQL Server}'\n",
    "active = 'ActiveDirectoryIntegrated'\n",
    "\n",
    "cnxn = pyodbc.connect('DRIVER='+driver+';SERVER=tcp:'+server+';PORT=1433;DATABASE='+database+';Authentication='+active)\n",
    "\n",
    "date = dt.now()\n",
    "date = date - datetime.timedelta(days=date.weekday()+1)\n",
    "date = date.strftime('%Y-%m-%d')\n",
    "\n",
    "print(f'Query ran for Sysco CA under sales org CA01 for sales on or before {date}')\n",
    "\n",
    "sql = '''\n",
    "    SELECT\n",
    "    a1.[PeriodStart]\n",
    "    ,a1.[PeriodEnd]\n",
    "    ,a2.[Sector__c] as sector\n",
    "    ,a2.[Operator_Segment__c] as segment\n",
    "    ,a2.[Sub_Segment__c] as subsegment\n",
    "    ,a3.[Product_Category__c] as category\n",
    "    ,SUM(a1.[SalesLbs]) as LBS\n",
    "    FROM [BI].[Factsellout] as a1\n",
    "    JOIN [cur].[account] as a2\n",
    "        on a1.[OperatorID] = a2.[Id]\n",
    "    LEFT JOIN [cur].[product2] as a3\n",
    "        on REPLACE(LTRIM(REPLACE(a1.[ProductId], '0', ' ')), ' ', '0') = a3.[ProductCode]\n",
    "    GROUP BY\n",
    "    a1.[PeriodStart]\n",
    "    ,a1.[PeriodEnd]\n",
    "    ,a2.[Sector__c]\n",
    "    ,a2.[Operator_Segment__c]\n",
    "    ,a2.[Sub_Segment__c]\n",
    "    ,a3.[Product_Category__c]\n",
    "'''\n",
    "\n",
    "data =  pd.read_sql(sql,cnxn)\n",
    "\n",
    "_end = dt.now()\n",
    "\n",
    "_diff = _end - _start\n",
    "\n",
    "print(f'Query took {\"{:.1f}\".format(_diff.seconds)} seconds')"
   ]
  },
  {
   "cell_type": "code",
   "execution_count": 12,
   "metadata": {
    "tags": []
   },
   "outputs": [
    {
     "data": {
      "text/plain": [
       "min   NaN\n",
       "max   NaN\n",
       "Name: PeriodStart, dtype: float64"
      ]
     },
     "execution_count": 12,
     "metadata": {},
     "output_type": "execute_result"
    }
   ],
   "source": [
    "data_gfs['PeriodStart'].agg(['min','max'])"
   ]
  },
  {
   "cell_type": "code",
   "execution_count": null,
   "metadata": {},
   "outputs": [],
   "source": [
    "gfs = transform_gfs_ca(data, 'GFS - CA.xlsx')"
   ]
  },
  {
   "cell_type": "markdown",
   "metadata": {},
   "source": [
    "# Old Method"
   ]
  },
  {
   "cell_type": "code",
   "execution_count": 9,
   "metadata": {
    "collapsed": true,
    "jupyter": {
     "outputs_hidden": true
    },
    "tags": []
   },
   "outputs": [
    {
     "data": {
      "text/plain": [
       "Casual Dining                                     780\n",
       "Accommodation                                     520\n",
       "Elderly Care Homes                                520\n",
       "Grocery - Convenience                             520\n",
       "Schools & Education                               520\n",
       "QSR / Fast Casual                                 520\n",
       "Public Sector (On site)                           260\n",
       "Travel/Transport                                  260\n",
       "Region Chains                                     260\n",
       "Recreation                                        260\n",
       "Workplace Canteens                                260\n",
       "Non-Defined Segment                               260\n",
       "Independents (IOs) / Local Eateries / Takeaway    260\n",
       "Hospitals & Healthcare Facilities                 260\n",
       "Healthcare                                        260\n",
       "Prisons / Corrections                             130\n",
       "Bars & Pubs                                       130\n",
       "Other / Unknown                                   130\n",
       "Name: COVID Segmentation - L1, dtype: int64"
      ]
     },
     "execution_count": 9,
     "metadata": {},
     "output_type": "execute_result"
    }
   ],
   "source": [
    "output1['COVID Segmentation - L1'].value_counts(dropna=False)"
   ]
  },
  {
   "cell_type": "code",
   "execution_count": 10,
   "metadata": {},
   "outputs": [
    {
     "data": {
      "text/plain": [
       "Index(['City', 'Region', 'COVID Segmentation - L1', 'COVID Segmentation - L2',\n",
       "       'Restaurant Service Type', 'Consolidated Category',\n",
       "       'Calendar Week Year', 'Distributor', 'LBS', 'SMA_4', 'SMA_8', 'SMA_12',\n",
       "       'YOY Week', 'LBS_LY', 'SMA_4_LY', 'SMA_8_LY', 'SMA_12_LY',\n",
       "       'Baseline Week', 'LBS_Baseline', 'SMA_4_Baseline', 'SMA_8_Baseline',\n",
       "       'SMA_12_Baseline', 'LBS_Lag_1', 'LBS_Lag_2', 'LBS_Lag_3', 'LBS_Lag_4',\n",
       "       'LBS_Baseline_Lag_1', 'LBS_LY_Lag_1', 'SMA_4_Lag_1', 'SMA_4_LY_Lag_1',\n",
       "       'SMA_4_Baseline_Lag_1', 'LBS_PRECOVID', 'Week Starting (Sun)',\n",
       "       'Week Ending (Sat)', 'COVID Week'],\n",
       "      dtype='object')"
      ]
     },
     "execution_count": 10,
     "metadata": {},
     "output_type": "execute_result"
    }
   ],
   "source": [
    "output1.columns"
   ]
  },
  {
   "cell_type": "code",
   "execution_count": 27,
   "metadata": {},
   "outputs": [
    {
     "data": {
      "image/png": "[encoded data removed]",
      "text/plain": [
       "<Figure size 720x432 with 1 Axes>"
      ]
     },
     "metadata": {
      "needs_background": "light"
     },
     "output_type": "display_data"
    }
   ],
   "source": [
    "import matplotlib.pyplot as plt\n",
    "from matplotlib.ticker import (MultipleLocator,\n",
    "                               FormatStrFormatter,\n",
    "                               AutoMinorLocator,\n",
    "                               PercentFormatter,\n",
    "                               StrMethodFormatter)\n",
    "from matplotlib.dates import DateFormatter\n",
    "\n",
    "fig, ax = plt.subplots()\n",
    "        \n",
    "ax.plot('Week Ending (Sat)', 'LBS', data=output1.groupby('Week Ending (Sat)')['LBS'].sum().reset_index())\n",
    "#ax.plot('month_begin','lost_freight_pred', data=data4)\n",
    "#ax.plot('month_begin','shortedquantitycs', data=data4)\n",
    "#ax.legend(['total_other', 'lost_freight_pred', 'Short Cases'])\n",
    "\n",
    "ax.yaxis.set_major_formatter(StrMethodFormatter('{x:,.0f}'))\n",
    "ax.set_ylabel('LBS')\n",
    "\n",
    "fig.set_size_inches((10, 6))\n",
    "\n",
    "# Tight layout to realign things\n",
    "fig.tight_layout()\n",
    "plt.show()"
   ]
  },
  {
   "cell_type": "code",
   "execution_count": 11,
   "metadata": {},
   "outputs": [
    {
     "ename": "KeyError",
     "evalue": "'Column not found: Cases'",
     "output_type": "error",
     "traceback": [
      "\u001b[1;31m---------------------------------------------------------------------------\u001b[0m",
      "\u001b[1;31mKeyError\u001b[0m                                  Traceback (most recent call last)",
      "Input \u001b[1;32mIn [11]\u001b[0m, in \u001b[0;36m<cell line: 1>\u001b[1;34m()\u001b[0m\n\u001b[1;32m----> 1\u001b[0m \u001b[43moutput1\u001b[49m\u001b[38;5;241;43m.\u001b[39;49m\u001b[43mgroupby\u001b[49m\u001b[43m(\u001b[49m\u001b[38;5;124;43m'\u001b[39;49m\u001b[38;5;124;43mWeek Ending (Sat)\u001b[39;49m\u001b[38;5;124;43m'\u001b[39;49m\u001b[43m)\u001b[49m\u001b[43m[\u001b[49m\u001b[38;5;124;43m'\u001b[39;49m\u001b[38;5;124;43mCases\u001b[39;49m\u001b[38;5;124;43m'\u001b[39;49m\u001b[43m]\u001b[49m\u001b[38;5;241m.\u001b[39msum()[\u001b[38;5;241m-\u001b[39m\u001b[38;5;241m5\u001b[39m:]\u001b[38;5;241m.\u001b[39mreset_index()\n",
      "File \u001b[1;32m~\\AppData\\Roaming\\Python\\Python39\\site-packages\\pandas\\core\\groupby\\generic.py:1773\u001b[0m, in \u001b[0;36mDataFrameGroupBy.__getitem__\u001b[1;34m(self, key)\u001b[0m\n\u001b[0;32m   1766\u001b[0m \u001b[38;5;28;01mif\u001b[39;00m \u001b[38;5;28misinstance\u001b[39m(key, \u001b[38;5;28mtuple\u001b[39m) \u001b[38;5;129;01mand\u001b[39;00m \u001b[38;5;28mlen\u001b[39m(key) \u001b[38;5;241m>\u001b[39m \u001b[38;5;241m1\u001b[39m:\n\u001b[0;32m   1767\u001b[0m     \u001b[38;5;66;03m# if len == 1, then it becomes a SeriesGroupBy and this is actually\u001b[39;00m\n\u001b[0;32m   1768\u001b[0m     \u001b[38;5;66;03m# valid syntax, so don't raise\u001b[39;00m\n\u001b[0;32m   1769\u001b[0m     \u001b[38;5;28;01mraise\u001b[39;00m \u001b[38;5;167;01mValueError\u001b[39;00m(\n\u001b[0;32m   1770\u001b[0m         \u001b[38;5;124m\"\u001b[39m\u001b[38;5;124mCannot subset columns with a tuple with more than one element. \u001b[39m\u001b[38;5;124m\"\u001b[39m\n\u001b[0;32m   1771\u001b[0m         \u001b[38;5;124m\"\u001b[39m\u001b[38;5;124mUse a list instead.\u001b[39m\u001b[38;5;124m\"\u001b[39m\n\u001b[0;32m   1772\u001b[0m     )\n\u001b[1;32m-> 1773\u001b[0m \u001b[38;5;28;01mreturn\u001b[39;00m \u001b[38;5;28;43msuper\u001b[39;49m\u001b[43m(\u001b[49m\u001b[43m)\u001b[49m\u001b[38;5;241;43m.\u001b[39;49m\u001b[38;5;21;43m__getitem__\u001b[39;49m\u001b[43m(\u001b[49m\u001b[43mkey\u001b[49m\u001b[43m)\u001b[49m\n",
      "File \u001b[1;32m~\\AppData\\Roaming\\Python\\Python39\\site-packages\\pandas\\core\\base.py:244\u001b[0m, in \u001b[0;36mSelectionMixin.__getitem__\u001b[1;34m(self, key)\u001b[0m\n\u001b[0;32m    242\u001b[0m \u001b[38;5;28;01melse\u001b[39;00m:\n\u001b[0;32m    243\u001b[0m     \u001b[38;5;28;01mif\u001b[39;00m key \u001b[38;5;129;01mnot\u001b[39;00m \u001b[38;5;129;01min\u001b[39;00m \u001b[38;5;28mself\u001b[39m\u001b[38;5;241m.\u001b[39mobj:\n\u001b[1;32m--> 244\u001b[0m         \u001b[38;5;28;01mraise\u001b[39;00m \u001b[38;5;167;01mKeyError\u001b[39;00m(\u001b[38;5;124mf\u001b[39m\u001b[38;5;124m\"\u001b[39m\u001b[38;5;124mColumn not found: \u001b[39m\u001b[38;5;132;01m{\u001b[39;00mkey\u001b[38;5;132;01m}\u001b[39;00m\u001b[38;5;124m\"\u001b[39m)\n\u001b[0;32m    245\u001b[0m     ndim \u001b[38;5;241m=\u001b[39m \u001b[38;5;28mself\u001b[39m\u001b[38;5;241m.\u001b[39mobj[key]\u001b[38;5;241m.\u001b[39mndim\n\u001b[0;32m    246\u001b[0m     \u001b[38;5;28;01mreturn\u001b[39;00m \u001b[38;5;28mself\u001b[39m\u001b[38;5;241m.\u001b[39m_gotitem(key, ndim\u001b[38;5;241m=\u001b[39mndim)\n",
      "\u001b[1;31mKeyError\u001b[0m: 'Column not found: Cases'"
     ]
    }
   ],
   "source": [
    "output1.groupby('Week Ending (Sat)')['Cases'].sum()[-5:].reset_index()"
   ]
  },
  {
   "cell_type": "code",
   "execution_count": 10,
   "metadata": {},
   "outputs": [
    {
     "data": {
      "text/plain": [
       "Week Ending (Sat)\n",
       "2023-02-11    0.033642\n",
       "2023-02-18    0.041010\n",
       "2023-02-25   -0.045159\n",
       "2023-03-04   -0.004143\n",
       "2023-03-11   -0.000327\n",
       "2023-03-18    0.018091\n",
       "Name: LBS, dtype: float64"
      ]
     },
     "execution_count": 10,
     "metadata": {},
     "output_type": "execute_result"
    }
   ],
   "source": [
    "output1.groupby('Week Ending (Sat)')['LBS'].sum().pct_change(periods=1)[-6:]"
   ]
  },
  {
   "cell_type": "code",
   "execution_count": 28,
   "metadata": {},
   "outputs": [
    {
     "data": {
      "image/png": "[encoded data removed]",
      "text/plain": [
       "<Figure size 720x432 with 1 Axes>"
      ]
     },
     "metadata": {
      "needs_background": "light"
     },
     "output_type": "display_data"
    }
   ],
   "source": [
    "fig, ax = plt.subplots()\n",
    "\n",
    "output1.groupby('Week Ending (Sat)')['LBS'].sum().pct_change(periods=1)[-20:].plot(kind='bar', ax=ax)\n",
    "\n",
    "ax.yaxis.set_major_formatter(StrMethodFormatter('{x:,.0%}'))\n",
    "ax.xaxis.set_major_formatter(DateFormatter('%m-%d'))\n",
    "\n",
    "fig.set_size_inches((10, 6))\n",
    "\n",
    "# Tight layout to realign things\n",
    "fig.tight_layout()\n",
    "plt.show()"
   ]
  },
  {
   "cell_type": "code",
   "execution_count": 11,
   "metadata": {
    "tags": []
   },
   "outputs": [
    {
     "data": {
      "text/html": [
       "<div>\n",
       "<style scoped>\n",
       "    .dataframe tbody tr th:only-of-type {\n",
       "        vertical-align: middle;\n",
       "    }\n",
       "\n",
       "    .dataframe tbody tr th {\n",
       "        vertical-align: top;\n",
       "    }\n",
       "\n",
       "    .dataframe thead th {\n",
       "        text-align: right;\n",
       "    }\n",
       "</style>\n",
       "<table border=\"1\" class=\"dataframe\">\n",
       "  <thead>\n",
       "    <tr style=\"text-align: right;\">\n",
       "      <th></th>\n",
       "      <th>COVID Segmentation - L1</th>\n",
       "      <th>LBS</th>\n",
       "    </tr>\n",
       "  </thead>\n",
       "  <tbody>\n",
       "    <tr>\n",
       "      <th>0</th>\n",
       "      <td>QSR / Fast Casual</td>\n",
       "      <td>1.306453e+08</td>\n",
       "    </tr>\n",
       "    <tr>\n",
       "      <th>1</th>\n",
       "      <td>Casual Dining</td>\n",
       "      <td>7.300451e+07</td>\n",
       "    </tr>\n",
       "    <tr>\n",
       "      <th>2</th>\n",
       "      <td>Non-Defined Segment</td>\n",
       "      <td>2.608745e+07</td>\n",
       "    </tr>\n",
       "    <tr>\n",
       "      <th>3</th>\n",
       "      <td>Workplace Canteens</td>\n",
       "      <td>9.205486e+06</td>\n",
       "    </tr>\n",
       "    <tr>\n",
       "      <th>4</th>\n",
       "      <td>Accommodation</td>\n",
       "      <td>8.892585e+06</td>\n",
       "    </tr>\n",
       "    <tr>\n",
       "      <th>5</th>\n",
       "      <td>Elderly Care Homes</td>\n",
       "      <td>8.439799e+06</td>\n",
       "    </tr>\n",
       "    <tr>\n",
       "      <th>6</th>\n",
       "      <td>Travel/Transport</td>\n",
       "      <td>8.055886e+06</td>\n",
       "    </tr>\n",
       "    <tr>\n",
       "      <th>7</th>\n",
       "      <td>Schools &amp; Education</td>\n",
       "      <td>4.813077e+06</td>\n",
       "    </tr>\n",
       "    <tr>\n",
       "      <th>8</th>\n",
       "      <td>Hospitals &amp; Healthcare Facilities</td>\n",
       "      <td>3.226364e+06</td>\n",
       "    </tr>\n",
       "    <tr>\n",
       "      <th>9</th>\n",
       "      <td>Grocery - Convenience</td>\n",
       "      <td>1.059278e+06</td>\n",
       "    </tr>\n",
       "    <tr>\n",
       "      <th>10</th>\n",
       "      <td>Healthcare</td>\n",
       "      <td>6.964023e+05</td>\n",
       "    </tr>\n",
       "    <tr>\n",
       "      <th>11</th>\n",
       "      <td>Recreation</td>\n",
       "      <td>3.546425e+05</td>\n",
       "    </tr>\n",
       "    <tr>\n",
       "      <th>12</th>\n",
       "      <td>Independents (IOs) / Local Eateries / Takeaway</td>\n",
       "      <td>1.775606e+05</td>\n",
       "    </tr>\n",
       "    <tr>\n",
       "      <th>13</th>\n",
       "      <td>Public Sector (On site)</td>\n",
       "      <td>1.114947e+05</td>\n",
       "    </tr>\n",
       "    <tr>\n",
       "      <th>14</th>\n",
       "      <td>Prisons / Corrections</td>\n",
       "      <td>2.519100e+04</td>\n",
       "    </tr>\n",
       "    <tr>\n",
       "      <th>15</th>\n",
       "      <td>Region Chains</td>\n",
       "      <td>1.725000e+03</td>\n",
       "    </tr>\n",
       "    <tr>\n",
       "      <th>16</th>\n",
       "      <td>Bars &amp; Pubs</td>\n",
       "      <td>7.740000e+02</td>\n",
       "    </tr>\n",
       "    <tr>\n",
       "      <th>17</th>\n",
       "      <td>Other / Unknown</td>\n",
       "      <td>3.000000e+01</td>\n",
       "    </tr>\n",
       "  </tbody>\n",
       "</table>\n",
       "</div>"
      ],
      "text/plain": [
       "                           COVID Segmentation - L1           LBS\n",
       "0                                QSR / Fast Casual  1.306453e+08\n",
       "1                                    Casual Dining  7.300451e+07\n",
       "2                              Non-Defined Segment  2.608745e+07\n",
       "3                               Workplace Canteens  9.205486e+06\n",
       "4                                    Accommodation  8.892585e+06\n",
       "5                               Elderly Care Homes  8.439799e+06\n",
       "6                                 Travel/Transport  8.055886e+06\n",
       "7                              Schools & Education  4.813077e+06\n",
       "8                Hospitals & Healthcare Facilities  3.226364e+06\n",
       "9                            Grocery - Convenience  1.059278e+06\n",
       "10                                      Healthcare  6.964023e+05\n",
       "11                                      Recreation  3.546425e+05\n",
       "12  Independents (IOs) / Local Eateries / Takeaway  1.775606e+05\n",
       "13                         Public Sector (On site)  1.114947e+05\n",
       "14                           Prisons / Corrections  2.519100e+04\n",
       "15                                   Region Chains  1.725000e+03\n",
       "16                                     Bars & Pubs  7.740000e+02\n",
       "17                                 Other / Unknown  3.000000e+01"
      ]
     },
     "execution_count": 11,
     "metadata": {},
     "output_type": "execute_result"
    }
   ],
   "source": [
    "output1.groupby(['COVID Segmentation - L1'])['LBS'].sum().sort_values(ascending=False).reset_index()"
   ]
  },
  {
   "cell_type": "markdown",
   "metadata": {},
   "source": [
    "### 2. Data Dictionary\n",
    "Run cell below"
   ]
  },
  {
   "cell_type": "code",
   "execution_count": 7,
   "metadata": {
    "tags": []
   },
   "outputs": [],
   "source": [
    "def us_states():\n",
    "    us_state_abbrev = {\n",
    "        'Alabama': 'AL',\n",
    "        'Alaska': 'AK',\n",
    "        'American Samoa': 'AS',\n",
    "        'Arizona': 'AZ',\n",
    "        'Arkansas': 'AR',\n",
    "        'California': 'CA',\n",
    "        'Colorado': 'CO',\n",
    "        'Connecticut': 'CT',\n",
    "        'Delaware': 'DE',\n",
    "        'District of Columbia': 'DC',\n",
    "        'Florida': 'FL',\n",
    "        'Georgia': 'GA',\n",
    "        'Guam': 'GU',\n",
    "        'Hawaii': 'HI',\n",
    "        'Idaho': 'ID',\n",
    "        'Illinois': 'IL',\n",
    "        'Indiana': 'IN',\n",
    "        'Iowa': 'IA',\n",
    "        'Kansas': 'KS',\n",
    "        'Kentucky': 'KY',\n",
    "        'Louisiana': 'LA',\n",
    "        'Maine': 'ME',\n",
    "        'Maryland': 'MD',\n",
    "        'Massachusetts': 'MA',\n",
    "        'Michigan': 'MI',\n",
    "        'Minnesota': 'MN',\n",
    "        'Mississippi': 'MS',\n",
    "        'Missouri': 'MO',\n",
    "        'Montana': 'MT',\n",
    "        'Nebraska': 'NE',\n",
    "        'Nevada': 'NV',\n",
    "        'New Hampshire': 'NH',\n",
    "        'New Jersey': 'NJ',\n",
    "        'New Mexico': 'NM',\n",
    "        'New York': 'NY',\n",
    "        'North Carolina': 'NC',\n",
    "        'North Dakota': 'ND',\n",
    "        'Northern Mariana Islands':'MP',\n",
    "        'Ohio': 'OH',\n",
    "        'Oklahoma': 'OK',\n",
    "        'Oregon': 'OR',\n",
    "        'Pennsylvania': 'PA',\n",
    "        'Puerto Rico': 'PR',\n",
    "        'Rhode Island': 'RI',\n",
    "        'South Carolina': 'SC',\n",
    "        'South Dakota': 'SD',\n",
    "        'Tennessee': 'TN',\n",
    "        'Texas': 'TX',\n",
    "        'Utah': 'UT',\n",
    "        'Vermont': 'VT',\n",
    "        'Virgin Islands': 'VI',\n",
    "        'Virginia': 'VA',\n",
    "        'Washington': 'WA',\n",
    "        'West Virginia': 'WV',\n",
    "        'Wisconsin': 'WI',\n",
    "        'Wyoming': 'WY'\n",
    "    }\n",
    "\n",
    "    # thank you to @kinghelix and @trevormarburger for this idea\n",
    "    abbrev_us_state = dict(map(reversed, us_state_abbrev.items()))\n",
    "    \n",
    "    return pd.DataFrame.from_dict(abbrev_us_state, orient = 'index', columns = ['State Name']).rename_axis('State').reset_index()\n",
    "\n",
    "\n",
    "def apply_dictionary(df, file_name):\n",
    "    \n",
    "    #create dictionary object from Excel file\n",
    "    #adding sheet_name = None makes it a dictionary type\n",
    "    _dict = pd.read_excel(DICTIONARY + file_name, sheet_name = None)\n",
    "    \n",
    "    #for testing, keys = sheet names\n",
    "    #print(_dict.keys())\n",
    "\n",
    "    #create DataFrame from dictionary object called dict (short for dictionary)\n",
    "    dict_df = pd.DataFrame.from_dict(_dict['Segment Mapping'])\n",
    "    \n",
    "    #create DataFrame from dictionary object called cat (short for category)\n",
    "    cat_df = pd.DataFrame.from_dict(_dict['Province Mapping'])\n",
    "    cat_df = cat_df[['Province','Cleaned Province Name','Geographic Region']]\n",
    "    \n",
    "    #print shape of df (dimensions)\n",
    "    print(f'Shape before adding dictionary: {df.shape}', flush = True)\n",
    "    \n",
    "    #testing total lbs to see if it matches after merge\n",
    "    total_lbs = df['Volume (Lbs)'].sum()\n",
    "    print(f'Total before dictionary: {total_lbs}', flush = True)\n",
    "    \n",
    "    #add lower case for merging\n",
    "    dict_df['Segment-lower'] = dict_df['Segment'].str.lower()\n",
    "    dict_df['Sector-lower'] = dict_df['Sector'].str.lower()\n",
    "    dict_df['Sub-segment-lower'] = dict_df['Sub-segment'].str.lower()\n",
    "    #fill all blanks with text 'blank' \n",
    "    #dict_df = dict_df.fillna('blank')\n",
    "    #dict_df = dict_df.groupby(['McCain COVID/MWOW Segmentation','Sector-lower','Segment-lower','Updated Sector']).size().reset_index().drop(columns={0}).replace('blank', np.NaN)\n",
    "    dict_df = dict_df.groupby(['McCain COVID/MWOW Segmentation','COVID Segmentation - L2','COVID Segmentation - (Restaurants)','Restaurant Service Type',\n",
    "                               'Sector-lower','Segment-lower','Sub-segment-lower'], dropna = False).size().reset_index().drop(columns={0})\n",
    "    \n",
    "    #!!!-Update base data-!!!#\n",
    "    #new rule 12/9/2020: Sector MEU-IO -> MEU\n",
    "    #updated 2/25/2021: MEU0IO -> MEU\n",
    "    df.loc[(df['Sector'] == 'MEU-IO') | (df['Sector'] == 'MEU0IO'),'Sector'] = 'MEU'\n",
    "    df.loc[(df['Sector'] == 'MEU - IO'),'Sector'] = 'MEU'\n",
    "    df.loc[(df['Sector'] == 'MEU - Unit'),'Sector'] = 'MEU'\n",
    "    \n",
    "    #rename columns\n",
    "    df = df.rename(columns = {'?Sysco Fiscal Month':'Fiscal Month',\n",
    "                              'Sysco Fiscal Month':'Fiscal Month',\n",
    "                              'Sysco Fiscal Week':'Fiscal Week',\n",
    "                              'Sub-segment':'Sub Segment'})\n",
    "    \n",
    "    #add lower case key columns for merging (removes case mismatch)\n",
    "    df['City'] = df['City'].str.upper()\n",
    "    df['Sector-lower'] = df['Sector'].str.lower()\n",
    "    df['Segment-lower'] = df['Segment'].str.lower()\n",
    "    df['Sub-segment-lower'] = df['Sub Segment'].str.lower()\n",
    "    \n",
    "    #remove lower case key columns\n",
    "    df = df.merge(dict_df, how = 'left', left_on = ['Sector-lower', 'Segment-lower', 'Sub-segment-lower'], \n",
    "                  right_on = ['Sector-lower', 'Segment-lower', 'Sub-segment-lower']).drop(columns = {'Sector-lower','Segment-lower','Sub-segment-lower'})\n",
    "    \n",
    "    #add lower case for merging\n",
    "    #cat_df['Sub-segment-lower'] = cat_df['Sub-segment'].str.lower()\n",
    "    #cat_df = cat_df.fillna('blank')\n",
    "    #cat_df = cat_df.groupby(['McCain COVID/MWOW Segmentation','Sub-segment-lower','Restaurant Segment Flag','Service Type']).size().reset_index().drop(columns={0}).replace('blank', np.NaN)\n",
    "    \n",
    "    #add Clean Province Name\n",
    "    df = df.merge(cat_df, how = 'left', left_on = ['Province'], right_on = ['Province'])\n",
    "    #                    right_on = ['McCain COVID/MWOW Segmentation', 'Sub-segment-lower']).drop(columns = {'Sub-segment-lower'})\n",
    "    \n",
    "    #clean up 0's in Province Name, this creates errors with Teradata queries\n",
    "    df.loc[(df['Cleaned Province Name'] == 0) | (df['Cleaned Province Name'].isna()), 'Cleaned Province Name'] = 'Other'\n",
    "    \n",
    "    df = clean_city(df)\n",
    "    \n",
    "     #apply calendar week\n",
    "    df = df.merge(TIME[['Fiscal Week (Sysco)', 'Calendar Week Year']], how = 'left', left_on = ['Fiscal Week'], right_on = ['Fiscal Week (Sysco)']).drop(columns = {'Fiscal Week (Sysco)'})\n",
    "    \n",
    "    df = df.rename(columns = {'Volume (Lbs)':'LBS',\n",
    "                              'Category':'Consolidated Category'})\n",
    "    \n",
    "    #testing total lbs to see if it matches after merge\n",
    "    total_lbs = df['LBS'].sum()\n",
    "    print(f'Total after dictionary: {total_lbs}', flush = True)\n",
    "\n",
    "    #print final shape to see if anything changes (would indicate duplicates in dictionary)\n",
    "    print(f'Shape after adding dictionary: {df.shape}', flush = True)\n",
    "    \n",
    "    return df"
   ]
  },
  {
   "cell_type": "markdown",
   "metadata": {
    "tags": []
   },
   "source": [
    "### 3. Import File\n",
    "Run cell below"
   ]
  },
  {
   "cell_type": "code",
   "execution_count": 8,
   "metadata": {
    "tags": []
   },
   "outputs": [],
   "source": [
    "def import_file(file_name):\n",
    "    \n",
    "    if '.csv' in file_name:\n",
    "        _import = pd.read_csv(file_name, low_memory = False, thousands = ',', encoding='cp1252')\n",
    "    else:\n",
    "        _import = pd.read_excel(file_name)\n",
    "    \n",
    "    return _import"
   ]
  },
  {
   "cell_type": "markdown",
   "metadata": {},
   "source": [
    "### 4. Calculation Functions\n",
    "Run cell below"
   ]
  },
  {
   "cell_type": "code",
   "execution_count": 9,
   "metadata": {
    "tags": []
   },
   "outputs": [],
   "source": [
    "def add_rolling(df, _list):\n",
    "    #groupby _list\n",
    "    df = df.groupby(_list, dropna = False)[['LBS','LBS_LY','LBS_Baseline']].sum().reset_index()\n",
    "    \n",
    "    #set index to all but last column in list\n",
    "    df = df.set_index(_list)\n",
    "    \n",
    "    #add new metric SMA_4 (simple moving average - 4 periods)\n",
    "    #level = all but last 2 items in list\n",
    "    df['LBS_Lag_1'] = df.groupby(level=_list[0:-1])['LBS'].shift(periods = 1)\n",
    "    df['LBS_Lag_2'] = df.groupby(level=_list[0:-1])['LBS'].shift(periods = 2)\n",
    "    df['LBS_Lag_3'] = df.groupby(level=_list[0:-1])['LBS'].shift(periods = 3)\n",
    "    df['LBS_Lag_4'] = df.groupby(level=_list[0:-1])['LBS'].shift(periods = 4)\n",
    "    \n",
    "    df['SMA_4'] = df.groupby(level=_list[0:-1])['LBS'].apply(lambda x: x.rolling(4, min_periods=1).mean())\n",
    "    df['SMA_8'] = df.groupby(level=_list[0:-1])['LBS'].apply(lambda x: x.rolling(8, min_periods=1).mean())\n",
    "    df['SMA_12'] = df.groupby(level=_list[0:-1])['LBS'].apply(lambda x: x.rolling(12, min_periods=1).mean())\n",
    "    \n",
    "    df['SMA_4_LY'] = df.groupby(level=_list[0:-1])['LBS_LY'].apply(lambda x: x.rolling(4, min_periods=1).mean())\n",
    "    df['SMA_8_LY'] = df.groupby(level=_list[0:-1])['LBS_LY'].apply(lambda x: x.rolling(8, min_periods=1).mean())\n",
    "    df['SMA_12_LY'] = df.groupby(level=_list[0:-1])['LBS_LY'].apply(lambda x: x.rolling(12, min_periods=1).mean())\n",
    "    \n",
    "    df['SMA_4_Baseline'] = df.groupby(level=_list[0:-1])['LBS_Baseline'].apply(lambda x: x.rolling(4, min_periods=1).mean())\n",
    "    df['SMA_8_Baseline'] = df.groupby(level=_list[0:-1])['LBS_Baseline'].apply(lambda x: x.rolling(8, min_periods=1).mean())\n",
    "    df['SMA_12_Baseline'] = df.groupby(level=_list[0:-1])['LBS_Baseline'].apply(lambda x: x.rolling(12, min_periods=1).mean())\n",
    "    \n",
    "    df['LBS_Baseline_Lag_1'] = df.groupby(level=_list[0:-1])['LBS_Baseline'].shift(periods = 1)\n",
    "    df['LBS_LY_Lag_1'] = df.groupby(level=_list[0:-1])['LBS'].shift(periods = 1)\n",
    "    \n",
    "    df['SMA_4_Lag_1'] = df.groupby(level=_list[0:-1])['SMA_4'].shift(periods = 1)\n",
    "    df['SMA_4_LY_Lag_1'] = df.groupby(level=_list[0:-1])['SMA_4_LY'].shift(periods = 1)\n",
    "    df['SMA_4_Baseline_Lag_1'] = df.groupby(level=_list[0:-1])['SMA_4_Baseline'].shift(periods = 1)\n",
    "    \n",
    "    return df.reset_index()\n",
    "\n",
    "\n",
    "def add_last_year(df, _list):\n",
    "    #list of groupby columns\n",
    "    #last item in list is Calendar Week Year which is used to pull previous history (Baseline Week = Calendar Week Year) of copied dataframe\n",
    "    _groupby = _list.copy()\n",
    "    \n",
    "    _merge_yoy = _list.copy()[0:-1]\n",
    "    _merge_yoy.extend(['YOY Week'])\n",
    "    \n",
    "    _merge_baseline = _list.copy()[0:-1]\n",
    "    _merge_baseline.extend(['Baseline Week'])\n",
    "    \n",
    "    df1 = df.groupby(_list, dropna = False)['LBS'].sum().reset_index()\n",
    "    \n",
    "    #groupby _list\n",
    "    df_new = df.groupby(_list, dropna = False)['LBS'].sum().reset_index()\n",
    "    \n",
    "    #add week dimensions to main dataframe\n",
    "    df_new = df_new.merge(TIME[['Calendar Week Year','YOY Week','Baseline Week']], how = 'left', left_on = 'Calendar Week Year', right_on = 'Calendar Week Year')\n",
    "    \n",
    "    df_new = df_new.merge(df1, how='left', left_on=_merge_yoy, right_on=_groupby).drop(columns={'Calendar Week Year_y'}).rename(columns={'LBS_y':'LBS_LY'})\n",
    "    \n",
    "    df_new = df_new.merge(df1, how='left', left_on=_merge_baseline, right_on=_groupby).drop(columns={'Calendar Week Year'}).rename(columns={\n",
    "        'LBS':'LBS_Baseline','Calendar Week Year_x':'Calendar Week Year','LBS_x':'LBS'})\n",
    "    \n",
    "    return df_new\n",
    "\n",
    "\n",
    "def add_precovid(df, _list, begin, end):\n",
    "    #datefield should be last in _list\n",
    "    datefield = _list[-1]\n",
    "          \n",
    "    #remove datefield from list\n",
    "    _list = _list[0:-1]\n",
    "    \n",
    "    #filter data not using last and rename columns\n",
    "    _df = df[(df[datefield] >= begin) & (df[datefield] <= end)].groupby(_list)['LBS'].sum() / 52\n",
    "    \n",
    "    return df.merge(\n",
    "        _df, how = 'left', left_on = _list, right_on = _list).rename(\n",
    "        columns = {'LBS_x':'LBS', 'LBS_y':'LBS_PRECOVID'}).fillna(\n",
    "        value = {'LBS_PRECOVID': 0})\n",
    "\n",
    "\n",
    "def add_time(df):\n",
    "    df = df.merge(TIME[['Calendar Week Year','Week Starting (Sun)','Week Ending (Sat)', 'COVID Week']],\n",
    "                   how = 'left', \n",
    "                   on = 'Calendar Week Year')\n",
    "    \n",
    "    df = df.merge(TIME[['Calendar Week Year','YOY Week','Baseline Week']], how = 'left', left_on = 'Calendar Week Year', right_on = 'Calendar Week Year')\n",
    "    \n",
    "    return df\n",
    "\n",
    "\n",
    "def analyze_1(df, _list, begin, end):\n",
    "    if 'Calendar Week Year' not in _list:\n",
    "        _list.extend(['Calendar Week Year'])\n",
    "    \n",
    "    df = full_dataframe(df, _list)\n",
    "    \n",
    "     #add last year lbs\n",
    "    df = add_last_year(df, _list)\n",
    "    \n",
    "    #add rolling calculation\n",
    "    df = add_rolling(df, _list)\n",
    "        \n",
    "    #add preCOVID baseline\n",
    "    df = add_precovid(df, _list, begin, end)\n",
    "    \n",
    "    df = df.round({\n",
    "        'LBS' : 2,    \n",
    "        'SMA_4' : 2,\n",
    "        'SMA_8' : 2,\n",
    "        'SMA_12' : 2,\n",
    "        'LBS_LY' : 2,    \n",
    "        'SMA_4_LY' : 2,\n",
    "        'SMA_8_LY' : 2,\n",
    "        'SMA_12_LY' : 2,\n",
    "        'LBS_Baseline' : 2,    \n",
    "        'SMA_4_Baseline' : 2,\n",
    "        'SMA_8_Baseline' : 2,\n",
    "        'SMA_12_Baseline' : 2,\n",
    "        'LBS_PRECOVID' : 2,\n",
    "        'LBS_Lag_1' : 2,\n",
    "        'LBS_Lag_2' : 2,\n",
    "        'LBS_Lag_3' : 2,\n",
    "        'LBS_Lag_4' : 2,\n",
    "        'LBS_Baseline_Lag_1': 2,\n",
    "        'LBS_LY_Lag_1': 2,\n",
    "        'SMA_4_Lag_1' : 2,\n",
    "        'SMA_4_LY_Lag_1' : 2,\n",
    "        'SMA_4_Baseline_Lag_1' : 2\n",
    "        \n",
    "    }).fillna(value = {\n",
    "        'LBS' : 0,    \n",
    "        'SMA_4' : 0,\n",
    "        'SMA_8' : 0,\n",
    "        'SMA_12' : 0,\n",
    "        'LBS_LY' : 0,    \n",
    "        'SMA_4_LY' : 0,\n",
    "        'SMA_8_LY' : 0,\n",
    "        'SMA_12_LY' : 0,\n",
    "        'LBS_Baseline' : 0,    \n",
    "        'SMA_4_Baseline' : 0,\n",
    "        'SMA_8_Baseline' : 0,\n",
    "        'SMA_12_Baseline' : 0,\n",
    "        'LBS_PRECOVID' : 0,\n",
    "        'LBS_Lag_1' : 0,\n",
    "        'LBS_Lag_2' : 0,\n",
    "        'LBS_Lag_3' : 0,\n",
    "        'LBS_Lag_4' : 0,\n",
    "        'LBS_Baseline_Lag_1': 2,\n",
    "        'LBS_LY_Lag_1': 2,\n",
    "        'SMA_4_Lag_1' : 0,\n",
    "        'SMA_4_LY_Lag_1' : 0,\n",
    "        'SMA_4_Baseline_Lag_1' : 0\n",
    "    })\n",
    "    \n",
    "    return df\n",
    "\n",
    "\n",
    "def save_backup(df, file_name):\n",
    "    \n",
    "    df.to_csv(BACKUP + file_name)\n",
    "    \n",
    "    return\n",
    "\n",
    "\n",
    "def td_to_pandas(query, cur, title=''):\n",
    "    _data = []\n",
    "    _start=dt.now()\n",
    "    print(dt.now().strftime('%m/%d/%Y'))\n",
    "    print(f'{title} Execution started...', end='', flush=True)\n",
    "    cur.execute (query)\n",
    "    print(f'finished. {dt.now() - _start}', flush=True) \n",
    "    _start_fetch=dt.now()\n",
    "    print(f'{title} Fetching data started...', end='', flush=True)\n",
    "    for row in cur.fetchall():\n",
    "        _data.append(row) \n",
    "    print(f'finished. {dt.now() - _start_fetch}', flush=True) \n",
    "    _start=dt.now()\n",
    "    print(f'{title} Creating DataFrame for started...', end='', flush=True)\n",
    "    _df = pd.DataFrame(_data)\n",
    "    _df.columns = [x[0].replace('SAP_', '').lower() for x in cur.description]\n",
    "    print(f'finished. {dt.now() - _start}', flush=True)\n",
    "    return _df\n",
    "\n",
    "\n",
    "def td_dataframe(select_db, query):\n",
    "    with teradatasql.connect(None, \n",
    "                         host='172.29.3.43',\n",
    "                         user='PNWATTERS',\n",
    "                         password='teradata123') as con:\n",
    "        with con.cursor() as cur:\n",
    "            cur.execute (select_db)\n",
    "            print('Database selected!', flush=True)            \n",
    "            dim_df = td_to_pandas(query, cur, 'Query:')\n",
    "            print('Dim:', dim_df.shape)\n",
    "    \n",
    "    return dim_df\n",
    "\n",
    "\n",
    "def restaurants(df):\n",
    "    \n",
    "    #Rename rows\n",
    "    df.loc[df['COVID Segmentation - L2'] == 'Independents (IOs) / Local Eateries / Takeaway', 'COVID Segmentation - L2'] = 'IO'\n",
    "    df.loc[\n",
    "        (df['COVID Segmentation - L2'] == 'All Other') | \n",
    "        (df['COVID Segmentation - L2'] == 'National Account') | \n",
    "        (df['COVID Segmentation - L2'] == 'Region Chains')| \n",
    "        (df['COVID Segmentation - L2'] == 'National Accounts'),\n",
    "        'COVID Segmentation - L2'] = 'Chain'\n",
    "    \n",
    "    return df\n",
    "\n",
    "def process_list(df, work_list):\n",
    "    \n",
    "    _process = analyze_1(df, work_list, 201910, 202009)\n",
    "    \n",
    "    _process = restaurants(_process)\n",
    "    \n",
    "    _process['Distributor'] = 'Sysco CA'\n",
    "    \n",
    "    _process = add_time(_process)\n",
    "    \n",
    "    #for standardizing output\n",
    "    work_list.extend(['Distributor','LBS','SMA_4','SMA_8','SMA_12',\n",
    "                      'YOY Week','LBS_LY','SMA_4_LY','SMA_8_LY','SMA_12_LY',\n",
    "                      'Baseline Week','LBS_Baseline','SMA_4_Baseline','SMA_8_Baseline','SMA_12_Baseline',\n",
    "                      'LBS_Lag_1','LBS_Lag_2','LBS_Lag_3','LBS_Lag_4','LBS_Baseline_Lag_1','LBS_LY_Lag_1',\n",
    "                      'SMA_4_Lag_1', 'SMA_4_LY_Lag_1', 'SMA_4_Baseline_Lag_1',\n",
    "                      'LBS_PRECOVID','Week Starting (Sun)','Week Ending (Sat)','COVID Week'])\n",
    "    \n",
    "    return _process[work_list]\n",
    "\n",
    "def full_dataframe(df, _list):\n",
    "    weeks = df.groupby(['Calendar Week Year']).size().reset_index().drop(columns={0})\n",
    "    segments = df.groupby(_list[0:-1]).size().reset_index().drop(columns={0})\n",
    "    \n",
    "    _df = segments.assign(key=1).merge(weeks.assign(key=1), how='outer', on='key').drop(columns = {'key'}) \n",
    "    \n",
    "    return _df.merge(df, how = 'left', on = _list) \n",
    "\n",
    "def clean_city(df):\n",
    "    #additional transformations\n",
    "    df['City'] = df['City'].str.strip()\n",
    "    df['City'] = df['City'].str.upper()\n",
    "    df['City'].fillna('NA', inplace = True)\n",
    "    \n",
    "    cities = 'TORONTO|MONTREAL|OTTAWA|CALGARY|VANCOUVER|WINNIPEG|MONTREAL|HAMILTON|HALIFAX'\n",
    "    \n",
    "    #change each city name to the name of the city that matches, cleans up the city names\n",
    "    for c in cities.split('|'):\n",
    "        df.loc[df['City'].str.match(c), 'City'] = c\n",
    "    \n",
    "    #change all other cities to NA\n",
    "    df.loc[~df['City'].str.match(cities), 'City'] = 'NA'\n",
    "    \n",
    "    return df"
   ]
  },
  {
   "cell_type": "markdown",
   "metadata": {},
   "source": [
    "### 5. Sell-in vs. Sell-out\n",
    "Run cell below"
   ]
  },
  {
   "cell_type": "code",
   "execution_count": 10,
   "metadata": {},
   "outputs": [],
   "source": [
    "def teradata_sales(sellout):\n",
    "    #SET QUERY_BAND = 'ApplicationName=MicroStrategy;Version=9.0;ClientUser=NEWATTER;Source=Vantage; Action=BEK Performance;StartTime=20200901T101924;JobID=55096;Importance=666;'  FOR SESSION;\n",
    "    \n",
    "    #the current week is pulled from the time dictionary table\n",
    "    to_week = int(TIME[(TIME['Week Starting (Mon)'] <= dt.now()) & (TIME['Week Ending (Sun)'] >= dt.now())]['Calendar Week Year'].values)\n",
    "    \n",
    "    print(f'Starting Teradata connect...', flush = True)\n",
    "    \n",
    "    select_db = \"DATABASE DL_GBL_TAS_BI\"\n",
    "\n",
    "    query = '''\n",
    "    select a14.FISCAL_WEEK_NUMBER as FISCAL_WEEK_NUMBER,\n",
    "    (a14.FISCAL_WEEK_NUMBER_DESCR || ' ' || a14.START_DATE_OF_SAPYW) as FISCAL_WEEK,\n",
    "    a14.CALENDAR_WEEK_NAME as CALENDAR_WEEK_NUMBER,\n",
    "    (a14.CALENDAR_WEEK_LONG_DESCRIPTION || ' ' || a14.START_DATE_OF_SAPYW) as CALENDAR_WEEK,\n",
    "    RIGHT(a15.CUSTOMER_HIER_LVL_1,CAST(10 AS INTEGER)) as CUSTOMER_HIER_LVL_1,\n",
    "    a15.CUSTOMER_HIER_LVL_1_NAME as CUSTOMER_HIER_LVL_1_NAME,\n",
    "    a11.CUSTOMER_ID as CUSTOMER_ID,\n",
    "    a17.CUSTOMER_NAME as CUSTOMER_NAME,\n",
    "    a12.CATEGORY_SHORT_CODE as CATEGORY_SHORT_CODE,\n",
    "    a12.CATEGORY_DESC as CATEGORY_DESC,\n",
    "    a13.DIVISION_ID as DIVISION,\n",
    "    a16.DIVISION_NAME as DIVISION_NAME,\n",
    "    TRIM (LEADING '0' FROM a13.MATERIAL_ID) as MATERIAL_ID,\n",
    "    a13.MATERIAL_DESCRIPTION as MATERIAL_NAME,\n",
    "    sum(a11.SALES_VOLUME_WEIGHT_LBS) as ACTUAL_VOLUME_LBS\n",
    "    from DL_GBL_TAS_BI.FACT_SALES_ACTUAL as a11\n",
    "    join DL_GBL_TAS_BI.VW_H_PRODUCT_ALL_SALES as a12\n",
    "     on (a11.MATERIAL_ID = a12.MATERIAL_ID)\n",
    "    join DL_GBL_TAS_BI.D_MATERIAL_DN_ALL as a13\n",
    "     on (a11.MATERIAL_ID = a13.MATERIAL_ID)\n",
    "    join DL_GBL_TAS_BI.D_TIME_FY_V6 as a14\n",
    "     on (a11.ACCOUNTING_PERIOD_DATE = a14.DAY_CALENDAR_DATE)\n",
    "    join DL_GBL_TAS_BI.VW_H_CUSTOMER_ALL_DIVISION00 as a15\n",
    "     on (a11.CUSTOMER_ID = a15.CUSTOMER and \n",
    "    a11.DISTRIBUTION_CHANNEL_ID = a15.DISTRIBUTION_CHANNEL and \n",
    "    a11.SALES_ORGANISATION_ID = a15.SALES_ORGANISATION)\n",
    "    join DL_GBL_TAS_BI.D_DIVISION as a16\n",
    "     on (a13.DIVISION_ID = a16.DIVISION_ID)\n",
    "    join DL_GBL_TAS_BI.D_CUSTOMER as a17\n",
    "     on (a11.CUSTOMER_ID = a17.CUSTOMER_ID)\n",
    "    where (a11.SALES_ORGANISATION_ID in ('CA01')\n",
    "     and a11.DISTRIBUTION_CHANNEL_ID in ('10')\n",
    "     and RIGHT(a15.CUSTOMER_HIER_LVL_1,CAST(10 AS INTEGER)) in ('6500002815', '6500002893'))\n",
    "     and a17.CUSTOMER_NAME like ('%SYSCO%')\n",
    "     and a14.CALENDAR_WEEK_NAME between 201901 and ''' + str(to_week - 1) + '''\n",
    "    group by a14.FISCAL_WEEK_NUMBER,\n",
    "    (a14.FISCAL_WEEK_NUMBER_DESCR || ' ' || a14.START_DATE_OF_SAPYW),\n",
    "    a14.CALENDAR_WEEK_NAME,\n",
    "    (a14.CALENDAR_WEEK_LONG_DESCRIPTION || ' ' || a14.START_DATE_OF_SAPYW),\n",
    "    RIGHT(a15.CUSTOMER_HIER_LVL_1,CAST(10 AS INTEGER)),\n",
    "    a15.CUSTOMER_HIER_LVL_1_NAME,\n",
    "    a11.CUSTOMER_ID,\n",
    "    a17.CUSTOMER_NAME,\n",
    "    a12.CATEGORY_SHORT_CODE,\n",
    "    a12.CATEGORY_DESC,\n",
    "    a13.DIVISION_ID,\n",
    "    a16.DIVISION_NAME,\n",
    "    TRIM (LEADING '0' FROM a13.MATERIAL_ID),\n",
    "    a13.MATERIAL_DESCRIPTION\n",
    "    ;'''\n",
    "\n",
    "    #create dataframe using both functions td_to_pandas and td_dataframe\n",
    "    df = td_dataframe(select_db, query)\n",
    "    \n",
    "    return teradata_transform(df, sellout)\n",
    "\n",
    "\n",
    "def teradata_transform(sellin, sellout):\n",
    "    #consolidates teradata sales with sellout data\n",
    "    \n",
    "    #convert from object datatype to float (exports as a number instead of string)\n",
    "    sellin['actual_volume_lbs'] = sellin['actual_volume_lbs'].astype('float64')\n",
    "    \n",
    "    #rename columns for consistancy\n",
    "    sellin = sellin.rename(columns = {'actual_volume_lbs':'LBS', 'calendar_week_number':'Calendar Week Year'})\n",
    "    \n",
    "    #transform calendar week year from teradata\n",
    "    sellin['Calendar Week Year'] = pd.to_numeric(sellin['Calendar Week Year'], errors = 'coerce')\n",
    "\n",
    "    #transform category so its consolidated\n",
    "    sellin['Consolidated Category'] = sellin['category_desc']\n",
    "    sellin.loc[sellin['Consolidated Category'] == 'Sweet Potato' , 'Consolidated Category'] = 'Potato'\n",
    "    sellin.loc[sellin['Consolidated Category'] != 'Potato' , 'Consolidated Category'] = 'Prepared Foods'\n",
    "    \n",
    "    #analyze sellin data\n",
    "    sellin = analyze_1(sellin, ['Consolidated Category'], 201910, 202009)\n",
    "    \n",
    "    #rename columns accordingly\n",
    "    sellin = sellin.rename(columns = {'LBS':'MCCAIN LBS',\n",
    "                                      'SMA_4':'MCCAIN SMA_4',\n",
    "                                      'SMA_8':'MCCAIN SMA_8',\n",
    "                                      'SMA_12':'MCCAIN SMA_12',\n",
    "                                      'LBS_PRECOVID':'MCCAIN PRECOVID',\n",
    "                                      'LBS_Lag_1':'MCCAIN Lag_1',\n",
    "                                      'LBS_Lag_2':'MCCAIN Lag_2',\n",
    "                                      'LBS_Lag_3':'MCCAIN Lag_3',\n",
    "                                      'LBS_Lag_4':'MCCAIN Lag_4',\n",
    "                                      'LBS_Baseline' : 'MCCAIN LBS_Baseline',\n",
    "                                      'SMA_4_Baseline' : 'MCCAIN SMA_4_Baseline',\n",
    "                                      'SMA_8_Baseline' : 'MCCAIN SMA_8_Baseline',\n",
    "                                      'SMA_12_Baseline' : 'MCCAIN SMA_12_Baseline',\n",
    "                                      'SMA_4_Lag_1':'MCCAIN SMA_4_Lag_1',\n",
    "                                      'SMA_4_Baseline_Lag_1' : 'MCCAIN SMA_4_Baseline_Lag_1',\n",
    "                                      'LBS_Baseline_Lag_1': 'MCCAIN LBS_Baseline_Lag_1'\n",
    "                                     })\n",
    "    \n",
    "    #analyze sellout data\n",
    "    df = analyze_1(sellout, ['Consolidated Category'], 201910, 202009)\n",
    "                                    \n",
    "    df = df.merge(sellin[['Calendar Week Year','Consolidated Category','MCCAIN LBS','MCCAIN SMA_4','MCCAIN SMA_8','MCCAIN SMA_12','MCCAIN PRECOVID',\n",
    "                          'MCCAIN LBS_Baseline','MCCAIN SMA_4_Baseline','MCCAIN SMA_8_Baseline','MCCAIN SMA_12_Baseline',\n",
    "                          'MCCAIN Lag_1', 'MCCAIN Lag_2', 'MCCAIN Lag_3', 'MCCAIN Lag_4','MCCAIN LBS_Baseline_Lag_1',\n",
    "                          'MCCAIN SMA_4_Lag_1', 'MCCAIN SMA_4_Baseline_Lag_1']], how = 'left', \n",
    "                  left_on = ['Calendar Week Year','Consolidated Category'], right_on = ['Calendar Week Year','Consolidated Category'])\n",
    "    \n",
    "    df = df.fillna({'MCCAIN LBS': 0,\n",
    "                    'MCCAIN SMA_4': 0,\n",
    "                    'MCCAIN SMA_8': 0,\n",
    "                    'MCCAIN SMA_12': 0,\n",
    "                    'MCCAIN PRECOVID': 0,\n",
    "                    'MCCAIN Lag_1': 0,\n",
    "                    'MCCAIN Lag_2': 0,\n",
    "                    'MCCAIN Lag_3': 0,\n",
    "                    'MCCAIN Lag_4': 0,\n",
    "                    'MCCAIN LBS_Baseline': 0,\n",
    "                    'MCCAIN SMA_4_Baseline': 0,\n",
    "                    'MCCAIN SMA_8_Baseline': 0,\n",
    "                    'MCCAIN SMA_12_Baseline': 0,\n",
    "                    'MCCAIN LBS_Baseline_Lag_1':0,\n",
    "                    'MCCAIN SMA_4_Lag_1' : 0,\n",
    "                    'MCCAIN SMA_4_Baseline_Lag_1' : 0\n",
    "                   })\n",
    "    \n",
    "    df['Distributor'] = 'Sysco CA'\n",
    "\n",
    "    df = add_time(df)\n",
    "    \n",
    "    df = df[['Consolidated Category','Distributor','Calendar Week Year',\n",
    "             'LBS','SMA_4','SMA_8','SMA_12','LBS_PRECOVID',\n",
    "             'LBS_Baseline','SMA_4_Baseline','SMA_8_Baseline','SMA_12_Baseline',\n",
    "             'LBS_Lag_1', 'LBS_Lag_2', 'LBS_Lag_3', 'LBS_Lag_4', 'LBS_Baseline_Lag_1', 'SMA_4_Lag_1', 'SMA_4_Baseline_Lag_1',\n",
    "             'MCCAIN LBS','MCCAIN SMA_4','MCCAIN SMA_8','MCCAIN SMA_12','MCCAIN PRECOVID',\n",
    "             'MCCAIN LBS_Baseline','MCCAIN SMA_4_Baseline','MCCAIN SMA_8_Baseline','MCCAIN SMA_12_Baseline',\n",
    "             'MCCAIN Lag_1', 'MCCAIN Lag_2', 'MCCAIN Lag_3', 'MCCAIN Lag_4','MCCAIN LBS_Baseline_Lag_1','MCCAIN SMA_4_Lag_1','MCCAIN SMA_4_Baseline_Lag_1',\n",
    "             'Week Starting (Sun)','Week Ending (Sat)','COVID Week']]\n",
    "    \n",
    "    return df"
   ]
  },
  {
   "cell_type": "markdown",
   "metadata": {},
   "source": [
    "### 6. Import Raw Data\n",
    "Run cell below"
   ]
  },
  {
   "cell_type": "code",
   "execution_count": 11,
   "metadata": {},
   "outputs": [
    {
     "name": "stdout",
     "output_type": "stream",
     "text": [
      "Imported 1431839 records\n"
     ]
    }
   ],
   "source": [
    "'''\n",
    "<class 'pandas.core.frame.DataFrame'>\n",
    "RangeIndex: 962813 entries, 0 to 962812\n",
    "Data columns (total 8 columns):\n",
    " #   Column                    Non-Null Count   Dtype  \n",
    "---  ------                    --------------   -----  \n",
    " 0   Fiscal Week               962813 non-null  int64  \n",
    " 1   Dates                     962813 non-null  object \n",
    " 2   Account Type              962813 non-null  object \n",
    " 3   Customer (Address) STATE  962813 non-null  object \n",
    " 4   NPD Segmentation          930314 non-null  object \n",
    " 5   CS                        962813 non-null  float64\n",
    " 6   LBS                       962813 non-null  float64\n",
    " 7   Category                  962813 non-null  object \n",
    "dtypes: float64(2), int64(1), object(5)\n",
    "memory usage: 58.8+ MB\n",
    "'''\n",
    "\n",
    "import_path = r'C:\\Users\\newatter\\OneDrive - McCain Foods Limited\\Weekly Update Files\\2022-08-05\\Data Sources\\Sysco CA Weekly Update_old.csv'\n",
    "\n",
    "#create main dataframe from base file\n",
    "#_import = import_file(PATH + 'Sysco CA Weekly Update.csv')\n",
    "_import = import_file(import_path)\n",
    "\n",
    "print(f'Imported {_import.shape[0]} records', flush = True)"
   ]
  },
  {
   "cell_type": "markdown",
   "metadata": {},
   "source": [
    "### 7. Apply Dictionary to Raw Data and check for missing classifications\n",
    "Run cell below"
   ]
  },
  {
   "cell_type": "code",
   "execution_count": 14,
   "metadata": {},
   "outputs": [
    {
     "name": "stdout",
     "output_type": "stream",
     "text": [
      "Shape before adding dictionary: (1431839, 10)\n",
      "Total before dictionary: 407664038.24999994\n",
      "Total after dictionary: 407664038.24999994\n",
      "Shape after adding dictionary: (1431839, 17)\n",
      "Nothing missing for COVID Segmentation - L1\n"
     ]
    }
   ],
   "source": [
    "#add dictionary to base data\n",
    "_base = apply_dictionary(_import, 'Sysco - CA.xlsx').dropna(subset = {'Calendar Week Year'}).astype({'Calendar Week Year':'int64'})\n",
    "\n",
    "#check for COVID Segmentation - L1\n",
    "missing = _base[_base['McCain COVID/MWOW Segmentation'].isna()].groupby(['Segment','Sub Segment','Sector'], \n",
    "                                                                     as_index = False, dropna = False)['LBS'].sum()\n",
    "\n",
    "if len(missing) > 0:\n",
    "    print('The following segments are missing:')\n",
    "    display(missing)\n",
    "    missing.to_excel(DICTIONARY + 'Segments Missing Dump\\\\' + dt.now().strftime('%Y%m%d') + '_sysco_ca_L1_missing.xlsx')\n",
    "else:\n",
    "    print(f'Nothing missing for COVID Segmentation - L1', flush = True)"
   ]
  },
  {
   "cell_type": "markdown",
   "metadata": {},
   "source": [
    "### 9. Execute Analysis\n",
    "Run cell below"
   ]
  },
  {
   "cell_type": "code",
   "execution_count": 20,
   "metadata": {},
   "outputs": [
    {
     "name": "stdout",
     "output_type": "stream",
     "text": [
      "Processing Region\n",
      "Processing Sell in vs Sell out\n",
      "All done\n"
     ]
    }
   ],
   "source": [
    "\n",
    "_list = []\n",
    "\n",
    "#Output 1: COVID L1 - List 0\n",
    "_list.append(['City','Cleaned Province Name','McCain COVID/MWOW Segmentation','COVID Segmentation - L2','Restaurant Service Type','Consolidated Category'])\n",
    "\n",
    "print(f'Processing Region', flush = True)\n",
    "output1 = process_list(_base, _list[0])\n",
    "#output1 = process_list(df, _list[0])\n",
    "\n",
    "print(f'Processing Sell in vs Sell out', flush = True)\n",
    "#output2 = teradata_sales(_base)\n",
    "\n",
    "\n",
    "print('All done')"
   ]
  },
  {
   "cell_type": "code",
   "execution_count": 21,
   "metadata": {},
   "outputs": [],
   "source": [
    "output1.to_csv('files/sysco_ca_test.zip', compression='zip', index=False)"
   ]
  },
  {
   "cell_type": "code",
   "execution_count": 50,
   "metadata": {},
   "outputs": [],
   "source": []
  },
  {
   "cell_type": "markdown",
   "metadata": {},
   "source": [
    "### 9.1 Latest Date"
   ]
  },
  {
   "cell_type": "code",
   "execution_count": 49,
   "metadata": {},
   "outputs": [
    {
     "data": {
      "text/plain": [
       "2020-07-04    30\n",
       "2021-07-17    30\n",
       "2022-01-01    30\n",
       "2021-12-25    30\n",
       "2021-12-18    30\n",
       "              ..\n",
       "2021-02-13    30\n",
       "2021-02-06    30\n",
       "2021-01-30    30\n",
       "2021-01-23    30\n",
       "2022-07-09    30\n",
       "Name: Week Ending (Sat), Length: 105, dtype: int64"
      ]
     },
     "execution_count": 49,
     "metadata": {},
     "output_type": "execute_result"
    }
   ],
   "source": [
    "output1['Week Ending (Sat)'].value_counts()"
   ]
  },
  {
   "cell_type": "markdown",
   "metadata": {},
   "source": [
    "### 10. Upload Analysis to Teradata\n",
    "Run cell below"
   ]
  },
  {
   "cell_type": "code",
   "execution_count": 11,
   "metadata": {},
   "outputs": [
    {
     "name": "stdout",
     "output_type": "stream",
     "text": [
      "Database selected! 07/21/2022 12:40:51 PM\n",
      "Deleting records for: Sysco CA in table: SELLOUT_REGION\n",
      "Inserting records into SELLOUT_REGION\n",
      "Inserted 161690 records\n",
      "Database selected! 07/21/2022 12:44:10 PM\n",
      "Deleting records for: Sysco CA in table: SELLOUT_AND_SELLIN\n",
      "Inserting records into SELLOUT_AND_SELLIN\n",
      "Inserted 370 records\n"
     ]
    }
   ],
   "source": [
    "def td_upload(select_db, df, table_name):\n",
    "    with teradatasql.connect(None, \n",
    "                         host='172.29.3.43',\n",
    "                         user='PNWATTERS',\n",
    "                         password='teradata123') as con:\n",
    "        with con.cursor() as cur:\n",
    "            cur.execute (select_db)\n",
    "            d = dt.now().strftime('%m/%d/%Y %H:%M:%S %p')\n",
    "            print(f'Database selected! {d}', flush=True)            \n",
    "\n",
    "            delete_from_td(df, table_name, cur)\n",
    "            insert_into_td(df, table_name, cur)\n",
    "\n",
    "def delete_from_td(df, table_name, cur):\n",
    "    distributor = df.groupby('Distributor').size().reset_index().drop(columns=0).to_numpy()[0][0]\n",
    "    \n",
    "    print(f'Deleting records for: {distributor} in table: {table_name}', flush = True)          \n",
    "        \n",
    "    query = '''\n",
    "    DELETE FROM ''' + table_name  + ''' \n",
    "    WHERE \"Distributor\" = ''' + \"'\" + distributor + \"'\"\n",
    "    \n",
    "    cur.execute (query)\n",
    "    \n",
    "def insert_into_td(df, table_name, cur):\n",
    "    insert_list = df.values.tolist()\n",
    "    \n",
    "    #creates ?, ?,.... string used in query for teradata fastload\n",
    "    insert_columns = ('?, ' * len(df.columns)).rstrip(', ')\n",
    "    \n",
    "    print(f'Inserting records into {table_name}', flush = True)\n",
    "    \n",
    "    query = \"INSERT INTO \" + table_name  + \" (\" + insert_columns + \")\"\n",
    "    #query = \"{fn teradata_try_fastload}INSERT INTO \" + table_name  + \" (\" + insert_columns + \")\"\n",
    "    \n",
    "    cur.execute (query, insert_list)\n",
    "    \n",
    "    print(f'Inserted {df.shape[0]} records', flush = True)\n",
    "    \n",
    "\n",
    "select_db = 'DATABASE DL_NA_PROTOTYPING'\n",
    "\n",
    "td_upload(select_db, output1, 'SELLOUT_REGION')\n",
    "td_upload(select_db, output2, 'SELLOUT_AND_SELLIN')\n"
   ]
  },
  {
   "cell_type": "markdown",
   "metadata": {},
   "source": [
    "# Testing Datasets"
   ]
  },
  {
   "cell_type": "code",
   "execution_count": 22,
   "metadata": {},
   "outputs": [
    {
     "name": "stdout",
     "output_type": "stream",
     "text": [
      "(3330, 35)\n",
      "(152240, 35)\n"
     ]
    }
   ],
   "source": [
    "test1 = pd.read_csv('files\\sellout_region_sysco_ca.zip')\n",
    "test2 = pd.read_csv('files\\sysco_ca_test.zip')\n",
    "\n",
    "print(test1.shape)\n",
    "print(test2.shape)"
   ]
  },
  {
   "cell_type": "code",
   "execution_count": 23,
   "metadata": {},
   "outputs": [
    {
     "name": "stdout",
     "output_type": "stream",
     "text": [
      "<class 'pandas.core.frame.DataFrame'>\n",
      "RangeIndex: 3330 entries, 0 to 3329\n",
      "Data columns (total 35 columns):\n",
      " #   Column                   Non-Null Count  Dtype  \n",
      "---  ------                   --------------  -----  \n",
      " 0   City                     0 non-null      float64\n",
      " 1   Region                   0 non-null      float64\n",
      " 2   COVID Segmentation - L1  3330 non-null   object \n",
      " 3   COVID Segmentation - L2  3330 non-null   object \n",
      " 4   Restaurant Service Type  3330 non-null   object \n",
      " 5   Consolidated Category    3330 non-null   object \n",
      " 6   Calendar Week Year       3330 non-null   int64  \n",
      " 7   Distributor              3330 non-null   object \n",
      " 8   LBS                      3330 non-null   float64\n",
      " 9   SMA_4                    3330 non-null   float64\n",
      " 10  SMA_8                    3330 non-null   float64\n",
      " 11  SMA_12                   3330 non-null   float64\n",
      " 12  YOY Week                 3300 non-null   float64\n",
      " 13  LBS_LY                   3330 non-null   float64\n",
      " 14  SMA_4_LY                 3330 non-null   float64\n",
      " 15  SMA_8_LY                 3330 non-null   float64\n",
      " 16  SMA_12_LY                3330 non-null   float64\n",
      " 17  Baseline Week            3300 non-null   float64\n",
      " 18  LBS_Baseline             3330 non-null   float64\n",
      " 19  SMA_4_Baseline           3330 non-null   float64\n",
      " 20  SMA_8_Baseline           3330 non-null   float64\n",
      " 21  SMA_12_Baseline          3330 non-null   float64\n",
      " 22  LBS_Lag_1                3330 non-null   float64\n",
      " 23  LBS_Lag_2                3330 non-null   float64\n",
      " 24  LBS_Lag_3                3330 non-null   float64\n",
      " 25  LBS_Lag_4                3330 non-null   float64\n",
      " 26  LBS_Baseline_Lag_1       3330 non-null   float64\n",
      " 27  LBS_LY_Lag_1             3330 non-null   float64\n",
      " 28  SMA_4_Lag_1              3330 non-null   float64\n",
      " 29  SMA_4_LY_Lag_1           3330 non-null   float64\n",
      " 30  SMA_4_Baseline_Lag_1     3330 non-null   float64\n",
      " 31  LBS_PRECOVID             3330 non-null   float64\n",
      " 32  Week Starting (Sun)      3300 non-null   object \n",
      " 33  Week Ending (Sat)        3300 non-null   object \n",
      " 34  COVID Week               3300 non-null   float64\n",
      "dtypes: float64(27), int64(1), object(7)\n",
      "memory usage: 910.7+ KB\n"
     ]
    }
   ],
   "source": [
    "test1.info()"
   ]
  },
  {
   "cell_type": "code",
   "execution_count": 25,
   "metadata": {},
   "outputs": [
    {
     "data": {
      "text/html": [
       "<div>\n",
       "<style scoped>\n",
       "    .dataframe tbody tr th:only-of-type {\n",
       "        vertical-align: middle;\n",
       "    }\n",
       "\n",
       "    .dataframe tbody tr th {\n",
       "        vertical-align: top;\n",
       "    }\n",
       "\n",
       "    .dataframe thead th {\n",
       "        text-align: right;\n",
       "    }\n",
       "</style>\n",
       "<table border=\"1\" class=\"dataframe\">\n",
       "  <thead>\n",
       "    <tr style=\"text-align: right;\">\n",
       "      <th></th>\n",
       "      <th>Calendar Week Year</th>\n",
       "      <th>Week Ending (Sat)</th>\n",
       "      <th>LBS_1</th>\n",
       "      <th>LBS_2</th>\n",
       "    </tr>\n",
       "  </thead>\n",
       "  <tbody>\n",
       "    <tr>\n",
       "      <th>0</th>\n",
       "      <td>202024</td>\n",
       "      <td>2020-06-13</td>\n",
       "      <td>1277987.00</td>\n",
       "      <td>1926852.02</td>\n",
       "    </tr>\n",
       "    <tr>\n",
       "      <th>1</th>\n",
       "      <td>202025</td>\n",
       "      <td>2020-06-20</td>\n",
       "      <td>2157953.71</td>\n",
       "      <td>2165471.73</td>\n",
       "    </tr>\n",
       "    <tr>\n",
       "      <th>2</th>\n",
       "      <td>202026</td>\n",
       "      <td>2020-06-27</td>\n",
       "      <td>2291738.94</td>\n",
       "      <td>2298567.50</td>\n",
       "    </tr>\n",
       "    <tr>\n",
       "      <th>3</th>\n",
       "      <td>202027</td>\n",
       "      <td>2020-07-04</td>\n",
       "      <td>2295792.48</td>\n",
       "      <td>2302066.66</td>\n",
       "    </tr>\n",
       "    <tr>\n",
       "      <th>4</th>\n",
       "      <td>202028</td>\n",
       "      <td>2020-07-11</td>\n",
       "      <td>2228420.41</td>\n",
       "      <td>2234712.31</td>\n",
       "    </tr>\n",
       "  </tbody>\n",
       "</table>\n",
       "</div>"
      ],
      "text/plain": [
       "   Calendar Week Year Week Ending (Sat)       LBS_1       LBS_2\n",
       "0              202024        2020-06-13  1277987.00  1926852.02\n",
       "1              202025        2020-06-20  2157953.71  2165471.73\n",
       "2              202026        2020-06-27  2291738.94  2298567.50\n",
       "3              202027        2020-07-04  2295792.48  2302066.66\n",
       "4              202028        2020-07-11  2228420.41  2234712.31"
      ]
     },
     "execution_count": 25,
     "metadata": {},
     "output_type": "execute_result"
    }
   ],
   "source": [
    "#1 = current dataset\n",
    "#2 = previous dataset\n",
    "\n",
    "df1 = test1.groupby(['Calendar Week Year','Week Ending (Sat)'])['LBS'].sum().reset_index()\n",
    "df2 = test2.groupby(['Calendar Week Year'])['LBS'].sum().reset_index()\n",
    "\n",
    "df = df1.merge(df2, how='inner', on='Calendar Week Year').rename(columns={'LBS_x':'LBS_1','LBS_y':'LBS_2'})\n",
    "\n",
    "df.head()"
   ]
  },
  {
   "cell_type": "code",
   "execution_count": 43,
   "metadata": {},
   "outputs": [
    {
     "data": {
      "text/html": [
       "<div>\n",
       "<style scoped>\n",
       "    .dataframe tbody tr th:only-of-type {\n",
       "        vertical-align: middle;\n",
       "    }\n",
       "\n",
       "    .dataframe tbody tr th {\n",
       "        vertical-align: top;\n",
       "    }\n",
       "\n",
       "    .dataframe thead th {\n",
       "        text-align: right;\n",
       "    }\n",
       "</style>\n",
       "<table border=\"1\" class=\"dataframe\">\n",
       "  <thead>\n",
       "    <tr style=\"text-align: right;\">\n",
       "      <th></th>\n",
       "      <th>weight_before</th>\n",
       "      <th>weight_after</th>\n",
       "      <th>weight_change</th>\n",
       "    </tr>\n",
       "  </thead>\n",
       "  <tbody>\n",
       "    <tr>\n",
       "      <th>count</th>\n",
       "      <td>1.000000e+02</td>\n",
       "      <td>1.000000e+02</td>\n",
       "      <td>100.000000</td>\n",
       "    </tr>\n",
       "    <tr>\n",
       "      <th>mean</th>\n",
       "      <td>2.301629e+06</td>\n",
       "      <td>2.321049e+06</td>\n",
       "      <td>19419.810800</td>\n",
       "    </tr>\n",
       "    <tr>\n",
       "      <th>std</th>\n",
       "      <td>3.686145e+05</td>\n",
       "      <td>3.290531e+05</td>\n",
       "      <td>139058.424658</td>\n",
       "    </tr>\n",
       "    <tr>\n",
       "      <th>min</th>\n",
       "      <td>6.728072e+05</td>\n",
       "      <td>1.382287e+06</td>\n",
       "      <td>-241812.800000</td>\n",
       "    </tr>\n",
       "    <tr>\n",
       "      <th>25%</th>\n",
       "      <td>2.078062e+06</td>\n",
       "      <td>2.083829e+06</td>\n",
       "      <td>-22722.967500</td>\n",
       "    </tr>\n",
       "    <tr>\n",
       "      <th>50%</th>\n",
       "      <td>2.301879e+06</td>\n",
       "      <td>2.308115e+06</td>\n",
       "      <td>6163.975000</td>\n",
       "    </tr>\n",
       "    <tr>\n",
       "      <th>75%</th>\n",
       "      <td>2.555949e+06</td>\n",
       "      <td>2.563378e+06</td>\n",
       "      <td>7110.727500</td>\n",
       "    </tr>\n",
       "    <tr>\n",
       "      <th>max</th>\n",
       "      <td>2.986806e+06</td>\n",
       "      <td>2.991356e+06</td>\n",
       "      <td>709480.240000</td>\n",
       "    </tr>\n",
       "  </tbody>\n",
       "</table>\n",
       "</div>"
      ],
      "text/plain": [
       "       weight_before  weight_after  weight_change\n",
       "count   1.000000e+02  1.000000e+02     100.000000\n",
       "mean    2.301629e+06  2.321049e+06   19419.810800\n",
       "std     3.686145e+05  3.290531e+05  139058.424658\n",
       "min     6.728072e+05  1.382287e+06 -241812.800000\n",
       "25%     2.078062e+06  2.083829e+06  -22722.967500\n",
       "50%     2.301879e+06  2.308115e+06    6163.975000\n",
       "75%     2.555949e+06  2.563378e+06    7110.727500\n",
       "max     2.986806e+06  2.991356e+06  709480.240000"
      ]
     },
     "execution_count": 43,
     "metadata": {},
     "output_type": "execute_result"
    }
   ],
   "source": [
    "\n",
    "before=df['LBS_1'].values\n",
    "after=df['LBS_2'].values\n",
    "\n",
    "\n",
    "weight_df=pd.DataFrame({\"weight_before\":before,\n",
    "                         \"weight_after\":after,\n",
    "                         \"weight_change\":after-before})\n",
    "\n",
    "weight_df.describe()\n"
   ]
  },
  {
   "cell_type": "code",
   "execution_count": 28,
   "metadata": {},
   "outputs": [
    {
     "data": {
      "text/plain": [
       "Ttest_indResult(statistic=-0.39301971962993243, pvalue=0.6947331364137006)"
      ]
     },
     "execution_count": 28,
     "metadata": {},
     "output_type": "execute_result"
    }
   ],
   "source": [
    "import scipy.stats as stats\n",
    "\n",
    "stats.ttest_ind(a=before,b=after,equal_var=False)"
   ]
  },
  {
   "cell_type": "code",
   "execution_count": 45,
   "metadata": {},
   "outputs": [],
   "source": [
    "df.to_csv('files\\sysco_ca_test_results.csv', index=False)"
   ]
  }
 ],
 "metadata": {
  "kernelspec": {
   "display_name": ".venv",
   "language": "python",
   "name": "python3"
  },
  "language_info": {
   "codemirror_mode": {
    "name": "ipython",
    "version": 3
   },
   "file_extension": ".py",
   "mimetype": "text/x-python",
   "name": "python",
   "nbconvert_exporter": "python",
   "pygments_lexer": "ipython3",
   "version": "3.12.4"
  }
 },
 "nbformat": 4,
 "nbformat_minor": 4
}
