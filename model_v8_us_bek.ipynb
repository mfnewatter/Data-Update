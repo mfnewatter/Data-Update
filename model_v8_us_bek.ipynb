{
 "cells": [
  {
   "cell_type": "markdown",
   "metadata": {},
   "source": [
    "# Ben E Keith COVID Analysis"
   ]
  },
  {
   "cell_type": "markdown",
   "metadata": {},
   "source": [
    "Goal: \n",
    "1. Process BEK data (source = data.attribytes.com)\n",
    "2. Analyze data using COVID segmentation\n",
    "3. Compare sell-out (Ben E Keith) to sell-in (McCain) data"
   ]
  },
  {
   "cell_type": "markdown",
   "metadata": {},
   "source": [
    "### 1. Load libraries, initiate folder/file paths\n",
    "Run cell below"
   ]
  },
  {
   "cell_type": "code",
   "execution_count": 1,
   "metadata": {
    "tags": []
   },
   "outputs": [],
   "source": [
    "import pandas as pd\n",
    "import datetime\n",
    "from datetime import datetime as dt\n",
    "import numpy as np\n",
    "import teradatasql\n",
    "\n",
    "from distributor_transformation import transform_bek\n",
    "from sellout_model import process_list, analyze, add_time\n",
    "from sellout_teradata import teradata_sales\n",
    "from sellout_import import import_bek, all_df\n",
    "from sellout_azure import azure_sellin"
   ]
  },
  {
   "cell_type": "markdown",
   "metadata": {},
   "source": [
    "# Import portal raw file"
   ]
  },
  {
   "cell_type": "code",
   "execution_count": 2,
   "metadata": {},
   "outputs": [
    {
     "name": "stdout",
     "output_type": "stream",
     "text": [
      "C:\\Users\\newatter\\OneDrive - McCain Foods Limited\\Historical Sell-Out Sales\\\\BEK Update.xls\n"
     ]
    }
   ],
   "source": [
    "file_path = r'C:\\Users\\newatter\\OneDrive - McCain Foods Limited\\Historical Sell-Out Sales\\\\'\n",
    "file_name = 'BEK Update.xls'\n",
    "\n",
    "df = import_bek(file_path + file_name)"
   ]
  },
  {
   "cell_type": "markdown",
   "metadata": {},
   "source": [
    "### 7. Apply Dictionary to Raw Data / Check For Missing Segmentation\n",
    "Run cell below"
   ]
  },
  {
   "cell_type": "code",
   "execution_count": 3,
   "metadata": {},
   "outputs": [
    {
     "name": "stdout",
     "output_type": "stream",
     "text": [
      "Shape before adding dictionary: (256302, 23)\n",
      "Shape after adding segmentation: (256302, 29)\n",
      "Shape after adding product segmentation: (256302, 32)\n",
      "Shape before adding time: (256302, 33)\n",
      "Shape after adding time: (256302, 34)\n",
      "Shape after adding dictionary: (256298, 35)\n",
      "Nothing missing for COVID Segmentation - L1\n",
      "The following products are missing:\n",
      "                       Group       Family      SKU ID  Prod Nbr   \n",
      "0  FV560 POTATO, CRINKLE CUT  Frozen Food  1000012013  201486.0  \\\n",
      "\n",
      "                          Product Product Ext.Description Pack / Size    LBS  \n",
      "0  French Fries Cc Signature Coat             Sonic 68328    6 / 6 Lb  936.0  \n"
     ]
    }
   ],
   "source": [
    "df_bek = transform_bek(df, 'BEK - US.xlsx')"
   ]
  },
  {
   "cell_type": "code",
   "execution_count": 4,
   "metadata": {},
   "outputs": [
    {
     "data": {
      "text/plain": [
       "Timestamp('2024-04-07 00:00:00')"
      ]
     },
     "execution_count": 4,
     "metadata": {},
     "output_type": "execute_result"
    }
   ],
   "source": [
    "df_bek['Week Starting'].max()"
   ]
  },
  {
   "cell_type": "markdown",
   "metadata": {},
   "source": [
    "### 8. Combine New and Base Datasets\n",
    "Run cell below"
   ]
  },
  {
   "cell_type": "code",
   "execution_count": 5,
   "metadata": {},
   "outputs": [
    {
     "name": "stdout",
     "output_type": "stream",
     "text": [
      "Imported shape...(256298, 35)\n",
      "Final shape...(3489482, 13)\n"
     ]
    }
   ],
   "source": [
    "backup_path = r'C:\\Users\\newatter\\OneDrive - McCain Foods Limited\\Historical Sell-Out Sales\\Backups\\\\'\n",
    "\n",
    "_base = all_df(df_bek, backup_path, 'BEK.csv')"
   ]
  },
  {
   "cell_type": "markdown",
   "metadata": {},
   "source": [
    "### 9. Execute Analysis\n",
    "Run cell below"
   ]
  },
  {
   "cell_type": "code",
   "execution_count": 6,
   "metadata": {},
   "outputs": [
    {
     "name": "stdout",
     "output_type": "stream",
     "text": [
      "Processing Segments\n"
     ]
    }
   ],
   "source": [
    "_list = []\n",
    "\n",
    "#Output 1: COVID L1 - List 0\n",
    "_list.append(['City','State Name','COVID Segmentation - L1','COVID Segmentation - L2','Restaurant Service Type','Consolidated Category'])\n",
    "\n",
    "#Output 2: COVID L1 - List 1\n",
    "_list.append(['State Name','COVID Segmentation - L1','COVID Segmentation - L2','Restaurant Service Type','SKU ID','Consolidated Category','L1 Product Hierarchy','L2 Product Hierarchy'])\n",
    "\n",
    "#Create dataframes\n",
    "print(f'Processing Segments', flush = True)\n",
    "output1 = process_list(_base, _list[0], 'Ben E Keith')\n",
    "\n",
    "#print(f'Processing Sell in vs Sell out', flush = True)\n",
    "#output2 = teradata_sales(_base, '6500002764', 'Ben E Keith')"
   ]
  },
  {
   "cell_type": "code",
   "execution_count": 7,
   "metadata": {},
   "outputs": [
    {
     "name": "stdout",
     "output_type": "stream",
     "text": [
      "Processing Sell in vs Sell out\n",
      "Query ran for 6500002764 under sales org US01 for sales on or before 2024-04-14\n",
      "All done, took 67.0 seconds...\n",
      "All done\n"
     ]
    }
   ],
   "source": [
    "print(f'Processing Sell in vs Sell out', flush = True)\n",
    "output2 = azure_sellin(_base, 'US01', \"','\".join(['6500002764']), 'Ben E Keith')\n",
    "\n",
    "print('All done')"
   ]
  },
  {
   "cell_type": "code",
   "execution_count": 8,
   "metadata": {},
   "outputs": [],
   "source": [
    "output1.to_csv('files/sellout_region_bek.zip', compression='zip', index=False)\n",
    "output2.to_csv('files/sellout_sellin_bek.zip', compression='zip', index=False)"
   ]
  },
  {
   "cell_type": "code",
   "execution_count": 9,
   "metadata": {},
   "outputs": [],
   "source": [
    "_base.to_csv(backup_path + 'BEK.csv')"
   ]
  },
  {
   "cell_type": "code",
   "execution_count": 13,
   "metadata": {
    "collapsed": true,
    "jupyter": {
     "outputs_hidden": true
    },
    "tags": []
   },
   "outputs": [
    {
     "data": {
      "text/plain": [
       "Recreation                      22344\n",
       "Casual Dining                   16268\n",
       "QSR / Fast Casual               13720\n",
       "Bars & Pubs                     12740\n",
       "Grocery - Convenience           10192\n",
       "Healthcare                       9800\n",
       "Schools & Education              9800\n",
       "Public Sector (On site)          8428\n",
       "Distributor / Other Accounts     6272\n",
       "Workplace Canteens               5684\n",
       "Accommodation                    4704\n",
       "Name: COVID Segmentation - L1, dtype: int64"
      ]
     },
     "execution_count": 13,
     "metadata": {},
     "output_type": "execute_result"
    }
   ],
   "source": [
    "output1['COVID Segmentation - L1'].value_counts()"
   ]
  },
  {
   "cell_type": "code",
   "execution_count": 17,
   "metadata": {},
   "outputs": [
    {
     "data": {
      "image/png": "[encoded data removed]",
      "text/plain": [
       "<Figure size 720x432 with 1 Axes>"
      ]
     },
     "metadata": {
      "needs_background": "light"
     },
     "output_type": "display_data"
    }
   ],
   "source": [
    "import matplotlib.pyplot as plt\n",
    "from matplotlib.ticker import (MultipleLocator,\n",
    "                               FormatStrFormatter,\n",
    "                               AutoMinorLocator,\n",
    "                               PercentFormatter,\n",
    "                               StrMethodFormatter)\n",
    "\n",
    "fig, ax = plt.subplots()\n",
    "\n",
    "graph_data = output1.groupby(['Week Ending (Sat)','COVID Segmentation - L1'])['LBS'].sum().reset_index()\n",
    "\n",
    "ax.plot('Week Ending (Sat)','LBS', data=graph_data.groupby('Week Ending (Sat)').sum().reset_index())\n",
    "ax.plot('Week Ending (Sat)','LBS', data=graph_data[graph_data['COVID Segmentation - L1']=='Casual Dining'])\n",
    "ax.plot('Week Ending (Sat)','LBS', data=graph_data[graph_data['COVID Segmentation - L1']=='QSR / Fast Casual'])\n",
    "\n",
    "#ax.plot('month_begin','lost_freight_pred', data=data4)\n",
    "#ax.plot('month_begin','shortedquantitycs', data=data4)\n",
    "ax.legend(['Total LBS', 'Casual Dining', 'QSR'])\n",
    "\n",
    "ax.yaxis.set_major_formatter(StrMethodFormatter('{x:,.0f}'))\n",
    "\n",
    "ax.set_ylabel('LBS')\n",
    "\n",
    "ax.set_title(f'Ben E Keith Volume (LBS Shipped)')\n",
    "\n",
    "fig.set_size_inches((10, 6))\n",
    "\n",
    "# Tight layout to realign things\n",
    "fig.tight_layout()\n",
    "plt.show()"
   ]
  },
  {
   "cell_type": "code",
   "execution_count": 8,
   "metadata": {},
   "outputs": [
    {
     "data": {
      "text/plain": [
       "Index(['City', 'State Name', 'COVID Segmentation - L1',\n",
       "       'COVID Segmentation - L2', 'Restaurant Service Type',\n",
       "       'Consolidated Category', 'Calendar Week Year', 'Distributor', 'LBS',\n",
       "       'SMA_4', 'SMA_8', 'SMA_12', 'YOY Week', 'LBS_LY', 'SMA_4_LY',\n",
       "       'SMA_8_LY', 'SMA_12_LY', 'Baseline Week', 'LBS_Baseline',\n",
       "       'SMA_4_Baseline', 'SMA_8_Baseline', 'SMA_12_Baseline', 'LBS_Lag_1',\n",
       "       'LBS_Lag_2', 'LBS_Lag_3', 'LBS_Lag_4', 'LBS_Baseline_Lag_1',\n",
       "       'LBS_LY_Lag_1', 'SMA_4_Lag_1', 'SMA_4_LY_Lag_1', 'SMA_4_Baseline_Lag_1',\n",
       "       'LBS_PRECOVID', 'Week Starting (Sun)', 'Week Ending (Sat)',\n",
       "       'COVID Week'],\n",
       "      dtype='object')"
      ]
     },
     "execution_count": 8,
     "metadata": {},
     "output_type": "execute_result"
    }
   ],
   "source": [
    "output1.columns"
   ]
  },
  {
   "cell_type": "code",
   "execution_count": 1,
   "metadata": {},
   "outputs": [
    {
     "ename": "NameError",
     "evalue": "name 'plt' is not defined",
     "output_type": "error",
     "traceback": [
      "\u001b[1;31m---------------------------------------------------------------------------\u001b[0m",
      "\u001b[1;31mNameError\u001b[0m                                 Traceback (most recent call last)",
      "Input \u001b[1;32mIn [1]\u001b[0m, in \u001b[0;36m<cell line: 1>\u001b[1;34m()\u001b[0m\n\u001b[1;32m----> 1\u001b[0m fig, ax \u001b[38;5;241m=\u001b[39m \u001b[43mplt\u001b[49m\u001b[38;5;241m.\u001b[39msubplots()\n\u001b[0;32m      3\u001b[0m graph_data \u001b[38;5;241m=\u001b[39m output1[output1[\u001b[38;5;124m'\u001b[39m\u001b[38;5;124mConsolidated Category\u001b[39m\u001b[38;5;124m'\u001b[39m]\u001b[38;5;241m==\u001b[39m\u001b[38;5;124m'\u001b[39m\u001b[38;5;124mPrepared Foods\u001b[39m\u001b[38;5;124m'\u001b[39m]\u001b[38;5;241m.\u001b[39mgroupby([\u001b[38;5;124m'\u001b[39m\u001b[38;5;124mWeek Ending (Sat)\u001b[39m\u001b[38;5;124m'\u001b[39m,\u001b[38;5;124m'\u001b[39m\u001b[38;5;124mCOVID Segmentation - L1\u001b[39m\u001b[38;5;124m'\u001b[39m])[\u001b[38;5;124m'\u001b[39m\u001b[38;5;124mLBS\u001b[39m\u001b[38;5;124m'\u001b[39m]\u001b[38;5;241m.\u001b[39msum()\u001b[38;5;241m.\u001b[39mreset_index()\n\u001b[0;32m      5\u001b[0m \u001b[38;5;66;03m#graph_data = graph_data[graph_data['Consolidated Category']=='Prepared Foods']\u001b[39;00m\n",
      "\u001b[1;31mNameError\u001b[0m: name 'plt' is not defined"
     ]
    }
   ],
   "source": [
    "fig, ax = plt.subplots()\n",
    "\n",
    "graph_data = output1[output1['Consolidated Category']=='Prepared Foods'].groupby(['Week Ending (Sat)','COVID Segmentation - L1'])['LBS'].sum().reset_index()\n",
    "\n",
    "#graph_data = graph_data[graph_data['Consolidated Category']=='Prepared Foods']\n",
    "\n",
    "ax.plot('Week Ending (Sat)','LBS', data=graph_data.groupby('Week Ending (Sat)').sum().reset_index())\n",
    "ax.plot('Week Ending (Sat)','LBS', data=graph_data[graph_data['COVID Segmentation - L1']=='Casual Dining'])\n",
    "ax.plot('Week Ending (Sat)','LBS', data=graph_data[graph_data['COVID Segmentation - L1']=='QSR / Fast Casual'])\n",
    "\n",
    "#ax.plot('month_begin','lost_freight_pred', data=data4)\n",
    "#ax.plot('month_begin','shortedquantitycs', data=data4)\n",
    "ax.legend(['Total LBS', 'Casual Dining', 'QSR'])\n",
    "\n",
    "ax.yaxis.set_major_formatter(StrMethodFormatter('{x:,.0f}'))\n",
    "\n",
    "ax.set_ylabel('LBS')\n",
    "\n",
    "ax.set_title(f'Ben E Keith Volume (LBS Shipped)')\n",
    "\n",
    "fig.set_size_inches((10, 6))\n",
    "\n",
    "# Tight layout to realign things\n",
    "fig.tight_layout()\n",
    "plt.show()"
   ]
  },
  {
   "cell_type": "code",
   "execution_count": 84,
   "metadata": {},
   "outputs": [
    {
     "data": {
      "image/png": "[encoded data removed]",
      "text/plain": [
       "<Figure size 792x432 with 1 Axes>"
      ]
     },
     "metadata": {
      "needs_background": "light"
     },
     "output_type": "display_data"
    }
   ],
   "source": [
    "\n",
    "fig, ax = plt.subplots()\n",
    "\n",
    "data = output1.groupby('Week Ending (Sat)')['LBS'].sum().pct_change()[-6:]\n",
    "\n",
    "#4 week change\n",
    "#data = output1[output1['COVID Segmentation - L1']=='Casual Dining'].groupby('Week Ending (Sat)')['LBS'].sum().pct_change(periods=4)[-6:]\n",
    "#data = output1[output1['COVID Segmentation - L1']=='QSR / Fast Casual'].groupby('Week Ending (Sat)')['LBS'].sum().pct_change(periods=4)[-6:]\n",
    "\n",
    "#establish colors for values\n",
    "col = []\n",
    "for val in data:\n",
    "    if val < 0:\n",
    "        col.append('red')\n",
    "    elif val >= 0:\n",
    "        col.append('green')\n",
    "    else:\n",
    "        col.append('white')\n",
    "        \n",
    "#data = data * 100\n",
    "\n",
    "ax = data.plot(kind='bar', ax=ax, color = col)\n",
    "\n",
    "ax.yaxis.set_major_formatter(StrMethodFormatter('{x:,.0%}'))\n",
    "\n",
    "#x-ticks\n",
    "x_ticks = output1['Week Ending (Sat)'].dt.strftime('%m-%d').unique()[-6:]\n",
    "x_range = np.arange(len(x_ticks))\n",
    "plt.xticks(x_range, x_ticks)\n",
    "\n",
    "#for container in ax.containers:\n",
    "#    ax.bar_label(container, fmt='%0.2f%%', padding=3)\n",
    "\n",
    "lbls = (data.values * 100).round(1)\n",
    "\n",
    "lbls = [f'{l}%' for l in lbls]\n",
    "\n",
    "annotations = ax.bar_label(ax.containers[0], labels = lbls,  fmt='%.1f%%', padding=3, label_type='edge', fontsize=12)\n",
    "\n",
    "ax.hlines(y=0, xmin=-10, xmax=10, linewidth=2, color='black')\n",
    "\n",
    "fig.set_size_inches((11, 6))\n",
    "\n",
    "# Tight layout to realign things\n",
    "fig.tight_layout()\n",
    "plt.show()"
   ]
  },
  {
   "cell_type": "code",
   "execution_count": 13,
   "metadata": {},
   "outputs": [
    {
     "data": {
      "text/plain": [
       "<AxesSubplot:xlabel='Week Ending (Sat)'>"
      ]
     },
     "execution_count": 13,
     "metadata": {},
     "output_type": "execute_result"
    },
    {
     "data": {
      "image/png": "[encoded data removed]",
      "text/plain": [
       "<Figure size 432x288 with 1 Axes>"
      ]
     },
     "metadata": {
      "needs_background": "light"
     },
     "output_type": "display_data"
    }
   ],
   "source": [
    "output1[output1['COVID Segmentation - L1']=='Casual Dining'].groupby('Week Ending (Sat)')['LBS'].sum().pct_change(periods=4)[-6:].plot(kind='bar')"
   ]
  },
  {
   "cell_type": "code",
   "execution_count": 12,
   "metadata": {},
   "outputs": [
    {
     "data": {
      "text/plain": [
       "<AxesSubplot:xlabel='Week Ending (Sat)'>"
      ]
     },
     "execution_count": 12,
     "metadata": {},
     "output_type": "execute_result"
    },
    {
     "data": {
      "image/png": "[encoded data removed]",
      "text/plain": [
       "<Figure size 432x288 with 1 Axes>"
      ]
     },
     "metadata": {
      "needs_background": "light"
     },
     "output_type": "display_data"
    }
   ],
   "source": [
    "output1[output1['COVID Segmentation - L1']=='QSR / Fast Casual'].groupby('Week Ending (Sat)')['LBS'].sum().pct_change(periods=4)[-6:].plot(kind='bar')"
   ]
  },
  {
   "cell_type": "code",
   "execution_count": null,
   "metadata": {},
   "outputs": [],
   "source": []
  },
  {
   "cell_type": "code",
   "execution_count": 9,
   "metadata": {
    "tags": []
   },
   "outputs": [
    {
     "data": {
      "text/plain": [
       "Index(['City', 'State Name', 'COVID Segmentation - L1',\n",
       "       'COVID Segmentation - L2', 'Restaurant Service Type',\n",
       "       'Consolidated Category', 'Calendar Week Year', 'Distributor', 'LBS',\n",
       "       'SMA_4', 'SMA_8', 'SMA_12', 'YOY Week', 'LBS_LY', 'SMA_4_LY',\n",
       "       'SMA_8_LY', 'SMA_12_LY', 'Baseline Week', 'LBS_Baseline',\n",
       "       'SMA_4_Baseline', 'SMA_8_Baseline', 'SMA_12_Baseline', 'LBS_Lag_1',\n",
       "       'LBS_Lag_2', 'LBS_Lag_3', 'LBS_Lag_4', 'LBS_Baseline_Lag_1',\n",
       "       'LBS_LY_Lag_1', 'SMA_4_Lag_1', 'SMA_4_LY_Lag_1', 'SMA_4_Baseline_Lag_1',\n",
       "       'LBS_PRECOVID', 'Week Starting (Sun)', 'Week Ending (Sat)',\n",
       "       'COVID Week'],\n",
       "      dtype='object')"
      ]
     },
     "execution_count": 9,
     "metadata": {},
     "output_type": "execute_result"
    }
   ],
   "source": [
    "output1.columns"
   ]
  },
  {
   "cell_type": "code",
   "execution_count": 18,
   "metadata": {},
   "outputs": [
    {
     "data": {
      "text/plain": [
       "<AxesSubplot:xlabel='Calendar Week Year,Distributor'>"
      ]
     },
     "execution_count": 18,
     "metadata": {},
     "output_type": "execute_result"
    },
    {
     "data": {
      "image/png": "[encoded data removed]",
      "text/plain": [
       "<Figure size 432x288 with 1 Axes>"
      ]
     },
     "metadata": {
      "needs_background": "light"
     },
     "output_type": "display_data"
    }
   ],
   "source": [
    "output1.groupby(['Calendar Week Year','Distributor'])['LBS'].sum().plot()"
   ]
  },
  {
   "cell_type": "code",
   "execution_count": 19,
   "metadata": {},
   "outputs": [
    {
     "data": {
      "text/plain": [
       "Calendar Week Year  Distributor\n",
       "201901              Ben E Keith    1341492.22\n",
       "201902              Ben E Keith    1489358.30\n",
       "201903              Ben E Keith    1416016.70\n",
       "201904              Ben E Keith    1187008.76\n",
       "201905              Ben E Keith    1278096.08\n",
       "                                      ...    \n",
       "202229              Ben E Keith    1876876.16\n",
       "202230              Ben E Keith    1887312.74\n",
       "202231              Ben E Keith    1975866.68\n",
       "202232              Ben E Keith    1976353.40\n",
       "202233              Ben E Keith    1920357.44\n",
       "Name: LBS, Length: 190, dtype: float64"
      ]
     },
     "execution_count": 19,
     "metadata": {},
     "output_type": "execute_result"
    }
   ],
   "source": [
    "output1.groupby(['Calendar Week Year','Distributor'])['LBS'].sum()"
   ]
  },
  {
   "cell_type": "code",
   "execution_count": 7,
   "metadata": {},
   "outputs": [
    {
     "data": {
      "text/plain": [
       "Timestamp('2022-07-23 00:00:00')"
      ]
     },
     "execution_count": 7,
     "metadata": {},
     "output_type": "execute_result"
    }
   ],
   "source": [
    "output1['Week Ending (Sat)'].max()"
   ]
  },
  {
   "cell_type": "markdown",
   "metadata": {},
   "source": [
    "### 10. Upload Analysis to Teradata\n",
    "Run cell below"
   ]
  },
  {
   "cell_type": "code",
   "execution_count": 6,
   "metadata": {},
   "outputs": [
    {
     "name": "stdout",
     "output_type": "stream",
     "text": [
      "Database selected! 07/19/2022 15:44:09 PM\n",
      "Deleting records for: Ben E Keith in table: SELLOUT_REGION\n",
      "Inserting records into SELLOUT_REGION\n",
      "Inserted 3648 records\n",
      "Database selected! 07/19/2022 15:44:17 PM\n",
      "Deleting records for: Ben E Keith in table: SELLOUT_AND_SELLIN\n",
      "Inserting records into SELLOUT_AND_SELLIN\n",
      "Inserted 12 records\n"
     ]
    }
   ],
   "source": [
    "def td_upload(select_db, df, table_name):\n",
    "    with teradatasql.connect(None, \n",
    "                         host='172.29.3.43',\n",
    "                         user='PNWATTERS',\n",
    "                         password='teradata123') as con:\n",
    "        with con.cursor() as cur:\n",
    "            cur.execute (select_db)\n",
    "            d = dt.now().strftime('%m/%d/%Y %H:%M:%S %p')\n",
    "            print(f'Database selected! {d}', flush=True)            \n",
    "\n",
    "            delete_from_td(df, table_name, cur)\n",
    "            insert_into_td(df, table_name, cur)\n",
    "\n",
    "def delete_from_td(df, table_name, cur):\n",
    "    distributor = df.groupby('Distributor').size().reset_index().drop(columns=0).to_numpy()[0][0]\n",
    "    \n",
    "    print(f'Deleting records for: {distributor} in table: {table_name}', flush = True)          \n",
    "    \n",
    "    query = '''\n",
    "    DELETE FROM ''' + table_name  + ''' \n",
    "    WHERE \"Distributor\" = ''' + \"'\" + distributor + \"'\" + ''' AND \"Calendar Week Year\" IN (''' + include + \")\"\n",
    "    \n",
    "    #query = '''\n",
    "    #DELETE FROM ''' + table_name  + ''' \n",
    "    #WHERE \"Distributor\" = ''' + \"'\" + distributor + \"'\"\n",
    "    \n",
    "    cur.execute (query)\n",
    "    \n",
    "def insert_into_td(df, table_name, cur):\n",
    "    insert_list = df.values.tolist()\n",
    "    \n",
    "    #creates ?, ?,.... string used in query for teradata fastload\n",
    "    insert_columns = ('?, ' * len(df.columns)).rstrip(', ')\n",
    "    \n",
    "    print(f'Inserting records into {table_name}', flush = True)\n",
    "    \n",
    "    query = \"INSERT INTO \" + table_name  + \" (\" + insert_columns + \")\"\n",
    "    #query = \"{fn teradata_try_fastload}INSERT INTO \" + table_name  + \" (\" + insert_columns + \")\"\n",
    "    \n",
    "    cur.execute (query, insert_list)\n",
    "    \n",
    "    print(f'Inserted {df.shape[0]} records', flush = True)\n",
    "    \n",
    "\n",
    "select_db = 'DATABASE DL_NA_PROTOTYPING'\n",
    "\n",
    "exclude_list = output1['Calendar Week Year'].sort_values(ascending=False).unique().tolist()[:6]\n",
    "include = str(exclude_list)[1:-1]\n",
    "\n",
    "#only send new data\n",
    "td_upload(select_db, output1[output1['Calendar Week Year'].isin(exclude_list)], 'SELLOUT_REGION')\n",
    "td_upload(select_db, output2[output2['Calendar Week Year'].isin(exclude_list)], 'SELLOUT_AND_SELLIN')\n",
    "\n",
    "#only send all data\n",
    "#td_upload(select_db, output1, 'SELLOUT_REGION')\n",
    "#td_upload(select_db, output2, 'SELLOUT_AND_SELLIN')\n",
    "\n",
    "#td_upload(select_db, output3[output3['Calendar Week Year'].isin(exclude_list)].astype({'SKU ID':'str'}), 'SELLOUT_REGION_SKU')"
   ]
  },
  {
   "cell_type": "markdown",
   "metadata": {},
   "source": [
    "# Import into SQL mi server"
   ]
  },
  {
   "cell_type": "code",
   "execution_count": 3,
   "metadata": {},
   "outputs": [],
   "source": [
    "import pandas as pd"
   ]
  },
  {
   "cell_type": "code",
   "execution_count": 2,
   "metadata": {},
   "outputs": [],
   "source": [
    "def convert_to_dataframe(file_path):\n",
    "\n",
    "    if file_path.endswith('.csv'):\n",
    "            df = pd.read_csv(file_name, thousands = ',', encoding=\"utf-8\", low_memory = False, header = 0,na_values = \" \")\n",
    "            df = df[df['Branch'] != 'Total']\n",
    "    else:\n",
    "        df = pd.DataFrame()\n",
    "\n",
    "        _import = pd.read_excel(file_path, sheet_name=None)\n",
    "        \n",
    "        for f in _import:\n",
    "            if f == 'Sheet1':\n",
    "                add = pd.DataFrame.from_dict(_import[f])\n",
    "                \n",
    "                col = add.columns.to_list()\n",
    "            else:\n",
    "                add = _import[f].T.reset_index().T\n",
    "                add.columns = col\n",
    "        \n",
    "            df = pd.concat([df, add])\n",
    "        \n",
    "        df = df.rename(columns={\n",
    "            'Unnamed: 21':'LBS',\n",
    "            'Unnamed: 22':'LBS'\n",
    "            })\n",
    "\n",
    "    return df"
   ]
  },
  {
   "cell_type": "code",
   "execution_count": 3,
   "metadata": {},
   "outputs": [],
   "source": [
    "file_path = r'C:\\Users\\newatter\\OneDrive - McCain Foods Limited\\Weekly Update Files\\2024-04-12\\BEK Update.xls'\n",
    "bek = convert_to_dataframe(file_path)"
   ]
  },
  {
   "cell_type": "code",
   "execution_count": 4,
   "metadata": {},
   "outputs": [
    {
     "data": {
      "text/plain": [
       "Index(['Branch', 'Business Unit', 'SIC Code', 'SIC Sub', 'Customer Nbr.',\n",
       "       'Customer Name', 'Customer Address1', 'Customer Address2',\n",
       "       'Customer City', 'Customer State', 'Customer Zip', 'Family', 'Brand',\n",
       "       'Group', 'Manufacture Prod.Nbr.', 'Prod Nbr', 'Product', 'Prod Nbr.1',\n",
       "       'Pack / Size', 'Product Ext.Description', 'Week of', 'Month', 'LBS'],\n",
       "      dtype='object')"
      ]
     },
     "execution_count": 4,
     "metadata": {},
     "output_type": "execute_result"
    }
   ],
   "source": [
    "bek.columns"
   ]
  },
  {
   "cell_type": "code",
   "execution_count": 19,
   "metadata": {},
   "outputs": [
    {
     "data": {
      "text/html": [
       "<div>\n",
       "<style scoped>\n",
       "    .dataframe tbody tr th:only-of-type {\n",
       "        vertical-align: middle;\n",
       "    }\n",
       "\n",
       "    .dataframe tbody tr th {\n",
       "        vertical-align: top;\n",
       "    }\n",
       "\n",
       "    .dataframe thead th {\n",
       "        text-align: right;\n",
       "    }\n",
       "</style>\n",
       "<table border=\"1\" class=\"dataframe\">\n",
       "  <thead>\n",
       "    <tr style=\"text-align: right;\">\n",
       "      <th></th>\n",
       "      <th>Branch</th>\n",
       "      <th>Business Unit</th>\n",
       "      <th>SIC Code</th>\n",
       "      <th>SIC Sub</th>\n",
       "      <th>Customer Number</th>\n",
       "      <th>Customer Name</th>\n",
       "      <th>Customer Address1</th>\n",
       "      <th>Customer Address2</th>\n",
       "      <th>Customer City</th>\n",
       "      <th>Customer State</th>\n",
       "      <th>Customer Zip</th>\n",
       "      <th>McCain SKU ID</th>\n",
       "      <th>Product Number</th>\n",
       "      <th>Product Description</th>\n",
       "      <th>Week Beginning Date</th>\n",
       "      <th>LBS</th>\n",
       "    </tr>\n",
       "  </thead>\n",
       "  <tbody>\n",
       "    <tr>\n",
       "      <th>1</th>\n",
       "      <td>NEW MEXICO</td>\n",
       "      <td>NATIONAL</td>\n",
       "      <td>RESTAURANTS</td>\n",
       "      <td>HAMBURGER</td>\n",
       "      <td>874113</td>\n",
       "      <td>MOOYAH BURGER  252 EL PASO</td>\n",
       "      <td>8889 GATEWAY BLVD. STE 45</td>\n",
       "      <td>NaN</td>\n",
       "      <td>EL PASO</td>\n",
       "      <td>TX</td>\n",
       "      <td>79925</td>\n",
       "      <td>MCF03731</td>\n",
       "      <td>363445</td>\n",
       "      <td>Potato Sweet Fries 5/16 In</td>\n",
       "      <td>2023-12-31</td>\n",
       "      <td>210.0</td>\n",
       "    </tr>\n",
       "    <tr>\n",
       "      <th>2</th>\n",
       "      <td>NEW MEXICO</td>\n",
       "      <td>NATIONAL</td>\n",
       "      <td>RESTAURANTS</td>\n",
       "      <td>HAMBURGER</td>\n",
       "      <td>874113</td>\n",
       "      <td>MOOYAH BURGER  252 EL PASO</td>\n",
       "      <td>8889 GATEWAY BLVD. STE 45</td>\n",
       "      <td>NaN</td>\n",
       "      <td>EL PASO</td>\n",
       "      <td>TX</td>\n",
       "      <td>79925</td>\n",
       "      <td>MCF03731</td>\n",
       "      <td>363445</td>\n",
       "      <td>Potato Sweet Fries 5/16 In</td>\n",
       "      <td>2024-01-07</td>\n",
       "      <td>210.0</td>\n",
       "    </tr>\n",
       "    <tr>\n",
       "      <th>3</th>\n",
       "      <td>NEW MEXICO</td>\n",
       "      <td>NATIONAL</td>\n",
       "      <td>RESTAURANTS</td>\n",
       "      <td>HAMBURGER</td>\n",
       "      <td>874113</td>\n",
       "      <td>MOOYAH BURGER  252 EL PASO</td>\n",
       "      <td>8889 GATEWAY BLVD. STE 45</td>\n",
       "      <td>NaN</td>\n",
       "      <td>EL PASO</td>\n",
       "      <td>TX</td>\n",
       "      <td>79925</td>\n",
       "      <td>MCF03731</td>\n",
       "      <td>363445</td>\n",
       "      <td>Potato Sweet Fries 5/16 In</td>\n",
       "      <td>2024-01-14</td>\n",
       "      <td>180.0</td>\n",
       "    </tr>\n",
       "    <tr>\n",
       "      <th>4</th>\n",
       "      <td>NEW MEXICO</td>\n",
       "      <td>NATIONAL</td>\n",
       "      <td>RESTAURANTS</td>\n",
       "      <td>HAMBURGER</td>\n",
       "      <td>874113</td>\n",
       "      <td>MOOYAH BURGER  252 EL PASO</td>\n",
       "      <td>8889 GATEWAY BLVD. STE 45</td>\n",
       "      <td>NaN</td>\n",
       "      <td>EL PASO</td>\n",
       "      <td>TX</td>\n",
       "      <td>79925</td>\n",
       "      <td>MCF03731</td>\n",
       "      <td>363445</td>\n",
       "      <td>Potato Sweet Fries 5/16 In</td>\n",
       "      <td>2024-01-21</td>\n",
       "      <td>150.0</td>\n",
       "    </tr>\n",
       "    <tr>\n",
       "      <th>5</th>\n",
       "      <td>NEW MEXICO</td>\n",
       "      <td>NATIONAL</td>\n",
       "      <td>RESTAURANTS</td>\n",
       "      <td>HAMBURGER</td>\n",
       "      <td>874113</td>\n",
       "      <td>MOOYAH BURGER  252 EL PASO</td>\n",
       "      <td>8889 GATEWAY BLVD. STE 45</td>\n",
       "      <td>NaN</td>\n",
       "      <td>EL PASO</td>\n",
       "      <td>TX</td>\n",
       "      <td>79925</td>\n",
       "      <td>MCF03731</td>\n",
       "      <td>363445</td>\n",
       "      <td>Potato Sweet Fries 5/16 In</td>\n",
       "      <td>2024-02-04</td>\n",
       "      <td>210.0</td>\n",
       "    </tr>\n",
       "  </tbody>\n",
       "</table>\n",
       "</div>"
      ],
      "text/plain": [
       "       Branch Business Unit     SIC Code    SIC Sub Customer Number  \\\n",
       "1  NEW MEXICO      NATIONAL  RESTAURANTS  HAMBURGER          874113   \n",
       "2  NEW MEXICO      NATIONAL  RESTAURANTS  HAMBURGER          874113   \n",
       "3  NEW MEXICO      NATIONAL  RESTAURANTS  HAMBURGER          874113   \n",
       "4  NEW MEXICO      NATIONAL  RESTAURANTS  HAMBURGER          874113   \n",
       "5  NEW MEXICO      NATIONAL  RESTAURANTS  HAMBURGER          874113   \n",
       "\n",
       "                Customer Name          Customer Address1 Customer Address2  \\\n",
       "1  MOOYAH BURGER  252 EL PASO  8889 GATEWAY BLVD. STE 45               NaN   \n",
       "2  MOOYAH BURGER  252 EL PASO  8889 GATEWAY BLVD. STE 45               NaN   \n",
       "3  MOOYAH BURGER  252 EL PASO  8889 GATEWAY BLVD. STE 45               NaN   \n",
       "4  MOOYAH BURGER  252 EL PASO  8889 GATEWAY BLVD. STE 45               NaN   \n",
       "5  MOOYAH BURGER  252 EL PASO  8889 GATEWAY BLVD. STE 45               NaN   \n",
       "\n",
       "  Customer City Customer State Customer Zip McCain SKU ID Product Number  \\\n",
       "1       EL PASO             TX        79925      MCF03731         363445   \n",
       "2       EL PASO             TX        79925      MCF03731         363445   \n",
       "3       EL PASO             TX        79925      MCF03731         363445   \n",
       "4       EL PASO             TX        79925      MCF03731         363445   \n",
       "5       EL PASO             TX        79925      MCF03731         363445   \n",
       "\n",
       "          Product Description Week Beginning Date    LBS  \n",
       "1  Potato Sweet Fries 5/16 In          2023-12-31  210.0  \n",
       "2  Potato Sweet Fries 5/16 In          2024-01-07  210.0  \n",
       "3  Potato Sweet Fries 5/16 In          2024-01-14  180.0  \n",
       "4  Potato Sweet Fries 5/16 In          2024-01-21  150.0  \n",
       "5  Potato Sweet Fries 5/16 In          2024-02-04  210.0  "
      ]
     },
     "execution_count": 19,
     "metadata": {},
     "output_type": "execute_result"
    }
   ],
   "source": [
    "columns_to_keep = ['Branch', 'Business Unit', 'SIC Code', 'SIC Sub', 'Customer Nbr.',\n",
    "       'Customer Name', 'Customer Address1', 'Customer Address2',\n",
    "       'Customer City', 'Customer State', 'Customer Zip', 'Manufacture Prod.Nbr.', 'Prod Nbr', 'Product', 'Week of', 'LBS']\n",
    "\n",
    "rename_columns = {\n",
    "    'Customer Nbr.':'Customer Number',\n",
    "    'Manufacture Prod.Nbr.':'McCain SKU ID',\n",
    "    'Prod Nbr':'Product Number',\n",
    "    'Product':'Product Description',\n",
    "    'Week of':'Week Beginning Date'\n",
    "}\n",
    "\n",
    "nan_rows = bek[bek['Week of'].isna()].index\n",
    "\n",
    "bek_clean = bek[columns_to_keep].rename(columns=rename_columns).drop(nan_rows)\n",
    "\n",
    "columns_to_clean = ['Customer Number','Customer Zip','Product Number']\n",
    "\n",
    "for col in columns_to_clean:\n",
    "    bek_clean[col] = bek_clean[col].astype(int).astype(str)\n",
    "\n",
    "bek_clean['LBS'] = bek_clean['LBS'].astype(float)\n",
    "\n",
    "bek_clean['Week Beginning Date'] = pd.to_datetime(bek_clean['Week Beginning Date'])\n",
    "\n",
    "bek_clean.head()"
   ]
  },
  {
   "cell_type": "code",
   "execution_count": 22,
   "metadata": {},
   "outputs": [
    {
     "name": "stdout",
     "output_type": "stream",
     "text": [
      "Processing folder: 2020-11-13\n",
      "Processing folder: 2020-11-20\n",
      "Processing folder: 2020-12-04\n",
      "Processing folder: 2020-12-11\n",
      "Processing folder: 2020-12-18\n",
      "Processing folder: 2021-01-08\n",
      "Processing folder: 2021-01-15\n",
      "Processing folder: 2021-01-22\n",
      "Processing folder: 2021-01-29\n",
      "Processing folder: 2021-02-05\n",
      "Processing folder: 2021-02-12\n",
      "Processing folder: 2021-02-19\n",
      "Processing folder: 2021-02-26\n",
      "Processing folder: 2021-03-05\n",
      "Processing folder: 2021-03-12\n",
      "Processing folder: 2021-03-19\n",
      "Processing folder: 2021-03-26\n",
      "Processing folder: 2021-04-09\n",
      "Processing folder: 2021-04-16\n",
      "Processing folder: 2021-04-23\n",
      "Processing folder: 2021-04-30\n",
      "Processing folder: 2021-05-05\n",
      "Processing folder: 2021-05-14\n",
      "Processing folder: 2021-05-21\n",
      "Processing folder: 2021-05-28\n",
      "Processing folder: 2021-06-04\n",
      "Processing folder: 2021-06-11\n",
      "Processing folder: 2021-06-18\n",
      "Processing folder: 2021-06-25\n",
      "Processing folder: 2021-07-02\n",
      "Processing folder: 2021-07-09\n",
      "Processing folder: 2021-07-16\n",
      "Processing folder: 2021-07-23\n",
      "Processing folder: 2021-07-30\n",
      "Processing folder: 2021-08-06\n",
      "Processing folder: 2021-08-13\n",
      "Processing folder: 2021-08-20\n",
      "Processing folder: 2021-08-27\n",
      "Processing folder: 2021-09-03\n",
      "Processing folder: 2021-09-10\n",
      "Processing folder: 2021-09-17\n",
      "Processing folder: 2021-09-24\n",
      "Processing folder: 2021-09-31\n",
      "Processing folder: 2021-10-08\n",
      "Processing folder: 2021-10-15\n",
      "Processing folder: 2021-10-22\n",
      "Processing folder: 2021-10-29\n",
      "Processing folder: 2021-11-05\n",
      "Processing folder: 2021-11-12\n",
      "Processing folder: 2021-11-19\n",
      "Processing folder: 2021-12-03\n",
      "Processing folder: 2021-12-10\n",
      "Processing folder: 2021-12-17\n",
      "Processing folder: 2022-01-07\n",
      "Processing folder: 2022-01-14\n",
      "Processing folder: 2022-01-21\n",
      "Processing folder: 2022-01-28\n",
      "Processing folder: 2022-02-04\n",
      "Processing folder: 2022-02-11\n",
      "Processing folder: 2022-02-17\n",
      "Processing folder: 2022-02-25\n",
      "Processing folder: 2022-03-04\n",
      "Processing folder: 2022-03-11\n",
      "Processing folder: 2022-03-18\n",
      "Processing folder: 2022-03-25\n",
      "Processing folder: 2022-04-01\n",
      "Processing folder: 2022-04-08\n",
      "Processing folder: 2022-04-15\n",
      "Processing folder: 2022-04-22\n",
      "Processing folder: 2022-04-29\n",
      "Processing folder: 2022-05-06\n",
      "Processing folder: 2022-05-13\n",
      "Processing folder: 2022-05-20\n",
      "Processing folder: 2022-05-27\n",
      "Processing folder: 2022-06-03\n",
      "Processing folder: 2022-06-10\n",
      "Processing folder: 2022-06-17\n",
      "Processing folder: 2022-06-24\n",
      "Processing folder: 2022-07-01\n",
      "Processing folder: 2022-07-08\n",
      "Processing folder: 2022-07-15\n",
      "Processing folder: 2022-07-22\n",
      "Processing folder: 2022-07-29\n",
      "Processing folder: 2022-08-05\n",
      "Processing folder: 2022-08-12\n",
      "Processing folder: 2022-08-19\n",
      "Processing folder: 2022-08-26\n",
      "Processing folder: 2022-09-02\n",
      "Processing folder: 2022-09-09\n",
      "Processing folder: 2022-09-16\n",
      "Processing folder: 2022-09-23\n",
      "Processing folder: 2022-09-30\n",
      "Processing folder: 2022-10-07\n",
      "Processing folder: 2022-10-14\n",
      "Processing folder: 2022-10-21\n",
      "Processing folder: 2022-10-28\n",
      "Processing folder: 2022-11-04\n",
      "Processing folder: 2022-11-11\n",
      "Processing folder: 2022-11-18\n",
      "Processing folder: 2022-11-25\n",
      "Processing folder: 2022-12-02\n",
      "Processing folder: 2022-12-09\n",
      "Processing folder: 2022-12-16\n",
      "Processing folder: 2022-12-23\n",
      "Processing folder: 2023-01-06\n",
      "Processing folder: 2023-01-13\n",
      "Processing folder: 2023-01-20\n",
      "Processing folder: 2023-01-27\n",
      "Processing folder: 2023-02-03\n",
      "Processing folder: 2023-02-10\n",
      "Processing folder: 2023-02-17\n",
      "Processing folder: 2023-02-24\n",
      "Processing folder: 2023-03-03\n",
      "Processing folder: 2023-03-10\n",
      "Processing folder: 2023-03-17\n",
      "Processing folder: 2023-03-24\n",
      "Processing folder: 2023-03-31\n",
      "Processing folder: 2023-04-07\n",
      "Processing folder: 2023-04-14\n",
      "Processing folder: 2023-04-21\n",
      "Processing folder: 2023-04-28\n",
      "Processing folder: 2023-05-05\n",
      "Processing folder: 2023-05-12\n",
      "Processing folder: 2023-05-19\n",
      "Processing folder: 2023-05-26\n",
      "Processing folder: 2023-06-02\n",
      "Processing folder: 2023-06-09\n",
      "Processing folder: 2023-06-16\n",
      "Processing folder: 2023-06-23\n",
      "Processing folder: 2023-06-30\n",
      "Processing folder: 2023-07-07\n",
      "Processing folder: 2023-07-14\n",
      "Processing folder: 2023-07-21\n",
      "Processing folder: 2023-07-28\n",
      "Processing folder: 2023-08-04\n",
      "Processing folder: 2023-08-11\n",
      "Processing folder: 2023-08-18\n",
      "Processing folder: 2023-08-25\n",
      "Processing folder: 2023-09-01\n",
      "Processing folder: 2023-09-08\n",
      "Processing folder: 2023-09-15\n",
      "Processing folder: 2023-09-22\n",
      "Processing folder: 2023-09-29\n",
      "Processing folder: 2023-10-06\n",
      "Processing folder: 2023-10-13\n",
      "Processing folder: 2023-10-20\n",
      "Processing folder: 2023-10-27\n",
      "Processing folder: 2023-11-03\n",
      "Processing folder: 2023-11-10\n",
      "Processing folder: 2023-11-17\n",
      "Processing folder: 2023-11-24\n",
      "Processing folder: 2023-12-01\n",
      "Processing folder: 2023-12-08\n",
      "Processing folder: 2023-12-15\n",
      "Processing folder: 2023-12-22\n",
      "Processing folder: 2023-12-29\n",
      "Processing folder: 2024-01-05\n",
      "Processing folder: 2024-01-12\n",
      "Processing folder: 2024-01-19\n",
      "Processing folder: 2024-01-26\n",
      "Processing folder: 2024-02-02\n",
      "Processing folder: 2024-02-09\n",
      "Processing folder: 2024-02-16\n",
      "Processing folder: 2024-02-23\n",
      "Processing folder: 2024-03-01\n",
      "Processing folder: 2024-03-08\n",
      "Processing folder: 2024-03-15\n",
      "Processing folder: 2024-03-22\n",
      "Processing folder: 2024-04-05\n",
      "Processing folder: 2024-04-12\n",
      "Processing folder: US Foods Inv\n"
     ]
    }
   ],
   "source": [
    "import os\n",
    "\n",
    "# The path to the directory containing the folders\n",
    "directory_path = r'C:\\Users\\newatter\\OneDrive - McCain Foods Limited\\Weekly Update Files'\n",
    "\n",
    "# Get a list of all entries in the directory\n",
    "entries = os.listdir(directory_path)\n",
    "\n",
    "# Filter the list to include only directories, not files\n",
    "directories = [d for d in entries if os.path.isdir(os.path.join(directory_path, d))]\n",
    "\n",
    "# Sort the directories by their names, assuming they are in 'yyyy-mm-dd' format\n",
    "sorted_directories = sorted(directories, key=lambda x: x)\n",
    "\n",
    "# Loop through the sorted directories\n",
    "for folder in sorted_directories:\n",
    "    print(f\"Processing folder: {folder}\")"
   ]
  },
  {
   "cell_type": "code",
   "execution_count": 11,
   "metadata": {},
   "outputs": [],
   "source": [
    "import pyodbc\n",
    "import sqlalchemy\n",
    "from sqlalchemy import create_engine, MetaData, Table\n",
    "from sqlalchemy.engine import URL\n",
    "from datetime import datetime\n",
    "import pandas as pd\n",
    "\n",
    "class bek_sellout:\n",
    "    def __init__(self, file_path) -> None:\n",
    "        self.filepath = file_path\n",
    "        self.data = self.process_file()\n",
    "        self.data_import = self.filter_rows()\n",
    "        #self.delete_rows()\n",
    "        self.insert_rows()\n",
    "\n",
    "        pass\n",
    "    \n",
    "    def transform_data(df):\n",
    "        columns_to_keep = ['Branch', 'Business Unit', 'SIC Code', 'SIC Sub', \n",
    "                           'Customer Nbr.','Customer Name', 'Customer Address1', 'Customer Address2',\n",
    "                           'Customer City', 'Customer State', 'Customer Zip', 'Manufacture Prod.Nbr.', \n",
    "                           'Prod Nbr', 'Product', 'Week of', 'LBS']\n",
    "\n",
    "        rename_columns = {\n",
    "            'Customer Nbr.':'Customer Number',\n",
    "            'Manufacture Prod.Nbr.':'McCain SKU ID',\n",
    "            'Prod Nbr':'Product Number',\n",
    "            'Product':'Product Description',\n",
    "            'Week of':'Week Beginning Date'\n",
    "        }\n",
    "\n",
    "        nan_rows = df[df['Week of'].isna()].index\n",
    "\n",
    "        df_clean = df[columns_to_keep].rename(columns=rename_columns).drop(nan_rows)\n",
    "\n",
    "        columns_to_clean = ['Customer Number','Customer Zip','Product Number']\n",
    "\n",
    "        for col in columns_to_clean:\n",
    "            df_clean[col] = df_clean[col].astype(str)\n",
    "            df_clean[col] = df_clean[col].str.replace(r'\\.0$', '', regex=True)\n",
    "            \n",
    "        df_clean['LBS'] = df_clean['LBS'].astype(float)\n",
    "\n",
    "        df_clean['Week Beginning Date'] = pd.to_datetime(df_clean['Week Beginning Date'])\n",
    "\n",
    "        return df_clean\n",
    "    \n",
    "    def process_file(self):\n",
    "        if file_path.endswith('.csv'):\n",
    "            df = pd.read_csv(file_name, thousands = ',', encoding=\"utf-8\", low_memory = False, header = 0,na_values = \" \")\n",
    "            df = df[df['Branch'] != 'Total']\n",
    "        else:\n",
    "            df = pd.DataFrame()\n",
    "\n",
    "            _import = pd.read_excel(file_path, sheet_name=None)\n",
    "            \n",
    "            for f in _import:\n",
    "                if f == 'Sheet1':\n",
    "                    add = pd.DataFrame.from_dict(_import[f])\n",
    "                    \n",
    "                    col = add.columns.to_list()\n",
    "                else:\n",
    "                    add = _import[f].T.reset_index().T\n",
    "                    add.columns = col\n",
    "            \n",
    "                df = pd.concat([df, add])\n",
    "\n",
    "            df = df.rename(columns={\n",
    "                'Unnamed: 16':'LBS',\n",
    "                'Unnamed: 17':'LBS',\n",
    "                'Unnamed: 18':'LBS',\n",
    "                'Unnamed: 19':'LBS',\n",
    "                'Unnamed: 20':'LBS',\n",
    "                'Unnamed: 21':'LBS',\n",
    "                'Unnamed: 22':'LBS',\n",
    "                'Unnamed: 23':'LBS'\n",
    "                })\n",
    "\n",
    "        return bek_sellout.transform_data(df)\n",
    "\n",
    "    def setup_connection():\n",
    "        server = 'mf-enterprise-dev-sql.46ac3df1733c.database.windows.net'\n",
    "        database = 'PWRAPPDB'\n",
    "        driver = '{ODBC Driver 17 for SQL Server}'\n",
    "\n",
    "        # Establish the database connection using AAD Integrated Authentication\n",
    "        conn_str = (\n",
    "            f'DRIVER={driver};'\n",
    "            f'SERVER=tcp:{server};'\n",
    "            f'DATABASE={database};'\n",
    "            'Authentication=ActiveDirectoryIntegrated'\n",
    "        )\n",
    "\n",
    "        cnxn = pyodbc.connect(conn_str)\n",
    "        cursor = cnxn.cursor()\n",
    "\n",
    "        return cnxn, cursor\n",
    "\n",
    "    def delete_rows(self):\n",
    "        # Get the unique dates as strings\n",
    "        unique_dates = bek.data['Week Beginning Date'].dt.strftime('%Y-%m-%d').unique()\n",
    "\n",
    "        # Convert the array of unique dates to a list of strings\n",
    "        # Changed due to error received\n",
    "        #date_strings = [f\"'{date}'\" for date in unique_dates]\n",
    "\n",
    "        # Convert the results into a list of datetime objects\n",
    "        # Adjust the format string as per your date format in the database\n",
    "        dates_in_db = [datetime.strptime(result[0], '%Y-%m-%d') if result[0] is not None else None for result in results]\n",
    "\n",
    "        # If you want to create a string that can be directly used in a SQL query\n",
    "        dates_for_sql = ', '.join(date_strings)\n",
    "\n",
    "        sql_delete = \"\"\"\n",
    "        DELETE FROM [na_dist].[US_BEK_Sellout] \n",
    "        WHERE [Week Beginning Date] IN (\"\"\" + dates_for_sql + \"\"\");\"\"\"\n",
    "\n",
    "        cnxn, cursor = bek_sellout.setup_connection()\n",
    "\n",
    "        cursor.execute(sql_delete)\n",
    "\n",
    "        # Commit the transactions\n",
    "        cnxn.commit()\n",
    "\n",
    "        # Close the connection\n",
    "        cursor.close()\n",
    "        cnxn.close()\n",
    "\n",
    "\n",
    "    def filter_rows(self):\n",
    "        sql_select = \"\"\"\n",
    "        SELECT [Week Beginning Date] \n",
    "        FROM [na_dist].[US_BEK_Sellout]\n",
    "        GROUP BY [Week Beginning Date] \"\"\"\n",
    "\n",
    "        cnxn, cursor = bek_sellout.setup_connection()\n",
    "\n",
    "        cursor.execute(sql_select)\n",
    "\n",
    "        # Fetch the results\n",
    "        results = cursor.fetchall()\n",
    "\n",
    "        # Convert the results into a list of dates\n",
    "        dates_in_db = [result[0] if result[0] is not None else None for result in results]\n",
    "        dates_in_db = pd.to_datetime([date for date in dates_in_db if date is not None])\n",
    "\n",
    "        # Commit the transactions\n",
    "        cnxn.commit()\n",
    "\n",
    "        # Close the connection\n",
    "        cursor.close()\n",
    "        cnxn.close()\n",
    "\n",
    "        return self.data[~self.data['Week Beginning Date'].isin(dates_in_db)]\n",
    "\n",
    "    def setup_miengine():\n",
    "        server = 'mf-enterprise-dev-sql.46ac3df1733c.database.windows.net'\n",
    "        database = 'PWRAPPDB'\n",
    "        driver = '{ODBC Driver 17 for SQL Server}'\n",
    "\n",
    "        # Establish the database connection using AAD Integrated Authentication\n",
    "        conn_str = URL.create(\n",
    "            'mssql+pyodbc',\n",
    "            query={\n",
    "                'odbc_connect':(\n",
    "                    f'DRIVER={driver};'\n",
    "                    f'SERVER=tcp:{server};'\n",
    "                    f'DATABASE={database};'\n",
    "                    'Authentication=ActiveDirectoryIntegrated;'\n",
    "            )\n",
    "            }\n",
    "        )\n",
    "\n",
    "        engine = create_engine(conn_str, connect_args={\"autocommit\": True}, fast_executemany=True, use_insertmanyvalues=False)\n",
    "\n",
    "        return engine\n",
    "\n",
    "        \n",
    "    def insert_rows(self):\n",
    "        engine = bek_sellout.setup_miengine()\n",
    "\n",
    "        table_name = 'US_BEK_Sellout'\n",
    "        schema_name = 'na_dist'\n",
    "\n",
    "        # If the table doesn't exist, it will be created automatically\n",
    "        self.data_import.to_sql(table_name, con=engine, schema=schema_name, if_exists='append', index=False)\n",
    "\n"
   ]
  },
  {
   "cell_type": "markdown",
   "metadata": {},
   "source": [
    "## Individual Files"
   ]
  },
  {
   "cell_type": "code",
   "execution_count": 12,
   "metadata": {},
   "outputs": [
    {
     "data": {
      "text/plain": [
       "<__main__.bek_sellout at 0x158cbac8970>"
      ]
     },
     "execution_count": 12,
     "metadata": {},
     "output_type": "execute_result"
    }
   ],
   "source": [
    "\n",
    "file_path = r'C:\\Users\\newatter\\OneDrive - McCain Foods Limited\\Distributor Sell-Out\\Weekly Update Files\\2024-04-19\\BEK Update.xls'\n",
    "\n",
    "bek_sellout(file_path)"
   ]
  },
  {
   "cell_type": "code",
   "execution_count": null,
   "metadata": {},
   "outputs": [],
   "source": [
    "#Legacy Files\n",
    "#C:\\Users\\newatter\\OneDrive - McCain Foods Limited\\Distributor Sell-Out\\Weekly Update Files\\2021-01-22\\BEK Update 2019-1.xls - Done\n",
    "#C:\\Users\\newatter\\OneDrive - McCain Foods Limited\\Distributor Sell-Out\\Weekly Update Files\\2021-01-22\\BEK Update 2019-2.xls - Done\n",
    "#C:\\Users\\newatter\\OneDrive - McCain Foods Limited\\Distributor Sell-Out\\Weekly Update Files\\2021-01-22\\BEK Update 2019-3.xls - Done\n",
    "#C:\\Users\\newatter\\OneDrive - McCain Foods Limited\\Distributor Sell-Out\\Weekly Update Files\\2021-01-22\\BEK Update 2020-1.xls - Done\n",
    "#C:\\Users\\newatter\\OneDrive - McCain Foods Limited\\Distributor Sell-Out\\Weekly Update Files\\2021-01-22\\BEK Update 2020-2.xls - Having issues"
   ]
  },
  {
   "cell_type": "markdown",
   "metadata": {},
   "source": [
    "## Directory - Batch Processing"
   ]
  },
  {
   "cell_type": "code",
   "execution_count": 53,
   "metadata": {},
   "outputs": [
    {
     "name": "stdout",
     "output_type": "stream",
     "text": [
      "C:\\Users\\newatter\\OneDrive - McCain Foods Limited\\Distributor Sell-Out\\Weekly Update Files\\2020-11-13\\BEK Update.xls\n"
     ]
    },
    {
     "name": "stderr",
     "output_type": "stream",
     "text": [
      "C:\\Users\\newatter\\AppData\\Local\\Temp\\1\\ipykernel_27072\\626213147.py:148: FutureWarning: The behavior of 'isin' with dtype=datetime64[ns] and castable values (e.g. strings) is deprecated. In a future version, these will not be considered matching by isin. Explicitly cast to the appropriate dtype before calling isin instead.\n",
      "  return self.data[~self.data['Week Beginning Date'].isin(dates_in_db)]\n"
     ]
    },
    {
     "name": "stdout",
     "output_type": "stream",
     "text": [
      "C:\\Users\\newatter\\OneDrive - McCain Foods Limited\\Distributor Sell-Out\\Weekly Update Files\\2020-11-20\\BEK Update.xls\n"
     ]
    },
    {
     "name": "stderr",
     "output_type": "stream",
     "text": [
      "C:\\Users\\newatter\\AppData\\Local\\Temp\\1\\ipykernel_27072\\626213147.py:148: FutureWarning: The behavior of 'isin' with dtype=datetime64[ns] and castable values (e.g. strings) is deprecated. In a future version, these will not be considered matching by isin. Explicitly cast to the appropriate dtype before calling isin instead.\n",
      "  return self.data[~self.data['Week Beginning Date'].isin(dates_in_db)]\n"
     ]
    },
    {
     "name": "stdout",
     "output_type": "stream",
     "text": [
      "C:\\Users\\newatter\\OneDrive - McCain Foods Limited\\Distributor Sell-Out\\Weekly Update Files\\2021-01-22\\BEK Update.xls\n"
     ]
    },
    {
     "name": "stderr",
     "output_type": "stream",
     "text": [
      "C:\\Users\\newatter\\AppData\\Local\\Temp\\1\\ipykernel_27072\\626213147.py:148: FutureWarning: The behavior of 'isin' with dtype=datetime64[ns] and castable values (e.g. strings) is deprecated. In a future version, these will not be considered matching by isin. Explicitly cast to the appropriate dtype before calling isin instead.\n",
      "  return self.data[~self.data['Week Beginning Date'].isin(dates_in_db)]\n"
     ]
    },
    {
     "name": "stdout",
     "output_type": "stream",
     "text": [
      "C:\\Users\\newatter\\OneDrive - McCain Foods Limited\\Distributor Sell-Out\\Weekly Update Files\\2021-02-26\\Data Files\\BEK Update.xls\n"
     ]
    },
    {
     "name": "stderr",
     "output_type": "stream",
     "text": [
      "C:\\Users\\newatter\\AppData\\Local\\Temp\\1\\ipykernel_27072\\626213147.py:148: FutureWarning: The behavior of 'isin' with dtype=datetime64[ns] and castable values (e.g. strings) is deprecated. In a future version, these will not be considered matching by isin. Explicitly cast to the appropriate dtype before calling isin instead.\n",
      "  return self.data[~self.data['Week Beginning Date'].isin(dates_in_db)]\n"
     ]
    },
    {
     "name": "stdout",
     "output_type": "stream",
     "text": [
      "C:\\Users\\newatter\\OneDrive - McCain Foods Limited\\Distributor Sell-Out\\Weekly Update Files\\2021-04-09\\Data Sources\\BEK Update.xls\n"
     ]
    },
    {
     "name": "stderr",
     "output_type": "stream",
     "text": [
      "C:\\Users\\newatter\\AppData\\Local\\Temp\\1\\ipykernel_27072\\626213147.py:148: FutureWarning: The behavior of 'isin' with dtype=datetime64[ns] and castable values (e.g. strings) is deprecated. In a future version, these will not be considered matching by isin. Explicitly cast to the appropriate dtype before calling isin instead.\n",
      "  return self.data[~self.data['Week Beginning Date'].isin(dates_in_db)]\n"
     ]
    },
    {
     "name": "stdout",
     "output_type": "stream",
     "text": [
      "C:\\Users\\newatter\\OneDrive - McCain Foods Limited\\Distributor Sell-Out\\Weekly Update Files\\2021-04-23\\Data Sources\\BEK Update.xls\n"
     ]
    },
    {
     "name": "stderr",
     "output_type": "stream",
     "text": [
      "C:\\Users\\newatter\\AppData\\Local\\Temp\\1\\ipykernel_27072\\626213147.py:148: FutureWarning: The behavior of 'isin' with dtype=datetime64[ns] and castable values (e.g. strings) is deprecated. In a future version, these will not be considered matching by isin. Explicitly cast to the appropriate dtype before calling isin instead.\n",
      "  return self.data[~self.data['Week Beginning Date'].isin(dates_in_db)]\n"
     ]
    },
    {
     "name": "stdout",
     "output_type": "stream",
     "text": [
      "C:\\Users\\newatter\\OneDrive - McCain Foods Limited\\Distributor Sell-Out\\Weekly Update Files\\2021-04-30\\Data Sources\\BEK Update.xls\n"
     ]
    },
    {
     "name": "stderr",
     "output_type": "stream",
     "text": [
      "C:\\Users\\newatter\\AppData\\Local\\Temp\\1\\ipykernel_27072\\626213147.py:148: FutureWarning: The behavior of 'isin' with dtype=datetime64[ns] and castable values (e.g. strings) is deprecated. In a future version, these will not be considered matching by isin. Explicitly cast to the appropriate dtype before calling isin instead.\n",
      "  return self.data[~self.data['Week Beginning Date'].isin(dates_in_db)]\n"
     ]
    },
    {
     "name": "stdout",
     "output_type": "stream",
     "text": [
      "C:\\Users\\newatter\\OneDrive - McCain Foods Limited\\Distributor Sell-Out\\Weekly Update Files\\2021-05-05\\Data Sources\\BEK Update.xls\n"
     ]
    },
    {
     "name": "stderr",
     "output_type": "stream",
     "text": [
      "C:\\Users\\newatter\\AppData\\Local\\Temp\\1\\ipykernel_27072\\626213147.py:148: FutureWarning: The behavior of 'isin' with dtype=datetime64[ns] and castable values (e.g. strings) is deprecated. In a future version, these will not be considered matching by isin. Explicitly cast to the appropriate dtype before calling isin instead.\n",
      "  return self.data[~self.data['Week Beginning Date'].isin(dates_in_db)]\n"
     ]
    },
    {
     "name": "stdout",
     "output_type": "stream",
     "text": [
      "C:\\Users\\newatter\\OneDrive - McCain Foods Limited\\Distributor Sell-Out\\Weekly Update Files\\2021-05-14\\Data Sources\\BEK Update.xls\n"
     ]
    },
    {
     "name": "stderr",
     "output_type": "stream",
     "text": [
      "C:\\Users\\newatter\\AppData\\Local\\Temp\\1\\ipykernel_27072\\626213147.py:148: FutureWarning: The behavior of 'isin' with dtype=datetime64[ns] and castable values (e.g. strings) is deprecated. In a future version, these will not be considered matching by isin. Explicitly cast to the appropriate dtype before calling isin instead.\n",
      "  return self.data[~self.data['Week Beginning Date'].isin(dates_in_db)]\n"
     ]
    },
    {
     "name": "stdout",
     "output_type": "stream",
     "text": [
      "C:\\Users\\newatter\\OneDrive - McCain Foods Limited\\Distributor Sell-Out\\Weekly Update Files\\2021-05-28\\Data Sources\\BEK Update.xls\n"
     ]
    },
    {
     "name": "stderr",
     "output_type": "stream",
     "text": [
      "C:\\Users\\newatter\\AppData\\Local\\Temp\\1\\ipykernel_27072\\626213147.py:148: FutureWarning: The behavior of 'isin' with dtype=datetime64[ns] and castable values (e.g. strings) is deprecated. In a future version, these will not be considered matching by isin. Explicitly cast to the appropriate dtype before calling isin instead.\n",
      "  return self.data[~self.data['Week Beginning Date'].isin(dates_in_db)]\n"
     ]
    },
    {
     "name": "stdout",
     "output_type": "stream",
     "text": [
      "C:\\Users\\newatter\\OneDrive - McCain Foods Limited\\Distributor Sell-Out\\Weekly Update Files\\2021-06-04\\Data Sources\\BEK Update.xls\n"
     ]
    },
    {
     "name": "stderr",
     "output_type": "stream",
     "text": [
      "C:\\Users\\newatter\\AppData\\Local\\Temp\\1\\ipykernel_27072\\626213147.py:148: FutureWarning: The behavior of 'isin' with dtype=datetime64[ns] and castable values (e.g. strings) is deprecated. In a future version, these will not be considered matching by isin. Explicitly cast to the appropriate dtype before calling isin instead.\n",
      "  return self.data[~self.data['Week Beginning Date'].isin(dates_in_db)]\n"
     ]
    },
    {
     "name": "stdout",
     "output_type": "stream",
     "text": [
      "C:\\Users\\newatter\\OneDrive - McCain Foods Limited\\Distributor Sell-Out\\Weekly Update Files\\2021-06-11\\Data Sources\\BEK Update.xls\n"
     ]
    },
    {
     "name": "stderr",
     "output_type": "stream",
     "text": [
      "C:\\Users\\newatter\\AppData\\Local\\Temp\\1\\ipykernel_27072\\626213147.py:148: FutureWarning: The behavior of 'isin' with dtype=datetime64[ns] and castable values (e.g. strings) is deprecated. In a future version, these will not be considered matching by isin. Explicitly cast to the appropriate dtype before calling isin instead.\n",
      "  return self.data[~self.data['Week Beginning Date'].isin(dates_in_db)]\n"
     ]
    },
    {
     "name": "stdout",
     "output_type": "stream",
     "text": [
      "C:\\Users\\newatter\\OneDrive - McCain Foods Limited\\Distributor Sell-Out\\Weekly Update Files\\2021-06-18\\Data Sources\\BEK Update.xls\n"
     ]
    },
    {
     "name": "stderr",
     "output_type": "stream",
     "text": [
      "C:\\Users\\newatter\\AppData\\Local\\Temp\\1\\ipykernel_27072\\626213147.py:148: FutureWarning: The behavior of 'isin' with dtype=datetime64[ns] and castable values (e.g. strings) is deprecated. In a future version, these will not be considered matching by isin. Explicitly cast to the appropriate dtype before calling isin instead.\n",
      "  return self.data[~self.data['Week Beginning Date'].isin(dates_in_db)]\n"
     ]
    },
    {
     "name": "stdout",
     "output_type": "stream",
     "text": [
      "C:\\Users\\newatter\\OneDrive - McCain Foods Limited\\Distributor Sell-Out\\Weekly Update Files\\2021-06-25\\Data Sources\\BEK Update.xls\n"
     ]
    },
    {
     "name": "stderr",
     "output_type": "stream",
     "text": [
      "C:\\Users\\newatter\\AppData\\Local\\Temp\\1\\ipykernel_27072\\626213147.py:148: FutureWarning: The behavior of 'isin' with dtype=datetime64[ns] and castable values (e.g. strings) is deprecated. In a future version, these will not be considered matching by isin. Explicitly cast to the appropriate dtype before calling isin instead.\n",
      "  return self.data[~self.data['Week Beginning Date'].isin(dates_in_db)]\n"
     ]
    },
    {
     "name": "stdout",
     "output_type": "stream",
     "text": [
      "C:\\Users\\newatter\\OneDrive - McCain Foods Limited\\Distributor Sell-Out\\Weekly Update Files\\2021-07-09\\Data Sources\\BEK Update.xls\n"
     ]
    },
    {
     "name": "stderr",
     "output_type": "stream",
     "text": [
      "C:\\Users\\newatter\\AppData\\Local\\Temp\\1\\ipykernel_27072\\626213147.py:148: FutureWarning: The behavior of 'isin' with dtype=datetime64[ns] and castable values (e.g. strings) is deprecated. In a future version, these will not be considered matching by isin. Explicitly cast to the appropriate dtype before calling isin instead.\n",
      "  return self.data[~self.data['Week Beginning Date'].isin(dates_in_db)]\n"
     ]
    },
    {
     "name": "stdout",
     "output_type": "stream",
     "text": [
      "C:\\Users\\newatter\\OneDrive - McCain Foods Limited\\Distributor Sell-Out\\Weekly Update Files\\2021-07-16\\BEK Update.xls\n"
     ]
    },
    {
     "name": "stderr",
     "output_type": "stream",
     "text": [
      "C:\\Users\\newatter\\AppData\\Local\\Temp\\1\\ipykernel_27072\\626213147.py:148: FutureWarning: The behavior of 'isin' with dtype=datetime64[ns] and castable values (e.g. strings) is deprecated. In a future version, these will not be considered matching by isin. Explicitly cast to the appropriate dtype before calling isin instead.\n",
      "  return self.data[~self.data['Week Beginning Date'].isin(dates_in_db)]\n"
     ]
    },
    {
     "name": "stdout",
     "output_type": "stream",
     "text": [
      "C:\\Users\\newatter\\OneDrive - McCain Foods Limited\\Distributor Sell-Out\\Weekly Update Files\\2021-07-23\\Data Sources\\BEK Update.xls\n"
     ]
    },
    {
     "name": "stderr",
     "output_type": "stream",
     "text": [
      "C:\\Users\\newatter\\AppData\\Local\\Temp\\1\\ipykernel_27072\\626213147.py:148: FutureWarning: The behavior of 'isin' with dtype=datetime64[ns] and castable values (e.g. strings) is deprecated. In a future version, these will not be considered matching by isin. Explicitly cast to the appropriate dtype before calling isin instead.\n",
      "  return self.data[~self.data['Week Beginning Date'].isin(dates_in_db)]\n"
     ]
    },
    {
     "name": "stdout",
     "output_type": "stream",
     "text": [
      "C:\\Users\\newatter\\OneDrive - McCain Foods Limited\\Distributor Sell-Out\\Weekly Update Files\\2021-07-30\\Data Sources\\BEK Update.xls\n"
     ]
    },
    {
     "name": "stderr",
     "output_type": "stream",
     "text": [
      "C:\\Users\\newatter\\AppData\\Local\\Temp\\1\\ipykernel_27072\\626213147.py:148: FutureWarning: The behavior of 'isin' with dtype=datetime64[ns] and castable values (e.g. strings) is deprecated. In a future version, these will not be considered matching by isin. Explicitly cast to the appropriate dtype before calling isin instead.\n",
      "  return self.data[~self.data['Week Beginning Date'].isin(dates_in_db)]\n"
     ]
    },
    {
     "name": "stdout",
     "output_type": "stream",
     "text": [
      "C:\\Users\\newatter\\OneDrive - McCain Foods Limited\\Distributor Sell-Out\\Weekly Update Files\\2021-08-06\\Data Sources\\BEK Update.xls\n"
     ]
    },
    {
     "name": "stderr",
     "output_type": "stream",
     "text": [
      "C:\\Users\\newatter\\AppData\\Local\\Temp\\1\\ipykernel_27072\\626213147.py:148: FutureWarning: The behavior of 'isin' with dtype=datetime64[ns] and castable values (e.g. strings) is deprecated. In a future version, these will not be considered matching by isin. Explicitly cast to the appropriate dtype before calling isin instead.\n",
      "  return self.data[~self.data['Week Beginning Date'].isin(dates_in_db)]\n"
     ]
    },
    {
     "name": "stdout",
     "output_type": "stream",
     "text": [
      "C:\\Users\\newatter\\OneDrive - McCain Foods Limited\\Distributor Sell-Out\\Weekly Update Files\\2021-08-13\\Data Sources\\BEK Update.xls\n"
     ]
    },
    {
     "name": "stderr",
     "output_type": "stream",
     "text": [
      "C:\\Users\\newatter\\AppData\\Local\\Temp\\1\\ipykernel_27072\\626213147.py:148: FutureWarning: The behavior of 'isin' with dtype=datetime64[ns] and castable values (e.g. strings) is deprecated. In a future version, these will not be considered matching by isin. Explicitly cast to the appropriate dtype before calling isin instead.\n",
      "  return self.data[~self.data['Week Beginning Date'].isin(dates_in_db)]\n"
     ]
    },
    {
     "name": "stdout",
     "output_type": "stream",
     "text": [
      "C:\\Users\\newatter\\OneDrive - McCain Foods Limited\\Distributor Sell-Out\\Weekly Update Files\\2021-08-20\\Data Sources\\BEK Update.xls\n"
     ]
    },
    {
     "name": "stderr",
     "output_type": "stream",
     "text": [
      "C:\\Users\\newatter\\AppData\\Local\\Temp\\1\\ipykernel_27072\\626213147.py:148: FutureWarning: The behavior of 'isin' with dtype=datetime64[ns] and castable values (e.g. strings) is deprecated. In a future version, these will not be considered matching by isin. Explicitly cast to the appropriate dtype before calling isin instead.\n",
      "  return self.data[~self.data['Week Beginning Date'].isin(dates_in_db)]\n"
     ]
    },
    {
     "name": "stdout",
     "output_type": "stream",
     "text": [
      "C:\\Users\\newatter\\OneDrive - McCain Foods Limited\\Distributor Sell-Out\\Weekly Update Files\\2021-08-27\\Data Sources\\BEK Update.xls\n"
     ]
    },
    {
     "name": "stderr",
     "output_type": "stream",
     "text": [
      "C:\\Users\\newatter\\AppData\\Local\\Temp\\1\\ipykernel_27072\\626213147.py:148: FutureWarning: The behavior of 'isin' with dtype=datetime64[ns] and castable values (e.g. strings) is deprecated. In a future version, these will not be considered matching by isin. Explicitly cast to the appropriate dtype before calling isin instead.\n",
      "  return self.data[~self.data['Week Beginning Date'].isin(dates_in_db)]\n"
     ]
    },
    {
     "name": "stdout",
     "output_type": "stream",
     "text": [
      "C:\\Users\\newatter\\OneDrive - McCain Foods Limited\\Distributor Sell-Out\\Weekly Update Files\\2021-09-03\\Data Sources\\BEK Update.xls\n"
     ]
    },
    {
     "name": "stderr",
     "output_type": "stream",
     "text": [
      "C:\\Users\\newatter\\AppData\\Local\\Temp\\1\\ipykernel_27072\\626213147.py:148: FutureWarning: The behavior of 'isin' with dtype=datetime64[ns] and castable values (e.g. strings) is deprecated. In a future version, these will not be considered matching by isin. Explicitly cast to the appropriate dtype before calling isin instead.\n",
      "  return self.data[~self.data['Week Beginning Date'].isin(dates_in_db)]\n"
     ]
    },
    {
     "name": "stdout",
     "output_type": "stream",
     "text": [
      "C:\\Users\\newatter\\OneDrive - McCain Foods Limited\\Distributor Sell-Out\\Weekly Update Files\\2021-09-10\\Data Sources\\BEK Update.xls\n"
     ]
    },
    {
     "name": "stderr",
     "output_type": "stream",
     "text": [
      "C:\\Users\\newatter\\AppData\\Local\\Temp\\1\\ipykernel_27072\\626213147.py:148: FutureWarning: The behavior of 'isin' with dtype=datetime64[ns] and castable values (e.g. strings) is deprecated. In a future version, these will not be considered matching by isin. Explicitly cast to the appropriate dtype before calling isin instead.\n",
      "  return self.data[~self.data['Week Beginning Date'].isin(dates_in_db)]\n"
     ]
    },
    {
     "name": "stdout",
     "output_type": "stream",
     "text": [
      "C:\\Users\\newatter\\OneDrive - McCain Foods Limited\\Distributor Sell-Out\\Weekly Update Files\\2021-09-17\\Data Sources\\BEK Update.xls\n"
     ]
    },
    {
     "name": "stderr",
     "output_type": "stream",
     "text": [
      "C:\\Users\\newatter\\AppData\\Local\\Temp\\1\\ipykernel_27072\\626213147.py:148: FutureWarning: The behavior of 'isin' with dtype=datetime64[ns] and castable values (e.g. strings) is deprecated. In a future version, these will not be considered matching by isin. Explicitly cast to the appropriate dtype before calling isin instead.\n",
      "  return self.data[~self.data['Week Beginning Date'].isin(dates_in_db)]\n"
     ]
    },
    {
     "name": "stdout",
     "output_type": "stream",
     "text": [
      "C:\\Users\\newatter\\OneDrive - McCain Foods Limited\\Distributor Sell-Out\\Weekly Update Files\\2021-09-24\\Data Sources\\BEK Update.xls\n"
     ]
    },
    {
     "name": "stderr",
     "output_type": "stream",
     "text": [
      "C:\\Users\\newatter\\AppData\\Local\\Temp\\1\\ipykernel_27072\\626213147.py:148: FutureWarning: The behavior of 'isin' with dtype=datetime64[ns] and castable values (e.g. strings) is deprecated. In a future version, these will not be considered matching by isin. Explicitly cast to the appropriate dtype before calling isin instead.\n",
      "  return self.data[~self.data['Week Beginning Date'].isin(dates_in_db)]\n"
     ]
    },
    {
     "name": "stdout",
     "output_type": "stream",
     "text": [
      "C:\\Users\\newatter\\OneDrive - McCain Foods Limited\\Distributor Sell-Out\\Weekly Update Files\\2021-09-31\\Data Sources\\BEK Update.xls\n"
     ]
    },
    {
     "name": "stderr",
     "output_type": "stream",
     "text": [
      "C:\\Users\\newatter\\AppData\\Local\\Temp\\1\\ipykernel_27072\\626213147.py:148: FutureWarning: The behavior of 'isin' with dtype=datetime64[ns] and castable values (e.g. strings) is deprecated. In a future version, these will not be considered matching by isin. Explicitly cast to the appropriate dtype before calling isin instead.\n",
      "  return self.data[~self.data['Week Beginning Date'].isin(dates_in_db)]\n"
     ]
    },
    {
     "name": "stdout",
     "output_type": "stream",
     "text": [
      "C:\\Users\\newatter\\OneDrive - McCain Foods Limited\\Distributor Sell-Out\\Weekly Update Files\\2021-10-08\\Data Sources\\BEK Update.xlsx\n"
     ]
    },
    {
     "name": "stderr",
     "output_type": "stream",
     "text": [
      "C:\\Users\\newatter\\AppData\\Local\\Temp\\1\\ipykernel_27072\\626213147.py:148: FutureWarning: The behavior of 'isin' with dtype=datetime64[ns] and castable values (e.g. strings) is deprecated. In a future version, these will not be considered matching by isin. Explicitly cast to the appropriate dtype before calling isin instead.\n",
      "  return self.data[~self.data['Week Beginning Date'].isin(dates_in_db)]\n"
     ]
    },
    {
     "name": "stdout",
     "output_type": "stream",
     "text": [
      "C:\\Users\\newatter\\OneDrive - McCain Foods Limited\\Distributor Sell-Out\\Weekly Update Files\\2021-10-15\\Data Sources\\BEK Update.xls\n"
     ]
    },
    {
     "name": "stderr",
     "output_type": "stream",
     "text": [
      "C:\\Users\\newatter\\AppData\\Local\\Temp\\1\\ipykernel_27072\\626213147.py:148: FutureWarning: The behavior of 'isin' with dtype=datetime64[ns] and castable values (e.g. strings) is deprecated. In a future version, these will not be considered matching by isin. Explicitly cast to the appropriate dtype before calling isin instead.\n",
      "  return self.data[~self.data['Week Beginning Date'].isin(dates_in_db)]\n"
     ]
    },
    {
     "name": "stdout",
     "output_type": "stream",
     "text": [
      "C:\\Users\\newatter\\OneDrive - McCain Foods Limited\\Distributor Sell-Out\\Weekly Update Files\\2021-10-22\\Data Sources\\BEK Update.xls\n"
     ]
    },
    {
     "name": "stderr",
     "output_type": "stream",
     "text": [
      "C:\\Users\\newatter\\AppData\\Local\\Temp\\1\\ipykernel_27072\\626213147.py:148: FutureWarning: The behavior of 'isin' with dtype=datetime64[ns] and castable values (e.g. strings) is deprecated. In a future version, these will not be considered matching by isin. Explicitly cast to the appropriate dtype before calling isin instead.\n",
      "  return self.data[~self.data['Week Beginning Date'].isin(dates_in_db)]\n"
     ]
    },
    {
     "name": "stdout",
     "output_type": "stream",
     "text": [
      "C:\\Users\\newatter\\OneDrive - McCain Foods Limited\\Distributor Sell-Out\\Weekly Update Files\\2021-10-29\\Data Sources\\BEK Update.xls\n"
     ]
    },
    {
     "name": "stderr",
     "output_type": "stream",
     "text": [
      "C:\\Users\\newatter\\AppData\\Local\\Temp\\1\\ipykernel_27072\\626213147.py:148: FutureWarning: The behavior of 'isin' with dtype=datetime64[ns] and castable values (e.g. strings) is deprecated. In a future version, these will not be considered matching by isin. Explicitly cast to the appropriate dtype before calling isin instead.\n",
      "  return self.data[~self.data['Week Beginning Date'].isin(dates_in_db)]\n"
     ]
    },
    {
     "name": "stdout",
     "output_type": "stream",
     "text": [
      "C:\\Users\\newatter\\OneDrive - McCain Foods Limited\\Distributor Sell-Out\\Weekly Update Files\\2021-11-05\\Data Sources\\BEK Update.xls\n"
     ]
    },
    {
     "name": "stderr",
     "output_type": "stream",
     "text": [
      "C:\\Users\\newatter\\AppData\\Local\\Temp\\1\\ipykernel_27072\\626213147.py:148: FutureWarning: The behavior of 'isin' with dtype=datetime64[ns] and castable values (e.g. strings) is deprecated. In a future version, these will not be considered matching by isin. Explicitly cast to the appropriate dtype before calling isin instead.\n",
      "  return self.data[~self.data['Week Beginning Date'].isin(dates_in_db)]\n"
     ]
    },
    {
     "name": "stdout",
     "output_type": "stream",
     "text": [
      "C:\\Users\\newatter\\OneDrive - McCain Foods Limited\\Distributor Sell-Out\\Weekly Update Files\\2021-11-12\\Data Sources\\BEK Update.xls\n"
     ]
    },
    {
     "name": "stderr",
     "output_type": "stream",
     "text": [
      "C:\\Users\\newatter\\AppData\\Local\\Temp\\1\\ipykernel_27072\\626213147.py:148: FutureWarning: The behavior of 'isin' with dtype=datetime64[ns] and castable values (e.g. strings) is deprecated. In a future version, these will not be considered matching by isin. Explicitly cast to the appropriate dtype before calling isin instead.\n",
      "  return self.data[~self.data['Week Beginning Date'].isin(dates_in_db)]\n"
     ]
    },
    {
     "name": "stdout",
     "output_type": "stream",
     "text": [
      "C:\\Users\\newatter\\OneDrive - McCain Foods Limited\\Distributor Sell-Out\\Weekly Update Files\\2021-11-19\\Data Sources\\BEK Update.xls\n"
     ]
    },
    {
     "name": "stderr",
     "output_type": "stream",
     "text": [
      "C:\\Users\\newatter\\AppData\\Local\\Temp\\1\\ipykernel_27072\\626213147.py:148: FutureWarning: The behavior of 'isin' with dtype=datetime64[ns] and castable values (e.g. strings) is deprecated. In a future version, these will not be considered matching by isin. Explicitly cast to the appropriate dtype before calling isin instead.\n",
      "  return self.data[~self.data['Week Beginning Date'].isin(dates_in_db)]\n"
     ]
    },
    {
     "name": "stdout",
     "output_type": "stream",
     "text": [
      "C:\\Users\\newatter\\OneDrive - McCain Foods Limited\\Distributor Sell-Out\\Weekly Update Files\\2021-12-03\\Data Sources\\BEK Update.xls\n"
     ]
    },
    {
     "name": "stderr",
     "output_type": "stream",
     "text": [
      "C:\\Users\\newatter\\AppData\\Local\\Temp\\1\\ipykernel_27072\\626213147.py:148: FutureWarning: The behavior of 'isin' with dtype=datetime64[ns] and castable values (e.g. strings) is deprecated. In a future version, these will not be considered matching by isin. Explicitly cast to the appropriate dtype before calling isin instead.\n",
      "  return self.data[~self.data['Week Beginning Date'].isin(dates_in_db)]\n"
     ]
    },
    {
     "name": "stdout",
     "output_type": "stream",
     "text": [
      "C:\\Users\\newatter\\OneDrive - McCain Foods Limited\\Distributor Sell-Out\\Weekly Update Files\\2021-12-10\\Data Sources\\BEK Update.xls\n"
     ]
    },
    {
     "name": "stderr",
     "output_type": "stream",
     "text": [
      "C:\\Users\\newatter\\AppData\\Local\\Temp\\1\\ipykernel_27072\\626213147.py:148: FutureWarning: The behavior of 'isin' with dtype=datetime64[ns] and castable values (e.g. strings) is deprecated. In a future version, these will not be considered matching by isin. Explicitly cast to the appropriate dtype before calling isin instead.\n",
      "  return self.data[~self.data['Week Beginning Date'].isin(dates_in_db)]\n"
     ]
    },
    {
     "name": "stdout",
     "output_type": "stream",
     "text": [
      "C:\\Users\\newatter\\OneDrive - McCain Foods Limited\\Distributor Sell-Out\\Weekly Update Files\\2021-12-17\\Data Sources\\BEK Update.xls\n"
     ]
    },
    {
     "name": "stderr",
     "output_type": "stream",
     "text": [
      "C:\\Users\\newatter\\AppData\\Local\\Temp\\1\\ipykernel_27072\\626213147.py:148: FutureWarning: The behavior of 'isin' with dtype=datetime64[ns] and castable values (e.g. strings) is deprecated. In a future version, these will not be considered matching by isin. Explicitly cast to the appropriate dtype before calling isin instead.\n",
      "  return self.data[~self.data['Week Beginning Date'].isin(dates_in_db)]\n"
     ]
    },
    {
     "name": "stdout",
     "output_type": "stream",
     "text": [
      "C:\\Users\\newatter\\OneDrive - McCain Foods Limited\\Distributor Sell-Out\\Weekly Update Files\\2022-01-07\\Data Sources\\BEK Update.xls\n"
     ]
    },
    {
     "name": "stderr",
     "output_type": "stream",
     "text": [
      "C:\\Users\\newatter\\AppData\\Local\\Temp\\1\\ipykernel_27072\\626213147.py:148: FutureWarning: The behavior of 'isin' with dtype=datetime64[ns] and castable values (e.g. strings) is deprecated. In a future version, these will not be considered matching by isin. Explicitly cast to the appropriate dtype before calling isin instead.\n",
      "  return self.data[~self.data['Week Beginning Date'].isin(dates_in_db)]\n"
     ]
    },
    {
     "name": "stdout",
     "output_type": "stream",
     "text": [
      "C:\\Users\\newatter\\OneDrive - McCain Foods Limited\\Distributor Sell-Out\\Weekly Update Files\\2022-01-14\\Data Sources\\BEK Update.xls\n"
     ]
    },
    {
     "name": "stderr",
     "output_type": "stream",
     "text": [
      "C:\\Users\\newatter\\AppData\\Local\\Temp\\1\\ipykernel_27072\\626213147.py:148: FutureWarning: The behavior of 'isin' with dtype=datetime64[ns] and castable values (e.g. strings) is deprecated. In a future version, these will not be considered matching by isin. Explicitly cast to the appropriate dtype before calling isin instead.\n",
      "  return self.data[~self.data['Week Beginning Date'].isin(dates_in_db)]\n"
     ]
    },
    {
     "name": "stdout",
     "output_type": "stream",
     "text": [
      "C:\\Users\\newatter\\OneDrive - McCain Foods Limited\\Distributor Sell-Out\\Weekly Update Files\\2022-01-21\\Data Sources\\BEK Update.xls\n"
     ]
    },
    {
     "name": "stderr",
     "output_type": "stream",
     "text": [
      "C:\\Users\\newatter\\AppData\\Local\\Temp\\1\\ipykernel_27072\\626213147.py:148: FutureWarning: The behavior of 'isin' with dtype=datetime64[ns] and castable values (e.g. strings) is deprecated. In a future version, these will not be considered matching by isin. Explicitly cast to the appropriate dtype before calling isin instead.\n",
      "  return self.data[~self.data['Week Beginning Date'].isin(dates_in_db)]\n"
     ]
    },
    {
     "name": "stdout",
     "output_type": "stream",
     "text": [
      "C:\\Users\\newatter\\OneDrive - McCain Foods Limited\\Distributor Sell-Out\\Weekly Update Files\\2022-01-28\\Data Sources\\BEK Update.xls\n"
     ]
    },
    {
     "name": "stderr",
     "output_type": "stream",
     "text": [
      "C:\\Users\\newatter\\AppData\\Local\\Temp\\1\\ipykernel_27072\\626213147.py:148: FutureWarning: The behavior of 'isin' with dtype=datetime64[ns] and castable values (e.g. strings) is deprecated. In a future version, these will not be considered matching by isin. Explicitly cast to the appropriate dtype before calling isin instead.\n",
      "  return self.data[~self.data['Week Beginning Date'].isin(dates_in_db)]\n"
     ]
    },
    {
     "name": "stdout",
     "output_type": "stream",
     "text": [
      "C:\\Users\\newatter\\OneDrive - McCain Foods Limited\\Distributor Sell-Out\\Weekly Update Files\\2022-02-04\\Data Sources\\BEK Update.xls\n"
     ]
    },
    {
     "name": "stderr",
     "output_type": "stream",
     "text": [
      "C:\\Users\\newatter\\AppData\\Local\\Temp\\1\\ipykernel_27072\\626213147.py:148: FutureWarning: The behavior of 'isin' with dtype=datetime64[ns] and castable values (e.g. strings) is deprecated. In a future version, these will not be considered matching by isin. Explicitly cast to the appropriate dtype before calling isin instead.\n",
      "  return self.data[~self.data['Week Beginning Date'].isin(dates_in_db)]\n"
     ]
    },
    {
     "name": "stdout",
     "output_type": "stream",
     "text": [
      "C:\\Users\\newatter\\OneDrive - McCain Foods Limited\\Distributor Sell-Out\\Weekly Update Files\\2022-02-11\\Data Sources\\BEK Update.xls\n"
     ]
    },
    {
     "name": "stderr",
     "output_type": "stream",
     "text": [
      "C:\\Users\\newatter\\AppData\\Local\\Temp\\1\\ipykernel_27072\\626213147.py:148: FutureWarning: The behavior of 'isin' with dtype=datetime64[ns] and castable values (e.g. strings) is deprecated. In a future version, these will not be considered matching by isin. Explicitly cast to the appropriate dtype before calling isin instead.\n",
      "  return self.data[~self.data['Week Beginning Date'].isin(dates_in_db)]\n"
     ]
    },
    {
     "name": "stdout",
     "output_type": "stream",
     "text": [
      "C:\\Users\\newatter\\OneDrive - McCain Foods Limited\\Distributor Sell-Out\\Weekly Update Files\\2022-02-17\\Data Sources\\BEK Update.xls\n"
     ]
    },
    {
     "name": "stderr",
     "output_type": "stream",
     "text": [
      "C:\\Users\\newatter\\AppData\\Local\\Temp\\1\\ipykernel_27072\\626213147.py:148: FutureWarning: The behavior of 'isin' with dtype=datetime64[ns] and castable values (e.g. strings) is deprecated. In a future version, these will not be considered matching by isin. Explicitly cast to the appropriate dtype before calling isin instead.\n",
      "  return self.data[~self.data['Week Beginning Date'].isin(dates_in_db)]\n"
     ]
    },
    {
     "name": "stdout",
     "output_type": "stream",
     "text": [
      "C:\\Users\\newatter\\OneDrive - McCain Foods Limited\\Distributor Sell-Out\\Weekly Update Files\\2022-02-25\\Data Sources\\BEK Update.xls\n"
     ]
    },
    {
     "name": "stderr",
     "output_type": "stream",
     "text": [
      "C:\\Users\\newatter\\AppData\\Local\\Temp\\1\\ipykernel_27072\\626213147.py:148: FutureWarning: The behavior of 'isin' with dtype=datetime64[ns] and castable values (e.g. strings) is deprecated. In a future version, these will not be considered matching by isin. Explicitly cast to the appropriate dtype before calling isin instead.\n",
      "  return self.data[~self.data['Week Beginning Date'].isin(dates_in_db)]\n"
     ]
    },
    {
     "name": "stdout",
     "output_type": "stream",
     "text": [
      "C:\\Users\\newatter\\OneDrive - McCain Foods Limited\\Distributor Sell-Out\\Weekly Update Files\\2022-03-04\\Data Sources\\BEK Update.xls\n"
     ]
    },
    {
     "name": "stderr",
     "output_type": "stream",
     "text": [
      "C:\\Users\\newatter\\AppData\\Local\\Temp\\1\\ipykernel_27072\\626213147.py:148: FutureWarning: The behavior of 'isin' with dtype=datetime64[ns] and castable values (e.g. strings) is deprecated. In a future version, these will not be considered matching by isin. Explicitly cast to the appropriate dtype before calling isin instead.\n",
      "  return self.data[~self.data['Week Beginning Date'].isin(dates_in_db)]\n"
     ]
    },
    {
     "name": "stdout",
     "output_type": "stream",
     "text": [
      "C:\\Users\\newatter\\OneDrive - McCain Foods Limited\\Distributor Sell-Out\\Weekly Update Files\\2022-03-11\\Data Sources\\BEK Update.xls\n"
     ]
    },
    {
     "name": "stderr",
     "output_type": "stream",
     "text": [
      "C:\\Users\\newatter\\AppData\\Local\\Temp\\1\\ipykernel_27072\\626213147.py:148: FutureWarning: The behavior of 'isin' with dtype=datetime64[ns] and castable values (e.g. strings) is deprecated. In a future version, these will not be considered matching by isin. Explicitly cast to the appropriate dtype before calling isin instead.\n",
      "  return self.data[~self.data['Week Beginning Date'].isin(dates_in_db)]\n"
     ]
    },
    {
     "name": "stdout",
     "output_type": "stream",
     "text": [
      "C:\\Users\\newatter\\OneDrive - McCain Foods Limited\\Distributor Sell-Out\\Weekly Update Files\\2022-03-18\\Data Sources\\BEK Update.xls\n"
     ]
    },
    {
     "name": "stderr",
     "output_type": "stream",
     "text": [
      "C:\\Users\\newatter\\AppData\\Local\\Temp\\1\\ipykernel_27072\\626213147.py:148: FutureWarning: The behavior of 'isin' with dtype=datetime64[ns] and castable values (e.g. strings) is deprecated. In a future version, these will not be considered matching by isin. Explicitly cast to the appropriate dtype before calling isin instead.\n",
      "  return self.data[~self.data['Week Beginning Date'].isin(dates_in_db)]\n"
     ]
    },
    {
     "name": "stdout",
     "output_type": "stream",
     "text": [
      "C:\\Users\\newatter\\OneDrive - McCain Foods Limited\\Distributor Sell-Out\\Weekly Update Files\\2022-03-25\\Data Sources\\BEK Update.xls\n"
     ]
    },
    {
     "name": "stderr",
     "output_type": "stream",
     "text": [
      "C:\\Users\\newatter\\AppData\\Local\\Temp\\1\\ipykernel_27072\\626213147.py:148: FutureWarning: The behavior of 'isin' with dtype=datetime64[ns] and castable values (e.g. strings) is deprecated. In a future version, these will not be considered matching by isin. Explicitly cast to the appropriate dtype before calling isin instead.\n",
      "  return self.data[~self.data['Week Beginning Date'].isin(dates_in_db)]\n"
     ]
    },
    {
     "name": "stdout",
     "output_type": "stream",
     "text": [
      "C:\\Users\\newatter\\OneDrive - McCain Foods Limited\\Distributor Sell-Out\\Weekly Update Files\\2022-04-01\\Data Sources\\BEK Update.xls\n"
     ]
    },
    {
     "name": "stderr",
     "output_type": "stream",
     "text": [
      "C:\\Users\\newatter\\AppData\\Local\\Temp\\1\\ipykernel_27072\\626213147.py:148: FutureWarning: The behavior of 'isin' with dtype=datetime64[ns] and castable values (e.g. strings) is deprecated. In a future version, these will not be considered matching by isin. Explicitly cast to the appropriate dtype before calling isin instead.\n",
      "  return self.data[~self.data['Week Beginning Date'].isin(dates_in_db)]\n"
     ]
    },
    {
     "name": "stdout",
     "output_type": "stream",
     "text": [
      "C:\\Users\\newatter\\OneDrive - McCain Foods Limited\\Distributor Sell-Out\\Weekly Update Files\\2022-04-08\\Data Sources\\BEK Update.xls\n"
     ]
    },
    {
     "name": "stderr",
     "output_type": "stream",
     "text": [
      "C:\\Users\\newatter\\AppData\\Local\\Temp\\1\\ipykernel_27072\\626213147.py:148: FutureWarning: The behavior of 'isin' with dtype=datetime64[ns] and castable values (e.g. strings) is deprecated. In a future version, these will not be considered matching by isin. Explicitly cast to the appropriate dtype before calling isin instead.\n",
      "  return self.data[~self.data['Week Beginning Date'].isin(dates_in_db)]\n"
     ]
    },
    {
     "name": "stdout",
     "output_type": "stream",
     "text": [
      "C:\\Users\\newatter\\OneDrive - McCain Foods Limited\\Distributor Sell-Out\\Weekly Update Files\\2022-04-15\\Data Sources\\BEK Update.xls\n"
     ]
    },
    {
     "name": "stderr",
     "output_type": "stream",
     "text": [
      "C:\\Users\\newatter\\AppData\\Local\\Temp\\1\\ipykernel_27072\\626213147.py:148: FutureWarning: The behavior of 'isin' with dtype=datetime64[ns] and castable values (e.g. strings) is deprecated. In a future version, these will not be considered matching by isin. Explicitly cast to the appropriate dtype before calling isin instead.\n",
      "  return self.data[~self.data['Week Beginning Date'].isin(dates_in_db)]\n"
     ]
    },
    {
     "name": "stdout",
     "output_type": "stream",
     "text": [
      "C:\\Users\\newatter\\OneDrive - McCain Foods Limited\\Distributor Sell-Out\\Weekly Update Files\\2022-04-22\\Data Sources\\BEK Update.xls\n"
     ]
    },
    {
     "name": "stderr",
     "output_type": "stream",
     "text": [
      "C:\\Users\\newatter\\AppData\\Local\\Temp\\1\\ipykernel_27072\\626213147.py:148: FutureWarning: The behavior of 'isin' with dtype=datetime64[ns] and castable values (e.g. strings) is deprecated. In a future version, these will not be considered matching by isin. Explicitly cast to the appropriate dtype before calling isin instead.\n",
      "  return self.data[~self.data['Week Beginning Date'].isin(dates_in_db)]\n"
     ]
    },
    {
     "name": "stdout",
     "output_type": "stream",
     "text": [
      "C:\\Users\\newatter\\OneDrive - McCain Foods Limited\\Distributor Sell-Out\\Weekly Update Files\\2022-04-29\\Data Sources\\BEK Update.xls\n"
     ]
    },
    {
     "name": "stderr",
     "output_type": "stream",
     "text": [
      "C:\\Users\\newatter\\AppData\\Local\\Temp\\1\\ipykernel_27072\\626213147.py:148: FutureWarning: The behavior of 'isin' with dtype=datetime64[ns] and castable values (e.g. strings) is deprecated. In a future version, these will not be considered matching by isin. Explicitly cast to the appropriate dtype before calling isin instead.\n",
      "  return self.data[~self.data['Week Beginning Date'].isin(dates_in_db)]\n"
     ]
    },
    {
     "name": "stdout",
     "output_type": "stream",
     "text": [
      "C:\\Users\\newatter\\OneDrive - McCain Foods Limited\\Distributor Sell-Out\\Weekly Update Files\\2022-05-06\\Data Sources\\BEK Update.xls\n"
     ]
    },
    {
     "name": "stderr",
     "output_type": "stream",
     "text": [
      "C:\\Users\\newatter\\AppData\\Local\\Temp\\1\\ipykernel_27072\\626213147.py:148: FutureWarning: The behavior of 'isin' with dtype=datetime64[ns] and castable values (e.g. strings) is deprecated. In a future version, these will not be considered matching by isin. Explicitly cast to the appropriate dtype before calling isin instead.\n",
      "  return self.data[~self.data['Week Beginning Date'].isin(dates_in_db)]\n"
     ]
    },
    {
     "name": "stdout",
     "output_type": "stream",
     "text": [
      "C:\\Users\\newatter\\OneDrive - McCain Foods Limited\\Distributor Sell-Out\\Weekly Update Files\\2022-05-13\\Data Sources\\BEK Update.xls\n"
     ]
    },
    {
     "name": "stderr",
     "output_type": "stream",
     "text": [
      "C:\\Users\\newatter\\AppData\\Local\\Temp\\1\\ipykernel_27072\\626213147.py:148: FutureWarning: The behavior of 'isin' with dtype=datetime64[ns] and castable values (e.g. strings) is deprecated. In a future version, these will not be considered matching by isin. Explicitly cast to the appropriate dtype before calling isin instead.\n",
      "  return self.data[~self.data['Week Beginning Date'].isin(dates_in_db)]\n"
     ]
    },
    {
     "name": "stdout",
     "output_type": "stream",
     "text": [
      "C:\\Users\\newatter\\OneDrive - McCain Foods Limited\\Distributor Sell-Out\\Weekly Update Files\\2022-05-20\\Data Sources\\BEK Update.xls\n"
     ]
    },
    {
     "name": "stderr",
     "output_type": "stream",
     "text": [
      "C:\\Users\\newatter\\AppData\\Local\\Temp\\1\\ipykernel_27072\\626213147.py:148: FutureWarning: The behavior of 'isin' with dtype=datetime64[ns] and castable values (e.g. strings) is deprecated. In a future version, these will not be considered matching by isin. Explicitly cast to the appropriate dtype before calling isin instead.\n",
      "  return self.data[~self.data['Week Beginning Date'].isin(dates_in_db)]\n"
     ]
    },
    {
     "name": "stdout",
     "output_type": "stream",
     "text": [
      "C:\\Users\\newatter\\OneDrive - McCain Foods Limited\\Distributor Sell-Out\\Weekly Update Files\\2022-05-27\\Data Sources\\BEK Update.xls\n"
     ]
    },
    {
     "name": "stderr",
     "output_type": "stream",
     "text": [
      "C:\\Users\\newatter\\AppData\\Local\\Temp\\1\\ipykernel_27072\\626213147.py:148: FutureWarning: The behavior of 'isin' with dtype=datetime64[ns] and castable values (e.g. strings) is deprecated. In a future version, these will not be considered matching by isin. Explicitly cast to the appropriate dtype before calling isin instead.\n",
      "  return self.data[~self.data['Week Beginning Date'].isin(dates_in_db)]\n"
     ]
    },
    {
     "name": "stdout",
     "output_type": "stream",
     "text": [
      "C:\\Users\\newatter\\OneDrive - McCain Foods Limited\\Distributor Sell-Out\\Weekly Update Files\\2022-06-03\\Data Sources\\BEK Update.xls\n"
     ]
    },
    {
     "name": "stderr",
     "output_type": "stream",
     "text": [
      "C:\\Users\\newatter\\AppData\\Local\\Temp\\1\\ipykernel_27072\\626213147.py:148: FutureWarning: The behavior of 'isin' with dtype=datetime64[ns] and castable values (e.g. strings) is deprecated. In a future version, these will not be considered matching by isin. Explicitly cast to the appropriate dtype before calling isin instead.\n",
      "  return self.data[~self.data['Week Beginning Date'].isin(dates_in_db)]\n"
     ]
    },
    {
     "name": "stdout",
     "output_type": "stream",
     "text": [
      "C:\\Users\\newatter\\OneDrive - McCain Foods Limited\\Distributor Sell-Out\\Weekly Update Files\\2022-06-10\\Data Sources\\BEK Update.xls\n"
     ]
    },
    {
     "name": "stderr",
     "output_type": "stream",
     "text": [
      "C:\\Users\\newatter\\AppData\\Local\\Temp\\1\\ipykernel_27072\\626213147.py:148: FutureWarning: The behavior of 'isin' with dtype=datetime64[ns] and castable values (e.g. strings) is deprecated. In a future version, these will not be considered matching by isin. Explicitly cast to the appropriate dtype before calling isin instead.\n",
      "  return self.data[~self.data['Week Beginning Date'].isin(dates_in_db)]\n"
     ]
    },
    {
     "name": "stdout",
     "output_type": "stream",
     "text": [
      "C:\\Users\\newatter\\OneDrive - McCain Foods Limited\\Distributor Sell-Out\\Weekly Update Files\\2022-06-17\\Data Sources\\BEK Update.xls\n"
     ]
    },
    {
     "name": "stderr",
     "output_type": "stream",
     "text": [
      "C:\\Users\\newatter\\AppData\\Local\\Temp\\1\\ipykernel_27072\\626213147.py:148: FutureWarning: The behavior of 'isin' with dtype=datetime64[ns] and castable values (e.g. strings) is deprecated. In a future version, these will not be considered matching by isin. Explicitly cast to the appropriate dtype before calling isin instead.\n",
      "  return self.data[~self.data['Week Beginning Date'].isin(dates_in_db)]\n"
     ]
    },
    {
     "name": "stdout",
     "output_type": "stream",
     "text": [
      "C:\\Users\\newatter\\OneDrive - McCain Foods Limited\\Distributor Sell-Out\\Weekly Update Files\\2022-06-24\\Data Sources\\BEK Update.xls\n"
     ]
    },
    {
     "name": "stderr",
     "output_type": "stream",
     "text": [
      "C:\\Users\\newatter\\AppData\\Local\\Temp\\1\\ipykernel_27072\\626213147.py:148: FutureWarning: The behavior of 'isin' with dtype=datetime64[ns] and castable values (e.g. strings) is deprecated. In a future version, these will not be considered matching by isin. Explicitly cast to the appropriate dtype before calling isin instead.\n",
      "  return self.data[~self.data['Week Beginning Date'].isin(dates_in_db)]\n"
     ]
    },
    {
     "name": "stdout",
     "output_type": "stream",
     "text": [
      "C:\\Users\\newatter\\OneDrive - McCain Foods Limited\\Distributor Sell-Out\\Weekly Update Files\\2022-07-01\\Data Sources\\BEK Update.xls\n"
     ]
    },
    {
     "name": "stderr",
     "output_type": "stream",
     "text": [
      "C:\\Users\\newatter\\AppData\\Local\\Temp\\1\\ipykernel_27072\\626213147.py:148: FutureWarning: The behavior of 'isin' with dtype=datetime64[ns] and castable values (e.g. strings) is deprecated. In a future version, these will not be considered matching by isin. Explicitly cast to the appropriate dtype before calling isin instead.\n",
      "  return self.data[~self.data['Week Beginning Date'].isin(dates_in_db)]\n"
     ]
    },
    {
     "name": "stdout",
     "output_type": "stream",
     "text": [
      "C:\\Users\\newatter\\OneDrive - McCain Foods Limited\\Distributor Sell-Out\\Weekly Update Files\\2022-07-08\\Data Sources\\BEK Update.xls\n"
     ]
    },
    {
     "name": "stderr",
     "output_type": "stream",
     "text": [
      "C:\\Users\\newatter\\AppData\\Local\\Temp\\1\\ipykernel_27072\\626213147.py:148: FutureWarning: The behavior of 'isin' with dtype=datetime64[ns] and castable values (e.g. strings) is deprecated. In a future version, these will not be considered matching by isin. Explicitly cast to the appropriate dtype before calling isin instead.\n",
      "  return self.data[~self.data['Week Beginning Date'].isin(dates_in_db)]\n"
     ]
    },
    {
     "name": "stdout",
     "output_type": "stream",
     "text": [
      "C:\\Users\\newatter\\OneDrive - McCain Foods Limited\\Distributor Sell-Out\\Weekly Update Files\\2022-07-15\\Data Sources\\BEK Update.xls\n"
     ]
    },
    {
     "name": "stderr",
     "output_type": "stream",
     "text": [
      "C:\\Users\\newatter\\AppData\\Local\\Temp\\1\\ipykernel_27072\\626213147.py:148: FutureWarning: The behavior of 'isin' with dtype=datetime64[ns] and castable values (e.g. strings) is deprecated. In a future version, these will not be considered matching by isin. Explicitly cast to the appropriate dtype before calling isin instead.\n",
      "  return self.data[~self.data['Week Beginning Date'].isin(dates_in_db)]\n"
     ]
    },
    {
     "name": "stdout",
     "output_type": "stream",
     "text": [
      "C:\\Users\\newatter\\OneDrive - McCain Foods Limited\\Distributor Sell-Out\\Weekly Update Files\\2022-07-22\\Data Sources\\BEK Update.xls\n"
     ]
    },
    {
     "name": "stderr",
     "output_type": "stream",
     "text": [
      "C:\\Users\\newatter\\AppData\\Local\\Temp\\1\\ipykernel_27072\\626213147.py:148: FutureWarning: The behavior of 'isin' with dtype=datetime64[ns] and castable values (e.g. strings) is deprecated. In a future version, these will not be considered matching by isin. Explicitly cast to the appropriate dtype before calling isin instead.\n",
      "  return self.data[~self.data['Week Beginning Date'].isin(dates_in_db)]\n"
     ]
    },
    {
     "name": "stdout",
     "output_type": "stream",
     "text": [
      "C:\\Users\\newatter\\OneDrive - McCain Foods Limited\\Distributor Sell-Out\\Weekly Update Files\\2022-07-29\\Data Sources\\BEK Update.xls\n"
     ]
    },
    {
     "name": "stderr",
     "output_type": "stream",
     "text": [
      "C:\\Users\\newatter\\AppData\\Local\\Temp\\1\\ipykernel_27072\\626213147.py:148: FutureWarning: The behavior of 'isin' with dtype=datetime64[ns] and castable values (e.g. strings) is deprecated. In a future version, these will not be considered matching by isin. Explicitly cast to the appropriate dtype before calling isin instead.\n",
      "  return self.data[~self.data['Week Beginning Date'].isin(dates_in_db)]\n"
     ]
    },
    {
     "name": "stdout",
     "output_type": "stream",
     "text": [
      "C:\\Users\\newatter\\OneDrive - McCain Foods Limited\\Distributor Sell-Out\\Weekly Update Files\\2022-08-05\\Data Sources\\BEK Update.xls\n"
     ]
    },
    {
     "name": "stderr",
     "output_type": "stream",
     "text": [
      "C:\\Users\\newatter\\AppData\\Local\\Temp\\1\\ipykernel_27072\\626213147.py:148: FutureWarning: The behavior of 'isin' with dtype=datetime64[ns] and castable values (e.g. strings) is deprecated. In a future version, these will not be considered matching by isin. Explicitly cast to the appropriate dtype before calling isin instead.\n",
      "  return self.data[~self.data['Week Beginning Date'].isin(dates_in_db)]\n"
     ]
    },
    {
     "name": "stdout",
     "output_type": "stream",
     "text": [
      "C:\\Users\\newatter\\OneDrive - McCain Foods Limited\\Distributor Sell-Out\\Weekly Update Files\\2022-08-19\\Data Sources\\BEK Update.xls\n"
     ]
    },
    {
     "name": "stderr",
     "output_type": "stream",
     "text": [
      "C:\\Users\\newatter\\AppData\\Local\\Temp\\1\\ipykernel_27072\\626213147.py:148: FutureWarning: The behavior of 'isin' with dtype=datetime64[ns] and castable values (e.g. strings) is deprecated. In a future version, these will not be considered matching by isin. Explicitly cast to the appropriate dtype before calling isin instead.\n",
      "  return self.data[~self.data['Week Beginning Date'].isin(dates_in_db)]\n"
     ]
    },
    {
     "name": "stdout",
     "output_type": "stream",
     "text": [
      "C:\\Users\\newatter\\OneDrive - McCain Foods Limited\\Distributor Sell-Out\\Weekly Update Files\\2022-08-26\\Data Sources\\BEK Update.xls\n"
     ]
    },
    {
     "name": "stderr",
     "output_type": "stream",
     "text": [
      "C:\\Users\\newatter\\AppData\\Local\\Temp\\1\\ipykernel_27072\\626213147.py:148: FutureWarning: The behavior of 'isin' with dtype=datetime64[ns] and castable values (e.g. strings) is deprecated. In a future version, these will not be considered matching by isin. Explicitly cast to the appropriate dtype before calling isin instead.\n",
      "  return self.data[~self.data['Week Beginning Date'].isin(dates_in_db)]\n"
     ]
    },
    {
     "name": "stdout",
     "output_type": "stream",
     "text": [
      "C:\\Users\\newatter\\OneDrive - McCain Foods Limited\\Distributor Sell-Out\\Weekly Update Files\\2022-09-02\\Data Sources\\BEK Update.xls\n"
     ]
    },
    {
     "name": "stderr",
     "output_type": "stream",
     "text": [
      "C:\\Users\\newatter\\AppData\\Local\\Temp\\1\\ipykernel_27072\\626213147.py:148: FutureWarning: The behavior of 'isin' with dtype=datetime64[ns] and castable values (e.g. strings) is deprecated. In a future version, these will not be considered matching by isin. Explicitly cast to the appropriate dtype before calling isin instead.\n",
      "  return self.data[~self.data['Week Beginning Date'].isin(dates_in_db)]\n"
     ]
    },
    {
     "name": "stdout",
     "output_type": "stream",
     "text": [
      "C:\\Users\\newatter\\OneDrive - McCain Foods Limited\\Distributor Sell-Out\\Weekly Update Files\\2022-09-09\\Data Sources\\BEK Update.xls\n"
     ]
    },
    {
     "name": "stderr",
     "output_type": "stream",
     "text": [
      "C:\\Users\\newatter\\AppData\\Local\\Temp\\1\\ipykernel_27072\\626213147.py:148: FutureWarning: The behavior of 'isin' with dtype=datetime64[ns] and castable values (e.g. strings) is deprecated. In a future version, these will not be considered matching by isin. Explicitly cast to the appropriate dtype before calling isin instead.\n",
      "  return self.data[~self.data['Week Beginning Date'].isin(dates_in_db)]\n"
     ]
    },
    {
     "name": "stdout",
     "output_type": "stream",
     "text": [
      "C:\\Users\\newatter\\OneDrive - McCain Foods Limited\\Distributor Sell-Out\\Weekly Update Files\\2022-09-16\\Data Source\\BEK Update.xls\n"
     ]
    },
    {
     "name": "stderr",
     "output_type": "stream",
     "text": [
      "C:\\Users\\newatter\\AppData\\Local\\Temp\\1\\ipykernel_27072\\626213147.py:148: FutureWarning: The behavior of 'isin' with dtype=datetime64[ns] and castable values (e.g. strings) is deprecated. In a future version, these will not be considered matching by isin. Explicitly cast to the appropriate dtype before calling isin instead.\n",
      "  return self.data[~self.data['Week Beginning Date'].isin(dates_in_db)]\n"
     ]
    },
    {
     "name": "stdout",
     "output_type": "stream",
     "text": [
      "C:\\Users\\newatter\\OneDrive - McCain Foods Limited\\Distributor Sell-Out\\Weekly Update Files\\2022-09-23\\Data Sources\\BEK Update.xls\n"
     ]
    },
    {
     "name": "stderr",
     "output_type": "stream",
     "text": [
      "C:\\Users\\newatter\\AppData\\Local\\Temp\\1\\ipykernel_27072\\626213147.py:148: FutureWarning: The behavior of 'isin' with dtype=datetime64[ns] and castable values (e.g. strings) is deprecated. In a future version, these will not be considered matching by isin. Explicitly cast to the appropriate dtype before calling isin instead.\n",
      "  return self.data[~self.data['Week Beginning Date'].isin(dates_in_db)]\n"
     ]
    },
    {
     "name": "stdout",
     "output_type": "stream",
     "text": [
      "C:\\Users\\newatter\\OneDrive - McCain Foods Limited\\Distributor Sell-Out\\Weekly Update Files\\2022-09-30\\Data Sources\\BEK Update.xls\n"
     ]
    },
    {
     "name": "stderr",
     "output_type": "stream",
     "text": [
      "C:\\Users\\newatter\\AppData\\Local\\Temp\\1\\ipykernel_27072\\626213147.py:148: FutureWarning: The behavior of 'isin' with dtype=datetime64[ns] and castable values (e.g. strings) is deprecated. In a future version, these will not be considered matching by isin. Explicitly cast to the appropriate dtype before calling isin instead.\n",
      "  return self.data[~self.data['Week Beginning Date'].isin(dates_in_db)]\n"
     ]
    },
    {
     "name": "stdout",
     "output_type": "stream",
     "text": [
      "C:\\Users\\newatter\\OneDrive - McCain Foods Limited\\Distributor Sell-Out\\Weekly Update Files\\2022-10-07\\Data Sources\\BEK Update.xls\n"
     ]
    },
    {
     "name": "stderr",
     "output_type": "stream",
     "text": [
      "C:\\Users\\newatter\\AppData\\Local\\Temp\\1\\ipykernel_27072\\626213147.py:148: FutureWarning: The behavior of 'isin' with dtype=datetime64[ns] and castable values (e.g. strings) is deprecated. In a future version, these will not be considered matching by isin. Explicitly cast to the appropriate dtype before calling isin instead.\n",
      "  return self.data[~self.data['Week Beginning Date'].isin(dates_in_db)]\n"
     ]
    },
    {
     "name": "stdout",
     "output_type": "stream",
     "text": [
      "C:\\Users\\newatter\\OneDrive - McCain Foods Limited\\Distributor Sell-Out\\Weekly Update Files\\2022-10-14\\Data Sources\\BEK Update.xls\n"
     ]
    },
    {
     "name": "stderr",
     "output_type": "stream",
     "text": [
      "C:\\Users\\newatter\\AppData\\Local\\Temp\\1\\ipykernel_27072\\626213147.py:148: FutureWarning: The behavior of 'isin' with dtype=datetime64[ns] and castable values (e.g. strings) is deprecated. In a future version, these will not be considered matching by isin. Explicitly cast to the appropriate dtype before calling isin instead.\n",
      "  return self.data[~self.data['Week Beginning Date'].isin(dates_in_db)]\n"
     ]
    },
    {
     "name": "stdout",
     "output_type": "stream",
     "text": [
      "C:\\Users\\newatter\\OneDrive - McCain Foods Limited\\Distributor Sell-Out\\Weekly Update Files\\2022-10-21\\Data Sources\\BEK Update.xls\n"
     ]
    },
    {
     "name": "stderr",
     "output_type": "stream",
     "text": [
      "C:\\Users\\newatter\\AppData\\Local\\Temp\\1\\ipykernel_27072\\626213147.py:148: FutureWarning: The behavior of 'isin' with dtype=datetime64[ns] and castable values (e.g. strings) is deprecated. In a future version, these will not be considered matching by isin. Explicitly cast to the appropriate dtype before calling isin instead.\n",
      "  return self.data[~self.data['Week Beginning Date'].isin(dates_in_db)]\n"
     ]
    },
    {
     "name": "stdout",
     "output_type": "stream",
     "text": [
      "C:\\Users\\newatter\\OneDrive - McCain Foods Limited\\Distributor Sell-Out\\Weekly Update Files\\2022-10-28\\Data Sources\\BEK Update.xls\n"
     ]
    },
    {
     "name": "stderr",
     "output_type": "stream",
     "text": [
      "C:\\Users\\newatter\\AppData\\Local\\Temp\\1\\ipykernel_27072\\626213147.py:148: FutureWarning: The behavior of 'isin' with dtype=datetime64[ns] and castable values (e.g. strings) is deprecated. In a future version, these will not be considered matching by isin. Explicitly cast to the appropriate dtype before calling isin instead.\n",
      "  return self.data[~self.data['Week Beginning Date'].isin(dates_in_db)]\n"
     ]
    },
    {
     "name": "stdout",
     "output_type": "stream",
     "text": [
      "C:\\Users\\newatter\\OneDrive - McCain Foods Limited\\Distributor Sell-Out\\Weekly Update Files\\2022-11-04\\Data Sources\\BEK Update.xls\n"
     ]
    },
    {
     "name": "stderr",
     "output_type": "stream",
     "text": [
      "C:\\Users\\newatter\\AppData\\Local\\Temp\\1\\ipykernel_27072\\626213147.py:148: FutureWarning: The behavior of 'isin' with dtype=datetime64[ns] and castable values (e.g. strings) is deprecated. In a future version, these will not be considered matching by isin. Explicitly cast to the appropriate dtype before calling isin instead.\n",
      "  return self.data[~self.data['Week Beginning Date'].isin(dates_in_db)]\n"
     ]
    },
    {
     "name": "stdout",
     "output_type": "stream",
     "text": [
      "C:\\Users\\newatter\\OneDrive - McCain Foods Limited\\Distributor Sell-Out\\Weekly Update Files\\2022-11-11\\Data Sources\\BEK Update.xls\n"
     ]
    },
    {
     "name": "stderr",
     "output_type": "stream",
     "text": [
      "C:\\Users\\newatter\\AppData\\Local\\Temp\\1\\ipykernel_27072\\626213147.py:148: FutureWarning: The behavior of 'isin' with dtype=datetime64[ns] and castable values (e.g. strings) is deprecated. In a future version, these will not be considered matching by isin. Explicitly cast to the appropriate dtype before calling isin instead.\n",
      "  return self.data[~self.data['Week Beginning Date'].isin(dates_in_db)]\n"
     ]
    },
    {
     "name": "stdout",
     "output_type": "stream",
     "text": [
      "C:\\Users\\newatter\\OneDrive - McCain Foods Limited\\Distributor Sell-Out\\Weekly Update Files\\2022-11-18\\Data Sources\\BEK Update.xls\n"
     ]
    },
    {
     "name": "stderr",
     "output_type": "stream",
     "text": [
      "C:\\Users\\newatter\\AppData\\Local\\Temp\\1\\ipykernel_27072\\626213147.py:148: FutureWarning: The behavior of 'isin' with dtype=datetime64[ns] and castable values (e.g. strings) is deprecated. In a future version, these will not be considered matching by isin. Explicitly cast to the appropriate dtype before calling isin instead.\n",
      "  return self.data[~self.data['Week Beginning Date'].isin(dates_in_db)]\n"
     ]
    },
    {
     "name": "stdout",
     "output_type": "stream",
     "text": [
      "C:\\Users\\newatter\\OneDrive - McCain Foods Limited\\Distributor Sell-Out\\Weekly Update Files\\2022-11-25\\BEK Update.xls\n"
     ]
    },
    {
     "name": "stderr",
     "output_type": "stream",
     "text": [
      "C:\\Users\\newatter\\AppData\\Local\\Temp\\1\\ipykernel_27072\\626213147.py:148: FutureWarning: The behavior of 'isin' with dtype=datetime64[ns] and castable values (e.g. strings) is deprecated. In a future version, these will not be considered matching by isin. Explicitly cast to the appropriate dtype before calling isin instead.\n",
      "  return self.data[~self.data['Week Beginning Date'].isin(dates_in_db)]\n"
     ]
    },
    {
     "name": "stdout",
     "output_type": "stream",
     "text": [
      "C:\\Users\\newatter\\OneDrive - McCain Foods Limited\\Distributor Sell-Out\\Weekly Update Files\\2022-12-02\\Data Sources\\BEK Update.xls\n"
     ]
    },
    {
     "name": "stderr",
     "output_type": "stream",
     "text": [
      "C:\\Users\\newatter\\AppData\\Local\\Temp\\1\\ipykernel_27072\\626213147.py:148: FutureWarning: The behavior of 'isin' with dtype=datetime64[ns] and castable values (e.g. strings) is deprecated. In a future version, these will not be considered matching by isin. Explicitly cast to the appropriate dtype before calling isin instead.\n",
      "  return self.data[~self.data['Week Beginning Date'].isin(dates_in_db)]\n"
     ]
    },
    {
     "name": "stdout",
     "output_type": "stream",
     "text": [
      "C:\\Users\\newatter\\OneDrive - McCain Foods Limited\\Distributor Sell-Out\\Weekly Update Files\\2022-12-09\\Data Sources\\BEK Update.xls\n"
     ]
    },
    {
     "name": "stderr",
     "output_type": "stream",
     "text": [
      "C:\\Users\\newatter\\AppData\\Local\\Temp\\1\\ipykernel_27072\\626213147.py:148: FutureWarning: The behavior of 'isin' with dtype=datetime64[ns] and castable values (e.g. strings) is deprecated. In a future version, these will not be considered matching by isin. Explicitly cast to the appropriate dtype before calling isin instead.\n",
      "  return self.data[~self.data['Week Beginning Date'].isin(dates_in_db)]\n"
     ]
    },
    {
     "name": "stdout",
     "output_type": "stream",
     "text": [
      "C:\\Users\\newatter\\OneDrive - McCain Foods Limited\\Distributor Sell-Out\\Weekly Update Files\\2022-12-16\\Data Sources\\BEK Update.xls\n"
     ]
    },
    {
     "name": "stderr",
     "output_type": "stream",
     "text": [
      "C:\\Users\\newatter\\AppData\\Local\\Temp\\1\\ipykernel_27072\\626213147.py:148: FutureWarning: The behavior of 'isin' with dtype=datetime64[ns] and castable values (e.g. strings) is deprecated. In a future version, these will not be considered matching by isin. Explicitly cast to the appropriate dtype before calling isin instead.\n",
      "  return self.data[~self.data['Week Beginning Date'].isin(dates_in_db)]\n"
     ]
    },
    {
     "name": "stdout",
     "output_type": "stream",
     "text": [
      "C:\\Users\\newatter\\OneDrive - McCain Foods Limited\\Distributor Sell-Out\\Weekly Update Files\\2022-12-23\\Data Sources\\BEK Update.xls\n"
     ]
    },
    {
     "name": "stderr",
     "output_type": "stream",
     "text": [
      "C:\\Users\\newatter\\AppData\\Local\\Temp\\1\\ipykernel_27072\\626213147.py:148: FutureWarning: The behavior of 'isin' with dtype=datetime64[ns] and castable values (e.g. strings) is deprecated. In a future version, these will not be considered matching by isin. Explicitly cast to the appropriate dtype before calling isin instead.\n",
      "  return self.data[~self.data['Week Beginning Date'].isin(dates_in_db)]\n"
     ]
    },
    {
     "name": "stdout",
     "output_type": "stream",
     "text": [
      "C:\\Users\\newatter\\OneDrive - McCain Foods Limited\\Distributor Sell-Out\\Weekly Update Files\\2023-01-06\\BEK Update.xls\n"
     ]
    },
    {
     "name": "stderr",
     "output_type": "stream",
     "text": [
      "C:\\Users\\newatter\\AppData\\Local\\Temp\\1\\ipykernel_27072\\626213147.py:148: FutureWarning: The behavior of 'isin' with dtype=datetime64[ns] and castable values (e.g. strings) is deprecated. In a future version, these will not be considered matching by isin. Explicitly cast to the appropriate dtype before calling isin instead.\n",
      "  return self.data[~self.data['Week Beginning Date'].isin(dates_in_db)]\n"
     ]
    },
    {
     "name": "stdout",
     "output_type": "stream",
     "text": [
      "C:\\Users\\newatter\\OneDrive - McCain Foods Limited\\Distributor Sell-Out\\Weekly Update Files\\2023-01-13\\Data Sources\\BEK Update.xls\n"
     ]
    },
    {
     "name": "stderr",
     "output_type": "stream",
     "text": [
      "C:\\Users\\newatter\\AppData\\Local\\Temp\\1\\ipykernel_27072\\626213147.py:148: FutureWarning: The behavior of 'isin' with dtype=datetime64[ns] and castable values (e.g. strings) is deprecated. In a future version, these will not be considered matching by isin. Explicitly cast to the appropriate dtype before calling isin instead.\n",
      "  return self.data[~self.data['Week Beginning Date'].isin(dates_in_db)]\n"
     ]
    },
    {
     "name": "stdout",
     "output_type": "stream",
     "text": [
      "C:\\Users\\newatter\\OneDrive - McCain Foods Limited\\Distributor Sell-Out\\Weekly Update Files\\2023-01-20\\Data Sources\\BEK Update.xls\n"
     ]
    },
    {
     "name": "stderr",
     "output_type": "stream",
     "text": [
      "C:\\Users\\newatter\\AppData\\Local\\Temp\\1\\ipykernel_27072\\626213147.py:148: FutureWarning: The behavior of 'isin' with dtype=datetime64[ns] and castable values (e.g. strings) is deprecated. In a future version, these will not be considered matching by isin. Explicitly cast to the appropriate dtype before calling isin instead.\n",
      "  return self.data[~self.data['Week Beginning Date'].isin(dates_in_db)]\n"
     ]
    },
    {
     "name": "stdout",
     "output_type": "stream",
     "text": [
      "C:\\Users\\newatter\\OneDrive - McCain Foods Limited\\Distributor Sell-Out\\Weekly Update Files\\2023-01-27\\Data Sources\\BEK Update.xls\n"
     ]
    },
    {
     "name": "stderr",
     "output_type": "stream",
     "text": [
      "C:\\Users\\newatter\\AppData\\Local\\Temp\\1\\ipykernel_27072\\626213147.py:148: FutureWarning: The behavior of 'isin' with dtype=datetime64[ns] and castable values (e.g. strings) is deprecated. In a future version, these will not be considered matching by isin. Explicitly cast to the appropriate dtype before calling isin instead.\n",
      "  return self.data[~self.data['Week Beginning Date'].isin(dates_in_db)]\n"
     ]
    },
    {
     "name": "stdout",
     "output_type": "stream",
     "text": [
      "C:\\Users\\newatter\\OneDrive - McCain Foods Limited\\Distributor Sell-Out\\Weekly Update Files\\2023-02-03\\Data Sources\\BEK Update.xls\n"
     ]
    },
    {
     "name": "stderr",
     "output_type": "stream",
     "text": [
      "C:\\Users\\newatter\\AppData\\Local\\Temp\\1\\ipykernel_27072\\626213147.py:148: FutureWarning: The behavior of 'isin' with dtype=datetime64[ns] and castable values (e.g. strings) is deprecated. In a future version, these will not be considered matching by isin. Explicitly cast to the appropriate dtype before calling isin instead.\n",
      "  return self.data[~self.data['Week Beginning Date'].isin(dates_in_db)]\n"
     ]
    },
    {
     "name": "stdout",
     "output_type": "stream",
     "text": [
      "C:\\Users\\newatter\\OneDrive - McCain Foods Limited\\Distributor Sell-Out\\Weekly Update Files\\2023-02-10\\BEK Update.xls\n"
     ]
    },
    {
     "name": "stderr",
     "output_type": "stream",
     "text": [
      "C:\\Users\\newatter\\AppData\\Local\\Temp\\1\\ipykernel_27072\\626213147.py:148: FutureWarning: The behavior of 'isin' with dtype=datetime64[ns] and castable values (e.g. strings) is deprecated. In a future version, these will not be considered matching by isin. Explicitly cast to the appropriate dtype before calling isin instead.\n",
      "  return self.data[~self.data['Week Beginning Date'].isin(dates_in_db)]\n"
     ]
    },
    {
     "name": "stdout",
     "output_type": "stream",
     "text": [
      "C:\\Users\\newatter\\OneDrive - McCain Foods Limited\\Distributor Sell-Out\\Weekly Update Files\\2023-02-17\\Data Sources\\BEK Update.xls\n"
     ]
    },
    {
     "name": "stderr",
     "output_type": "stream",
     "text": [
      "C:\\Users\\newatter\\AppData\\Local\\Temp\\1\\ipykernel_27072\\626213147.py:148: FutureWarning: The behavior of 'isin' with dtype=datetime64[ns] and castable values (e.g. strings) is deprecated. In a future version, these will not be considered matching by isin. Explicitly cast to the appropriate dtype before calling isin instead.\n",
      "  return self.data[~self.data['Week Beginning Date'].isin(dates_in_db)]\n"
     ]
    },
    {
     "name": "stdout",
     "output_type": "stream",
     "text": [
      "C:\\Users\\newatter\\OneDrive - McCain Foods Limited\\Distributor Sell-Out\\Weekly Update Files\\2023-02-24\\Data Sources\\BEK Update.xls\n"
     ]
    },
    {
     "name": "stderr",
     "output_type": "stream",
     "text": [
      "C:\\Users\\newatter\\AppData\\Local\\Temp\\1\\ipykernel_27072\\626213147.py:148: FutureWarning: The behavior of 'isin' with dtype=datetime64[ns] and castable values (e.g. strings) is deprecated. In a future version, these will not be considered matching by isin. Explicitly cast to the appropriate dtype before calling isin instead.\n",
      "  return self.data[~self.data['Week Beginning Date'].isin(dates_in_db)]\n"
     ]
    },
    {
     "name": "stdout",
     "output_type": "stream",
     "text": [
      "C:\\Users\\newatter\\OneDrive - McCain Foods Limited\\Distributor Sell-Out\\Weekly Update Files\\2023-03-03\\BEK Update.xls\n"
     ]
    },
    {
     "name": "stderr",
     "output_type": "stream",
     "text": [
      "C:\\Users\\newatter\\AppData\\Local\\Temp\\1\\ipykernel_27072\\626213147.py:148: FutureWarning: The behavior of 'isin' with dtype=datetime64[ns] and castable values (e.g. strings) is deprecated. In a future version, these will not be considered matching by isin. Explicitly cast to the appropriate dtype before calling isin instead.\n",
      "  return self.data[~self.data['Week Beginning Date'].isin(dates_in_db)]\n"
     ]
    },
    {
     "name": "stdout",
     "output_type": "stream",
     "text": [
      "C:\\Users\\newatter\\OneDrive - McCain Foods Limited\\Distributor Sell-Out\\Weekly Update Files\\2023-03-10\\BEK Update.xls\n"
     ]
    },
    {
     "name": "stderr",
     "output_type": "stream",
     "text": [
      "C:\\Users\\newatter\\AppData\\Local\\Temp\\1\\ipykernel_27072\\626213147.py:148: FutureWarning: The behavior of 'isin' with dtype=datetime64[ns] and castable values (e.g. strings) is deprecated. In a future version, these will not be considered matching by isin. Explicitly cast to the appropriate dtype before calling isin instead.\n",
      "  return self.data[~self.data['Week Beginning Date'].isin(dates_in_db)]\n"
     ]
    },
    {
     "name": "stdout",
     "output_type": "stream",
     "text": [
      "C:\\Users\\newatter\\OneDrive - McCain Foods Limited\\Distributor Sell-Out\\Weekly Update Files\\2023-03-17\\BEK Update.xls\n"
     ]
    },
    {
     "name": "stderr",
     "output_type": "stream",
     "text": [
      "C:\\Users\\newatter\\AppData\\Local\\Temp\\1\\ipykernel_27072\\626213147.py:148: FutureWarning: The behavior of 'isin' with dtype=datetime64[ns] and castable values (e.g. strings) is deprecated. In a future version, these will not be considered matching by isin. Explicitly cast to the appropriate dtype before calling isin instead.\n",
      "  return self.data[~self.data['Week Beginning Date'].isin(dates_in_db)]\n"
     ]
    },
    {
     "name": "stdout",
     "output_type": "stream",
     "text": [
      "C:\\Users\\newatter\\OneDrive - McCain Foods Limited\\Distributor Sell-Out\\Weekly Update Files\\2023-03-24\\BEK Update.xls\n"
     ]
    },
    {
     "name": "stderr",
     "output_type": "stream",
     "text": [
      "C:\\Users\\newatter\\AppData\\Local\\Temp\\1\\ipykernel_27072\\626213147.py:148: FutureWarning: The behavior of 'isin' with dtype=datetime64[ns] and castable values (e.g. strings) is deprecated. In a future version, these will not be considered matching by isin. Explicitly cast to the appropriate dtype before calling isin instead.\n",
      "  return self.data[~self.data['Week Beginning Date'].isin(dates_in_db)]\n"
     ]
    },
    {
     "name": "stdout",
     "output_type": "stream",
     "text": [
      "C:\\Users\\newatter\\OneDrive - McCain Foods Limited\\Distributor Sell-Out\\Weekly Update Files\\2023-03-31\\BEK Update.xls\n"
     ]
    },
    {
     "name": "stderr",
     "output_type": "stream",
     "text": [
      "C:\\Users\\newatter\\AppData\\Local\\Temp\\1\\ipykernel_27072\\626213147.py:148: FutureWarning: The behavior of 'isin' with dtype=datetime64[ns] and castable values (e.g. strings) is deprecated. In a future version, these will not be considered matching by isin. Explicitly cast to the appropriate dtype before calling isin instead.\n",
      "  return self.data[~self.data['Week Beginning Date'].isin(dates_in_db)]\n"
     ]
    },
    {
     "name": "stdout",
     "output_type": "stream",
     "text": [
      "C:\\Users\\newatter\\OneDrive - McCain Foods Limited\\Distributor Sell-Out\\Weekly Update Files\\2023-04-07\\BEK Update.xls\n"
     ]
    },
    {
     "name": "stderr",
     "output_type": "stream",
     "text": [
      "C:\\Users\\newatter\\AppData\\Local\\Temp\\1\\ipykernel_27072\\626213147.py:148: FutureWarning: The behavior of 'isin' with dtype=datetime64[ns] and castable values (e.g. strings) is deprecated. In a future version, these will not be considered matching by isin. Explicitly cast to the appropriate dtype before calling isin instead.\n",
      "  return self.data[~self.data['Week Beginning Date'].isin(dates_in_db)]\n"
     ]
    },
    {
     "name": "stdout",
     "output_type": "stream",
     "text": [
      "C:\\Users\\newatter\\OneDrive - McCain Foods Limited\\Distributor Sell-Out\\Weekly Update Files\\2023-05-05\\BEK Update.xls\n"
     ]
    },
    {
     "name": "stderr",
     "output_type": "stream",
     "text": [
      "C:\\Users\\newatter\\AppData\\Local\\Temp\\1\\ipykernel_27072\\626213147.py:148: FutureWarning: The behavior of 'isin' with dtype=datetime64[ns] and castable values (e.g. strings) is deprecated. In a future version, these will not be considered matching by isin. Explicitly cast to the appropriate dtype before calling isin instead.\n",
      "  return self.data[~self.data['Week Beginning Date'].isin(dates_in_db)]\n"
     ]
    },
    {
     "name": "stdout",
     "output_type": "stream",
     "text": [
      "C:\\Users\\newatter\\OneDrive - McCain Foods Limited\\Distributor Sell-Out\\Weekly Update Files\\2023-05-12\\BEK Update.xls\n"
     ]
    },
    {
     "name": "stderr",
     "output_type": "stream",
     "text": [
      "C:\\Users\\newatter\\AppData\\Local\\Temp\\1\\ipykernel_27072\\626213147.py:148: FutureWarning: The behavior of 'isin' with dtype=datetime64[ns] and castable values (e.g. strings) is deprecated. In a future version, these will not be considered matching by isin. Explicitly cast to the appropriate dtype before calling isin instead.\n",
      "  return self.data[~self.data['Week Beginning Date'].isin(dates_in_db)]\n"
     ]
    },
    {
     "name": "stdout",
     "output_type": "stream",
     "text": [
      "C:\\Users\\newatter\\OneDrive - McCain Foods Limited\\Distributor Sell-Out\\Weekly Update Files\\2023-05-19\\BEK Update.xls\n"
     ]
    },
    {
     "name": "stderr",
     "output_type": "stream",
     "text": [
      "C:\\Users\\newatter\\AppData\\Local\\Temp\\1\\ipykernel_27072\\626213147.py:148: FutureWarning: The behavior of 'isin' with dtype=datetime64[ns] and castable values (e.g. strings) is deprecated. In a future version, these will not be considered matching by isin. Explicitly cast to the appropriate dtype before calling isin instead.\n",
      "  return self.data[~self.data['Week Beginning Date'].isin(dates_in_db)]\n"
     ]
    },
    {
     "name": "stdout",
     "output_type": "stream",
     "text": [
      "C:\\Users\\newatter\\OneDrive - McCain Foods Limited\\Distributor Sell-Out\\Weekly Update Files\\2023-05-26\\BEK Update.xls\n"
     ]
    },
    {
     "name": "stderr",
     "output_type": "stream",
     "text": [
      "C:\\Users\\newatter\\AppData\\Local\\Temp\\1\\ipykernel_27072\\626213147.py:148: FutureWarning: The behavior of 'isin' with dtype=datetime64[ns] and castable values (e.g. strings) is deprecated. In a future version, these will not be considered matching by isin. Explicitly cast to the appropriate dtype before calling isin instead.\n",
      "  return self.data[~self.data['Week Beginning Date'].isin(dates_in_db)]\n"
     ]
    },
    {
     "name": "stdout",
     "output_type": "stream",
     "text": [
      "C:\\Users\\newatter\\OneDrive - McCain Foods Limited\\Distributor Sell-Out\\Weekly Update Files\\2023-06-02\\BEK Update.xls\n"
     ]
    },
    {
     "name": "stderr",
     "output_type": "stream",
     "text": [
      "C:\\Users\\newatter\\AppData\\Local\\Temp\\1\\ipykernel_27072\\626213147.py:148: FutureWarning: The behavior of 'isin' with dtype=datetime64[ns] and castable values (e.g. strings) is deprecated. In a future version, these will not be considered matching by isin. Explicitly cast to the appropriate dtype before calling isin instead.\n",
      "  return self.data[~self.data['Week Beginning Date'].isin(dates_in_db)]\n"
     ]
    },
    {
     "name": "stdout",
     "output_type": "stream",
     "text": [
      "C:\\Users\\newatter\\OneDrive - McCain Foods Limited\\Distributor Sell-Out\\Weekly Update Files\\2023-06-09\\BEK Update.xls\n"
     ]
    },
    {
     "name": "stderr",
     "output_type": "stream",
     "text": [
      "C:\\Users\\newatter\\AppData\\Local\\Temp\\1\\ipykernel_27072\\626213147.py:148: FutureWarning: The behavior of 'isin' with dtype=datetime64[ns] and castable values (e.g. strings) is deprecated. In a future version, these will not be considered matching by isin. Explicitly cast to the appropriate dtype before calling isin instead.\n",
      "  return self.data[~self.data['Week Beginning Date'].isin(dates_in_db)]\n"
     ]
    },
    {
     "name": "stdout",
     "output_type": "stream",
     "text": [
      "C:\\Users\\newatter\\OneDrive - McCain Foods Limited\\Distributor Sell-Out\\Weekly Update Files\\2023-06-16\\BEK Update.xls\n"
     ]
    },
    {
     "name": "stderr",
     "output_type": "stream",
     "text": [
      "C:\\Users\\newatter\\AppData\\Local\\Temp\\1\\ipykernel_27072\\626213147.py:148: FutureWarning: The behavior of 'isin' with dtype=datetime64[ns] and castable values (e.g. strings) is deprecated. In a future version, these will not be considered matching by isin. Explicitly cast to the appropriate dtype before calling isin instead.\n",
      "  return self.data[~self.data['Week Beginning Date'].isin(dates_in_db)]\n"
     ]
    },
    {
     "name": "stdout",
     "output_type": "stream",
     "text": [
      "C:\\Users\\newatter\\OneDrive - McCain Foods Limited\\Distributor Sell-Out\\Weekly Update Files\\2023-06-23\\BEK Update.xls\n"
     ]
    },
    {
     "name": "stderr",
     "output_type": "stream",
     "text": [
      "C:\\Users\\newatter\\AppData\\Local\\Temp\\1\\ipykernel_27072\\626213147.py:148: FutureWarning: The behavior of 'isin' with dtype=datetime64[ns] and castable values (e.g. strings) is deprecated. In a future version, these will not be considered matching by isin. Explicitly cast to the appropriate dtype before calling isin instead.\n",
      "  return self.data[~self.data['Week Beginning Date'].isin(dates_in_db)]\n"
     ]
    },
    {
     "name": "stdout",
     "output_type": "stream",
     "text": [
      "C:\\Users\\newatter\\OneDrive - McCain Foods Limited\\Distributor Sell-Out\\Weekly Update Files\\2023-07-07\\BEK Update.xls\n"
     ]
    },
    {
     "name": "stderr",
     "output_type": "stream",
     "text": [
      "C:\\Users\\newatter\\AppData\\Local\\Temp\\1\\ipykernel_27072\\626213147.py:148: FutureWarning: The behavior of 'isin' with dtype=datetime64[ns] and castable values (e.g. strings) is deprecated. In a future version, these will not be considered matching by isin. Explicitly cast to the appropriate dtype before calling isin instead.\n",
      "  return self.data[~self.data['Week Beginning Date'].isin(dates_in_db)]\n"
     ]
    },
    {
     "name": "stdout",
     "output_type": "stream",
     "text": [
      "C:\\Users\\newatter\\OneDrive - McCain Foods Limited\\Distributor Sell-Out\\Weekly Update Files\\2023-07-14\\BEK Update.xls\n"
     ]
    },
    {
     "name": "stderr",
     "output_type": "stream",
     "text": [
      "C:\\Users\\newatter\\AppData\\Local\\Temp\\1\\ipykernel_27072\\626213147.py:148: FutureWarning: The behavior of 'isin' with dtype=datetime64[ns] and castable values (e.g. strings) is deprecated. In a future version, these will not be considered matching by isin. Explicitly cast to the appropriate dtype before calling isin instead.\n",
      "  return self.data[~self.data['Week Beginning Date'].isin(dates_in_db)]\n"
     ]
    },
    {
     "name": "stdout",
     "output_type": "stream",
     "text": [
      "C:\\Users\\newatter\\OneDrive - McCain Foods Limited\\Distributor Sell-Out\\Weekly Update Files\\2023-07-21\\BEK Update.xls\n"
     ]
    },
    {
     "name": "stderr",
     "output_type": "stream",
     "text": [
      "C:\\Users\\newatter\\AppData\\Local\\Temp\\1\\ipykernel_27072\\626213147.py:148: FutureWarning: The behavior of 'isin' with dtype=datetime64[ns] and castable values (e.g. strings) is deprecated. In a future version, these will not be considered matching by isin. Explicitly cast to the appropriate dtype before calling isin instead.\n",
      "  return self.data[~self.data['Week Beginning Date'].isin(dates_in_db)]\n"
     ]
    },
    {
     "name": "stdout",
     "output_type": "stream",
     "text": [
      "C:\\Users\\newatter\\OneDrive - McCain Foods Limited\\Distributor Sell-Out\\Weekly Update Files\\2023-07-28\\BEK Update.xls\n"
     ]
    },
    {
     "name": "stderr",
     "output_type": "stream",
     "text": [
      "C:\\Users\\newatter\\AppData\\Local\\Temp\\1\\ipykernel_27072\\626213147.py:148: FutureWarning: The behavior of 'isin' with dtype=datetime64[ns] and castable values (e.g. strings) is deprecated. In a future version, these will not be considered matching by isin. Explicitly cast to the appropriate dtype before calling isin instead.\n",
      "  return self.data[~self.data['Week Beginning Date'].isin(dates_in_db)]\n"
     ]
    },
    {
     "name": "stdout",
     "output_type": "stream",
     "text": [
      "C:\\Users\\newatter\\OneDrive - McCain Foods Limited\\Distributor Sell-Out\\Weekly Update Files\\2023-08-04\\BEK Update.xls\n"
     ]
    },
    {
     "name": "stderr",
     "output_type": "stream",
     "text": [
      "C:\\Users\\newatter\\AppData\\Local\\Temp\\1\\ipykernel_27072\\626213147.py:148: FutureWarning: The behavior of 'isin' with dtype=datetime64[ns] and castable values (e.g. strings) is deprecated. In a future version, these will not be considered matching by isin. Explicitly cast to the appropriate dtype before calling isin instead.\n",
      "  return self.data[~self.data['Week Beginning Date'].isin(dates_in_db)]\n"
     ]
    },
    {
     "name": "stdout",
     "output_type": "stream",
     "text": [
      "C:\\Users\\newatter\\OneDrive - McCain Foods Limited\\Distributor Sell-Out\\Weekly Update Files\\2023-08-11\\BEK Update.xls\n"
     ]
    },
    {
     "name": "stderr",
     "output_type": "stream",
     "text": [
      "C:\\Users\\newatter\\AppData\\Local\\Temp\\1\\ipykernel_27072\\626213147.py:148: FutureWarning: The behavior of 'isin' with dtype=datetime64[ns] and castable values (e.g. strings) is deprecated. In a future version, these will not be considered matching by isin. Explicitly cast to the appropriate dtype before calling isin instead.\n",
      "  return self.data[~self.data['Week Beginning Date'].isin(dates_in_db)]\n"
     ]
    },
    {
     "name": "stdout",
     "output_type": "stream",
     "text": [
      "C:\\Users\\newatter\\OneDrive - McCain Foods Limited\\Distributor Sell-Out\\Weekly Update Files\\2023-08-18\\BEK Update.xls\n"
     ]
    },
    {
     "name": "stderr",
     "output_type": "stream",
     "text": [
      "C:\\Users\\newatter\\AppData\\Local\\Temp\\1\\ipykernel_27072\\626213147.py:148: FutureWarning: The behavior of 'isin' with dtype=datetime64[ns] and castable values (e.g. strings) is deprecated. In a future version, these will not be considered matching by isin. Explicitly cast to the appropriate dtype before calling isin instead.\n",
      "  return self.data[~self.data['Week Beginning Date'].isin(dates_in_db)]\n"
     ]
    },
    {
     "name": "stdout",
     "output_type": "stream",
     "text": [
      "C:\\Users\\newatter\\OneDrive - McCain Foods Limited\\Distributor Sell-Out\\Weekly Update Files\\2023-08-25\\BEK Update.xls\n"
     ]
    },
    {
     "name": "stderr",
     "output_type": "stream",
     "text": [
      "C:\\Users\\newatter\\AppData\\Local\\Temp\\1\\ipykernel_27072\\626213147.py:148: FutureWarning: The behavior of 'isin' with dtype=datetime64[ns] and castable values (e.g. strings) is deprecated. In a future version, these will not be considered matching by isin. Explicitly cast to the appropriate dtype before calling isin instead.\n",
      "  return self.data[~self.data['Week Beginning Date'].isin(dates_in_db)]\n"
     ]
    },
    {
     "name": "stdout",
     "output_type": "stream",
     "text": [
      "C:\\Users\\newatter\\OneDrive - McCain Foods Limited\\Distributor Sell-Out\\Weekly Update Files\\2023-09-01\\BEK Update.xls\n"
     ]
    },
    {
     "name": "stderr",
     "output_type": "stream",
     "text": [
      "C:\\Users\\newatter\\AppData\\Local\\Temp\\1\\ipykernel_27072\\626213147.py:148: FutureWarning: The behavior of 'isin' with dtype=datetime64[ns] and castable values (e.g. strings) is deprecated. In a future version, these will not be considered matching by isin. Explicitly cast to the appropriate dtype before calling isin instead.\n",
      "  return self.data[~self.data['Week Beginning Date'].isin(dates_in_db)]\n"
     ]
    },
    {
     "name": "stdout",
     "output_type": "stream",
     "text": [
      "C:\\Users\\newatter\\OneDrive - McCain Foods Limited\\Distributor Sell-Out\\Weekly Update Files\\2023-09-08\\BEK Update.xls\n"
     ]
    },
    {
     "name": "stderr",
     "output_type": "stream",
     "text": [
      "C:\\Users\\newatter\\AppData\\Local\\Temp\\1\\ipykernel_27072\\626213147.py:148: FutureWarning: The behavior of 'isin' with dtype=datetime64[ns] and castable values (e.g. strings) is deprecated. In a future version, these will not be considered matching by isin. Explicitly cast to the appropriate dtype before calling isin instead.\n",
      "  return self.data[~self.data['Week Beginning Date'].isin(dates_in_db)]\n"
     ]
    },
    {
     "name": "stdout",
     "output_type": "stream",
     "text": [
      "C:\\Users\\newatter\\OneDrive - McCain Foods Limited\\Distributor Sell-Out\\Weekly Update Files\\2023-09-15\\BEK Update.xls\n"
     ]
    },
    {
     "name": "stderr",
     "output_type": "stream",
     "text": [
      "C:\\Users\\newatter\\AppData\\Local\\Temp\\1\\ipykernel_27072\\626213147.py:148: FutureWarning: The behavior of 'isin' with dtype=datetime64[ns] and castable values (e.g. strings) is deprecated. In a future version, these will not be considered matching by isin. Explicitly cast to the appropriate dtype before calling isin instead.\n",
      "  return self.data[~self.data['Week Beginning Date'].isin(dates_in_db)]\n"
     ]
    },
    {
     "name": "stdout",
     "output_type": "stream",
     "text": [
      "C:\\Users\\newatter\\OneDrive - McCain Foods Limited\\Distributor Sell-Out\\Weekly Update Files\\2023-09-22\\BEK Update.xls\n"
     ]
    },
    {
     "name": "stderr",
     "output_type": "stream",
     "text": [
      "C:\\Users\\newatter\\AppData\\Local\\Temp\\1\\ipykernel_27072\\626213147.py:148: FutureWarning: The behavior of 'isin' with dtype=datetime64[ns] and castable values (e.g. strings) is deprecated. In a future version, these will not be considered matching by isin. Explicitly cast to the appropriate dtype before calling isin instead.\n",
      "  return self.data[~self.data['Week Beginning Date'].isin(dates_in_db)]\n"
     ]
    },
    {
     "name": "stdout",
     "output_type": "stream",
     "text": [
      "C:\\Users\\newatter\\OneDrive - McCain Foods Limited\\Distributor Sell-Out\\Weekly Update Files\\2023-09-29\\BEK Update.xls\n"
     ]
    },
    {
     "name": "stderr",
     "output_type": "stream",
     "text": [
      "C:\\Users\\newatter\\AppData\\Local\\Temp\\1\\ipykernel_27072\\626213147.py:148: FutureWarning: The behavior of 'isin' with dtype=datetime64[ns] and castable values (e.g. strings) is deprecated. In a future version, these will not be considered matching by isin. Explicitly cast to the appropriate dtype before calling isin instead.\n",
      "  return self.data[~self.data['Week Beginning Date'].isin(dates_in_db)]\n"
     ]
    },
    {
     "name": "stdout",
     "output_type": "stream",
     "text": [
      "C:\\Users\\newatter\\OneDrive - McCain Foods Limited\\Distributor Sell-Out\\Weekly Update Files\\2023-10-06\\BEK Update.xls\n"
     ]
    },
    {
     "name": "stderr",
     "output_type": "stream",
     "text": [
      "C:\\Users\\newatter\\AppData\\Local\\Temp\\1\\ipykernel_27072\\626213147.py:148: FutureWarning: The behavior of 'isin' with dtype=datetime64[ns] and castable values (e.g. strings) is deprecated. In a future version, these will not be considered matching by isin. Explicitly cast to the appropriate dtype before calling isin instead.\n",
      "  return self.data[~self.data['Week Beginning Date'].isin(dates_in_db)]\n"
     ]
    },
    {
     "name": "stdout",
     "output_type": "stream",
     "text": [
      "C:\\Users\\newatter\\OneDrive - McCain Foods Limited\\Distributor Sell-Out\\Weekly Update Files\\2023-10-13\\BEK Update.xls\n"
     ]
    },
    {
     "name": "stderr",
     "output_type": "stream",
     "text": [
      "C:\\Users\\newatter\\AppData\\Local\\Temp\\1\\ipykernel_27072\\626213147.py:148: FutureWarning: The behavior of 'isin' with dtype=datetime64[ns] and castable values (e.g. strings) is deprecated. In a future version, these will not be considered matching by isin. Explicitly cast to the appropriate dtype before calling isin instead.\n",
      "  return self.data[~self.data['Week Beginning Date'].isin(dates_in_db)]\n"
     ]
    },
    {
     "name": "stdout",
     "output_type": "stream",
     "text": [
      "C:\\Users\\newatter\\OneDrive - McCain Foods Limited\\Distributor Sell-Out\\Weekly Update Files\\2023-10-20\\BEK Update.xls\n"
     ]
    },
    {
     "name": "stderr",
     "output_type": "stream",
     "text": [
      "C:\\Users\\newatter\\AppData\\Local\\Temp\\1\\ipykernel_27072\\626213147.py:148: FutureWarning: The behavior of 'isin' with dtype=datetime64[ns] and castable values (e.g. strings) is deprecated. In a future version, these will not be considered matching by isin. Explicitly cast to the appropriate dtype before calling isin instead.\n",
      "  return self.data[~self.data['Week Beginning Date'].isin(dates_in_db)]\n"
     ]
    },
    {
     "name": "stdout",
     "output_type": "stream",
     "text": [
      "C:\\Users\\newatter\\OneDrive - McCain Foods Limited\\Distributor Sell-Out\\Weekly Update Files\\2023-10-27\\BEK Update.xls\n"
     ]
    },
    {
     "name": "stderr",
     "output_type": "stream",
     "text": [
      "C:\\Users\\newatter\\AppData\\Local\\Temp\\1\\ipykernel_27072\\626213147.py:148: FutureWarning: The behavior of 'isin' with dtype=datetime64[ns] and castable values (e.g. strings) is deprecated. In a future version, these will not be considered matching by isin. Explicitly cast to the appropriate dtype before calling isin instead.\n",
      "  return self.data[~self.data['Week Beginning Date'].isin(dates_in_db)]\n"
     ]
    },
    {
     "name": "stdout",
     "output_type": "stream",
     "text": [
      "C:\\Users\\newatter\\OneDrive - McCain Foods Limited\\Distributor Sell-Out\\Weekly Update Files\\2023-11-03\\BEK Update.xls\n"
     ]
    },
    {
     "name": "stderr",
     "output_type": "stream",
     "text": [
      "C:\\Users\\newatter\\AppData\\Local\\Temp\\1\\ipykernel_27072\\626213147.py:148: FutureWarning: The behavior of 'isin' with dtype=datetime64[ns] and castable values (e.g. strings) is deprecated. In a future version, these will not be considered matching by isin. Explicitly cast to the appropriate dtype before calling isin instead.\n",
      "  return self.data[~self.data['Week Beginning Date'].isin(dates_in_db)]\n"
     ]
    },
    {
     "name": "stdout",
     "output_type": "stream",
     "text": [
      "C:\\Users\\newatter\\OneDrive - McCain Foods Limited\\Distributor Sell-Out\\Weekly Update Files\\2023-11-10\\BEK Update.xls\n"
     ]
    },
    {
     "name": "stderr",
     "output_type": "stream",
     "text": [
      "C:\\Users\\newatter\\AppData\\Local\\Temp\\1\\ipykernel_27072\\626213147.py:148: FutureWarning: The behavior of 'isin' with dtype=datetime64[ns] and castable values (e.g. strings) is deprecated. In a future version, these will not be considered matching by isin. Explicitly cast to the appropriate dtype before calling isin instead.\n",
      "  return self.data[~self.data['Week Beginning Date'].isin(dates_in_db)]\n"
     ]
    },
    {
     "name": "stdout",
     "output_type": "stream",
     "text": [
      "C:\\Users\\newatter\\OneDrive - McCain Foods Limited\\Distributor Sell-Out\\Weekly Update Files\\2023-11-17\\BEK Update.xls\n"
     ]
    },
    {
     "name": "stderr",
     "output_type": "stream",
     "text": [
      "C:\\Users\\newatter\\AppData\\Local\\Temp\\1\\ipykernel_27072\\626213147.py:148: FutureWarning: The behavior of 'isin' with dtype=datetime64[ns] and castable values (e.g. strings) is deprecated. In a future version, these will not be considered matching by isin. Explicitly cast to the appropriate dtype before calling isin instead.\n",
      "  return self.data[~self.data['Week Beginning Date'].isin(dates_in_db)]\n"
     ]
    },
    {
     "name": "stdout",
     "output_type": "stream",
     "text": [
      "C:\\Users\\newatter\\OneDrive - McCain Foods Limited\\Distributor Sell-Out\\Weekly Update Files\\2023-12-01\\BEK Update.xls\n"
     ]
    },
    {
     "name": "stderr",
     "output_type": "stream",
     "text": [
      "C:\\Users\\newatter\\AppData\\Local\\Temp\\1\\ipykernel_27072\\626213147.py:148: FutureWarning: The behavior of 'isin' with dtype=datetime64[ns] and castable values (e.g. strings) is deprecated. In a future version, these will not be considered matching by isin. Explicitly cast to the appropriate dtype before calling isin instead.\n",
      "  return self.data[~self.data['Week Beginning Date'].isin(dates_in_db)]\n"
     ]
    },
    {
     "name": "stdout",
     "output_type": "stream",
     "text": [
      "C:\\Users\\newatter\\OneDrive - McCain Foods Limited\\Distributor Sell-Out\\Weekly Update Files\\2023-12-08\\BEK Update.xls\n"
     ]
    },
    {
     "name": "stderr",
     "output_type": "stream",
     "text": [
      "C:\\Users\\newatter\\AppData\\Local\\Temp\\1\\ipykernel_27072\\626213147.py:148: FutureWarning: The behavior of 'isin' with dtype=datetime64[ns] and castable values (e.g. strings) is deprecated. In a future version, these will not be considered matching by isin. Explicitly cast to the appropriate dtype before calling isin instead.\n",
      "  return self.data[~self.data['Week Beginning Date'].isin(dates_in_db)]\n"
     ]
    },
    {
     "name": "stdout",
     "output_type": "stream",
     "text": [
      "C:\\Users\\newatter\\OneDrive - McCain Foods Limited\\Distributor Sell-Out\\Weekly Update Files\\2023-12-15\\BEK Update.xls\n"
     ]
    },
    {
     "name": "stderr",
     "output_type": "stream",
     "text": [
      "C:\\Users\\newatter\\AppData\\Local\\Temp\\1\\ipykernel_27072\\626213147.py:148: FutureWarning: The behavior of 'isin' with dtype=datetime64[ns] and castable values (e.g. strings) is deprecated. In a future version, these will not be considered matching by isin. Explicitly cast to the appropriate dtype before calling isin instead.\n",
      "  return self.data[~self.data['Week Beginning Date'].isin(dates_in_db)]\n"
     ]
    },
    {
     "name": "stdout",
     "output_type": "stream",
     "text": [
      "C:\\Users\\newatter\\OneDrive - McCain Foods Limited\\Distributor Sell-Out\\Weekly Update Files\\2024-01-05\\BEK Update.xls\n"
     ]
    },
    {
     "name": "stderr",
     "output_type": "stream",
     "text": [
      "C:\\Users\\newatter\\AppData\\Local\\Temp\\1\\ipykernel_27072\\626213147.py:148: FutureWarning: The behavior of 'isin' with dtype=datetime64[ns] and castable values (e.g. strings) is deprecated. In a future version, these will not be considered matching by isin. Explicitly cast to the appropriate dtype before calling isin instead.\n",
      "  return self.data[~self.data['Week Beginning Date'].isin(dates_in_db)]\n"
     ]
    },
    {
     "name": "stdout",
     "output_type": "stream",
     "text": [
      "C:\\Users\\newatter\\OneDrive - McCain Foods Limited\\Distributor Sell-Out\\Weekly Update Files\\2024-01-12\\BEK Update.xls\n"
     ]
    },
    {
     "name": "stderr",
     "output_type": "stream",
     "text": [
      "C:\\Users\\newatter\\AppData\\Local\\Temp\\1\\ipykernel_27072\\626213147.py:148: FutureWarning: The behavior of 'isin' with dtype=datetime64[ns] and castable values (e.g. strings) is deprecated. In a future version, these will not be considered matching by isin. Explicitly cast to the appropriate dtype before calling isin instead.\n",
      "  return self.data[~self.data['Week Beginning Date'].isin(dates_in_db)]\n"
     ]
    },
    {
     "name": "stdout",
     "output_type": "stream",
     "text": [
      "C:\\Users\\newatter\\OneDrive - McCain Foods Limited\\Distributor Sell-Out\\Weekly Update Files\\2024-01-19\\BEK Update.xls\n"
     ]
    },
    {
     "name": "stderr",
     "output_type": "stream",
     "text": [
      "C:\\Users\\newatter\\AppData\\Local\\Temp\\1\\ipykernel_27072\\626213147.py:148: FutureWarning: The behavior of 'isin' with dtype=datetime64[ns] and castable values (e.g. strings) is deprecated. In a future version, these will not be considered matching by isin. Explicitly cast to the appropriate dtype before calling isin instead.\n",
      "  return self.data[~self.data['Week Beginning Date'].isin(dates_in_db)]\n"
     ]
    },
    {
     "name": "stdout",
     "output_type": "stream",
     "text": [
      "C:\\Users\\newatter\\OneDrive - McCain Foods Limited\\Distributor Sell-Out\\Weekly Update Files\\2024-01-26\\BEK Update.xls\n"
     ]
    },
    {
     "name": "stderr",
     "output_type": "stream",
     "text": [
      "C:\\Users\\newatter\\AppData\\Local\\Temp\\1\\ipykernel_27072\\626213147.py:148: FutureWarning: The behavior of 'isin' with dtype=datetime64[ns] and castable values (e.g. strings) is deprecated. In a future version, these will not be considered matching by isin. Explicitly cast to the appropriate dtype before calling isin instead.\n",
      "  return self.data[~self.data['Week Beginning Date'].isin(dates_in_db)]\n"
     ]
    },
    {
     "name": "stdout",
     "output_type": "stream",
     "text": [
      "C:\\Users\\newatter\\OneDrive - McCain Foods Limited\\Distributor Sell-Out\\Weekly Update Files\\2024-02-02\\BEK Update.xls\n"
     ]
    },
    {
     "name": "stderr",
     "output_type": "stream",
     "text": [
      "C:\\Users\\newatter\\AppData\\Local\\Temp\\1\\ipykernel_27072\\626213147.py:148: FutureWarning: The behavior of 'isin' with dtype=datetime64[ns] and castable values (e.g. strings) is deprecated. In a future version, these will not be considered matching by isin. Explicitly cast to the appropriate dtype before calling isin instead.\n",
      "  return self.data[~self.data['Week Beginning Date'].isin(dates_in_db)]\n"
     ]
    },
    {
     "name": "stdout",
     "output_type": "stream",
     "text": [
      "C:\\Users\\newatter\\OneDrive - McCain Foods Limited\\Distributor Sell-Out\\Weekly Update Files\\2024-02-09\\BEK Update.xls\n"
     ]
    },
    {
     "name": "stderr",
     "output_type": "stream",
     "text": [
      "C:\\Users\\newatter\\AppData\\Local\\Temp\\1\\ipykernel_27072\\626213147.py:148: FutureWarning: The behavior of 'isin' with dtype=datetime64[ns] and castable values (e.g. strings) is deprecated. In a future version, these will not be considered matching by isin. Explicitly cast to the appropriate dtype before calling isin instead.\n",
      "  return self.data[~self.data['Week Beginning Date'].isin(dates_in_db)]\n"
     ]
    },
    {
     "name": "stdout",
     "output_type": "stream",
     "text": [
      "C:\\Users\\newatter\\OneDrive - McCain Foods Limited\\Distributor Sell-Out\\Weekly Update Files\\2024-02-16\\BEK Update.xls\n"
     ]
    },
    {
     "name": "stderr",
     "output_type": "stream",
     "text": [
      "C:\\Users\\newatter\\AppData\\Local\\Temp\\1\\ipykernel_27072\\626213147.py:148: FutureWarning: The behavior of 'isin' with dtype=datetime64[ns] and castable values (e.g. strings) is deprecated. In a future version, these will not be considered matching by isin. Explicitly cast to the appropriate dtype before calling isin instead.\n",
      "  return self.data[~self.data['Week Beginning Date'].isin(dates_in_db)]\n"
     ]
    },
    {
     "name": "stdout",
     "output_type": "stream",
     "text": [
      "C:\\Users\\newatter\\OneDrive - McCain Foods Limited\\Distributor Sell-Out\\Weekly Update Files\\2024-02-23\\BEK Update.xls\n"
     ]
    },
    {
     "name": "stderr",
     "output_type": "stream",
     "text": [
      "C:\\Users\\newatter\\AppData\\Local\\Temp\\1\\ipykernel_27072\\626213147.py:148: FutureWarning: The behavior of 'isin' with dtype=datetime64[ns] and castable values (e.g. strings) is deprecated. In a future version, these will not be considered matching by isin. Explicitly cast to the appropriate dtype before calling isin instead.\n",
      "  return self.data[~self.data['Week Beginning Date'].isin(dates_in_db)]\n"
     ]
    },
    {
     "name": "stdout",
     "output_type": "stream",
     "text": [
      "C:\\Users\\newatter\\OneDrive - McCain Foods Limited\\Distributor Sell-Out\\Weekly Update Files\\2024-03-01\\BEK Update.xls\n"
     ]
    },
    {
     "name": "stderr",
     "output_type": "stream",
     "text": [
      "C:\\Users\\newatter\\AppData\\Local\\Temp\\1\\ipykernel_27072\\626213147.py:148: FutureWarning: The behavior of 'isin' with dtype=datetime64[ns] and castable values (e.g. strings) is deprecated. In a future version, these will not be considered matching by isin. Explicitly cast to the appropriate dtype before calling isin instead.\n",
      "  return self.data[~self.data['Week Beginning Date'].isin(dates_in_db)]\n"
     ]
    },
    {
     "name": "stdout",
     "output_type": "stream",
     "text": [
      "C:\\Users\\newatter\\OneDrive - McCain Foods Limited\\Distributor Sell-Out\\Weekly Update Files\\2024-03-08\\BEK Update.xls\n"
     ]
    },
    {
     "name": "stderr",
     "output_type": "stream",
     "text": [
      "C:\\Users\\newatter\\AppData\\Local\\Temp\\1\\ipykernel_27072\\626213147.py:148: FutureWarning: The behavior of 'isin' with dtype=datetime64[ns] and castable values (e.g. strings) is deprecated. In a future version, these will not be considered matching by isin. Explicitly cast to the appropriate dtype before calling isin instead.\n",
      "  return self.data[~self.data['Week Beginning Date'].isin(dates_in_db)]\n"
     ]
    },
    {
     "name": "stdout",
     "output_type": "stream",
     "text": [
      "C:\\Users\\newatter\\OneDrive - McCain Foods Limited\\Distributor Sell-Out\\Weekly Update Files\\2024-03-15\\BEK Update.xls\n"
     ]
    },
    {
     "name": "stderr",
     "output_type": "stream",
     "text": [
      "C:\\Users\\newatter\\AppData\\Local\\Temp\\1\\ipykernel_27072\\626213147.py:148: FutureWarning: The behavior of 'isin' with dtype=datetime64[ns] and castable values (e.g. strings) is deprecated. In a future version, these will not be considered matching by isin. Explicitly cast to the appropriate dtype before calling isin instead.\n",
      "  return self.data[~self.data['Week Beginning Date'].isin(dates_in_db)]\n"
     ]
    },
    {
     "name": "stdout",
     "output_type": "stream",
     "text": [
      "C:\\Users\\newatter\\OneDrive - McCain Foods Limited\\Distributor Sell-Out\\Weekly Update Files\\2024-03-22\\BEK Update.xls\n"
     ]
    },
    {
     "name": "stderr",
     "output_type": "stream",
     "text": [
      "C:\\Users\\newatter\\AppData\\Local\\Temp\\1\\ipykernel_27072\\626213147.py:148: FutureWarning: The behavior of 'isin' with dtype=datetime64[ns] and castable values (e.g. strings) is deprecated. In a future version, these will not be considered matching by isin. Explicitly cast to the appropriate dtype before calling isin instead.\n",
      "  return self.data[~self.data['Week Beginning Date'].isin(dates_in_db)]\n"
     ]
    },
    {
     "name": "stdout",
     "output_type": "stream",
     "text": [
      "C:\\Users\\newatter\\OneDrive - McCain Foods Limited\\Distributor Sell-Out\\Weekly Update Files\\2024-04-05\\BEK Update.xls\n"
     ]
    },
    {
     "name": "stderr",
     "output_type": "stream",
     "text": [
      "C:\\Users\\newatter\\AppData\\Local\\Temp\\1\\ipykernel_27072\\626213147.py:148: FutureWarning: The behavior of 'isin' with dtype=datetime64[ns] and castable values (e.g. strings) is deprecated. In a future version, these will not be considered matching by isin. Explicitly cast to the appropriate dtype before calling isin instead.\n",
      "  return self.data[~self.data['Week Beginning Date'].isin(dates_in_db)]\n"
     ]
    },
    {
     "name": "stdout",
     "output_type": "stream",
     "text": [
      "C:\\Users\\newatter\\OneDrive - McCain Foods Limited\\Distributor Sell-Out\\Weekly Update Files\\2024-04-12\\BEK Update.xls\n"
     ]
    },
    {
     "name": "stderr",
     "output_type": "stream",
     "text": [
      "C:\\Users\\newatter\\AppData\\Local\\Temp\\1\\ipykernel_27072\\626213147.py:148: FutureWarning: The behavior of 'isin' with dtype=datetime64[ns] and castable values (e.g. strings) is deprecated. In a future version, these will not be considered matching by isin. Explicitly cast to the appropriate dtype before calling isin instead.\n",
      "  return self.data[~self.data['Week Beginning Date'].isin(dates_in_db)]\n"
     ]
    }
   ],
   "source": [
    "import os\n",
    "\n",
    "# The path to the directory containing the folders\n",
    "directory_path = r'C:\\Users\\newatter\\OneDrive - McCain Foods Limited\\Distributor Sell-Out\\Weekly Update Files'\n",
    "\n",
    "# Loop through each folder and file in the directory\n",
    "for root, dirs, files in os.walk(directory_path):\n",
    "    for file in files:\n",
    "        # Check if \"SharedTable_weekly_cases\" is in the filename\n",
    "        if \"BEK Update.xls\" in file:\n",
    "\n",
    "            # Construct the full file path\n",
    "            file_path = os.path.join(root, file)\n",
    "            \n",
    "            print(file_path)\n",
    "\n",
    "            bek_sellout(file_path)"
   ]
  },
  {
   "cell_type": "markdown",
   "metadata": {},
   "source": [
    "# BEK Dictionary"
   ]
  },
  {
   "cell_type": "code",
   "execution_count": 60,
   "metadata": {},
   "outputs": [],
   "source": [
    "class bek_dictionary:\n",
    "    def __init__(self, file_path) -> None:\n",
    "        self.filepath = file_path\n",
    "        self.data = self.process_file()\n",
    "        self.delete_rows()\n",
    "        self.insert_rows()\n",
    "\n",
    "        pass\n",
    "    \n",
    "\n",
    "    def process_file(self):\n",
    "        df = pd.read_excel(self.filepath, sheet_name='Segment Mapping')\n",
    "\n",
    "        columns_to_keep = [\n",
    "            'Business Unit',\n",
    "            'SIC Code',\n",
    "            'SIC Sub',\n",
    "            'COVID Segmentation - L1',\t\n",
    "            'COVID Segmentation - L2',\n",
    "            'COVID Segmentation - (Restaurants)',\n",
    "            'COVID Segmentation - (Restaurants: Sub-Segment)',\n",
    "            'Restaurant Service Type',\n",
    "            'Cuisine Type'\n",
    "        ]\n",
    "\n",
    "        rename_columns = {\n",
    "            'COVID Segmentation - L1':'Segmentation L1',\n",
    "            'COVID Segmentation - L2':'Segmentation L2',\n",
    "            'COVID Segmentation - (Restaurants)':'Restaurants',\n",
    "            'COVID Segmentation - (Restaurants: Sub-Segment)':'Restaurants Sub',\n",
    "            'Restaurant Service Type':'Service Type'\n",
    "        }\n",
    "        \n",
    "        df_clean = df[columns_to_keep].rename(columns=rename_columns)\n",
    "\n",
    "        return df_clean\n",
    "\n",
    "    def setup_connection():\n",
    "        server = 'mf-enterprise-dev-sql.46ac3df1733c.database.windows.net'\n",
    "        database = 'PWRAPPDB'\n",
    "        driver = '{ODBC Driver 17 for SQL Server}'\n",
    "\n",
    "        # Establish the database connection using AAD Integrated Authentication\n",
    "        conn_str = (\n",
    "            f'DRIVER={driver};'\n",
    "            f'SERVER=tcp:{server};'\n",
    "            f'DATABASE={database};'\n",
    "            'Authentication=ActiveDirectoryIntegrated'\n",
    "        )\n",
    "\n",
    "        cnxn = pyodbc.connect(conn_str)\n",
    "        cursor = cnxn.cursor()\n",
    "\n",
    "        return cnxn, cursor\n",
    "\n",
    "    def delete_rows(self):\n",
    "\n",
    "        sql_delete = \"\"\"\n",
    "        DELETE FROM [na_dist].[US_BEK_Segmentation] \n",
    "        \"\"\"\n",
    "\n",
    "        cnxn, cursor = bek_dictionary.setup_connection()\n",
    "\n",
    "        cursor.execute(sql_delete)\n",
    "\n",
    "        # Commit the transactions\n",
    "        cnxn.commit()\n",
    "\n",
    "        # Close the connection\n",
    "        cursor.close()\n",
    "        cnxn.close()\n",
    "\n",
    "\n",
    "    def setup_miengine():\n",
    "        server = 'mf-enterprise-dev-sql.46ac3df1733c.database.windows.net'\n",
    "        database = 'PWRAPPDB'\n",
    "        driver = '{ODBC Driver 17 for SQL Server}'\n",
    "\n",
    "        # Establish the database connection using AAD Integrated Authentication\n",
    "        conn_str = URL.create(\n",
    "            'mssql+pyodbc',\n",
    "            query={\n",
    "                'odbc_connect':(\n",
    "                    f'DRIVER={driver};'\n",
    "                    f'SERVER=tcp:{server};'\n",
    "                    f'DATABASE={database};'\n",
    "                    'Authentication=ActiveDirectoryIntegrated;'\n",
    "            )\n",
    "            }\n",
    "        )\n",
    "\n",
    "        engine = create_engine(conn_str, connect_args={\"autocommit\": True}, fast_executemany=True, use_insertmanyvalues=False)\n",
    "\n",
    "        return engine\n",
    "\n",
    "        \n",
    "    def insert_rows(self):\n",
    "        engine = bek_dictionary.setup_miengine()\n",
    "\n",
    "        table_name = 'US_BEK_Segmentation'\n",
    "        schema_name = 'na_dist'\n",
    "\n",
    "        # If the table doesn't exist, it will be created automatically\n",
    "        self.data.to_sql(table_name, con=engine, schema=schema_name, if_exists='append', index=False)"
   ]
  },
  {
   "cell_type": "code",
   "execution_count": 61,
   "metadata": {},
   "outputs": [
    {
     "data": {
      "text/plain": [
       "<__main__.bek_dictionary at 0x2d06dc61940>"
      ]
     },
     "execution_count": 61,
     "metadata": {},
     "output_type": "execute_result"
    }
   ],
   "source": [
    "file_path = r'C:\\Users\\newatter\\OneDrive - McCain Foods Limited\\Distributor Sell-Out\\Data Dictionaries\\BEK - US.xlsx'\n",
    "\n",
    "bek_dictionary(file_path)"
   ]
  },
  {
   "cell_type": "code",
   "execution_count": null,
   "metadata": {},
   "outputs": [],
   "source": []
  }
 ],
 "metadata": {
  "kernelspec": {
   "display_name": "Python 3 (ipykernel)",
   "language": "python",
   "name": "python3"
  },
  "language_info": {
   "codemirror_mode": {
    "name": "ipython",
    "version": 3
   },
   "file_extension": ".py",
   "mimetype": "text/x-python",
   "name": "python",
   "nbconvert_exporter": "python",
   "pygments_lexer": "ipython3",
   "version": "3.9.12"
  }
 },
 "nbformat": 4,
 "nbformat_minor": 4
}
